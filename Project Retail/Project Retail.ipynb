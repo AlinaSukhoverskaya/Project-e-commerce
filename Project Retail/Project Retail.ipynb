{
 "cells": [
  {
   "cell_type": "markdown",
   "id": "468f9d94",
   "metadata": {},
   "source": [
    "# 1. Подготовка к работе"
   ]
  },
  {
   "cell_type": "code",
   "execution_count": 1,
   "id": "f1c82d92",
   "metadata": {},
   "outputs": [],
   "source": [
    "# Подгружаем библиотеки\n",
    "\n",
    "import pandas as pd\n",
    "import numpy as np\n",
    "import matplotlib.pyplot as plt\n",
    "import seaborn as sns\n",
    "import datetime\n",
    "import itertools\n",
    "\n",
    "%matplotlib inline"
   ]
  },
  {
   "cell_type": "code",
   "execution_count": 2,
   "id": "7bd48f7a",
   "metadata": {},
   "outputs": [],
   "source": [
    "# Подготавливаем общие настройки для графиков\n",
    "\n",
    "sns.set(\n",
    "    rc={\n",
    "        \"figure.figsize\": (16, 6),\n",
    "        \"axes.titlesize\": 20,\n",
    "        \"axes.labelsize\": 17,\n",
    "        \"xtick.labelsize\": 15,\n",
    "        \"ytick.labelsize\": 15,\n",
    "    }\n",
    ")\n",
    "\n",
    "sns.set_style(\"whitegrid\")\n",
    "sns.set_palette(\"PuRd\", 10)"
   ]
  },
  {
   "cell_type": "code",
   "execution_count": 3,
   "id": "680cb719",
   "metadata": {},
   "outputs": [],
   "source": [
    "# Настраиваем отображение float-чисел\n",
    "pd.options.display.float_format = '{:,.2f}'.format"
   ]
  },
  {
   "cell_type": "markdown",
   "id": "d4e0d030",
   "metadata": {},
   "source": [
    "# 2. Загрузка данных\n",
    "\n",
    "Имеется следующая информация:\n",
    "\n",
    "BillNo — 6-значный номер, присваиваемый каждой транзакции  \n",
    "Itemname — название продукта  \n",
    "Quantity — количество каждого продукта за транзакцию  \n",
    "Date — день и время создания каждой транзакции  \n",
    "Price — цена продукта  \n",
    "CustomerID — пятизначный номер, присваиваемый каждому клиенту  \n",
    "Country — название страны, в которой проживает каждый клиент  "
   ]
  },
  {
   "cell_type": "code",
   "execution_count": 4,
   "id": "02e98a2d",
   "metadata": {},
   "outputs": [],
   "source": [
    "# Считываем данные\n",
    "\n",
    "path_to_file = 'retail_data.csv'\n",
    "retail_data = pd.read_csv(path_to_file, sep=';', on_bad_lines='skip', dtype={'BillNo': str})"
   ]
  },
  {
   "cell_type": "markdown",
   "id": "a3d6368e",
   "metadata": {},
   "source": [
    "### Предварительное исследование данных таблицы retail_data"
   ]
  },
  {
   "cell_type": "code",
   "execution_count": 5,
   "id": "8a6f9724",
   "metadata": {},
   "outputs": [
    {
     "data": {
      "text/html": [
       "<div>\n",
       "<style scoped>\n",
       "    .dataframe tbody tr th:only-of-type {\n",
       "        vertical-align: middle;\n",
       "    }\n",
       "\n",
       "    .dataframe tbody tr th {\n",
       "        vertical-align: top;\n",
       "    }\n",
       "\n",
       "    .dataframe thead th {\n",
       "        text-align: right;\n",
       "    }\n",
       "</style>\n",
       "<table border=\"1\" class=\"dataframe\">\n",
       "  <thead>\n",
       "    <tr style=\"text-align: right;\">\n",
       "      <th></th>\n",
       "      <th>BillNo</th>\n",
       "      <th>Itemname</th>\n",
       "      <th>Quantity</th>\n",
       "      <th>Date</th>\n",
       "      <th>Price</th>\n",
       "      <th>CustomerID</th>\n",
       "      <th>Country</th>\n",
       "    </tr>\n",
       "  </thead>\n",
       "  <tbody>\n",
       "    <tr>\n",
       "      <th>0</th>\n",
       "      <td>536365</td>\n",
       "      <td>WHITE HANGING HEART T-LIGHT HOLDER</td>\n",
       "      <td>6</td>\n",
       "      <td>01.12.2010 08:26</td>\n",
       "      <td>2,55</td>\n",
       "      <td>17,850.00</td>\n",
       "      <td>United Kingdom</td>\n",
       "    </tr>\n",
       "    <tr>\n",
       "      <th>1</th>\n",
       "      <td>536365</td>\n",
       "      <td>WHITE METAL LANTERN</td>\n",
       "      <td>6</td>\n",
       "      <td>01.12.2010 08:26</td>\n",
       "      <td>3,39</td>\n",
       "      <td>17,850.00</td>\n",
       "      <td>United Kingdom</td>\n",
       "    </tr>\n",
       "    <tr>\n",
       "      <th>2</th>\n",
       "      <td>536365</td>\n",
       "      <td>CREAM CUPID HEARTS COAT HANGER</td>\n",
       "      <td>8</td>\n",
       "      <td>01.12.2010 08:26</td>\n",
       "      <td>2,75</td>\n",
       "      <td>17,850.00</td>\n",
       "      <td>United Kingdom</td>\n",
       "    </tr>\n",
       "    <tr>\n",
       "      <th>3</th>\n",
       "      <td>536365</td>\n",
       "      <td>KNITTED UNION FLAG HOT WATER BOTTLE</td>\n",
       "      <td>6</td>\n",
       "      <td>01.12.2010 08:26</td>\n",
       "      <td>3,39</td>\n",
       "      <td>17,850.00</td>\n",
       "      <td>United Kingdom</td>\n",
       "    </tr>\n",
       "    <tr>\n",
       "      <th>4</th>\n",
       "      <td>536365</td>\n",
       "      <td>RED WOOLLY HOTTIE WHITE HEART.</td>\n",
       "      <td>6</td>\n",
       "      <td>01.12.2010 08:26</td>\n",
       "      <td>3,39</td>\n",
       "      <td>17,850.00</td>\n",
       "      <td>United Kingdom</td>\n",
       "    </tr>\n",
       "  </tbody>\n",
       "</table>\n",
       "</div>"
      ],
      "text/plain": [
       "   BillNo                             Itemname  Quantity              Date  \\\n",
       "0  536365   WHITE HANGING HEART T-LIGHT HOLDER         6  01.12.2010 08:26   \n",
       "1  536365                  WHITE METAL LANTERN         6  01.12.2010 08:26   \n",
       "2  536365       CREAM CUPID HEARTS COAT HANGER         8  01.12.2010 08:26   \n",
       "3  536365  KNITTED UNION FLAG HOT WATER BOTTLE         6  01.12.2010 08:26   \n",
       "4  536365       RED WOOLLY HOTTIE WHITE HEART.         6  01.12.2010 08:26   \n",
       "\n",
       "  Price  CustomerID         Country  \n",
       "0  2,55   17,850.00  United Kingdom  \n",
       "1  3,39   17,850.00  United Kingdom  \n",
       "2  2,75   17,850.00  United Kingdom  \n",
       "3  3,39   17,850.00  United Kingdom  \n",
       "4  3,39   17,850.00  United Kingdom  "
      ]
     },
     "execution_count": 5,
     "metadata": {},
     "output_type": "execute_result"
    }
   ],
   "source": [
    "# Проверим первые 5 строк\n",
    "retail_data.head()"
   ]
  },
  {
   "cell_type": "code",
   "execution_count": 6,
   "id": "5165241a",
   "metadata": {},
   "outputs": [
    {
     "data": {
      "text/html": [
       "<div>\n",
       "<style scoped>\n",
       "    .dataframe tbody tr th:only-of-type {\n",
       "        vertical-align: middle;\n",
       "    }\n",
       "\n",
       "    .dataframe tbody tr th {\n",
       "        vertical-align: top;\n",
       "    }\n",
       "\n",
       "    .dataframe thead th {\n",
       "        text-align: right;\n",
       "    }\n",
       "</style>\n",
       "<table border=\"1\" class=\"dataframe\">\n",
       "  <thead>\n",
       "    <tr style=\"text-align: right;\">\n",
       "      <th></th>\n",
       "      <th>bill</th>\n",
       "      <th>customer_id</th>\n",
       "      <th>date</th>\n",
       "      <th>country</th>\n",
       "      <th>item</th>\n",
       "      <th>price</th>\n",
       "      <th>quantity</th>\n",
       "    </tr>\n",
       "  </thead>\n",
       "  <tbody>\n",
       "    <tr>\n",
       "      <th>0</th>\n",
       "      <td>536365</td>\n",
       "      <td>17,850.00</td>\n",
       "      <td>01.12.2010 08:26</td>\n",
       "      <td>United Kingdom</td>\n",
       "      <td>WHITE HANGING HEART T-LIGHT HOLDER</td>\n",
       "      <td>2,55</td>\n",
       "      <td>6</td>\n",
       "    </tr>\n",
       "    <tr>\n",
       "      <th>1</th>\n",
       "      <td>536365</td>\n",
       "      <td>17,850.00</td>\n",
       "      <td>01.12.2010 08:26</td>\n",
       "      <td>United Kingdom</td>\n",
       "      <td>WHITE METAL LANTERN</td>\n",
       "      <td>3,39</td>\n",
       "      <td>6</td>\n",
       "    </tr>\n",
       "    <tr>\n",
       "      <th>2</th>\n",
       "      <td>536365</td>\n",
       "      <td>17,850.00</td>\n",
       "      <td>01.12.2010 08:26</td>\n",
       "      <td>United Kingdom</td>\n",
       "      <td>CREAM CUPID HEARTS COAT HANGER</td>\n",
       "      <td>2,75</td>\n",
       "      <td>8</td>\n",
       "    </tr>\n",
       "    <tr>\n",
       "      <th>3</th>\n",
       "      <td>536365</td>\n",
       "      <td>17,850.00</td>\n",
       "      <td>01.12.2010 08:26</td>\n",
       "      <td>United Kingdom</td>\n",
       "      <td>KNITTED UNION FLAG HOT WATER BOTTLE</td>\n",
       "      <td>3,39</td>\n",
       "      <td>6</td>\n",
       "    </tr>\n",
       "    <tr>\n",
       "      <th>4</th>\n",
       "      <td>536365</td>\n",
       "      <td>17,850.00</td>\n",
       "      <td>01.12.2010 08:26</td>\n",
       "      <td>United Kingdom</td>\n",
       "      <td>RED WOOLLY HOTTIE WHITE HEART.</td>\n",
       "      <td>3,39</td>\n",
       "      <td>6</td>\n",
       "    </tr>\n",
       "  </tbody>\n",
       "</table>\n",
       "</div>"
      ],
      "text/plain": [
       "     bill  customer_id              date         country  \\\n",
       "0  536365    17,850.00  01.12.2010 08:26  United Kingdom   \n",
       "1  536365    17,850.00  01.12.2010 08:26  United Kingdom   \n",
       "2  536365    17,850.00  01.12.2010 08:26  United Kingdom   \n",
       "3  536365    17,850.00  01.12.2010 08:26  United Kingdom   \n",
       "4  536365    17,850.00  01.12.2010 08:26  United Kingdom   \n",
       "\n",
       "                                  item price  quantity  \n",
       "0   WHITE HANGING HEART T-LIGHT HOLDER  2,55         6  \n",
       "1                  WHITE METAL LANTERN  3,39         6  \n",
       "2       CREAM CUPID HEARTS COAT HANGER  2,75         8  \n",
       "3  KNITTED UNION FLAG HOT WATER BOTTLE  3,39         6  \n",
       "4       RED WOOLLY HOTTIE WHITE HEART.  3,39         6  "
      ]
     },
     "execution_count": 6,
     "metadata": {},
     "output_type": "execute_result"
    }
   ],
   "source": [
    "# Переименуем столбцы для удобства и изменим их порядок\n",
    "retail_data.columns = retail_data.columns.str.lower()\n",
    "retail_data = retail_data.rename(columns={'billno': 'bill', 'itemname': 'item', 'customerid': 'customer_id'})\n",
    "retail_data = retail_data[['bill', 'customer_id', 'date', 'country', 'item', 'price', 'quantity']]\n",
    "retail_data.head()"
   ]
  },
  {
   "cell_type": "code",
   "execution_count": 7,
   "id": "7c1e89c8",
   "metadata": {},
   "outputs": [
    {
     "data": {
      "text/plain": [
       "(522064, 7)"
      ]
     },
     "execution_count": 7,
     "metadata": {},
     "output_type": "execute_result"
    }
   ],
   "source": [
    "# Посмотрим размер данных\n",
    "retail_data.shape"
   ]
  },
  {
   "cell_type": "code",
   "execution_count": 8,
   "id": "b87a6a21",
   "metadata": {},
   "outputs": [
    {
     "data": {
      "text/plain": [
       "bill            object\n",
       "customer_id    float64\n",
       "date            object\n",
       "country         object\n",
       "item            object\n",
       "price           object\n",
       "quantity         int64\n",
       "dtype: object"
      ]
     },
     "execution_count": 8,
     "metadata": {},
     "output_type": "execute_result"
    }
   ],
   "source": [
    "# Посмотрим тип переменных\n",
    "retail_data.dtypes"
   ]
  },
  {
   "cell_type": "code",
   "execution_count": 9,
   "id": "61d1447a",
   "metadata": {},
   "outputs": [],
   "source": [
    "# Приведем столбцы к нужным форматам\n",
    "retail_data.customer_id = retail_data.customer_id.fillna('-').astype(str).replace('\\.0', '', regex=True)\n",
    "retail_data.date = pd.to_datetime(retail_data.date, dayfirst=True)\n",
    "retail_data.price = retail_data.price.str.replace(',', '.').astype(float)"
   ]
  },
  {
   "cell_type": "code",
   "execution_count": 10,
   "id": "7e594fb0",
   "metadata": {},
   "outputs": [
    {
     "data": {
      "text/plain": [
       "bill                   object\n",
       "customer_id            object\n",
       "date           datetime64[ns]\n",
       "country                object\n",
       "item                   object\n",
       "price                 float64\n",
       "quantity                int64\n",
       "dtype: object"
      ]
     },
     "execution_count": 10,
     "metadata": {},
     "output_type": "execute_result"
    }
   ],
   "source": [
    "# Проверим тип переменных\n",
    "retail_data.dtypes"
   ]
  },
  {
   "cell_type": "code",
   "execution_count": 11,
   "id": "d828394d",
   "metadata": {},
   "outputs": [
    {
     "data": {
      "text/html": [
       "<div>\n",
       "<style scoped>\n",
       "    .dataframe tbody tr th:only-of-type {\n",
       "        vertical-align: middle;\n",
       "    }\n",
       "\n",
       "    .dataframe tbody tr th {\n",
       "        vertical-align: top;\n",
       "    }\n",
       "\n",
       "    .dataframe thead th {\n",
       "        text-align: right;\n",
       "    }\n",
       "</style>\n",
       "<table border=\"1\" class=\"dataframe\">\n",
       "  <thead>\n",
       "    <tr style=\"text-align: right;\">\n",
       "      <th></th>\n",
       "      <th>price</th>\n",
       "      <th>quantity</th>\n",
       "    </tr>\n",
       "  </thead>\n",
       "  <tbody>\n",
       "    <tr>\n",
       "      <th>count</th>\n",
       "      <td>522,064.00</td>\n",
       "      <td>522,064.00</td>\n",
       "    </tr>\n",
       "    <tr>\n",
       "      <th>mean</th>\n",
       "      <td>3.83</td>\n",
       "      <td>10.09</td>\n",
       "    </tr>\n",
       "    <tr>\n",
       "      <th>std</th>\n",
       "      <td>41.90</td>\n",
       "      <td>161.11</td>\n",
       "    </tr>\n",
       "    <tr>\n",
       "      <th>min</th>\n",
       "      <td>-11,062.06</td>\n",
       "      <td>-9,600.00</td>\n",
       "    </tr>\n",
       "    <tr>\n",
       "      <th>25%</th>\n",
       "      <td>1.25</td>\n",
       "      <td>1.00</td>\n",
       "    </tr>\n",
       "    <tr>\n",
       "      <th>50%</th>\n",
       "      <td>2.08</td>\n",
       "      <td>3.00</td>\n",
       "    </tr>\n",
       "    <tr>\n",
       "      <th>75%</th>\n",
       "      <td>4.13</td>\n",
       "      <td>10.00</td>\n",
       "    </tr>\n",
       "    <tr>\n",
       "      <th>max</th>\n",
       "      <td>13,541.33</td>\n",
       "      <td>80,995.00</td>\n",
       "    </tr>\n",
       "  </tbody>\n",
       "</table>\n",
       "</div>"
      ],
      "text/plain": [
       "           price   quantity\n",
       "count 522,064.00 522,064.00\n",
       "mean        3.83      10.09\n",
       "std        41.90     161.11\n",
       "min   -11,062.06  -9,600.00\n",
       "25%         1.25       1.00\n",
       "50%         2.08       3.00\n",
       "75%         4.13      10.00\n",
       "max    13,541.33  80,995.00"
      ]
     },
     "execution_count": 11,
     "metadata": {},
     "output_type": "execute_result"
    }
   ],
   "source": [
    "# Посмотрим общую статистику\n",
    "retail_data.describe()"
   ]
  },
  {
   "cell_type": "markdown",
   "id": "30735c56",
   "metadata": {},
   "source": [
    "Видим, что у нас есть отрицательная цена и отрицательное количество, такого быть не должно, удалим эти записи."
   ]
  },
  {
   "cell_type": "code",
   "execution_count": 12,
   "id": "54466282",
   "metadata": {},
   "outputs": [],
   "source": [
    "retail_data = retail_data.query(\"quantity > 0 and price > 0\")"
   ]
  },
  {
   "cell_type": "code",
   "execution_count": 13,
   "id": "b2e2dbdc",
   "metadata": {},
   "outputs": [
    {
     "data": {
      "text/html": [
       "<div>\n",
       "<style scoped>\n",
       "    .dataframe tbody tr th:only-of-type {\n",
       "        vertical-align: middle;\n",
       "    }\n",
       "\n",
       "    .dataframe tbody tr th {\n",
       "        vertical-align: top;\n",
       "    }\n",
       "\n",
       "    .dataframe thead th {\n",
       "        text-align: right;\n",
       "    }\n",
       "</style>\n",
       "<table border=\"1\" class=\"dataframe\">\n",
       "  <thead>\n",
       "    <tr style=\"text-align: right;\">\n",
       "      <th></th>\n",
       "      <th>price</th>\n",
       "      <th>quantity</th>\n",
       "    </tr>\n",
       "  </thead>\n",
       "  <tbody>\n",
       "    <tr>\n",
       "      <th>count</th>\n",
       "      <td>519,551.00</td>\n",
       "      <td>519,551.00</td>\n",
       "    </tr>\n",
       "    <tr>\n",
       "      <th>mean</th>\n",
       "      <td>3.89</td>\n",
       "      <td>10.40</td>\n",
       "    </tr>\n",
       "    <tr>\n",
       "      <th>std</th>\n",
       "      <td>35.95</td>\n",
       "      <td>157.00</td>\n",
       "    </tr>\n",
       "    <tr>\n",
       "      <th>min</th>\n",
       "      <td>0.00</td>\n",
       "      <td>1.00</td>\n",
       "    </tr>\n",
       "    <tr>\n",
       "      <th>25%</th>\n",
       "      <td>1.25</td>\n",
       "      <td>1.00</td>\n",
       "    </tr>\n",
       "    <tr>\n",
       "      <th>50%</th>\n",
       "      <td>2.08</td>\n",
       "      <td>3.00</td>\n",
       "    </tr>\n",
       "    <tr>\n",
       "      <th>75%</th>\n",
       "      <td>4.13</td>\n",
       "      <td>10.00</td>\n",
       "    </tr>\n",
       "    <tr>\n",
       "      <th>max</th>\n",
       "      <td>13,541.33</td>\n",
       "      <td>80,995.00</td>\n",
       "    </tr>\n",
       "  </tbody>\n",
       "</table>\n",
       "</div>"
      ],
      "text/plain": [
       "           price   quantity\n",
       "count 519,551.00 519,551.00\n",
       "mean        3.89      10.40\n",
       "std        35.95     157.00\n",
       "min         0.00       1.00\n",
       "25%         1.25       1.00\n",
       "50%         2.08       3.00\n",
       "75%         4.13      10.00\n",
       "max    13,541.33  80,995.00"
      ]
     },
     "execution_count": 13,
     "metadata": {},
     "output_type": "execute_result"
    }
   ],
   "source": [
    "# Еще раз посмотрим общую статистику\n",
    "retail_data.describe()"
   ]
  },
  {
   "cell_type": "code",
   "execution_count": 14,
   "id": "4ff40364",
   "metadata": {},
   "outputs": [
    {
     "data": {
      "text/plain": [
       "bill           0\n",
       "customer_id    0\n",
       "date           0\n",
       "country        0\n",
       "item           0\n",
       "price          0\n",
       "quantity       0\n",
       "dtype: int64"
      ]
     },
     "execution_count": 14,
     "metadata": {},
     "output_type": "execute_result"
    }
   ],
   "source": [
    "# Проверим наличие пропущенных значений\n",
    "retail_data.isna().sum()"
   ]
  },
  {
   "cell_type": "code",
   "execution_count": 15,
   "id": "5a9a8383",
   "metadata": {},
   "outputs": [
    {
     "data": {
      "text/plain": [
       "5281"
      ]
     },
     "execution_count": 15,
     "metadata": {},
     "output_type": "execute_result"
    }
   ],
   "source": [
    "# Проверим наличие дубликатов\n",
    "retail_data.duplicated().sum()"
   ]
  },
  {
   "cell_type": "code",
   "execution_count": 16,
   "id": "f2d1367f",
   "metadata": {},
   "outputs": [],
   "source": [
    "# Удалим дубликаты\n",
    "retail_data = retail_data.drop_duplicates()"
   ]
  },
  {
   "cell_type": "code",
   "execution_count": 17,
   "id": "065cf3b1",
   "metadata": {},
   "outputs": [
    {
     "data": {
      "text/plain": [
       "bill           19559\n",
       "customer_id     4297\n",
       "date           18148\n",
       "country           30\n",
       "item            4006\n",
       "price           1283\n",
       "quantity         374\n",
       "dtype: int64"
      ]
     },
     "execution_count": 17,
     "metadata": {},
     "output_type": "execute_result"
    }
   ],
   "source": [
    "# Посмотрим количество уникальных значений\n",
    "retail_data.nunique()"
   ]
  },
  {
   "cell_type": "markdown",
   "id": "8ef58c05",
   "metadata": {},
   "source": [
    "Теперь с данными все в порядке, можно приступать к анализу."
   ]
  },
  {
   "cell_type": "markdown",
   "id": "ccd6b568",
   "metadata": {},
   "source": [
    "# 3. Анализ данных"
   ]
  },
  {
   "cell_type": "code",
   "execution_count": 18,
   "id": "429bd10f",
   "metadata": {},
   "outputs": [
    {
     "data": {
      "text/html": [
       "<div>\n",
       "<style scoped>\n",
       "    .dataframe tbody tr th:only-of-type {\n",
       "        vertical-align: middle;\n",
       "    }\n",
       "\n",
       "    .dataframe tbody tr th {\n",
       "        vertical-align: top;\n",
       "    }\n",
       "\n",
       "    .dataframe thead th {\n",
       "        text-align: right;\n",
       "    }\n",
       "</style>\n",
       "<table border=\"1\" class=\"dataframe\">\n",
       "  <thead>\n",
       "    <tr style=\"text-align: right;\">\n",
       "      <th></th>\n",
       "      <th>bill</th>\n",
       "      <th>customer_id</th>\n",
       "      <th>date</th>\n",
       "      <th>country</th>\n",
       "      <th>item</th>\n",
       "      <th>price</th>\n",
       "      <th>quantity</th>\n",
       "    </tr>\n",
       "  </thead>\n",
       "  <tbody>\n",
       "    <tr>\n",
       "      <th>0</th>\n",
       "      <td>536365</td>\n",
       "      <td>17850</td>\n",
       "      <td>2010-12-01 08:26:00</td>\n",
       "      <td>United Kingdom</td>\n",
       "      <td>WHITE HANGING HEART T-LIGHT HOLDER</td>\n",
       "      <td>2.55</td>\n",
       "      <td>6</td>\n",
       "    </tr>\n",
       "    <tr>\n",
       "      <th>1</th>\n",
       "      <td>536365</td>\n",
       "      <td>17850</td>\n",
       "      <td>2010-12-01 08:26:00</td>\n",
       "      <td>United Kingdom</td>\n",
       "      <td>WHITE METAL LANTERN</td>\n",
       "      <td>3.39</td>\n",
       "      <td>6</td>\n",
       "    </tr>\n",
       "    <tr>\n",
       "      <th>2</th>\n",
       "      <td>536365</td>\n",
       "      <td>17850</td>\n",
       "      <td>2010-12-01 08:26:00</td>\n",
       "      <td>United Kingdom</td>\n",
       "      <td>CREAM CUPID HEARTS COAT HANGER</td>\n",
       "      <td>2.75</td>\n",
       "      <td>8</td>\n",
       "    </tr>\n",
       "    <tr>\n",
       "      <th>3</th>\n",
       "      <td>536365</td>\n",
       "      <td>17850</td>\n",
       "      <td>2010-12-01 08:26:00</td>\n",
       "      <td>United Kingdom</td>\n",
       "      <td>KNITTED UNION FLAG HOT WATER BOTTLE</td>\n",
       "      <td>3.39</td>\n",
       "      <td>6</td>\n",
       "    </tr>\n",
       "    <tr>\n",
       "      <th>4</th>\n",
       "      <td>536365</td>\n",
       "      <td>17850</td>\n",
       "      <td>2010-12-01 08:26:00</td>\n",
       "      <td>United Kingdom</td>\n",
       "      <td>RED WOOLLY HOTTIE WHITE HEART.</td>\n",
       "      <td>3.39</td>\n",
       "      <td>6</td>\n",
       "    </tr>\n",
       "  </tbody>\n",
       "</table>\n",
       "</div>"
      ],
      "text/plain": [
       "     bill customer_id                date         country  \\\n",
       "0  536365       17850 2010-12-01 08:26:00  United Kingdom   \n",
       "1  536365       17850 2010-12-01 08:26:00  United Kingdom   \n",
       "2  536365       17850 2010-12-01 08:26:00  United Kingdom   \n",
       "3  536365       17850 2010-12-01 08:26:00  United Kingdom   \n",
       "4  536365       17850 2010-12-01 08:26:00  United Kingdom   \n",
       "\n",
       "                                  item  price  quantity  \n",
       "0   WHITE HANGING HEART T-LIGHT HOLDER   2.55         6  \n",
       "1                  WHITE METAL LANTERN   3.39         6  \n",
       "2       CREAM CUPID HEARTS COAT HANGER   2.75         8  \n",
       "3  KNITTED UNION FLAG HOT WATER BOTTLE   3.39         6  \n",
       "4       RED WOOLLY HOTTIE WHITE HEART.   3.39         6  "
      ]
     },
     "execution_count": 18,
     "metadata": {},
     "output_type": "execute_result"
    }
   ],
   "source": [
    "# Наши данные\n",
    "retail_data.head()"
   ]
  },
  {
   "cell_type": "code",
   "execution_count": 19,
   "id": "cc9f91b7",
   "metadata": {},
   "outputs": [
    {
     "data": {
      "text/html": [
       "<div>\n",
       "<style scoped>\n",
       "    .dataframe tbody tr th:only-of-type {\n",
       "        vertical-align: middle;\n",
       "    }\n",
       "\n",
       "    .dataframe tbody tr th {\n",
       "        vertical-align: top;\n",
       "    }\n",
       "\n",
       "    .dataframe thead th {\n",
       "        text-align: right;\n",
       "    }\n",
       "</style>\n",
       "<table border=\"1\" class=\"dataframe\">\n",
       "  <thead>\n",
       "    <tr style=\"text-align: right;\">\n",
       "      <th></th>\n",
       "      <th>bill</th>\n",
       "      <th>customer_id</th>\n",
       "      <th>date</th>\n",
       "      <th>country</th>\n",
       "      <th>item</th>\n",
       "      <th>price</th>\n",
       "      <th>quantity</th>\n",
       "      <th>revenue</th>\n",
       "      <th>month_year</th>\n",
       "    </tr>\n",
       "  </thead>\n",
       "  <tbody>\n",
       "    <tr>\n",
       "      <th>0</th>\n",
       "      <td>536365</td>\n",
       "      <td>17850</td>\n",
       "      <td>2010-12-01 08:26:00</td>\n",
       "      <td>United Kingdom</td>\n",
       "      <td>WHITE HANGING HEART T-LIGHT HOLDER</td>\n",
       "      <td>2.55</td>\n",
       "      <td>6</td>\n",
       "      <td>15.30</td>\n",
       "      <td>2010-12</td>\n",
       "    </tr>\n",
       "    <tr>\n",
       "      <th>1</th>\n",
       "      <td>536365</td>\n",
       "      <td>17850</td>\n",
       "      <td>2010-12-01 08:26:00</td>\n",
       "      <td>United Kingdom</td>\n",
       "      <td>WHITE METAL LANTERN</td>\n",
       "      <td>3.39</td>\n",
       "      <td>6</td>\n",
       "      <td>20.34</td>\n",
       "      <td>2010-12</td>\n",
       "    </tr>\n",
       "    <tr>\n",
       "      <th>2</th>\n",
       "      <td>536365</td>\n",
       "      <td>17850</td>\n",
       "      <td>2010-12-01 08:26:00</td>\n",
       "      <td>United Kingdom</td>\n",
       "      <td>CREAM CUPID HEARTS COAT HANGER</td>\n",
       "      <td>2.75</td>\n",
       "      <td>8</td>\n",
       "      <td>22.00</td>\n",
       "      <td>2010-12</td>\n",
       "    </tr>\n",
       "    <tr>\n",
       "      <th>3</th>\n",
       "      <td>536365</td>\n",
       "      <td>17850</td>\n",
       "      <td>2010-12-01 08:26:00</td>\n",
       "      <td>United Kingdom</td>\n",
       "      <td>KNITTED UNION FLAG HOT WATER BOTTLE</td>\n",
       "      <td>3.39</td>\n",
       "      <td>6</td>\n",
       "      <td>20.34</td>\n",
       "      <td>2010-12</td>\n",
       "    </tr>\n",
       "    <tr>\n",
       "      <th>4</th>\n",
       "      <td>536365</td>\n",
       "      <td>17850</td>\n",
       "      <td>2010-12-01 08:26:00</td>\n",
       "      <td>United Kingdom</td>\n",
       "      <td>RED WOOLLY HOTTIE WHITE HEART.</td>\n",
       "      <td>3.39</td>\n",
       "      <td>6</td>\n",
       "      <td>20.34</td>\n",
       "      <td>2010-12</td>\n",
       "    </tr>\n",
       "  </tbody>\n",
       "</table>\n",
       "</div>"
      ],
      "text/plain": [
       "     bill customer_id                date         country  \\\n",
       "0  536365       17850 2010-12-01 08:26:00  United Kingdom   \n",
       "1  536365       17850 2010-12-01 08:26:00  United Kingdom   \n",
       "2  536365       17850 2010-12-01 08:26:00  United Kingdom   \n",
       "3  536365       17850 2010-12-01 08:26:00  United Kingdom   \n",
       "4  536365       17850 2010-12-01 08:26:00  United Kingdom   \n",
       "\n",
       "                                  item  price  quantity  revenue month_year  \n",
       "0   WHITE HANGING HEART T-LIGHT HOLDER   2.55         6    15.30    2010-12  \n",
       "1                  WHITE METAL LANTERN   3.39         6    20.34    2010-12  \n",
       "2       CREAM CUPID HEARTS COAT HANGER   2.75         8    22.00    2010-12  \n",
       "3  KNITTED UNION FLAG HOT WATER BOTTLE   3.39         6    20.34    2010-12  \n",
       "4       RED WOOLLY HOTTIE WHITE HEART.   3.39         6    20.34    2010-12  "
      ]
     },
     "execution_count": 19,
     "metadata": {},
     "output_type": "execute_result"
    }
   ],
   "source": [
    "# Добавим столбец с доходом и месяцем-годом покупки\n",
    "retail_data['revenue'] = retail_data.price * retail_data.quantity\n",
    "retail_data['month_year'] = retail_data.date.dt.to_period('M')\n",
    "retail_data.head()"
   ]
  },
  {
   "cell_type": "code",
   "execution_count": 20,
   "id": "53e6a88f",
   "metadata": {},
   "outputs": [
    {
     "name": "stdout",
     "output_type": "stream",
     "text": [
      "Данные за период: 2010-12-01 08:26:00 - 2011-12-09 12:50:00\n"
     ]
    }
   ],
   "source": [
    "# Определим период наблюдений\n",
    "print(f'Данные за период: {min(retail_data.date)} - {max(retail_data.date)}')"
   ]
  },
  {
   "cell_type": "markdown",
   "id": "628ecf9d",
   "metadata": {},
   "source": [
    "Видим, что данные у нас собраны за год, этого достаточно для проведения ABC/XYZ-анализа."
   ]
  },
  {
   "cell_type": "markdown",
   "id": "55ae3132",
   "metadata": {},
   "source": [
    "## 1. ABC-анализ пользователей и товаров\n",
    "\n",
    "<b><span style='color:#9e88b6'>Принцип Парето: 20% усилий приносят 80% результата </span></b>  \n",
    "\n",
    "Классификацируем объекты по влиянию на прибыль компании, разделим на три группы:\n",
    "\n",
    "**Группа A.** Самые ценные — в теории 20%, приносящих 80% прибыли.  \n",
    "**Группа B.** Промежуточные — в теории 30%, приносящие 15% прибыли.  \n",
    "**Группа C.** Наименее ценные — в теории 50%, которые приносят 5% прибыли.\n",
    "\n",
    "Порядок деления на группы (функция perform_abc):\n",
    "\n",
    "1. Группируем по исследуемому объекту (пользователи, товары).\n",
    "2. Считаем доход, который приносит объект.\n",
    "3. Считаем долю каждого товара в общем объёме выручки.\n",
    "4. Сортируем в порядке убывания вклада в выручку.\n",
    "5. Считаем нарастающий итог.\n",
    "6. Определяем группы в зависимости от выручки по совокупному проценту. С показателем меньше 80% относятся к группе A, 80–95% — к группе B, 95–100% — к группе C."
   ]
  },
  {
   "cell_type": "code",
   "execution_count": 21,
   "id": "a0fbe2c6",
   "metadata": {},
   "outputs": [],
   "source": [
    "# Функция для распределения по группам ABC\n",
    "\n",
    "def perform_abc(df, attribute):\n",
    "    \n",
    "    grouped_data = df.groupby(attribute).agg({'revenue': 'sum'})\n",
    "    grouped_data['part_revenue'] = grouped_data['revenue'] / sum(grouped_data['revenue'])\n",
    "    grouped_data = grouped_data.sort_values('part_revenue', ascending=False)\n",
    "    grouped_data['cumsum_revenue'] = grouped_data['part_revenue'].cumsum()\n",
    "    grouped_data['abc_group'] = np.where(grouped_data['cumsum_revenue'] < 0.8, 'A', \n",
    "                                               np.where(grouped_data['cumsum_revenue'] < 0.95, 'B', 'C'))\n",
    "    \n",
    "    return grouped_data[['revenue', 'abc_group']].reset_index()"
   ]
  },
  {
   "cell_type": "markdown",
   "id": "898b6732",
   "metadata": {},
   "source": [
    "### ABC-анализ пользователей"
   ]
  },
  {
   "cell_type": "code",
   "execution_count": 22,
   "id": "43ecfeab",
   "metadata": {},
   "outputs": [
    {
     "data": {
      "text/html": [
       "<div>\n",
       "<style scoped>\n",
       "    .dataframe tbody tr th:only-of-type {\n",
       "        vertical-align: middle;\n",
       "    }\n",
       "\n",
       "    .dataframe tbody tr th {\n",
       "        vertical-align: top;\n",
       "    }\n",
       "\n",
       "    .dataframe thead th {\n",
       "        text-align: right;\n",
       "    }\n",
       "</style>\n",
       "<table border=\"1\" class=\"dataframe\">\n",
       "  <thead>\n",
       "    <tr style=\"text-align: right;\">\n",
       "      <th></th>\n",
       "      <th>customer_id</th>\n",
       "      <th>revenue</th>\n",
       "      <th>abc_group</th>\n",
       "    </tr>\n",
       "  </thead>\n",
       "  <tbody>\n",
       "    <tr>\n",
       "      <th>0</th>\n",
       "      <td>14646</td>\n",
       "      <td>280,206.02</td>\n",
       "      <td>A</td>\n",
       "    </tr>\n",
       "    <tr>\n",
       "      <th>1</th>\n",
       "      <td>18102</td>\n",
       "      <td>259,657.30</td>\n",
       "      <td>A</td>\n",
       "    </tr>\n",
       "    <tr>\n",
       "      <th>2</th>\n",
       "      <td>17450</td>\n",
       "      <td>194,390.79</td>\n",
       "      <td>A</td>\n",
       "    </tr>\n",
       "    <tr>\n",
       "      <th>3</th>\n",
       "      <td>16446</td>\n",
       "      <td>168,472.50</td>\n",
       "      <td>A</td>\n",
       "    </tr>\n",
       "    <tr>\n",
       "      <th>4</th>\n",
       "      <td>12415</td>\n",
       "      <td>124,914.53</td>\n",
       "      <td>A</td>\n",
       "    </tr>\n",
       "  </tbody>\n",
       "</table>\n",
       "</div>"
      ],
      "text/plain": [
       "  customer_id    revenue abc_group\n",
       "0       14646 280,206.02         A\n",
       "1       18102 259,657.30         A\n",
       "2       17450 194,390.79         A\n",
       "3       16446 168,472.50         A\n",
       "4       12415 124,914.53         A"
      ]
     },
     "execution_count": 22,
     "metadata": {},
     "output_type": "execute_result"
    }
   ],
   "source": [
    "# Распределяем пользователей по группам, убрав неопределенных пользователей\n",
    "customer_data = retail_data.query(\"customer_id != '-'\")\n",
    "customer_abc = perform_abc(customer_data, attribute='customer_id')\n",
    "customer_abc.head()"
   ]
  },
  {
   "cell_type": "code",
   "execution_count": 23,
   "id": "a76d04e6",
   "metadata": {},
   "outputs": [
    {
     "data": {
      "text/html": [
       "<div>\n",
       "<style scoped>\n",
       "    .dataframe tbody tr th:only-of-type {\n",
       "        vertical-align: middle;\n",
       "    }\n",
       "\n",
       "    .dataframe tbody tr th {\n",
       "        vertical-align: top;\n",
       "    }\n",
       "\n",
       "    .dataframe thead th {\n",
       "        text-align: right;\n",
       "    }\n",
       "</style>\n",
       "<table border=\"1\" class=\"dataframe\">\n",
       "  <thead>\n",
       "    <tr style=\"text-align: right;\">\n",
       "      <th></th>\n",
       "      <th>abc_group</th>\n",
       "      <th>customer_count</th>\n",
       "      <th>count_percent</th>\n",
       "    </tr>\n",
       "  </thead>\n",
       "  <tbody>\n",
       "    <tr>\n",
       "      <th>0</th>\n",
       "      <td>A</td>\n",
       "      <td>1143</td>\n",
       "      <td>0.27</td>\n",
       "    </tr>\n",
       "    <tr>\n",
       "      <th>1</th>\n",
       "      <td>B</td>\n",
       "      <td>1454</td>\n",
       "      <td>0.34</td>\n",
       "    </tr>\n",
       "    <tr>\n",
       "      <th>2</th>\n",
       "      <td>C</td>\n",
       "      <td>1699</td>\n",
       "      <td>0.40</td>\n",
       "    </tr>\n",
       "  </tbody>\n",
       "</table>\n",
       "</div>"
      ],
      "text/plain": [
       "  abc_group  customer_count  count_percent\n",
       "0         A            1143           0.27\n",
       "1         B            1454           0.34\n",
       "2         C            1699           0.40"
      ]
     },
     "execution_count": 23,
     "metadata": {},
     "output_type": "execute_result"
    }
   ],
   "source": [
    "# Найдем количество пользователей и их долю от общего числа в каждой группе\n",
    "customer_group = customer_abc.groupby('abc_group', as_index=False).agg(customer_count=('customer_id', 'count'))\n",
    "customer_group['count_percent'] = customer_group.customer_count / customer_group.customer_count.sum()\n",
    "customer_group"
   ]
  },
  {
   "cell_type": "markdown",
   "id": "f6525f63",
   "metadata": {},
   "source": [
    "### ABC-анализ товаров"
   ]
  },
  {
   "cell_type": "code",
   "execution_count": 24,
   "id": "462fd44a",
   "metadata": {},
   "outputs": [
    {
     "data": {
      "text/html": [
       "<div>\n",
       "<style scoped>\n",
       "    .dataframe tbody tr th:only-of-type {\n",
       "        vertical-align: middle;\n",
       "    }\n",
       "\n",
       "    .dataframe tbody tr th {\n",
       "        vertical-align: top;\n",
       "    }\n",
       "\n",
       "    .dataframe thead th {\n",
       "        text-align: right;\n",
       "    }\n",
       "</style>\n",
       "<table border=\"1\" class=\"dataframe\">\n",
       "  <thead>\n",
       "    <tr style=\"text-align: right;\">\n",
       "      <th></th>\n",
       "      <th>item</th>\n",
       "      <th>revenue</th>\n",
       "      <th>abc_group</th>\n",
       "    </tr>\n",
       "  </thead>\n",
       "  <tbody>\n",
       "    <tr>\n",
       "      <th>0</th>\n",
       "      <td>DOTCOM POSTAGE</td>\n",
       "      <td>206,248.77</td>\n",
       "      <td>A</td>\n",
       "    </tr>\n",
       "    <tr>\n",
       "      <th>1</th>\n",
       "      <td>PAPER CRAFT , LITTLE BIRDIE</td>\n",
       "      <td>168,469.60</td>\n",
       "      <td>A</td>\n",
       "    </tr>\n",
       "    <tr>\n",
       "      <th>2</th>\n",
       "      <td>REGENCY CAKESTAND 3 TIER</td>\n",
       "      <td>165,411.99</td>\n",
       "      <td>A</td>\n",
       "    </tr>\n",
       "    <tr>\n",
       "      <th>3</th>\n",
       "      <td>WHITE HANGING HEART T-LIGHT HOLDER</td>\n",
       "      <td>102,532.32</td>\n",
       "      <td>A</td>\n",
       "    </tr>\n",
       "    <tr>\n",
       "      <th>4</th>\n",
       "      <td>PARTY BUNTING</td>\n",
       "      <td>97,308.38</td>\n",
       "      <td>A</td>\n",
       "    </tr>\n",
       "  </tbody>\n",
       "</table>\n",
       "</div>"
      ],
      "text/plain": [
       "                                 item    revenue abc_group\n",
       "0                      DOTCOM POSTAGE 206,248.77         A\n",
       "1         PAPER CRAFT , LITTLE BIRDIE 168,469.60         A\n",
       "2            REGENCY CAKESTAND 3 TIER 165,411.99         A\n",
       "3  WHITE HANGING HEART T-LIGHT HOLDER 102,532.32         A\n",
       "4                       PARTY BUNTING  97,308.38         A"
      ]
     },
     "execution_count": 24,
     "metadata": {},
     "output_type": "execute_result"
    }
   ],
   "source": [
    "# Распределяем товары по группам\n",
    "item_abc = perform_abc(retail_data, attribute='item')\n",
    "item_abc.head()"
   ]
  },
  {
   "cell_type": "code",
   "execution_count": 25,
   "id": "1745023e",
   "metadata": {},
   "outputs": [
    {
     "data": {
      "text/html": [
       "<div>\n",
       "<style scoped>\n",
       "    .dataframe tbody tr th:only-of-type {\n",
       "        vertical-align: middle;\n",
       "    }\n",
       "\n",
       "    .dataframe tbody tr th {\n",
       "        vertical-align: top;\n",
       "    }\n",
       "\n",
       "    .dataframe thead th {\n",
       "        text-align: right;\n",
       "    }\n",
       "</style>\n",
       "<table border=\"1\" class=\"dataframe\">\n",
       "  <thead>\n",
       "    <tr style=\"text-align: right;\">\n",
       "      <th></th>\n",
       "      <th>abc_group</th>\n",
       "      <th>item_count</th>\n",
       "      <th>count_percent</th>\n",
       "    </tr>\n",
       "  </thead>\n",
       "  <tbody>\n",
       "    <tr>\n",
       "      <th>0</th>\n",
       "      <td>A</td>\n",
       "      <td>822</td>\n",
       "      <td>0.21</td>\n",
       "    </tr>\n",
       "    <tr>\n",
       "      <th>1</th>\n",
       "      <td>B</td>\n",
       "      <td>1001</td>\n",
       "      <td>0.25</td>\n",
       "    </tr>\n",
       "    <tr>\n",
       "      <th>2</th>\n",
       "      <td>C</td>\n",
       "      <td>2183</td>\n",
       "      <td>0.54</td>\n",
       "    </tr>\n",
       "  </tbody>\n",
       "</table>\n",
       "</div>"
      ],
      "text/plain": [
       "  abc_group  item_count  count_percent\n",
       "0         A         822           0.21\n",
       "1         B        1001           0.25\n",
       "2         C        2183           0.54"
      ]
     },
     "execution_count": 25,
     "metadata": {},
     "output_type": "execute_result"
    }
   ],
   "source": [
    "# Найдем количество товаров и их долю от общего числа в каждой группе\n",
    "item_group = item_abc.groupby('abc_group', as_index=False).agg(item_count=('item', 'count'))\n",
    "item_group['count_percent'] = item_group.item_count / item_group.item_count.sum()\n",
    "item_group"
   ]
  },
  {
   "cell_type": "markdown",
   "id": "fc2483ab",
   "metadata": {},
   "source": [
    "### Результат ABC-анализа"
   ]
  },
  {
   "cell_type": "code",
   "execution_count": 26,
   "id": "a8bab175",
   "metadata": {},
   "outputs": [
    {
     "data": {
      "image/png": "[encoded data removed]",
      "text/plain": [
       "<Figure size 1440x720 with 2 Axes>"
      ]
     },
     "metadata": {},
     "output_type": "display_data"
    }
   ],
   "source": [
    "# Построим полученные распределения\n",
    "\n",
    "fig, axs = plt.subplots(2, 1, figsize=(20, 10))\n",
    "plt.subplots_adjust(hspace=0.5)\n",
    "sns.barplot(data=customer_group, x='abc_group', y='count_percent', ax=axs[0]) \\\n",
    "    .set(ylabel='Доля', xlabel='Группа', title='Распределение пользователей по группам\\n')\n",
    "sns.barplot(data=item_group, x='abc_group', y='count_percent', ax=axs[1]) \\\n",
    "    .set(ylabel='Доля', xlabel='Группа', title='Распределение товаров по группам\\n')\n",
    "plt.show()"
   ]
  },
  {
   "cell_type": "markdown",
   "id": "e03f1881",
   "metadata": {},
   "source": [
    "**Вывод:** из полученных таблиц и графиков видим:  \n",
    "- 27% пользователей принесли 80% выручки  \n",
    "- 21% товаров принесли 80% выручки.    \n",
    "\n",
    "Данные результаты хорошо согласуются с принципом Парето.    \n",
    "\n",
    "Результаты данного анализа можно использовать для подбора дальнейшей стратегии. Например, в случае товаров:  \n",
    "Товары из **группы А** можно дополнительно продвигать — упомянуть в рассылке, пуш-уведомлениях, провести акции с ними.  \n",
    "Товары из **группы B** стоит закупить в таком количестве, чтобы покрыть спрос.  \n",
    "Товары из **группы C** стоит либо прекратить продавать, либо уменьшить их запасы."
   ]
  },
  {
   "cell_type": "markdown",
   "id": "040db8bb",
   "metadata": {},
   "source": [
    "## 2. XYZ-анализ пользователей и товаров\n",
    "\n",
    "XYZ-анализ применяется для определения характера спроса. С его помощью можно понять, насколько стабильными являются продажи (как часто пользователь совершает покупку или как часто покупают тот или иной товар).  \n",
    "\n",
    "**Группа X**. Объекты с коэффициентом вариативности 0–10% — спрос не меняется более, чем на 10% в месяц, стабильные покупки, высокая степень прогнозирования.   \n",
    "**Группа Y**. Объекты с коэффициентом вариативности 10–25% — нерегулярные покупки, средние возможности для прогнозирования, могут зависеть от сезонности.   \n",
    "**Группа Z**. Объекты с коэффициентом вариативности больше 25% или новые объекты, единичные покупки — невозможно спрогнозировать.  \n",
    "\n",
    "Порядок деления на группы (функция perform_xyz):  \n",
    "\n",
    "1. Группируем по дате (смотрим в разбивке по месяцам) и объекту (пользователь, товар).\n",
    "2. Рассчитываем стандартное отклонение, среднее дохода от объекта, и с их помощью находим коэффициент вариации.\n",
    "3. Определяем, к какой группе относится каждый объект. С коэффициентом 0–10% попадают в группу X, 10–25% — в группу Y, более 25% или новые объекты (единичные покупки) — в группу Z."
   ]
  },
  {
   "cell_type": "code",
   "execution_count": 27,
   "id": "a485056a",
   "metadata": {},
   "outputs": [],
   "source": [
    "# Функция для распределения по группам XYZ\n",
    "\n",
    "def perform_xyz(df, attribute):\n",
    "    \n",
    "    grouped_data = df.groupby(['month_year', attribute], as_index=False).agg({'revenue': 'sum'})\n",
    "    grouped_data = grouped_data.groupby(attribute, as_index=False).agg(mean_v =('revenue', 'mean'),\n",
    "                                                                       std_v=('revenue', 'std'))\n",
    "    grouped_data['var_coeff'] = grouped_data.std_v / grouped_data.mean_v\n",
    "    grouped_data['xyz_group'] = np.where(grouped_data['var_coeff'] < 0.1, 'X', \n",
    "                               np.where(grouped_data['var_coeff'] < 0.25, 'Y', 'Z'))\n",
    "    grouped_data = grouped_data.sort_values('var_coeff')\n",
    "\n",
    "\n",
    "    return grouped_data[[attribute, 'var_coeff', 'xyz_group']]"
   ]
  },
  {
   "cell_type": "markdown",
   "id": "f0d7c53f",
   "metadata": {},
   "source": [
    "### XYZ-анализ пользователей"
   ]
  },
  {
   "cell_type": "code",
   "execution_count": 28,
   "id": "047de89e",
   "metadata": {},
   "outputs": [
    {
     "data": {
      "text/html": [
       "<div>\n",
       "<style scoped>\n",
       "    .dataframe tbody tr th:only-of-type {\n",
       "        vertical-align: middle;\n",
       "    }\n",
       "\n",
       "    .dataframe tbody tr th {\n",
       "        vertical-align: top;\n",
       "    }\n",
       "\n",
       "    .dataframe thead th {\n",
       "        text-align: right;\n",
       "    }\n",
       "</style>\n",
       "<table border=\"1\" class=\"dataframe\">\n",
       "  <thead>\n",
       "    <tr style=\"text-align: right;\">\n",
       "      <th></th>\n",
       "      <th>customer_id</th>\n",
       "      <th>var_coeff</th>\n",
       "      <th>xyz_group</th>\n",
       "    </tr>\n",
       "  </thead>\n",
       "  <tbody>\n",
       "    <tr>\n",
       "      <th>1593</th>\n",
       "      <td>14548</td>\n",
       "      <td>0.00</td>\n",
       "      <td>X</td>\n",
       "    </tr>\n",
       "    <tr>\n",
       "      <th>1892</th>\n",
       "      <td>14987</td>\n",
       "      <td>0.00</td>\n",
       "      <td>X</td>\n",
       "    </tr>\n",
       "    <tr>\n",
       "      <th>3391</th>\n",
       "      <td>17029</td>\n",
       "      <td>0.00</td>\n",
       "      <td>X</td>\n",
       "    </tr>\n",
       "    <tr>\n",
       "      <th>3614</th>\n",
       "      <td>17353</td>\n",
       "      <td>0.00</td>\n",
       "      <td>X</td>\n",
       "    </tr>\n",
       "    <tr>\n",
       "      <th>26</th>\n",
       "      <td>12384</td>\n",
       "      <td>0.00</td>\n",
       "      <td>X</td>\n",
       "    </tr>\n",
       "  </tbody>\n",
       "</table>\n",
       "</div>"
      ],
      "text/plain": [
       "     customer_id  var_coeff xyz_group\n",
       "1593       14548       0.00         X\n",
       "1892       14987       0.00         X\n",
       "3391       17029       0.00         X\n",
       "3614       17353       0.00         X\n",
       "26         12384       0.00         X"
      ]
     },
     "execution_count": 28,
     "metadata": {},
     "output_type": "execute_result"
    }
   ],
   "source": [
    "# Распределяем пользователей по группам\n",
    "customer_xyz = perform_xyz(customer_data, attribute='customer_id')\n",
    "customer_xyz.head()"
   ]
  },
  {
   "cell_type": "code",
   "execution_count": 29,
   "id": "fb1f7485",
   "metadata": {},
   "outputs": [
    {
     "data": {
      "text/html": [
       "<div>\n",
       "<style scoped>\n",
       "    .dataframe tbody tr th:only-of-type {\n",
       "        vertical-align: middle;\n",
       "    }\n",
       "\n",
       "    .dataframe tbody tr th {\n",
       "        vertical-align: top;\n",
       "    }\n",
       "\n",
       "    .dataframe thead th {\n",
       "        text-align: right;\n",
       "    }\n",
       "</style>\n",
       "<table border=\"1\" class=\"dataframe\">\n",
       "  <thead>\n",
       "    <tr style=\"text-align: right;\">\n",
       "      <th></th>\n",
       "      <th>xyz_group</th>\n",
       "      <th>customer_count</th>\n",
       "      <th>percent</th>\n",
       "    </tr>\n",
       "  </thead>\n",
       "  <tbody>\n",
       "    <tr>\n",
       "      <th>0</th>\n",
       "      <td>X</td>\n",
       "      <td>235</td>\n",
       "      <td>0.05</td>\n",
       "    </tr>\n",
       "    <tr>\n",
       "      <th>1</th>\n",
       "      <td>Y</td>\n",
       "      <td>403</td>\n",
       "      <td>0.09</td>\n",
       "    </tr>\n",
       "    <tr>\n",
       "      <th>2</th>\n",
       "      <td>Z</td>\n",
       "      <td>3658</td>\n",
       "      <td>0.85</td>\n",
       "    </tr>\n",
       "  </tbody>\n",
       "</table>\n",
       "</div>"
      ],
      "text/plain": [
       "  xyz_group  customer_count  percent\n",
       "0         X             235     0.05\n",
       "1         Y             403     0.09\n",
       "2         Z            3658     0.85"
      ]
     },
     "execution_count": 29,
     "metadata": {},
     "output_type": "execute_result"
    }
   ],
   "source": [
    "# Найдем количество пользователей и их долю от общего числа в каждой группе\n",
    "customer_group = customer_xyz.groupby('xyz_group', as_index=False).agg(customer_count=('customer_id', 'count'))\n",
    "customer_group['percent'] = customer_group.customer_count / customer_group.customer_count.sum()\n",
    "customer_group"
   ]
  },
  {
   "cell_type": "markdown",
   "id": "0a1cb51c",
   "metadata": {},
   "source": [
    "### XYZ-анализ товаров"
   ]
  },
  {
   "cell_type": "code",
   "execution_count": 30,
   "id": "ea9907cc",
   "metadata": {},
   "outputs": [
    {
     "data": {
      "text/html": [
       "<div>\n",
       "<style scoped>\n",
       "    .dataframe tbody tr th:only-of-type {\n",
       "        vertical-align: middle;\n",
       "    }\n",
       "\n",
       "    .dataframe tbody tr th {\n",
       "        vertical-align: top;\n",
       "    }\n",
       "\n",
       "    .dataframe thead th {\n",
       "        text-align: right;\n",
       "    }\n",
       "</style>\n",
       "<table border=\"1\" class=\"dataframe\">\n",
       "  <thead>\n",
       "    <tr style=\"text-align: right;\">\n",
       "      <th></th>\n",
       "      <th>item</th>\n",
       "      <th>var_coeff</th>\n",
       "      <th>xyz_group</th>\n",
       "    </tr>\n",
       "  </thead>\n",
       "  <tbody>\n",
       "    <tr>\n",
       "      <th>3322</th>\n",
       "      <td>SILVER/BLACK PENDANT ORBIT NECKLACE</td>\n",
       "      <td>0.00</td>\n",
       "      <td>X</td>\n",
       "    </tr>\n",
       "    <tr>\n",
       "      <th>1717</th>\n",
       "      <td>I LOVE LONDON WALL ART</td>\n",
       "      <td>0.00</td>\n",
       "      <td>X</td>\n",
       "    </tr>\n",
       "    <tr>\n",
       "      <th>3005</th>\n",
       "      <td>SET 10 CARDS CHRISTMAS HOLLY  17259</td>\n",
       "      <td>0.00</td>\n",
       "      <td>X</td>\n",
       "    </tr>\n",
       "    <tr>\n",
       "      <th>2957</th>\n",
       "      <td>RUSTIC STRAWBERRY JAMPOT SMALL</td>\n",
       "      <td>0.00</td>\n",
       "      <td>X</td>\n",
       "    </tr>\n",
       "    <tr>\n",
       "      <th>283</th>\n",
       "      <td>BAROQUE BUTTERFLY EARRINGS PINK</td>\n",
       "      <td>0.00</td>\n",
       "      <td>X</td>\n",
       "    </tr>\n",
       "  </tbody>\n",
       "</table>\n",
       "</div>"
      ],
      "text/plain": [
       "                                     item  var_coeff xyz_group\n",
       "3322  SILVER/BLACK PENDANT ORBIT NECKLACE       0.00         X\n",
       "1717               I LOVE LONDON WALL ART       0.00         X\n",
       "3005  SET 10 CARDS CHRISTMAS HOLLY  17259       0.00         X\n",
       "2957       RUSTIC STRAWBERRY JAMPOT SMALL       0.00         X\n",
       "283       BAROQUE BUTTERFLY EARRINGS PINK       0.00         X"
      ]
     },
     "execution_count": 30,
     "metadata": {},
     "output_type": "execute_result"
    }
   ],
   "source": [
    "# Распределяем товары по группам\n",
    "item_xyz = perform_xyz(retail_data, attribute='item')\n",
    "item_xyz.head()"
   ]
  },
  {
   "cell_type": "code",
   "execution_count": 31,
   "id": "0688b286",
   "metadata": {},
   "outputs": [
    {
     "data": {
      "text/html": [
       "<div>\n",
       "<style scoped>\n",
       "    .dataframe tbody tr th:only-of-type {\n",
       "        vertical-align: middle;\n",
       "    }\n",
       "\n",
       "    .dataframe tbody tr th {\n",
       "        vertical-align: top;\n",
       "    }\n",
       "\n",
       "    .dataframe thead th {\n",
       "        text-align: right;\n",
       "    }\n",
       "</style>\n",
       "<table border=\"1\" class=\"dataframe\">\n",
       "  <thead>\n",
       "    <tr style=\"text-align: right;\">\n",
       "      <th></th>\n",
       "      <th>xyz_group</th>\n",
       "      <th>item_count</th>\n",
       "      <th>percent</th>\n",
       "    </tr>\n",
       "  </thead>\n",
       "  <tbody>\n",
       "    <tr>\n",
       "      <th>0</th>\n",
       "      <td>X</td>\n",
       "      <td>56</td>\n",
       "      <td>0.01</td>\n",
       "    </tr>\n",
       "    <tr>\n",
       "      <th>1</th>\n",
       "      <td>Y</td>\n",
       "      <td>42</td>\n",
       "      <td>0.01</td>\n",
       "    </tr>\n",
       "    <tr>\n",
       "      <th>2</th>\n",
       "      <td>Z</td>\n",
       "      <td>3908</td>\n",
       "      <td>0.98</td>\n",
       "    </tr>\n",
       "  </tbody>\n",
       "</table>\n",
       "</div>"
      ],
      "text/plain": [
       "  xyz_group  item_count  percent\n",
       "0         X          56     0.01\n",
       "1         Y          42     0.01\n",
       "2         Z        3908     0.98"
      ]
     },
     "execution_count": 31,
     "metadata": {},
     "output_type": "execute_result"
    }
   ],
   "source": [
    "# Найдем количество товаров и их долю от общего числа в каждой группе\n",
    "item_group = item_xyz.groupby('xyz_group', as_index=False).agg(item_count=('item', 'count'))\n",
    "item_group['percent'] = item_group.item_count / item_group.item_count.sum()\n",
    "item_group"
   ]
  },
  {
   "cell_type": "markdown",
   "id": "d3cc9194",
   "metadata": {},
   "source": [
    "### Результаты XYZ-анализа"
   ]
  },
  {
   "cell_type": "code",
   "execution_count": 32,
   "id": "692a831d",
   "metadata": {},
   "outputs": [
    {
     "data": {
      "image/png": "[encoded data removed]",
      "text/plain": [
       "<Figure size 1440x720 with 2 Axes>"
      ]
     },
     "metadata": {},
     "output_type": "display_data"
    }
   ],
   "source": [
    "# Построим полученные распределения\n",
    "\n",
    "fig, axs = plt.subplots(2, 1, figsize=(20, 10))\n",
    "plt.subplots_adjust(hspace=0.5)\n",
    "sns.barplot(data=customer_group, x='xyz_group', y='percent', ax=axs[0]) \\\n",
    "    .set(ylabel='Доля', xlabel='Группа', title='Распределение пользователей по группам\\n')\n",
    "sns.barplot(data=item_group, x='xyz_group', y='percent', ax=axs[1]) \\\n",
    "    .set(ylabel='Доля', xlabel='Группа', title='Распределение товаров по группам\\n')\n",
    "plt.show()"
   ]
  },
  {
   "cell_type": "markdown",
   "id": "2dcf53f3",
   "metadata": {},
   "source": [
    "**Вывод:** из полученных таблиц и графиков видим: \n",
    "- и для пользователей, и для товаров преобладают покупки с большим коэффициентом вариативности или единичные покупки, то есть делать какие-либо прогнозы по ним сложно  \n",
    "- нужно обратить внимание на объекты со стабильным спросом\n",
    "  \n",
    "По данному анализу можно судить о спросе у пользователей или на товар, однако он не лишен минусов (резкий скачок спроса может испортить картину; анализ дает картину колебаний, но не учитывает факторы, которые к ним приводят и так далее), поэтому для наибольшей эффективности можно использовать ABC/XYZ-анализ, который комбинирует два анализа."
   ]
  },
  {
   "cell_type": "markdown",
   "id": "eec58929",
   "metadata": {},
   "source": [
    "## 3. ABC/XYZ-анализ пользователей и товаров\n",
    "\n",
    "### ABC/XYZ-анализ пользователей\n",
    "\n",
    "В данном анализе уже не 3 группы, а 9 групп:  \n",
    "\n",
    "AX — большая доля прибыли, стабильный спрос.  \n",
    "AY — большая доля прибыли, колеблющийся спрос.  \n",
    "AZ — большая доля прибыли, непредсказуемый спрос.  \n",
    "BX — средние объёмы прибыли, стабильный спрос.  \n",
    "BY — средние объёмы прибыли, колеблющийся спрос.  \n",
    "BZ — средние объёмы прибыли, непредсказуемый спрос.  \n",
    "CX — малозначительная прибыль, стабильный спрос.  \n",
    "CY — малозначительная прибыль, колеблющийся спрос.  \n",
    "CZ — малозначительная прибыль, непредсказуемый спрос.  "
   ]
  },
  {
   "cell_type": "code",
   "execution_count": 33,
   "id": "d3259ca0",
   "metadata": {},
   "outputs": [
    {
     "data": {
      "text/html": [
       "<div>\n",
       "<style scoped>\n",
       "    .dataframe tbody tr th:only-of-type {\n",
       "        vertical-align: middle;\n",
       "    }\n",
       "\n",
       "    .dataframe tbody tr th {\n",
       "        vertical-align: top;\n",
       "    }\n",
       "\n",
       "    .dataframe thead th {\n",
       "        text-align: right;\n",
       "    }\n",
       "</style>\n",
       "<table border=\"1\" class=\"dataframe\">\n",
       "  <thead>\n",
       "    <tr style=\"text-align: right;\">\n",
       "      <th></th>\n",
       "      <th>customer_id</th>\n",
       "      <th>revenue</th>\n",
       "      <th>abc_group</th>\n",
       "      <th>var_coeff</th>\n",
       "      <th>xyz_group</th>\n",
       "      <th>abcxyz_group</th>\n",
       "    </tr>\n",
       "  </thead>\n",
       "  <tbody>\n",
       "    <tr>\n",
       "      <th>0</th>\n",
       "      <td>14646</td>\n",
       "      <td>280,206.02</td>\n",
       "      <td>A</td>\n",
       "      <td>0.58</td>\n",
       "      <td>Z</td>\n",
       "      <td>AZ</td>\n",
       "    </tr>\n",
       "    <tr>\n",
       "      <th>1</th>\n",
       "      <td>18102</td>\n",
       "      <td>259,657.30</td>\n",
       "      <td>A</td>\n",
       "      <td>0.83</td>\n",
       "      <td>Z</td>\n",
       "      <td>AZ</td>\n",
       "    </tr>\n",
       "    <tr>\n",
       "      <th>2</th>\n",
       "      <td>17450</td>\n",
       "      <td>194,390.79</td>\n",
       "      <td>A</td>\n",
       "      <td>1.26</td>\n",
       "      <td>Z</td>\n",
       "      <td>AZ</td>\n",
       "    </tr>\n",
       "    <tr>\n",
       "      <th>3</th>\n",
       "      <td>16446</td>\n",
       "      <td>168,472.50</td>\n",
       "      <td>A</td>\n",
       "      <td>1.41</td>\n",
       "      <td>Z</td>\n",
       "      <td>AZ</td>\n",
       "    </tr>\n",
       "    <tr>\n",
       "      <th>4</th>\n",
       "      <td>12415</td>\n",
       "      <td>124,914.53</td>\n",
       "      <td>A</td>\n",
       "      <td>0.70</td>\n",
       "      <td>Z</td>\n",
       "      <td>AZ</td>\n",
       "    </tr>\n",
       "  </tbody>\n",
       "</table>\n",
       "</div>"
      ],
      "text/plain": [
       "  customer_id    revenue abc_group  var_coeff xyz_group abcxyz_group\n",
       "0       14646 280,206.02         A       0.58         Z           AZ\n",
       "1       18102 259,657.30         A       0.83         Z           AZ\n",
       "2       17450 194,390.79         A       1.26         Z           AZ\n",
       "3       16446 168,472.50         A       1.41         Z           AZ\n",
       "4       12415 124,914.53         A       0.70         Z           AZ"
      ]
     },
     "execution_count": 33,
     "metadata": {},
     "output_type": "execute_result"
    }
   ],
   "source": [
    "# Соединим полученные ранее таблицы с делением по группам\n",
    "customer_abcxyz = customer_abc.merge(customer_xyz, on='customer_id', how='left')\n",
    "customer_abcxyz['abcxyz_group'] = customer_abcxyz.abc_group + customer_abcxyz.xyz_group\n",
    "customer_abcxyz = customer_abcxyz.sort_values('revenue', ascending=False)\n",
    "customer_abcxyz.head()"
   ]
  },
  {
   "cell_type": "code",
   "execution_count": 34,
   "id": "954cafbf",
   "metadata": {},
   "outputs": [
    {
     "data": {
      "text/html": [
       "<div>\n",
       "<style scoped>\n",
       "    .dataframe tbody tr th:only-of-type {\n",
       "        vertical-align: middle;\n",
       "    }\n",
       "\n",
       "    .dataframe tbody tr th {\n",
       "        vertical-align: top;\n",
       "    }\n",
       "\n",
       "    .dataframe thead th {\n",
       "        text-align: right;\n",
       "    }\n",
       "</style>\n",
       "<table border=\"1\" class=\"dataframe\">\n",
       "  <thead>\n",
       "    <tr style=\"text-align: right;\">\n",
       "      <th></th>\n",
       "      <th>abcxyz_group</th>\n",
       "      <th>customers_count</th>\n",
       "      <th>revenue</th>\n",
       "      <th>count_percent</th>\n",
       "    </tr>\n",
       "  </thead>\n",
       "  <tbody>\n",
       "    <tr>\n",
       "      <th>2</th>\n",
       "      <td>AZ</td>\n",
       "      <td>1001</td>\n",
       "      <td>6,401,050.97</td>\n",
       "      <td>0.23</td>\n",
       "    </tr>\n",
       "    <tr>\n",
       "      <th>5</th>\n",
       "      <td>BZ</td>\n",
       "      <td>1111</td>\n",
       "      <td>989,990.38</td>\n",
       "      <td>0.26</td>\n",
       "    </tr>\n",
       "    <tr>\n",
       "      <th>8</th>\n",
       "      <td>CZ</td>\n",
       "      <td>1546</td>\n",
       "      <td>379,185.19</td>\n",
       "      <td>0.36</td>\n",
       "    </tr>\n",
       "    <tr>\n",
       "      <th>1</th>\n",
       "      <td>AY</td>\n",
       "      <td>113</td>\n",
       "      <td>324,503.41</td>\n",
       "      <td>0.03</td>\n",
       "    </tr>\n",
       "    <tr>\n",
       "      <th>4</th>\n",
       "      <td>BY</td>\n",
       "      <td>207</td>\n",
       "      <td>183,102.36</td>\n",
       "      <td>0.05</td>\n",
       "    </tr>\n",
       "    <tr>\n",
       "      <th>3</th>\n",
       "      <td>BX</td>\n",
       "      <td>136</td>\n",
       "      <td>108,630.47</td>\n",
       "      <td>0.03</td>\n",
       "    </tr>\n",
       "    <tr>\n",
       "      <th>0</th>\n",
       "      <td>AX</td>\n",
       "      <td>29</td>\n",
       "      <td>106,116.74</td>\n",
       "      <td>0.01</td>\n",
       "    </tr>\n",
       "    <tr>\n",
       "      <th>7</th>\n",
       "      <td>CY</td>\n",
       "      <td>83</td>\n",
       "      <td>26,961.47</td>\n",
       "      <td>0.02</td>\n",
       "    </tr>\n",
       "    <tr>\n",
       "      <th>6</th>\n",
       "      <td>CX</td>\n",
       "      <td>70</td>\n",
       "      <td>20,922.01</td>\n",
       "      <td>0.02</td>\n",
       "    </tr>\n",
       "  </tbody>\n",
       "</table>\n",
       "</div>"
      ],
      "text/plain": [
       "  abcxyz_group  customers_count      revenue  count_percent\n",
       "2           AZ             1001 6,401,050.97           0.23\n",
       "5           BZ             1111   989,990.38           0.26\n",
       "8           CZ             1546   379,185.19           0.36\n",
       "1           AY              113   324,503.41           0.03\n",
       "4           BY              207   183,102.36           0.05\n",
       "3           BX              136   108,630.47           0.03\n",
       "0           AX               29   106,116.74           0.01\n",
       "7           CY               83    26,961.47           0.02\n",
       "6           CX               70    20,922.01           0.02"
      ]
     },
     "execution_count": 34,
     "metadata": {},
     "output_type": "execute_result"
    }
   ],
   "source": [
    "# Посмотрим информацию по группам\n",
    "result_customer = customer_abcxyz.groupby('abcxyz_group', as_index=False) \\\n",
    "                              .agg(customers_count=('customer_id', 'count'),\n",
    "                                   revenue = ('revenue', 'sum')) \\\n",
    "                              .sort_values('revenue', ascending=False)\n",
    "result_customer['count_percent'] = result_customer.customers_count / result_customer.customers_count.sum()\n",
    "result_customer"
   ]
  },
  {
   "cell_type": "code",
   "execution_count": 35,
   "id": "f48f3496",
   "metadata": {},
   "outputs": [
    {
     "data": {
      "image/png": "[encoded data removed]",
      "text/plain": [
       "<Figure size 1296x720 with 2 Axes>"
      ]
     },
     "metadata": {},
     "output_type": "display_data"
    }
   ],
   "source": [
    "# Посмотрим на распределение\n",
    "fig, axs = plt.subplots(2, 1, figsize=(18, 10))\n",
    "sns.barplot(data=result_customer, x='abcxyz_group', y='revenue', ax=axs[0]) \\\n",
    "    .set(ylabel='Доход', xlabel='', title='Распределение дохода и количества пользователей по группам\\n')\n",
    "sns.barplot(data=result_customer, x='abcxyz_group', y='count_percent', ax=axs[1]) \\\n",
    "    .set(ylabel='Доля от общего количества', xlabel='Группа')\n",
    "plt.show()"
   ]
  },
  {
   "cell_type": "markdown",
   "id": "96ecec01",
   "metadata": {},
   "source": [
    "**Выводы:** \n",
    "- Больше всего прибыли совершили клиенты из группы AZ, эти клиенты нестабильные, однако у них есть потенциал, с этими клиентами нужно усиленно работать, выводя их на постоянные большие объемы, доля этих клиентов большая.\n",
    "- Больше всего пользователей в группе СZ, эти клиенты непредсказуемые, возможно, это новые клиенты, или у них были сезонные покупки, нужно изучить их внимательнее.\n",
    "- Лучших клиентов AX небольшое количество, нужно работать с ними внимательнее, напоминать о себе, делать скидки и предложения.\n",
    "- Доход от группы СX мал, эти пользователи покупают постоянно, но мало.\n",
    "- Также большой доход от клиентов группы BZ, их доля приличная, эти клиенты нестабильные, но приносят доход, нужно поднимать у них объемы покупок.\n",
    "\n",
    "Дополнительно следует провести когортный анализ пользователей и RFM-анализ."
   ]
  },
  {
   "cell_type": "markdown",
   "id": "72851c43",
   "metadata": {},
   "source": [
    "### ABC/XYZ-анализ товаров"
   ]
  },
  {
   "cell_type": "code",
   "execution_count": 36,
   "id": "19591593",
   "metadata": {},
   "outputs": [
    {
     "data": {
      "text/html": [
       "<div>\n",
       "<style scoped>\n",
       "    .dataframe tbody tr th:only-of-type {\n",
       "        vertical-align: middle;\n",
       "    }\n",
       "\n",
       "    .dataframe tbody tr th {\n",
       "        vertical-align: top;\n",
       "    }\n",
       "\n",
       "    .dataframe thead th {\n",
       "        text-align: right;\n",
       "    }\n",
       "</style>\n",
       "<table border=\"1\" class=\"dataframe\">\n",
       "  <thead>\n",
       "    <tr style=\"text-align: right;\">\n",
       "      <th></th>\n",
       "      <th>item</th>\n",
       "      <th>revenue</th>\n",
       "      <th>abc_group</th>\n",
       "      <th>var_coeff</th>\n",
       "      <th>xyz_group</th>\n",
       "      <th>abcxyz_group</th>\n",
       "    </tr>\n",
       "  </thead>\n",
       "  <tbody>\n",
       "    <tr>\n",
       "      <th>0</th>\n",
       "      <td>DOTCOM POSTAGE</td>\n",
       "      <td>206,248.77</td>\n",
       "      <td>A</td>\n",
       "      <td>0.49</td>\n",
       "      <td>Z</td>\n",
       "      <td>AZ</td>\n",
       "    </tr>\n",
       "    <tr>\n",
       "      <th>1</th>\n",
       "      <td>PAPER CRAFT , LITTLE BIRDIE</td>\n",
       "      <td>168,469.60</td>\n",
       "      <td>A</td>\n",
       "      <td>NaN</td>\n",
       "      <td>Z</td>\n",
       "      <td>AZ</td>\n",
       "    </tr>\n",
       "    <tr>\n",
       "      <th>2</th>\n",
       "      <td>REGENCY CAKESTAND 3 TIER</td>\n",
       "      <td>165,411.99</td>\n",
       "      <td>A</td>\n",
       "      <td>0.42</td>\n",
       "      <td>Z</td>\n",
       "      <td>AZ</td>\n",
       "    </tr>\n",
       "    <tr>\n",
       "      <th>3</th>\n",
       "      <td>WHITE HANGING HEART T-LIGHT HOLDER</td>\n",
       "      <td>102,532.32</td>\n",
       "      <td>A</td>\n",
       "      <td>0.50</td>\n",
       "      <td>Z</td>\n",
       "      <td>AZ</td>\n",
       "    </tr>\n",
       "    <tr>\n",
       "      <th>4</th>\n",
       "      <td>PARTY BUNTING</td>\n",
       "      <td>97,308.38</td>\n",
       "      <td>A</td>\n",
       "      <td>0.73</td>\n",
       "      <td>Z</td>\n",
       "      <td>AZ</td>\n",
       "    </tr>\n",
       "  </tbody>\n",
       "</table>\n",
       "</div>"
      ],
      "text/plain": [
       "                                 item    revenue abc_group  var_coeff  \\\n",
       "0                      DOTCOM POSTAGE 206,248.77         A       0.49   \n",
       "1         PAPER CRAFT , LITTLE BIRDIE 168,469.60         A        NaN   \n",
       "2            REGENCY CAKESTAND 3 TIER 165,411.99         A       0.42   \n",
       "3  WHITE HANGING HEART T-LIGHT HOLDER 102,532.32         A       0.50   \n",
       "4                       PARTY BUNTING  97,308.38         A       0.73   \n",
       "\n",
       "  xyz_group abcxyz_group  \n",
       "0         Z           AZ  \n",
       "1         Z           AZ  \n",
       "2         Z           AZ  \n",
       "3         Z           AZ  \n",
       "4         Z           AZ  "
      ]
     },
     "execution_count": 36,
     "metadata": {},
     "output_type": "execute_result"
    }
   ],
   "source": [
    "# Соединим полученные ранее таблицы с делением по группам\n",
    "item_abcxyz = item_abc.merge(item_xyz, on='item', how='left')\n",
    "item_abcxyz['abcxyz_group'] = item_abcxyz.abc_group + item_abcxyz.xyz_group\n",
    "item_abcxyz = item_abcxyz.sort_values('revenue', ascending=False)\n",
    "item_abcxyz.head()"
   ]
  },
  {
   "cell_type": "code",
   "execution_count": 37,
   "id": "bb056199",
   "metadata": {},
   "outputs": [
    {
     "data": {
      "text/html": [
       "<div>\n",
       "<style scoped>\n",
       "    .dataframe tbody tr th:only-of-type {\n",
       "        vertical-align: middle;\n",
       "    }\n",
       "\n",
       "    .dataframe tbody tr th {\n",
       "        vertical-align: top;\n",
       "    }\n",
       "\n",
       "    .dataframe thead th {\n",
       "        text-align: right;\n",
       "    }\n",
       "</style>\n",
       "<table border=\"1\" class=\"dataframe\">\n",
       "  <thead>\n",
       "    <tr style=\"text-align: right;\">\n",
       "      <th></th>\n",
       "      <th>abcxyz_group</th>\n",
       "      <th>items_count</th>\n",
       "      <th>revenue</th>\n",
       "      <th>count_percent</th>\n",
       "    </tr>\n",
       "  </thead>\n",
       "  <tbody>\n",
       "    <tr>\n",
       "      <th>1</th>\n",
       "      <td>AZ</td>\n",
       "      <td>817</td>\n",
       "      <td>8,158,539.01</td>\n",
       "      <td>0.20</td>\n",
       "    </tr>\n",
       "    <tr>\n",
       "      <th>3</th>\n",
       "      <td>BZ</td>\n",
       "      <td>996</td>\n",
       "      <td>1,537,486.14</td>\n",
       "      <td>0.25</td>\n",
       "    </tr>\n",
       "    <tr>\n",
       "      <th>6</th>\n",
       "      <td>CZ</td>\n",
       "      <td>2095</td>\n",
       "      <td>507,526.64</td>\n",
       "      <td>0.52</td>\n",
       "    </tr>\n",
       "    <tr>\n",
       "      <th>0</th>\n",
       "      <td>AY</td>\n",
       "      <td>5</td>\n",
       "      <td>62,124.62</td>\n",
       "      <td>0.00</td>\n",
       "    </tr>\n",
       "    <tr>\n",
       "      <th>2</th>\n",
       "      <td>BY</td>\n",
       "      <td>5</td>\n",
       "      <td>5,315.14</td>\n",
       "      <td>0.00</td>\n",
       "    </tr>\n",
       "    <tr>\n",
       "      <th>5</th>\n",
       "      <td>CY</td>\n",
       "      <td>32</td>\n",
       "      <td>3,425.24</td>\n",
       "      <td>0.01</td>\n",
       "    </tr>\n",
       "    <tr>\n",
       "      <th>4</th>\n",
       "      <td>CX</td>\n",
       "      <td>56</td>\n",
       "      <td>2,971.38</td>\n",
       "      <td>0.01</td>\n",
       "    </tr>\n",
       "  </tbody>\n",
       "</table>\n",
       "</div>"
      ],
      "text/plain": [
       "  abcxyz_group  items_count      revenue  count_percent\n",
       "1           AZ          817 8,158,539.01           0.20\n",
       "3           BZ          996 1,537,486.14           0.25\n",
       "6           CZ         2095   507,526.64           0.52\n",
       "0           AY            5    62,124.62           0.00\n",
       "2           BY            5     5,315.14           0.00\n",
       "5           CY           32     3,425.24           0.01\n",
       "4           CX           56     2,971.38           0.01"
      ]
     },
     "execution_count": 37,
     "metadata": {},
     "output_type": "execute_result"
    }
   ],
   "source": [
    "# Посмотрим информацию по группам\n",
    "result_item = item_abcxyz.groupby('abcxyz_group', as_index=False) \\\n",
    "                              .agg(items_count=('item', 'count'),\n",
    "                                   revenue = ('revenue', 'sum')) \\\n",
    "                              .sort_values('revenue', ascending=False)\n",
    "result_item['count_percent'] = result_item.items_count / result_item.items_count.sum()\n",
    "result_item"
   ]
  },
  {
   "cell_type": "code",
   "execution_count": 38,
   "id": "d2fae3a4",
   "metadata": {},
   "outputs": [
    {
     "data": {
      "image/png": "[encoded data removed]",
      "text/plain": [
       "<Figure size 1296x720 with 2 Axes>"
      ]
     },
     "metadata": {},
     "output_type": "display_data"
    }
   ],
   "source": [
    "# Посмотрим на распределение\n",
    "fig, axs = plt.subplots(2, 1, figsize=(18, 10))\n",
    "sns.barplot(data=result_item, x='abcxyz_group', y='revenue', ax=axs[0]) \\\n",
    "    .set(ylabel='Доход', xlabel='', title='Распределение дохода и количества товаров по группам\\n')\n",
    "sns.barplot(data=result_item, x='abcxyz_group', y='count_percent', ax=axs[1]) \\\n",
    "    .set(ylabel='Доля от общего количества', xlabel='Группа')\n",
    "plt.show()"
   ]
  },
  {
   "cell_type": "markdown",
   "id": "9d688462",
   "metadata": {},
   "source": [
    "**Выводы:**\n",
    "\n",
    "- Больше всего дохода нам приносят группы AZ, BZ — при высокой выручке отличаются низкой прогнозируемостью. Попытка обеспечить гарантированное наличие по всем товарам данных групп только за счет избыточного страхового товарного запаса приведет к тому, что средний товарный запас компании значительно увеличится. Поэтому по товарам данной группы следует пересмотреть систему заказов:\n",
    "    - перевести часть товаров на систему заказов с постоянной суммой (объемом) заказа\n",
    "    - обеспечить по части товаров более частые поставки\n",
    "    - повысить периодичность контроля\n",
    "    - поручить работу с данной группой товаров самому опытному менеджеру компании\n",
    "    \n",
    "- Больше всего товаров относятся к группе СZ — в нее попадают все новые товары, товары спонтанного спроса, поставляемые под заказ. Часть этих товаров можно безболезненно выводить из ассортимента, а другую часть нужно регулярно контролировать. Данные товары требуют дополнительного анализа, так как выручка от них есть.\n",
    "\n",
    "- AY могут перейти в группу AX — самые ценные товары, в нашем случае товаров в данной группе нет. Спрос на них можно стимулировать: например, расположив эти товары на первых страницах каталогов. Но данных товаров очень маленькое количество.  \n",
    "\n",
    "- Остальные группы приносят минимальную выручку, стоит провести дополнительные исследования.\n",
    "\n",
    "**Итог:** наблюдается очень низкая прогнозируемость, нужно стимулировать спрос на товары."
   ]
  },
  {
   "cell_type": "markdown",
   "id": "ac0c8bb2",
   "metadata": {},
   "source": [
    "## 4. Общая динамика продаж\n",
    "### По месяцам"
   ]
  },
  {
   "cell_type": "code",
   "execution_count": 39,
   "id": "74ba79a5",
   "metadata": {},
   "outputs": [
    {
     "data": {
      "text/html": [
       "<div>\n",
       "<style scoped>\n",
       "    .dataframe tbody tr th:only-of-type {\n",
       "        vertical-align: middle;\n",
       "    }\n",
       "\n",
       "    .dataframe tbody tr th {\n",
       "        vertical-align: top;\n",
       "    }\n",
       "\n",
       "    .dataframe thead th {\n",
       "        text-align: right;\n",
       "    }\n",
       "</style>\n",
       "<table border=\"1\" class=\"dataframe\">\n",
       "  <thead>\n",
       "    <tr style=\"text-align: right;\">\n",
       "      <th></th>\n",
       "      <th>month_year</th>\n",
       "      <th>revenue</th>\n",
       "      <th>purchases_count</th>\n",
       "    </tr>\n",
       "  </thead>\n",
       "  <tbody>\n",
       "    <tr>\n",
       "      <th>0</th>\n",
       "      <td>2010-12</td>\n",
       "      <td>807,215.78</td>\n",
       "      <td>1538</td>\n",
       "    </tr>\n",
       "    <tr>\n",
       "      <th>1</th>\n",
       "      <td>2011-01</td>\n",
       "      <td>665,727.01</td>\n",
       "      <td>1075</td>\n",
       "    </tr>\n",
       "    <tr>\n",
       "      <th>2</th>\n",
       "      <td>2011-02</td>\n",
       "      <td>503,060.52</td>\n",
       "      <td>1077</td>\n",
       "    </tr>\n",
       "    <tr>\n",
       "      <th>3</th>\n",
       "      <td>2011-03</td>\n",
       "      <td>679,471.26</td>\n",
       "      <td>1420</td>\n",
       "    </tr>\n",
       "    <tr>\n",
       "      <th>4</th>\n",
       "      <td>2011-04</td>\n",
       "      <td>527,214.75</td>\n",
       "      <td>1229</td>\n",
       "    </tr>\n",
       "    <tr>\n",
       "      <th>5</th>\n",
       "      <td>2011-05</td>\n",
       "      <td>749,008.99</td>\n",
       "      <td>1655</td>\n",
       "    </tr>\n",
       "    <tr>\n",
       "      <th>6</th>\n",
       "      <td>2011-06</td>\n",
       "      <td>727,311.20</td>\n",
       "      <td>1496</td>\n",
       "    </tr>\n",
       "    <tr>\n",
       "      <th>7</th>\n",
       "      <td>2011-07</td>\n",
       "      <td>669,497.00</td>\n",
       "      <td>1441</td>\n",
       "    </tr>\n",
       "    <tr>\n",
       "      <th>8</th>\n",
       "      <td>2011-08</td>\n",
       "      <td>732,944.09</td>\n",
       "      <td>1332</td>\n",
       "    </tr>\n",
       "    <tr>\n",
       "      <th>9</th>\n",
       "      <td>2011-09</td>\n",
       "      <td>1,006,294.61</td>\n",
       "      <td>1789</td>\n",
       "    </tr>\n",
       "    <tr>\n",
       "      <th>10</th>\n",
       "      <td>2011-10</td>\n",
       "      <td>1,115,374.39</td>\n",
       "      <td>1990</td>\n",
       "    </tr>\n",
       "    <tr>\n",
       "      <th>11</th>\n",
       "      <td>2011-11</td>\n",
       "      <td>1,465,421.65</td>\n",
       "      <td>2713</td>\n",
       "    </tr>\n",
       "    <tr>\n",
       "      <th>12</th>\n",
       "      <td>2011-12</td>\n",
       "      <td>628,846.92</td>\n",
       "      <td>804</td>\n",
       "    </tr>\n",
       "  </tbody>\n",
       "</table>\n",
       "</div>"
      ],
      "text/plain": [
       "   month_year      revenue  purchases_count\n",
       "0     2010-12   807,215.78             1538\n",
       "1     2011-01   665,727.01             1075\n",
       "2     2011-02   503,060.52             1077\n",
       "3     2011-03   679,471.26             1420\n",
       "4     2011-04   527,214.75             1229\n",
       "5     2011-05   749,008.99             1655\n",
       "6     2011-06   727,311.20             1496\n",
       "7     2011-07   669,497.00             1441\n",
       "8     2011-08   732,944.09             1332\n",
       "9     2011-09 1,006,294.61             1789\n",
       "10    2011-10 1,115,374.39             1990\n",
       "11    2011-11 1,465,421.65             2713\n",
       "12    2011-12   628,846.92              804"
      ]
     },
     "execution_count": 39,
     "metadata": {},
     "output_type": "execute_result"
    }
   ],
   "source": [
    "# Посмотрим на количество покупок и доход от них по месяцам\n",
    "retail_by_month = retail_data.groupby('month_year', as_index=False) \\\n",
    "                             .agg(revenue=('revenue', 'sum'), purchases_count=('bill', 'nunique'))\n",
    "retail_by_month"
   ]
  },
  {
   "cell_type": "code",
   "execution_count": 40,
   "id": "eb192496",
   "metadata": {},
   "outputs": [
    {
     "data": {
      "text/plain": [
       "Timestamp('2011-12-09 12:50:00')"
      ]
     },
     "execution_count": 40,
     "metadata": {},
     "output_type": "execute_result"
    }
   ],
   "source": [
    "# Определим последнюю дату\n",
    "max(retail_data['date'])"
   ]
  },
  {
   "cell_type": "markdown",
   "id": "b4b915aa",
   "metadata": {},
   "source": [
    "Не будем в анализ брать декабрь 2011 года, так как он неполный, только до 9 числа."
   ]
  },
  {
   "cell_type": "code",
   "execution_count": 41,
   "id": "12195853",
   "metadata": {},
   "outputs": [
    {
     "data": {
      "image/png": "[encoded data removed]",
      "text/plain": [
       "<Figure size 1296x720 with 2 Axes>"
      ]
     },
     "metadata": {},
     "output_type": "display_data"
    }
   ],
   "source": [
    "# Посмотрим на распределение по датам\n",
    "fig, axs = plt.subplots(2, 1, figsize=(18, 10))\n",
    "sns.lineplot(data=retail_by_month, x=retail_by_month['month_year'].astype(str), y='revenue', \n",
    "             color='#9e88b6', ax=axs[0]).set(xlim=('2010-12', '2011-11'), xlabel='', ylabel='Доход',\n",
    "                                             title='Динамика продаж\\n', xticklabels=[])\n",
    "sns.lineplot(data=retail_by_month, x=retail_by_month['month_year'].astype(str), y='purchases_count', \n",
    "             color='#9e88b6', ax=axs[1]).set(xlim=('2010-12', '2011-11'), xlabel='', \n",
    "                                             ylabel='Количество покупок',)\n",
    "plt.show()"
   ]
  },
  {
   "cell_type": "markdown",
   "id": "77b2b34f",
   "metadata": {},
   "source": [
    "В общей динамике наблюдается рост и дохода, и количества покупок, с некими колебаниями. Заметный рост наблюдается с сентября по ноябрь, что может указывать на сезонность.\n",
    "\n",
    "### По странам"
   ]
  },
  {
   "cell_type": "code",
   "execution_count": 42,
   "id": "b6734308",
   "metadata": {},
   "outputs": [
    {
     "data": {
      "text/html": [
       "<div>\n",
       "<style scoped>\n",
       "    .dataframe tbody tr th:only-of-type {\n",
       "        vertical-align: middle;\n",
       "    }\n",
       "\n",
       "    .dataframe tbody tr th {\n",
       "        vertical-align: top;\n",
       "    }\n",
       "\n",
       "    .dataframe thead th {\n",
       "        text-align: right;\n",
       "    }\n",
       "</style>\n",
       "<table border=\"1\" class=\"dataframe\">\n",
       "  <thead>\n",
       "    <tr style=\"text-align: right;\">\n",
       "      <th></th>\n",
       "      <th>country</th>\n",
       "      <th>customers_count</th>\n",
       "      <th>revenue</th>\n",
       "    </tr>\n",
       "  </thead>\n",
       "  <tbody>\n",
       "    <tr>\n",
       "      <th>0</th>\n",
       "      <td>United Kingdom</td>\n",
       "      <td>3921</td>\n",
       "      <td>9,001,410.16</td>\n",
       "    </tr>\n",
       "    <tr>\n",
       "      <th>1</th>\n",
       "      <td>Germany</td>\n",
       "      <td>94</td>\n",
       "      <td>228,678.40</td>\n",
       "    </tr>\n",
       "    <tr>\n",
       "      <th>2</th>\n",
       "      <td>France</td>\n",
       "      <td>88</td>\n",
       "      <td>209,625.37</td>\n",
       "    </tr>\n",
       "    <tr>\n",
       "      <th>3</th>\n",
       "      <td>Spain</td>\n",
       "      <td>30</td>\n",
       "      <td>61,558.56</td>\n",
       "    </tr>\n",
       "    <tr>\n",
       "      <th>4</th>\n",
       "      <td>Belgium</td>\n",
       "      <td>25</td>\n",
       "      <td>41,196.34</td>\n",
       "    </tr>\n",
       "    <tr>\n",
       "      <th>5</th>\n",
       "      <td>Switzerland</td>\n",
       "      <td>22</td>\n",
       "      <td>57,067.60</td>\n",
       "    </tr>\n",
       "    <tr>\n",
       "      <th>6</th>\n",
       "      <td>Portugal</td>\n",
       "      <td>20</td>\n",
       "      <td>33,683.05</td>\n",
       "    </tr>\n",
       "    <tr>\n",
       "      <th>7</th>\n",
       "      <td>Italy</td>\n",
       "      <td>14</td>\n",
       "      <td>17,483.24</td>\n",
       "    </tr>\n",
       "    <tr>\n",
       "      <th>8</th>\n",
       "      <td>Austria</td>\n",
       "      <td>11</td>\n",
       "      <td>10,198.68</td>\n",
       "    </tr>\n",
       "    <tr>\n",
       "      <th>9</th>\n",
       "      <td>Norway</td>\n",
       "      <td>10</td>\n",
       "      <td>36,165.44</td>\n",
       "    </tr>\n",
       "  </tbody>\n",
       "</table>\n",
       "</div>"
      ],
      "text/plain": [
       "          country  customers_count      revenue\n",
       "0  United Kingdom             3921 9,001,410.16\n",
       "1         Germany               94   228,678.40\n",
       "2          France               88   209,625.37\n",
       "3           Spain               30    61,558.56\n",
       "4         Belgium               25    41,196.34\n",
       "5     Switzerland               22    57,067.60\n",
       "6        Portugal               20    33,683.05\n",
       "7           Italy               14    17,483.24\n",
       "8         Austria               11    10,198.68\n",
       "9          Norway               10    36,165.44"
      ]
     },
     "execution_count": 42,
     "metadata": {},
     "output_type": "execute_result"
    }
   ],
   "source": [
    "# Посмотрим на количество пользователей и доход от них по странам\n",
    "by_country = retail_data.groupby('country', as_index=False) \\\n",
    "                                 .agg(customers_count=('customer_id', 'nunique'),\n",
    "                                     revenue=('revenue', 'sum')) \\\n",
    "                                 .sort_values('customers_count', ascending=False).reset_index()\n",
    "del by_country['index']\n",
    "by_country.head(10)"
   ]
  },
  {
   "cell_type": "markdown",
   "id": "4fe1c27d",
   "metadata": {},
   "source": [
    "Наибольший вклад дает United Kingdom, объединим остальные страны и посмотрим соотношение."
   ]
  },
  {
   "cell_type": "code",
   "execution_count": 43,
   "id": "8c0b6f8b",
   "metadata": {},
   "outputs": [
    {
     "data": {
      "text/html": [
       "<div>\n",
       "<style scoped>\n",
       "    .dataframe tbody tr th:only-of-type {\n",
       "        vertical-align: middle;\n",
       "    }\n",
       "\n",
       "    .dataframe tbody tr th {\n",
       "        vertical-align: top;\n",
       "    }\n",
       "\n",
       "    .dataframe thead th {\n",
       "        text-align: right;\n",
       "    }\n",
       "</style>\n",
       "<table border=\"1\" class=\"dataframe\">\n",
       "  <thead>\n",
       "    <tr style=\"text-align: right;\">\n",
       "      <th></th>\n",
       "      <th>country</th>\n",
       "      <th>customers_count</th>\n",
       "      <th>revenue</th>\n",
       "    </tr>\n",
       "  </thead>\n",
       "  <tbody>\n",
       "    <tr>\n",
       "      <th>0</th>\n",
       "      <td>United Kingdom</td>\n",
       "      <td>3921</td>\n",
       "      <td>9,001,410.16</td>\n",
       "    </tr>\n",
       "    <tr>\n",
       "      <th>1</th>\n",
       "      <td>other countries</td>\n",
       "      <td>386</td>\n",
       "      <td>1,275,978.01</td>\n",
       "    </tr>\n",
       "  </tbody>\n",
       "</table>\n",
       "</div>"
      ],
      "text/plain": [
       "           country customers_count      revenue\n",
       "0   United Kingdom            3921 9,001,410.16\n",
       "1  other countries             386 1,275,978.01"
      ]
     },
     "execution_count": 43,
     "metadata": {},
     "output_type": "execute_result"
    }
   ],
   "source": [
    "# Объединяем все страны, кроме United Kingdom\n",
    "UK_other = pd.concat([by_country[:1], pd.DataFrame(by_country.loc[1:].sum()).transpose()], \n",
    "                                      ignore_index=True)\n",
    "UK_other.loc[1, 'country'] = 'other countries'\n",
    "UK_other"
   ]
  },
  {
   "cell_type": "code",
   "execution_count": 44,
   "id": "d8cb780a",
   "metadata": {},
   "outputs": [
    {
     "data": {
      "image/png": "[encoded data removed]",
      "text/plain": [
       "<Figure size 1080x720 with 2 Axes>"
      ]
     },
     "metadata": {},
     "output_type": "display_data"
    }
   ],
   "source": [
    "# Визуализируем отношение\n",
    "\n",
    "fig = plt.figure(figsize=(15, 10))\n",
    "ax1 = fig.add_subplot(121)\n",
    "ax1 = plt.pie(UK_other.revenue, labels=['United Kingdom', 'other countries'], autopct='%.2f%%')\n",
    "plt.title('Доход')\n",
    "ax2 = fig.add_subplot(122)\n",
    "ax2 = plt.pie(UK_other.customers_count, labels=['United Kingdom', 'other countries'], autopct='%.2f%%')\n",
    "plt.title('Количество пользователей')\n",
    "plt.show()"
   ]
  },
  {
   "cell_type": "code",
   "execution_count": 45,
   "id": "f880b439",
   "metadata": {},
   "outputs": [
    {
     "data": {
      "text/html": [
       "<div>\n",
       "<style scoped>\n",
       "    .dataframe tbody tr th:only-of-type {\n",
       "        vertical-align: middle;\n",
       "    }\n",
       "\n",
       "    .dataframe tbody tr th {\n",
       "        vertical-align: top;\n",
       "    }\n",
       "\n",
       "    .dataframe thead th {\n",
       "        text-align: right;\n",
       "    }\n",
       "</style>\n",
       "<table border=\"1\" class=\"dataframe\">\n",
       "  <thead>\n",
       "    <tr style=\"text-align: right;\">\n",
       "      <th></th>\n",
       "      <th>country</th>\n",
       "      <th>avg_revenue</th>\n",
       "      <th>avg_size</th>\n",
       "    </tr>\n",
       "  </thead>\n",
       "  <tbody>\n",
       "    <tr>\n",
       "      <th>22</th>\n",
       "      <td>Singapore</td>\n",
       "      <td>3,039.90</td>\n",
       "      <td>748.71</td>\n",
       "    </tr>\n",
       "    <tr>\n",
       "      <th>16</th>\n",
       "      <td>Netherlands</td>\n",
       "      <td>3,036.66</td>\n",
       "      <td>2,131.50</td>\n",
       "    </tr>\n",
       "    <tr>\n",
       "      <th>0</th>\n",
       "      <td>Australia</td>\n",
       "      <td>2,429.01</td>\n",
       "      <td>1,471.77</td>\n",
       "    </tr>\n",
       "    <tr>\n",
       "      <th>12</th>\n",
       "      <td>Japan</td>\n",
       "      <td>1,969.28</td>\n",
       "      <td>1,369.26</td>\n",
       "    </tr>\n",
       "    <tr>\n",
       "      <th>13</th>\n",
       "      <td>Lebanon</td>\n",
       "      <td>1,693.88</td>\n",
       "      <td>386.00</td>\n",
       "    </tr>\n",
       "    <tr>\n",
       "      <th>8</th>\n",
       "      <td>Hong Kong</td>\n",
       "      <td>1,407.55</td>\n",
       "      <td>428.45</td>\n",
       "    </tr>\n",
       "    <tr>\n",
       "      <th>4</th>\n",
       "      <td>Brazil</td>\n",
       "      <td>1,143.60</td>\n",
       "      <td>356.00</td>\n",
       "    </tr>\n",
       "    <tr>\n",
       "      <th>24</th>\n",
       "      <td>Sweden</td>\n",
       "      <td>1,065.77</td>\n",
       "      <td>1,002.17</td>\n",
       "    </tr>\n",
       "    <tr>\n",
       "      <th>25</th>\n",
       "      <td>Switzerland</td>\n",
       "      <td>1,056.81</td>\n",
       "      <td>566.98</td>\n",
       "    </tr>\n",
       "    <tr>\n",
       "      <th>10</th>\n",
       "      <td>Israel</td>\n",
       "      <td>1,014.93</td>\n",
       "      <td>549.75</td>\n",
       "    </tr>\n",
       "  </tbody>\n",
       "</table>\n",
       "</div>"
      ],
      "text/plain": [
       "        country  avg_revenue  avg_size\n",
       "22    Singapore     3,039.90    748.71\n",
       "16  Netherlands     3,036.66  2,131.50\n",
       "0     Australia     2,429.01  1,471.77\n",
       "12        Japan     1,969.28  1,369.26\n",
       "13      Lebanon     1,693.88    386.00\n",
       "8     Hong Kong     1,407.55    428.45\n",
       "4        Brazil     1,143.60    356.00\n",
       "24       Sweden     1,065.77  1,002.17\n",
       "25  Switzerland     1,056.81    566.98\n",
       "10       Israel     1,014.93    549.75"
      ]
     },
     "execution_count": 45,
     "metadata": {},
     "output_type": "execute_result"
    }
   ],
   "source": [
    "# Посмотрим на среднй чек и размер корзины по странам\n",
    "bill = retail_data.groupby(['country', 'bill'], as_index=False) \\\n",
    "                                 .agg(revenue=('revenue', 'sum'),\n",
    "                                     size=('quantity', 'sum'))\n",
    "avg_bill = bill.groupby('country', as_index=False) \\\n",
    "               .agg(avg_revenue=('revenue', 'mean'), avg_size=('size', 'mean')) \\\n",
    "               .sort_values('avg_revenue', ascending=False)\n",
    "avg_bill.head(10)"
   ]
  },
  {
   "cell_type": "code",
   "execution_count": 46,
   "id": "01e0c0d4",
   "metadata": {},
   "outputs": [
    {
     "data": {
      "image/png": "[encoded data removed]",
      "text/plain": [
       "<Figure size 1152x432 with 1 Axes>"
      ]
     },
     "metadata": {},
     "output_type": "display_data"
    }
   ],
   "source": [
    "# Визуализируем распределение\n",
    "avg_bill.plot(kind='bar', x='country')\n",
    "plt.legend(['Средняя сумма чека', 'Среднее количество товаров в чеке'], fontsize='15')\n",
    "plt.title('Распределение по странам\\n')\n",
    "plt.show()"
   ]
  },
  {
   "cell_type": "markdown",
   "id": "160a9982",
   "metadata": {},
   "source": [
    "Видим, что United Kingdom, которая является лидером по выручке, не входит в топ-15 стран по среднему чеку, United Kingdom приносит большой доход за счет большого числа пользователей, в то же время Singapore и Netherlands, которые являются лидерами по размеру среднего чека, не входят в топ-10 стран по выручке и числу пользователей, поэтому приносят не такой большой доход как United Kingdom из-за единичных покупателей. Также у Netherlands наблюдается очень большое значение среднего количества товаров в корзине, скорее всего, это оптовый покупатель."
   ]
  },
  {
   "cell_type": "markdown",
   "id": "6b019ae4",
   "metadata": {},
   "source": [
    "**Таким образом, был проведен ABC-анализ, XYZ-анализ, ABC/XYZ-анализ, была посмотрена общая динамика продаж по месяцам и странам.**"
   ]
  }
 ],
 "metadata": {
  "kernelspec": {
   "display_name": "Python 3 (ipykernel)",
   "language": "python",
   "name": "python3"
  },
  "language_info": {
   "codemirror_mode": {
    "name": "ipython",
    "version": 3
   },
   "file_extension": ".py",
   "mimetype": "text/x-python",
   "name": "python",
   "nbconvert_exporter": "python",
   "pygments_lexer": "ipython3",
   "version": "3.9.12"
  }
 },
 "nbformat": 4,
 "nbformat_minor": 5
}
