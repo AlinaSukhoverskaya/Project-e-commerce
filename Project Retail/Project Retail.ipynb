{
 "cells": [
  {
   "cell_type": "markdown",
   "id": "468f9d94",
   "metadata": {},
   "source": [
    "# 1. Подготовка к работе"
   ]
  },
  {
   "cell_type": "code",
   "execution_count": 1,
   "id": "f1c82d92",
   "metadata": {},
   "outputs": [],
   "source": [
    "# Подгружаем библиотеки\n",
    "\n",
    "import pandas as pd\n",
    "import numpy as np\n",
    "import matplotlib.pyplot as plt\n",
    "import seaborn as sns\n",
    "import datetime\n",
    "import itertools\n",
    "\n",
    "%matplotlib inline"
   ]
  },
  {
   "cell_type": "code",
   "execution_count": 2,
   "id": "7bd48f7a",
   "metadata": {},
   "outputs": [],
   "source": [
    "# Подготавливаем общие настройки для графиков\n",
    "\n",
    "sns.set(\n",
    "    rc={\n",
    "        \"figure.figsize\": (16, 6),\n",
    "        \"axes.titlesize\": 20,\n",
    "        \"axes.labelsize\": 17,\n",
    "        \"xtick.labelsize\": 15,\n",
    "        \"ytick.labelsize\": 15,\n",
    "    }\n",
    ")\n",
    "\n",
    "sns.set_style(\"whitegrid\")\n",
    "sns.set_palette(\"PuRd\", 10)"
   ]
  },
  {
   "cell_type": "code",
   "execution_count": 3,
   "id": "680cb719",
   "metadata": {},
   "outputs": [],
   "source": [
    "# Настраиваем отображение float-чисел\n",
    "pd.options.display.float_format = '{:,.2f}'.format"
   ]
  },
  {
   "cell_type": "markdown",
   "id": "d4e0d030",
   "metadata": {},
   "source": [
    "# 2. Загрузка данных\n",
    "\n",
    "Имеется следующая информация:\n",
    "\n",
    "BillNo — 6-значный номер, присваиваемый каждой транзакции  \n",
    "Itemname — название продукта  \n",
    "Quantity — количество каждого продукта за транзакцию  \n",
    "Date — день и время создания каждой транзакции  \n",
    "Price — цена продукта  \n",
    "CustomerID — пятизначный номер, присваиваемый каждому клиенту  \n",
    "Country — название страны, в которой проживает каждый клиент  "
   ]
  },
  {
   "cell_type": "code",
   "execution_count": 4,
   "id": "02e98a2d",
   "metadata": {},
   "outputs": [],
   "source": [
    "# Считываем данные\n",
    "\n",
    "path_to_file = 'retail_data.csv'\n",
    "retail_data = pd.read_csv(path_to_file, sep=';', on_bad_lines='skip', dtype={'BillNo': str})"
   ]
  },
  {
   "cell_type": "markdown",
   "id": "a3d6368e",
   "metadata": {},
   "source": [
    "### Предварительное исследование данных таблицы retail_data"
   ]
  },
  {
   "cell_type": "code",
   "execution_count": 5,
   "id": "8a6f9724",
   "metadata": {},
   "outputs": [
    {
     "data": {
      "text/html": [
       "<div>\n",
       "<style scoped>\n",
       "    .dataframe tbody tr th:only-of-type {\n",
       "        vertical-align: middle;\n",
       "    }\n",
       "\n",
       "    .dataframe tbody tr th {\n",
       "        vertical-align: top;\n",
       "    }\n",
       "\n",
       "    .dataframe thead th {\n",
       "        text-align: right;\n",
       "    }\n",
       "</style>\n",
       "<table border=\"1\" class=\"dataframe\">\n",
       "  <thead>\n",
       "    <tr style=\"text-align: right;\">\n",
       "      <th></th>\n",
       "      <th>BillNo</th>\n",
       "      <th>Itemname</th>\n",
       "      <th>Quantity</th>\n",
       "      <th>Date</th>\n",
       "      <th>Price</th>\n",
       "      <th>CustomerID</th>\n",
       "      <th>Country</th>\n",
       "    </tr>\n",
       "  </thead>\n",
       "  <tbody>\n",
       "    <tr>\n",
       "      <th>0</th>\n",
       "      <td>536365</td>\n",
       "      <td>WHITE HANGING HEART T-LIGHT HOLDER</td>\n",
       "      <td>6</td>\n",
       "      <td>01.12.2010 08:26</td>\n",
       "      <td>2,55</td>\n",
       "      <td>17,850.00</td>\n",
       "      <td>United Kingdom</td>\n",
       "    </tr>\n",
       "    <tr>\n",
       "      <th>1</th>\n",
       "      <td>536365</td>\n",
       "      <td>WHITE METAL LANTERN</td>\n",
       "      <td>6</td>\n",
       "      <td>01.12.2010 08:26</td>\n",
       "      <td>3,39</td>\n",
       "      <td>17,850.00</td>\n",
       "      <td>United Kingdom</td>\n",
       "    </tr>\n",
       "    <tr>\n",
       "      <th>2</th>\n",
       "      <td>536365</td>\n",
       "      <td>CREAM CUPID HEARTS COAT HANGER</td>\n",
       "      <td>8</td>\n",
       "      <td>01.12.2010 08:26</td>\n",
       "      <td>2,75</td>\n",
       "      <td>17,850.00</td>\n",
       "      <td>United Kingdom</td>\n",
       "    </tr>\n",
       "    <tr>\n",
       "      <th>3</th>\n",
       "      <td>536365</td>\n",
       "      <td>KNITTED UNION FLAG HOT WATER BOTTLE</td>\n",
       "      <td>6</td>\n",
       "      <td>01.12.2010 08:26</td>\n",
       "      <td>3,39</td>\n",
       "      <td>17,850.00</td>\n",
       "      <td>United Kingdom</td>\n",
       "    </tr>\n",
       "    <tr>\n",
       "      <th>4</th>\n",
       "      <td>536365</td>\n",
       "      <td>RED WOOLLY HOTTIE WHITE HEART.</td>\n",
       "      <td>6</td>\n",
       "      <td>01.12.2010 08:26</td>\n",
       "      <td>3,39</td>\n",
       "      <td>17,850.00</td>\n",
       "      <td>United Kingdom</td>\n",
       "    </tr>\n",
       "  </tbody>\n",
       "</table>\n",
       "</div>"
      ],
      "text/plain": [
       "   BillNo                             Itemname  Quantity              Date  \\\n",
       "0  536365   WHITE HANGING HEART T-LIGHT HOLDER         6  01.12.2010 08:26   \n",
       "1  536365                  WHITE METAL LANTERN         6  01.12.2010 08:26   \n",
       "2  536365       CREAM CUPID HEARTS COAT HANGER         8  01.12.2010 08:26   \n",
       "3  536365  KNITTED UNION FLAG HOT WATER BOTTLE         6  01.12.2010 08:26   \n",
       "4  536365       RED WOOLLY HOTTIE WHITE HEART.         6  01.12.2010 08:26   \n",
       "\n",
       "  Price  CustomerID         Country  \n",
       "0  2,55   17,850.00  United Kingdom  \n",
       "1  3,39   17,850.00  United Kingdom  \n",
       "2  2,75   17,850.00  United Kingdom  \n",
       "3  3,39   17,850.00  United Kingdom  \n",
       "4  3,39   17,850.00  United Kingdom  "
      ]
     },
     "execution_count": 5,
     "metadata": {},
     "output_type": "execute_result"
    }
   ],
   "source": [
    "# Проверим первые 5 строк\n",
    "retail_data.head()"
   ]
  },
  {
   "cell_type": "code",
   "execution_count": 6,
   "id": "5165241a",
   "metadata": {},
   "outputs": [
    {
     "data": {
      "text/html": [
       "<div>\n",
       "<style scoped>\n",
       "    .dataframe tbody tr th:only-of-type {\n",
       "        vertical-align: middle;\n",
       "    }\n",
       "\n",
       "    .dataframe tbody tr th {\n",
       "        vertical-align: top;\n",
       "    }\n",
       "\n",
       "    .dataframe thead th {\n",
       "        text-align: right;\n",
       "    }\n",
       "</style>\n",
       "<table border=\"1\" class=\"dataframe\">\n",
       "  <thead>\n",
       "    <tr style=\"text-align: right;\">\n",
       "      <th></th>\n",
       "      <th>bill</th>\n",
       "      <th>customer_id</th>\n",
       "      <th>date</th>\n",
       "      <th>country</th>\n",
       "      <th>item</th>\n",
       "      <th>price</th>\n",
       "      <th>quantity</th>\n",
       "    </tr>\n",
       "  </thead>\n",
       "  <tbody>\n",
       "    <tr>\n",
       "      <th>0</th>\n",
       "      <td>536365</td>\n",
       "      <td>17,850.00</td>\n",
       "      <td>01.12.2010 08:26</td>\n",
       "      <td>United Kingdom</td>\n",
       "      <td>WHITE HANGING HEART T-LIGHT HOLDER</td>\n",
       "      <td>2,55</td>\n",
       "      <td>6</td>\n",
       "    </tr>\n",
       "    <tr>\n",
       "      <th>1</th>\n",
       "      <td>536365</td>\n",
       "      <td>17,850.00</td>\n",
       "      <td>01.12.2010 08:26</td>\n",
       "      <td>United Kingdom</td>\n",
       "      <td>WHITE METAL LANTERN</td>\n",
       "      <td>3,39</td>\n",
       "      <td>6</td>\n",
       "    </tr>\n",
       "    <tr>\n",
       "      <th>2</th>\n",
       "      <td>536365</td>\n",
       "      <td>17,850.00</td>\n",
       "      <td>01.12.2010 08:26</td>\n",
       "      <td>United Kingdom</td>\n",
       "      <td>CREAM CUPID HEARTS COAT HANGER</td>\n",
       "      <td>2,75</td>\n",
       "      <td>8</td>\n",
       "    </tr>\n",
       "    <tr>\n",
       "      <th>3</th>\n",
       "      <td>536365</td>\n",
       "      <td>17,850.00</td>\n",
       "      <td>01.12.2010 08:26</td>\n",
       "      <td>United Kingdom</td>\n",
       "      <td>KNITTED UNION FLAG HOT WATER BOTTLE</td>\n",
       "      <td>3,39</td>\n",
       "      <td>6</td>\n",
       "    </tr>\n",
       "    <tr>\n",
       "      <th>4</th>\n",
       "      <td>536365</td>\n",
       "      <td>17,850.00</td>\n",
       "      <td>01.12.2010 08:26</td>\n",
       "      <td>United Kingdom</td>\n",
       "      <td>RED WOOLLY HOTTIE WHITE HEART.</td>\n",
       "      <td>3,39</td>\n",
       "      <td>6</td>\n",
       "    </tr>\n",
       "  </tbody>\n",
       "</table>\n",
       "</div>"
      ],
      "text/plain": [
       "     bill  customer_id              date         country  \\\n",
       "0  536365    17,850.00  01.12.2010 08:26  United Kingdom   \n",
       "1  536365    17,850.00  01.12.2010 08:26  United Kingdom   \n",
       "2  536365    17,850.00  01.12.2010 08:26  United Kingdom   \n",
       "3  536365    17,850.00  01.12.2010 08:26  United Kingdom   \n",
       "4  536365    17,850.00  01.12.2010 08:26  United Kingdom   \n",
       "\n",
       "                                  item price  quantity  \n",
       "0   WHITE HANGING HEART T-LIGHT HOLDER  2,55         6  \n",
       "1                  WHITE METAL LANTERN  3,39         6  \n",
       "2       CREAM CUPID HEARTS COAT HANGER  2,75         8  \n",
       "3  KNITTED UNION FLAG HOT WATER BOTTLE  3,39         6  \n",
       "4       RED WOOLLY HOTTIE WHITE HEART.  3,39         6  "
      ]
     },
     "execution_count": 6,
     "metadata": {},
     "output_type": "execute_result"
    }
   ],
   "source": [
    "# Переименуем столбцы для удобства и изменим их порядок\n",
    "retail_data.columns = retail_data.columns.str.lower()\n",
    "retail_data = retail_data.rename(columns={'billno': 'bill', 'itemname': 'item', 'customerid': 'customer_id'})\n",
    "retail_data = retail_data[['bill', 'customer_id', 'date', 'country', 'item', 'price', 'quantity']]\n",
    "retail_data.head()"
   ]
  },
  {
   "cell_type": "code",
   "execution_count": 7,
   "id": "7c1e89c8",
   "metadata": {},
   "outputs": [
    {
     "data": {
      "text/plain": [
       "(522064, 7)"
      ]
     },
     "execution_count": 7,
     "metadata": {},
     "output_type": "execute_result"
    }
   ],
   "source": [
    "# Посмотрим размер данных\n",
    "retail_data.shape"
   ]
  },
  {
   "cell_type": "code",
   "execution_count": 8,
   "id": "b87a6a21",
   "metadata": {},
   "outputs": [
    {
     "data": {
      "text/plain": [
       "bill            object\n",
       "customer_id    float64\n",
       "date            object\n",
       "country         object\n",
       "item            object\n",
       "price           object\n",
       "quantity         int64\n",
       "dtype: object"
      ]
     },
     "execution_count": 8,
     "metadata": {},
     "output_type": "execute_result"
    }
   ],
   "source": [
    "# Посмотрим тип переменных\n",
    "retail_data.dtypes"
   ]
  },
  {
   "cell_type": "code",
   "execution_count": 9,
   "id": "61d1447a",
   "metadata": {},
   "outputs": [],
   "source": [
    "# Приведем столбцы к нужным форматам\n",
    "retail_data.customer_id = retail_data.customer_id.fillna('-').astype(str).replace('\\.0', '', regex=True)\n",
    "retail_data.date = pd.to_datetime(retail_data.date, dayfirst=True)\n",
    "retail_data.price = retail_data.price.str.replace(',', '.').astype(float)"
   ]
  },
  {
   "cell_type": "code",
   "execution_count": 10,
   "id": "7e594fb0",
   "metadata": {},
   "outputs": [
    {
     "data": {
      "text/plain": [
       "bill                   object\n",
       "customer_id            object\n",
       "date           datetime64[ns]\n",
       "country                object\n",
       "item                   object\n",
       "price                 float64\n",
       "quantity                int64\n",
       "dtype: object"
      ]
     },
     "execution_count": 10,
     "metadata": {},
     "output_type": "execute_result"
    }
   ],
   "source": [
    "# Проверим тип переменных\n",
    "retail_data.dtypes"
   ]
  },
  {
   "cell_type": "code",
   "execution_count": 11,
   "id": "d828394d",
   "metadata": {},
   "outputs": [
    {
     "data": {
      "text/html": [
       "<div>\n",
       "<style scoped>\n",
       "    .dataframe tbody tr th:only-of-type {\n",
       "        vertical-align: middle;\n",
       "    }\n",
       "\n",
       "    .dataframe tbody tr th {\n",
       "        vertical-align: top;\n",
       "    }\n",
       "\n",
       "    .dataframe thead th {\n",
       "        text-align: right;\n",
       "    }\n",
       "</style>\n",
       "<table border=\"1\" class=\"dataframe\">\n",
       "  <thead>\n",
       "    <tr style=\"text-align: right;\">\n",
       "      <th></th>\n",
       "      <th>price</th>\n",
       "      <th>quantity</th>\n",
       "    </tr>\n",
       "  </thead>\n",
       "  <tbody>\n",
       "    <tr>\n",
       "      <th>count</th>\n",
       "      <td>522,064.00</td>\n",
       "      <td>522,064.00</td>\n",
       "    </tr>\n",
       "    <tr>\n",
       "      <th>mean</th>\n",
       "      <td>3.83</td>\n",
       "      <td>10.09</td>\n",
       "    </tr>\n",
       "    <tr>\n",
       "      <th>std</th>\n",
       "      <td>41.90</td>\n",
       "      <td>161.11</td>\n",
       "    </tr>\n",
       "    <tr>\n",
       "      <th>min</th>\n",
       "      <td>-11,062.06</td>\n",
       "      <td>-9,600.00</td>\n",
       "    </tr>\n",
       "    <tr>\n",
       "      <th>25%</th>\n",
       "      <td>1.25</td>\n",
       "      <td>1.00</td>\n",
       "    </tr>\n",
       "    <tr>\n",
       "      <th>50%</th>\n",
       "      <td>2.08</td>\n",
       "      <td>3.00</td>\n",
       "    </tr>\n",
       "    <tr>\n",
       "      <th>75%</th>\n",
       "      <td>4.13</td>\n",
       "      <td>10.00</td>\n",
       "    </tr>\n",
       "    <tr>\n",
       "      <th>max</th>\n",
       "      <td>13,541.33</td>\n",
       "      <td>80,995.00</td>\n",
       "    </tr>\n",
       "  </tbody>\n",
       "</table>\n",
       "</div>"
      ],
      "text/plain": [
       "           price   quantity\n",
       "count 522,064.00 522,064.00\n",
       "mean        3.83      10.09\n",
       "std        41.90     161.11\n",
       "min   -11,062.06  -9,600.00\n",
       "25%         1.25       1.00\n",
       "50%         2.08       3.00\n",
       "75%         4.13      10.00\n",
       "max    13,541.33  80,995.00"
      ]
     },
     "execution_count": 11,
     "metadata": {},
     "output_type": "execute_result"
    }
   ],
   "source": [
    "# Посмотрим общую статистику\n",
    "retail_data.describe()"
   ]
  },
  {
   "cell_type": "markdown",
   "id": "30735c56",
   "metadata": {},
   "source": [
    "Видим, что у нас есть отрицательная цена и отрицательное количество, такого быть не должно, удалим эти записи."
   ]
  },
  {
   "cell_type": "code",
   "execution_count": 12,
   "id": "54466282",
   "metadata": {},
   "outputs": [],
   "source": [
    "retail_data = retail_data.query(\"quantity > 0 and price > 0\")"
   ]
  },
  {
   "cell_type": "code",
   "execution_count": 13,
   "id": "b2e2dbdc",
   "metadata": {},
   "outputs": [
    {
     "data": {
      "text/html": [
       "<div>\n",
       "<style scoped>\n",
       "    .dataframe tbody tr th:only-of-type {\n",
       "        vertical-align: middle;\n",
       "    }\n",
       "\n",
       "    .dataframe tbody tr th {\n",
       "        vertical-align: top;\n",
       "    }\n",
       "\n",
       "    .dataframe thead th {\n",
       "        text-align: right;\n",
       "    }\n",
       "</style>\n",
       "<table border=\"1\" class=\"dataframe\">\n",
       "  <thead>\n",
       "    <tr style=\"text-align: right;\">\n",
       "      <th></th>\n",
       "      <th>price</th>\n",
       "      <th>quantity</th>\n",
       "    </tr>\n",
       "  </thead>\n",
       "  <tbody>\n",
       "    <tr>\n",
       "      <th>count</th>\n",
       "      <td>519,551.00</td>\n",
       "      <td>519,551.00</td>\n",
       "    </tr>\n",
       "    <tr>\n",
       "      <th>mean</th>\n",
       "      <td>3.89</td>\n",
       "      <td>10.40</td>\n",
       "    </tr>\n",
       "    <tr>\n",
       "      <th>std</th>\n",
       "      <td>35.95</td>\n",
       "      <td>157.00</td>\n",
       "    </tr>\n",
       "    <tr>\n",
       "      <th>min</th>\n",
       "      <td>0.00</td>\n",
       "      <td>1.00</td>\n",
       "    </tr>\n",
       "    <tr>\n",
       "      <th>25%</th>\n",
       "      <td>1.25</td>\n",
       "      <td>1.00</td>\n",
       "    </tr>\n",
       "    <tr>\n",
       "      <th>50%</th>\n",
       "      <td>2.08</td>\n",
       "      <td>3.00</td>\n",
       "    </tr>\n",
       "    <tr>\n",
       "      <th>75%</th>\n",
       "      <td>4.13</td>\n",
       "      <td>10.00</td>\n",
       "    </tr>\n",
       "    <tr>\n",
       "      <th>max</th>\n",
       "      <td>13,541.33</td>\n",
       "      <td>80,995.00</td>\n",
       "    </tr>\n",
       "  </tbody>\n",
       "</table>\n",
       "</div>"
      ],
      "text/plain": [
       "           price   quantity\n",
       "count 519,551.00 519,551.00\n",
       "mean        3.89      10.40\n",
       "std        35.95     157.00\n",
       "min         0.00       1.00\n",
       "25%         1.25       1.00\n",
       "50%         2.08       3.00\n",
       "75%         4.13      10.00\n",
       "max    13,541.33  80,995.00"
      ]
     },
     "execution_count": 13,
     "metadata": {},
     "output_type": "execute_result"
    }
   ],
   "source": [
    "# Еще раз посмотрим общую статистику\n",
    "retail_data.describe()"
   ]
  },
  {
   "cell_type": "code",
   "execution_count": 14,
   "id": "4ff40364",
   "metadata": {},
   "outputs": [
    {
     "data": {
      "text/plain": [
       "bill           0\n",
       "customer_id    0\n",
       "date           0\n",
       "country        0\n",
       "item           0\n",
       "price          0\n",
       "quantity       0\n",
       "dtype: int64"
      ]
     },
     "execution_count": 14,
     "metadata": {},
     "output_type": "execute_result"
    }
   ],
   "source": [
    "# Проверим наличие пропущенных значений\n",
    "retail_data.isna().sum()"
   ]
  },
  {
   "cell_type": "code",
   "execution_count": 15,
   "id": "5a9a8383",
   "metadata": {},
   "outputs": [
    {
     "data": {
      "text/plain": [
       "5281"
      ]
     },
     "execution_count": 15,
     "metadata": {},
     "output_type": "execute_result"
    }
   ],
   "source": [
    "# Проверим наличие дубликатов\n",
    "retail_data.duplicated().sum()"
   ]
  },
  {
   "cell_type": "code",
   "execution_count": 16,
   "id": "f2d1367f",
   "metadata": {},
   "outputs": [],
   "source": [
    "# Удалим дубликаты\n",
    "retail_data = retail_data.drop_duplicates()"
   ]
  },
  {
   "cell_type": "code",
   "execution_count": 17,
   "id": "065cf3b1",
   "metadata": {},
   "outputs": [
    {
     "data": {
      "text/plain": [
       "bill           19559\n",
       "customer_id     4297\n",
       "date           18148\n",
       "country           30\n",
       "item            4006\n",
       "price           1283\n",
       "quantity         374\n",
       "dtype: int64"
      ]
     },
     "execution_count": 17,
     "metadata": {},
     "output_type": "execute_result"
    }
   ],
   "source": [
    "# Посмотрим количество уникальных значений\n",
    "retail_data.nunique()"
   ]
  },
  {
   "cell_type": "markdown",
   "id": "8ef58c05",
   "metadata": {},
   "source": [
    "Теперь с данными все в порядке, можно приступать к анализу."
   ]
  },
  {
   "cell_type": "markdown",
   "id": "ccd6b568",
   "metadata": {},
   "source": [
    "# 3. Анализ данных"
   ]
  },
  {
   "cell_type": "code",
   "execution_count": 18,
   "id": "429bd10f",
   "metadata": {},
   "outputs": [
    {
     "data": {
      "text/html": [
       "<div>\n",
       "<style scoped>\n",
       "    .dataframe tbody tr th:only-of-type {\n",
       "        vertical-align: middle;\n",
       "    }\n",
       "\n",
       "    .dataframe tbody tr th {\n",
       "        vertical-align: top;\n",
       "    }\n",
       "\n",
       "    .dataframe thead th {\n",
       "        text-align: right;\n",
       "    }\n",
       "</style>\n",
       "<table border=\"1\" class=\"dataframe\">\n",
       "  <thead>\n",
       "    <tr style=\"text-align: right;\">\n",
       "      <th></th>\n",
       "      <th>bill</th>\n",
       "      <th>customer_id</th>\n",
       "      <th>date</th>\n",
       "      <th>country</th>\n",
       "      <th>item</th>\n",
       "      <th>price</th>\n",
       "      <th>quantity</th>\n",
       "    </tr>\n",
       "  </thead>\n",
       "  <tbody>\n",
       "    <tr>\n",
       "      <th>0</th>\n",
       "      <td>536365</td>\n",
       "      <td>17850</td>\n",
       "      <td>2010-12-01 08:26:00</td>\n",
       "      <td>United Kingdom</td>\n",
       "      <td>WHITE HANGING HEART T-LIGHT HOLDER</td>\n",
       "      <td>2.55</td>\n",
       "      <td>6</td>\n",
       "    </tr>\n",
       "    <tr>\n",
       "      <th>1</th>\n",
       "      <td>536365</td>\n",
       "      <td>17850</td>\n",
       "      <td>2010-12-01 08:26:00</td>\n",
       "      <td>United Kingdom</td>\n",
       "      <td>WHITE METAL LANTERN</td>\n",
       "      <td>3.39</td>\n",
       "      <td>6</td>\n",
       "    </tr>\n",
       "    <tr>\n",
       "      <th>2</th>\n",
       "      <td>536365</td>\n",
       "      <td>17850</td>\n",
       "      <td>2010-12-01 08:26:00</td>\n",
       "      <td>United Kingdom</td>\n",
       "      <td>CREAM CUPID HEARTS COAT HANGER</td>\n",
       "      <td>2.75</td>\n",
       "      <td>8</td>\n",
       "    </tr>\n",
       "    <tr>\n",
       "      <th>3</th>\n",
       "      <td>536365</td>\n",
       "      <td>17850</td>\n",
       "      <td>2010-12-01 08:26:00</td>\n",
       "      <td>United Kingdom</td>\n",
       "      <td>KNITTED UNION FLAG HOT WATER BOTTLE</td>\n",
       "      <td>3.39</td>\n",
       "      <td>6</td>\n",
       "    </tr>\n",
       "    <tr>\n",
       "      <th>4</th>\n",
       "      <td>536365</td>\n",
       "      <td>17850</td>\n",
       "      <td>2010-12-01 08:26:00</td>\n",
       "      <td>United Kingdom</td>\n",
       "      <td>RED WOOLLY HOTTIE WHITE HEART.</td>\n",
       "      <td>3.39</td>\n",
       "      <td>6</td>\n",
       "    </tr>\n",
       "  </tbody>\n",
       "</table>\n",
       "</div>"
      ],
      "text/plain": [
       "     bill customer_id                date         country  \\\n",
       "0  536365       17850 2010-12-01 08:26:00  United Kingdom   \n",
       "1  536365       17850 2010-12-01 08:26:00  United Kingdom   \n",
       "2  536365       17850 2010-12-01 08:26:00  United Kingdom   \n",
       "3  536365       17850 2010-12-01 08:26:00  United Kingdom   \n",
       "4  536365       17850 2010-12-01 08:26:00  United Kingdom   \n",
       "\n",
       "                                  item  price  quantity  \n",
       "0   WHITE HANGING HEART T-LIGHT HOLDER   2.55         6  \n",
       "1                  WHITE METAL LANTERN   3.39         6  \n",
       "2       CREAM CUPID HEARTS COAT HANGER   2.75         8  \n",
       "3  KNITTED UNION FLAG HOT WATER BOTTLE   3.39         6  \n",
       "4       RED WOOLLY HOTTIE WHITE HEART.   3.39         6  "
      ]
     },
     "execution_count": 18,
     "metadata": {},
     "output_type": "execute_result"
    }
   ],
   "source": [
    "# Наши данные\n",
    "retail_data.head()"
   ]
  },
  {
   "cell_type": "code",
   "execution_count": 19,
   "id": "a1fc4ac2",
   "metadata": {},
   "outputs": [],
   "source": [
    "# Удалим записи, которые не относятся к товарам\n",
    "retail_data = retail_data.loc[(retail_data['item'] != 'POSTAGE')&(retail_data['item'] != 'DOTCOM POSTAGE')&\n",
    "                              (retail_data['item'] != 'Adjust bad debt')&(retail_data['item'] != 'Manual')]"
   ]
  },
  {
   "cell_type": "code",
   "execution_count": 20,
   "id": "9bae8cd7",
   "metadata": {},
   "outputs": [
    {
     "data": {
      "text/plain": [
       "(512184, 7)"
      ]
     },
     "execution_count": 20,
     "metadata": {},
     "output_type": "execute_result"
    }
   ],
   "source": [
    "# Посмотрим на размер таблицы\n",
    "retail_data.shape"
   ]
  },
  {
   "cell_type": "code",
   "execution_count": 21,
   "id": "cc9f91b7",
   "metadata": {},
   "outputs": [
    {
     "data": {
      "text/html": [
       "<div>\n",
       "<style scoped>\n",
       "    .dataframe tbody tr th:only-of-type {\n",
       "        vertical-align: middle;\n",
       "    }\n",
       "\n",
       "    .dataframe tbody tr th {\n",
       "        vertical-align: top;\n",
       "    }\n",
       "\n",
       "    .dataframe thead th {\n",
       "        text-align: right;\n",
       "    }\n",
       "</style>\n",
       "<table border=\"1\" class=\"dataframe\">\n",
       "  <thead>\n",
       "    <tr style=\"text-align: right;\">\n",
       "      <th></th>\n",
       "      <th>bill</th>\n",
       "      <th>customer_id</th>\n",
       "      <th>date</th>\n",
       "      <th>country</th>\n",
       "      <th>item</th>\n",
       "      <th>price</th>\n",
       "      <th>quantity</th>\n",
       "      <th>revenue</th>\n",
       "      <th>month_year</th>\n",
       "    </tr>\n",
       "  </thead>\n",
       "  <tbody>\n",
       "    <tr>\n",
       "      <th>0</th>\n",
       "      <td>536365</td>\n",
       "      <td>17850</td>\n",
       "      <td>2010-12-01 08:26:00</td>\n",
       "      <td>United Kingdom</td>\n",
       "      <td>WHITE HANGING HEART T-LIGHT HOLDER</td>\n",
       "      <td>2.55</td>\n",
       "      <td>6</td>\n",
       "      <td>15.30</td>\n",
       "      <td>2010-12</td>\n",
       "    </tr>\n",
       "    <tr>\n",
       "      <th>1</th>\n",
       "      <td>536365</td>\n",
       "      <td>17850</td>\n",
       "      <td>2010-12-01 08:26:00</td>\n",
       "      <td>United Kingdom</td>\n",
       "      <td>WHITE METAL LANTERN</td>\n",
       "      <td>3.39</td>\n",
       "      <td>6</td>\n",
       "      <td>20.34</td>\n",
       "      <td>2010-12</td>\n",
       "    </tr>\n",
       "    <tr>\n",
       "      <th>2</th>\n",
       "      <td>536365</td>\n",
       "      <td>17850</td>\n",
       "      <td>2010-12-01 08:26:00</td>\n",
       "      <td>United Kingdom</td>\n",
       "      <td>CREAM CUPID HEARTS COAT HANGER</td>\n",
       "      <td>2.75</td>\n",
       "      <td>8</td>\n",
       "      <td>22.00</td>\n",
       "      <td>2010-12</td>\n",
       "    </tr>\n",
       "    <tr>\n",
       "      <th>3</th>\n",
       "      <td>536365</td>\n",
       "      <td>17850</td>\n",
       "      <td>2010-12-01 08:26:00</td>\n",
       "      <td>United Kingdom</td>\n",
       "      <td>KNITTED UNION FLAG HOT WATER BOTTLE</td>\n",
       "      <td>3.39</td>\n",
       "      <td>6</td>\n",
       "      <td>20.34</td>\n",
       "      <td>2010-12</td>\n",
       "    </tr>\n",
       "    <tr>\n",
       "      <th>4</th>\n",
       "      <td>536365</td>\n",
       "      <td>17850</td>\n",
       "      <td>2010-12-01 08:26:00</td>\n",
       "      <td>United Kingdom</td>\n",
       "      <td>RED WOOLLY HOTTIE WHITE HEART.</td>\n",
       "      <td>3.39</td>\n",
       "      <td>6</td>\n",
       "      <td>20.34</td>\n",
       "      <td>2010-12</td>\n",
       "    </tr>\n",
       "  </tbody>\n",
       "</table>\n",
       "</div>"
      ],
      "text/plain": [
       "     bill customer_id                date         country  \\\n",
       "0  536365       17850 2010-12-01 08:26:00  United Kingdom   \n",
       "1  536365       17850 2010-12-01 08:26:00  United Kingdom   \n",
       "2  536365       17850 2010-12-01 08:26:00  United Kingdom   \n",
       "3  536365       17850 2010-12-01 08:26:00  United Kingdom   \n",
       "4  536365       17850 2010-12-01 08:26:00  United Kingdom   \n",
       "\n",
       "                                  item  price  quantity  revenue month_year  \n",
       "0   WHITE HANGING HEART T-LIGHT HOLDER   2.55         6    15.30    2010-12  \n",
       "1                  WHITE METAL LANTERN   3.39         6    20.34    2010-12  \n",
       "2       CREAM CUPID HEARTS COAT HANGER   2.75         8    22.00    2010-12  \n",
       "3  KNITTED UNION FLAG HOT WATER BOTTLE   3.39         6    20.34    2010-12  \n",
       "4       RED WOOLLY HOTTIE WHITE HEART.   3.39         6    20.34    2010-12  "
      ]
     },
     "execution_count": 21,
     "metadata": {},
     "output_type": "execute_result"
    }
   ],
   "source": [
    "# Добавим столбец с доходом и месяцем-годом покупки\n",
    "retail_data['revenue'] = retail_data.price * retail_data.quantity\n",
    "retail_data['month_year'] = retail_data.date.dt.to_period('M')\n",
    "retail_data.head()"
   ]
  },
  {
   "cell_type": "code",
   "execution_count": 22,
   "id": "53e6a88f",
   "metadata": {},
   "outputs": [
    {
     "name": "stdout",
     "output_type": "stream",
     "text": [
      "Данные за период: 2010-12-01 08:26:00 - 2011-12-09 12:50:00\n"
     ]
    }
   ],
   "source": [
    "# Определим период наблюдений\n",
    "print(f'Данные за период: {min(retail_data.date)} - {max(retail_data.date)}')"
   ]
  },
  {
   "cell_type": "markdown",
   "id": "628ecf9d",
   "metadata": {},
   "source": [
    "Видим, что данные у нас собраны за год, этого достаточно для проведения ABC/XYZ-анализа."
   ]
  },
  {
   "cell_type": "markdown",
   "id": "55ae3132",
   "metadata": {},
   "source": [
    "## 1. ABC-анализ пользователей и товаров\n",
    "\n",
    "<b><span style='color:#9e88b6'>Принцип Парето: 20% усилий приносят 80% результата </span></b>  \n",
    "\n",
    "Классификацируем объекты по влиянию на прибыль компании, разделим на три группы:\n",
    "\n",
    "**Группа A.** Самые ценные — в теории 20%, приносящих 80% прибыли.  \n",
    "**Группа B.** Промежуточные — в теории 30%, приносящие 15% прибыли.  \n",
    "**Группа C.** Наименее ценные — в теории 50%, которые приносят 5% прибыли.\n",
    "\n",
    "Порядок деления на группы (функция perform_abc):\n",
    "\n",
    "1. Группируем по исследуемому объекту (пользователи, товары).\n",
    "2. Считаем доход, который приносит объект.\n",
    "3. Считаем долю каждого товара в общем объёме выручки.\n",
    "4. Сортируем в порядке убывания вклада в выручку.\n",
    "5. Считаем нарастающий итог.\n",
    "6. Определяем группы в зависимости от выручки по совокупному проценту. С показателем меньше 80% относятся к группе A, 80–95% — к группе B, 95–100% — к группе C."
   ]
  },
  {
   "cell_type": "code",
   "execution_count": 23,
   "id": "a0fbe2c6",
   "metadata": {},
   "outputs": [],
   "source": [
    "# Функция для распределения по группам ABC\n",
    "\n",
    "def perform_abc(df, attribute):\n",
    "    \n",
    "    grouped_data = df.groupby(attribute).agg({'revenue': 'sum'})\n",
    "    grouped_data['part_revenue'] = grouped_data['revenue'] / sum(grouped_data['revenue'])\n",
    "    grouped_data = grouped_data.sort_values('part_revenue', ascending=False)\n",
    "    grouped_data['cumsum_revenue'] = grouped_data['part_revenue'].cumsum()\n",
    "    grouped_data['abc_group'] = np.where(grouped_data['cumsum_revenue'] < 0.8, 'A', \n",
    "                                               np.where(grouped_data['cumsum_revenue'] < 0.95, 'B', 'C'))\n",
    "    \n",
    "    return grouped_data[['revenue', 'abc_group']].reset_index()"
   ]
  },
  {
   "cell_type": "markdown",
   "id": "898b6732",
   "metadata": {},
   "source": [
    "### ABC-анализ пользователей"
   ]
  },
  {
   "cell_type": "code",
   "execution_count": 24,
   "id": "43ecfeab",
   "metadata": {},
   "outputs": [
    {
     "data": {
      "text/html": [
       "<div>\n",
       "<style scoped>\n",
       "    .dataframe tbody tr th:only-of-type {\n",
       "        vertical-align: middle;\n",
       "    }\n",
       "\n",
       "    .dataframe tbody tr th {\n",
       "        vertical-align: top;\n",
       "    }\n",
       "\n",
       "    .dataframe thead th {\n",
       "        text-align: right;\n",
       "    }\n",
       "</style>\n",
       "<table border=\"1\" class=\"dataframe\">\n",
       "  <thead>\n",
       "    <tr style=\"text-align: right;\">\n",
       "      <th></th>\n",
       "      <th>customer_id</th>\n",
       "      <th>revenue</th>\n",
       "      <th>abc_group</th>\n",
       "    </tr>\n",
       "  </thead>\n",
       "  <tbody>\n",
       "    <tr>\n",
       "      <th>0</th>\n",
       "      <td>14646</td>\n",
       "      <td>279,138.02</td>\n",
       "      <td>A</td>\n",
       "    </tr>\n",
       "    <tr>\n",
       "      <th>1</th>\n",
       "      <td>18102</td>\n",
       "      <td>259,657.30</td>\n",
       "      <td>A</td>\n",
       "    </tr>\n",
       "    <tr>\n",
       "      <th>2</th>\n",
       "      <td>17450</td>\n",
       "      <td>194,390.79</td>\n",
       "      <td>A</td>\n",
       "    </tr>\n",
       "    <tr>\n",
       "      <th>3</th>\n",
       "      <td>16446</td>\n",
       "      <td>168,472.50</td>\n",
       "      <td>A</td>\n",
       "    </tr>\n",
       "    <tr>\n",
       "      <th>4</th>\n",
       "      <td>12415</td>\n",
       "      <td>124,564.53</td>\n",
       "      <td>A</td>\n",
       "    </tr>\n",
       "  </tbody>\n",
       "</table>\n",
       "</div>"
      ],
      "text/plain": [
       "  customer_id    revenue abc_group\n",
       "0       14646 279,138.02         A\n",
       "1       18102 259,657.30         A\n",
       "2       17450 194,390.79         A\n",
       "3       16446 168,472.50         A\n",
       "4       12415 124,564.53         A"
      ]
     },
     "execution_count": 24,
     "metadata": {},
     "output_type": "execute_result"
    }
   ],
   "source": [
    "# Распределяем пользователей по группам, убрав неопределенных пользователей\n",
    "customer_data = retail_data.query(\"customer_id != '-'\")\n",
    "customer_abc = perform_abc(customer_data, attribute='customer_id')\n",
    "customer_abc.head()"
   ]
  },
  {
   "cell_type": "code",
   "execution_count": 25,
   "id": "a76d04e6",
   "metadata": {},
   "outputs": [
    {
     "data": {
      "text/html": [
       "<div>\n",
       "<style scoped>\n",
       "    .dataframe tbody tr th:only-of-type {\n",
       "        vertical-align: middle;\n",
       "    }\n",
       "\n",
       "    .dataframe tbody tr th {\n",
       "        vertical-align: top;\n",
       "    }\n",
       "\n",
       "    .dataframe thead th {\n",
       "        text-align: right;\n",
       "    }\n",
       "</style>\n",
       "<table border=\"1\" class=\"dataframe\">\n",
       "  <thead>\n",
       "    <tr style=\"text-align: right;\">\n",
       "      <th></th>\n",
       "      <th>abc_group</th>\n",
       "      <th>customer_count</th>\n",
       "      <th>count_percent</th>\n",
       "    </tr>\n",
       "  </thead>\n",
       "  <tbody>\n",
       "    <tr>\n",
       "      <th>0</th>\n",
       "      <td>A</td>\n",
       "      <td>1146</td>\n",
       "      <td>0.27</td>\n",
       "    </tr>\n",
       "    <tr>\n",
       "      <th>1</th>\n",
       "      <td>B</td>\n",
       "      <td>1453</td>\n",
       "      <td>0.34</td>\n",
       "    </tr>\n",
       "    <tr>\n",
       "      <th>2</th>\n",
       "      <td>C</td>\n",
       "      <td>1694</td>\n",
       "      <td>0.39</td>\n",
       "    </tr>\n",
       "  </tbody>\n",
       "</table>\n",
       "</div>"
      ],
      "text/plain": [
       "  abc_group  customer_count  count_percent\n",
       "0         A            1146           0.27\n",
       "1         B            1453           0.34\n",
       "2         C            1694           0.39"
      ]
     },
     "execution_count": 25,
     "metadata": {},
     "output_type": "execute_result"
    }
   ],
   "source": [
    "# Найдем количество пользователей и их долю от общего числа в каждой группе\n",
    "customer_group = customer_abc.groupby('abc_group', as_index=False).agg(customer_count=('customer_id', 'count'))\n",
    "customer_group['count_percent'] = customer_group.customer_count / customer_group.customer_count.sum()\n",
    "customer_group"
   ]
  },
  {
   "cell_type": "markdown",
   "id": "f6525f63",
   "metadata": {},
   "source": [
    "### ABC-анализ товаров"
   ]
  },
  {
   "cell_type": "code",
   "execution_count": 26,
   "id": "462fd44a",
   "metadata": {},
   "outputs": [
    {
     "data": {
      "text/html": [
       "<div>\n",
       "<style scoped>\n",
       "    .dataframe tbody tr th:only-of-type {\n",
       "        vertical-align: middle;\n",
       "    }\n",
       "\n",
       "    .dataframe tbody tr th {\n",
       "        vertical-align: top;\n",
       "    }\n",
       "\n",
       "    .dataframe thead th {\n",
       "        text-align: right;\n",
       "    }\n",
       "</style>\n",
       "<table border=\"1\" class=\"dataframe\">\n",
       "  <thead>\n",
       "    <tr style=\"text-align: right;\">\n",
       "      <th></th>\n",
       "      <th>item</th>\n",
       "      <th>revenue</th>\n",
       "      <th>abc_group</th>\n",
       "    </tr>\n",
       "  </thead>\n",
       "  <tbody>\n",
       "    <tr>\n",
       "      <th>0</th>\n",
       "      <td>PAPER CRAFT , LITTLE BIRDIE</td>\n",
       "      <td>168,469.60</td>\n",
       "      <td>A</td>\n",
       "    </tr>\n",
       "    <tr>\n",
       "      <th>1</th>\n",
       "      <td>REGENCY CAKESTAND 3 TIER</td>\n",
       "      <td>165,411.99</td>\n",
       "      <td>A</td>\n",
       "    </tr>\n",
       "    <tr>\n",
       "      <th>2</th>\n",
       "      <td>WHITE HANGING HEART T-LIGHT HOLDER</td>\n",
       "      <td>102,532.32</td>\n",
       "      <td>A</td>\n",
       "    </tr>\n",
       "    <tr>\n",
       "      <th>3</th>\n",
       "      <td>PARTY BUNTING</td>\n",
       "      <td>97,308.38</td>\n",
       "      <td>A</td>\n",
       "    </tr>\n",
       "    <tr>\n",
       "      <th>4</th>\n",
       "      <td>JUMBO BAG RED RETROSPOT</td>\n",
       "      <td>93,235.79</td>\n",
       "      <td>A</td>\n",
       "    </tr>\n",
       "  </tbody>\n",
       "</table>\n",
       "</div>"
      ],
      "text/plain": [
       "                                 item    revenue abc_group\n",
       "0         PAPER CRAFT , LITTLE BIRDIE 168,469.60         A\n",
       "1            REGENCY CAKESTAND 3 TIER 165,411.99         A\n",
       "2  WHITE HANGING HEART T-LIGHT HOLDER 102,532.32         A\n",
       "3                       PARTY BUNTING  97,308.38         A\n",
       "4             JUMBO BAG RED RETROSPOT  93,235.79         A"
      ]
     },
     "execution_count": 26,
     "metadata": {},
     "output_type": "execute_result"
    }
   ],
   "source": [
    "# Распределяем товары по группам\n",
    "item_abc = perform_abc(retail_data, attribute='item')\n",
    "item_abc.head()"
   ]
  },
  {
   "cell_type": "code",
   "execution_count": 27,
   "id": "1745023e",
   "metadata": {},
   "outputs": [
    {
     "data": {
      "text/html": [
       "<div>\n",
       "<style scoped>\n",
       "    .dataframe tbody tr th:only-of-type {\n",
       "        vertical-align: middle;\n",
       "    }\n",
       "\n",
       "    .dataframe tbody tr th {\n",
       "        vertical-align: top;\n",
       "    }\n",
       "\n",
       "    .dataframe thead th {\n",
       "        text-align: right;\n",
       "    }\n",
       "</style>\n",
       "<table border=\"1\" class=\"dataframe\">\n",
       "  <thead>\n",
       "    <tr style=\"text-align: right;\">\n",
       "      <th></th>\n",
       "      <th>abc_group</th>\n",
       "      <th>item_count</th>\n",
       "      <th>count_percent</th>\n",
       "    </tr>\n",
       "  </thead>\n",
       "  <tbody>\n",
       "    <tr>\n",
       "      <th>0</th>\n",
       "      <td>A</td>\n",
       "      <td>844</td>\n",
       "      <td>0.21</td>\n",
       "    </tr>\n",
       "    <tr>\n",
       "      <th>1</th>\n",
       "      <td>B</td>\n",
       "      <td>998</td>\n",
       "      <td>0.25</td>\n",
       "    </tr>\n",
       "    <tr>\n",
       "      <th>2</th>\n",
       "      <td>C</td>\n",
       "      <td>2160</td>\n",
       "      <td>0.54</td>\n",
       "    </tr>\n",
       "  </tbody>\n",
       "</table>\n",
       "</div>"
      ],
      "text/plain": [
       "  abc_group  item_count  count_percent\n",
       "0         A         844           0.21\n",
       "1         B         998           0.25\n",
       "2         C        2160           0.54"
      ]
     },
     "execution_count": 27,
     "metadata": {},
     "output_type": "execute_result"
    }
   ],
   "source": [
    "# Найдем количество товаров и их долю от общего числа в каждой группе\n",
    "item_group = item_abc.groupby('abc_group', as_index=False).agg(item_count=('item', 'count'))\n",
    "item_group['count_percent'] = item_group.item_count / item_group.item_count.sum()\n",
    "item_group"
   ]
  },
  {
   "cell_type": "markdown",
   "id": "fc2483ab",
   "metadata": {},
   "source": [
    "### Результат ABC-анализа"
   ]
  },
  {
   "cell_type": "code",
   "execution_count": 28,
   "id": "a8bab175",
   "metadata": {},
   "outputs": [
    {
     "data": {
      "image/png": "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\n",
      "text/plain": [
       "<Figure size 1440x720 with 2 Axes>"
      ]
     },
     "metadata": {},
     "output_type": "display_data"
    }
   ],
   "source": [
    "# Построим полученные распределения\n",
    "\n",
    "fig, axs = plt.subplots(2, 1, figsize=(20, 10))\n",
    "plt.subplots_adjust(hspace=0.5)\n",
    "sns.barplot(data=customer_group, x='abc_group', y='count_percent', ax=axs[0]) \\\n",
    "    .set(ylabel='Доля', xlabel='Группа', title='Распределение пользователей по группам\\n')\n",
    "sns.barplot(data=item_group, x='abc_group', y='count_percent', ax=axs[1]) \\\n",
    "    .set(ylabel='Доля', xlabel='Группа', title='Распределение товаров по группам\\n')\n",
    "plt.show()"
   ]
  },
  {
   "cell_type": "markdown",
   "id": "e03f1881",
   "metadata": {},
   "source": [
    "**Вывод:** из полученных таблиц и графиков видим:  \n",
    "- 27% пользователей принесли 80% выручки  \n",
    "- 21% товаров принесли 80% выручки.    \n",
    "\n",
    "Данные результаты хорошо согласуются с принципом Парето.    \n",
    "\n",
    "Результаты данного анализа можно использовать для подбора дальнейшей стратегии. Например, в случае товаров:  \n",
    "Товары из **группы А** можно дополнительно продвигать — упомянуть в рассылке, пуш-уведомлениях, провести акции с ними.  \n",
    "Товары из **группы B** стоит закупить в таком количестве, чтобы покрыть спрос.  \n",
    "Товары из **группы C** стоит либо прекратить продавать, либо уменьшить их запасы."
   ]
  },
  {
   "cell_type": "markdown",
   "id": "040db8bb",
   "metadata": {},
   "source": [
    "## 2. XYZ-анализ пользователей и товаров\n",
    "\n",
    "XYZ-анализ применяется для определения характера спроса. С его помощью можно понять, насколько стабильными являются продажи (как часто пользователь совершает покупку или как часто покупают тот или иной товар).  \n",
    "\n",
    "**Группа X**. Объекты с коэффициентом вариативности 0–10% — спрос не меняется более, чем на 10% в месяц, стабильные покупки, высокая степень прогнозирования.   \n",
    "**Группа Y**. Объекты с коэффициентом вариативности 10–25% — нерегулярные покупки, средние возможности для прогнозирования, могут зависеть от сезонности.   \n",
    "**Группа Z**. Объекты с коэффициентом вариативности больше 25% или новые объекты, единичные покупки — невозможно спрогнозировать.  \n",
    "\n",
    "Порядок деления на группы (функция perform_xyz):  \n",
    "\n",
    "1. Группируем по дате (смотрим в разбивке по месяцам) и объекту (пользователь, товар).\n",
    "2. Рассчитываем стандартное отклонение, среднее дохода от объекта, и с их помощью находим коэффициент вариации.\n",
    "3. Определяем, к какой группе относится каждый объект. С коэффициентом 0–10% попадают в группу X, 10–25% — в группу Y, более 25% или новые объекты (единичные покупки) — в группу Z."
   ]
  },
  {
   "cell_type": "code",
   "execution_count": 29,
   "id": "a485056a",
   "metadata": {},
   "outputs": [],
   "source": [
    "# Функция для распределения по группам XYZ\n",
    "\n",
    "def perform_xyz(df, attribute):\n",
    "    \n",
    "    grouped_data = df.groupby(['month_year', attribute], as_index=False).agg({'revenue': 'sum'})\n",
    "    grouped_data = grouped_data.groupby(attribute, as_index=False).agg(mean_v =('revenue', 'mean'),\n",
    "                                                                       std_v=('revenue', 'std'))\n",
    "    grouped_data['var_coeff'] = grouped_data.std_v / grouped_data.mean_v\n",
    "    grouped_data['xyz_group'] = np.where(grouped_data['var_coeff'] < 0.1, 'X', \n",
    "                               np.where(grouped_data['var_coeff'] < 0.25, 'Y', 'Z'))\n",
    "    grouped_data = grouped_data.sort_values('var_coeff')\n",
    "\n",
    "\n",
    "    return grouped_data[[attribute, 'var_coeff', 'xyz_group']]"
   ]
  },
  {
   "cell_type": "markdown",
   "id": "f0d7c53f",
   "metadata": {},
   "source": [
    "### XYZ-анализ пользователей"
   ]
  },
  {
   "cell_type": "code",
   "execution_count": 30,
   "id": "047de89e",
   "metadata": {},
   "outputs": [
    {
     "data": {
      "text/html": [
       "<div>\n",
       "<style scoped>\n",
       "    .dataframe tbody tr th:only-of-type {\n",
       "        vertical-align: middle;\n",
       "    }\n",
       "\n",
       "    .dataframe tbody tr th {\n",
       "        vertical-align: top;\n",
       "    }\n",
       "\n",
       "    .dataframe thead th {\n",
       "        text-align: right;\n",
       "    }\n",
       "</style>\n",
       "<table border=\"1\" class=\"dataframe\">\n",
       "  <thead>\n",
       "    <tr style=\"text-align: right;\">\n",
       "      <th></th>\n",
       "      <th>customer_id</th>\n",
       "      <th>var_coeff</th>\n",
       "      <th>xyz_group</th>\n",
       "    </tr>\n",
       "  </thead>\n",
       "  <tbody>\n",
       "    <tr>\n",
       "      <th>1892</th>\n",
       "      <td>14987</td>\n",
       "      <td>0.00</td>\n",
       "      <td>X</td>\n",
       "    </tr>\n",
       "    <tr>\n",
       "      <th>3612</th>\n",
       "      <td>17353</td>\n",
       "      <td>0.00</td>\n",
       "      <td>X</td>\n",
       "    </tr>\n",
       "    <tr>\n",
       "      <th>3389</th>\n",
       "      <td>17029</td>\n",
       "      <td>0.00</td>\n",
       "      <td>X</td>\n",
       "    </tr>\n",
       "    <tr>\n",
       "      <th>1593</th>\n",
       "      <td>14548</td>\n",
       "      <td>0.00</td>\n",
       "      <td>X</td>\n",
       "    </tr>\n",
       "    <tr>\n",
       "      <th>26</th>\n",
       "      <td>12384</td>\n",
       "      <td>0.00</td>\n",
       "      <td>X</td>\n",
       "    </tr>\n",
       "  </tbody>\n",
       "</table>\n",
       "</div>"
      ],
      "text/plain": [
       "     customer_id  var_coeff xyz_group\n",
       "1892       14987       0.00         X\n",
       "3612       17353       0.00         X\n",
       "3389       17029       0.00         X\n",
       "1593       14548       0.00         X\n",
       "26         12384       0.00         X"
      ]
     },
     "execution_count": 30,
     "metadata": {},
     "output_type": "execute_result"
    }
   ],
   "source": [
    "# Распределяем пользователей по группам\n",
    "customer_xyz = perform_xyz(customer_data, attribute='customer_id')\n",
    "customer_xyz.head()"
   ]
  },
  {
   "cell_type": "code",
   "execution_count": 31,
   "id": "fb1f7485",
   "metadata": {},
   "outputs": [
    {
     "data": {
      "text/html": [
       "<div>\n",
       "<style scoped>\n",
       "    .dataframe tbody tr th:only-of-type {\n",
       "        vertical-align: middle;\n",
       "    }\n",
       "\n",
       "    .dataframe tbody tr th {\n",
       "        vertical-align: top;\n",
       "    }\n",
       "\n",
       "    .dataframe thead th {\n",
       "        text-align: right;\n",
       "    }\n",
       "</style>\n",
       "<table border=\"1\" class=\"dataframe\">\n",
       "  <thead>\n",
       "    <tr style=\"text-align: right;\">\n",
       "      <th></th>\n",
       "      <th>xyz_group</th>\n",
       "      <th>customer_count</th>\n",
       "      <th>percent</th>\n",
       "    </tr>\n",
       "  </thead>\n",
       "  <tbody>\n",
       "    <tr>\n",
       "      <th>0</th>\n",
       "      <td>X</td>\n",
       "      <td>235</td>\n",
       "      <td>0.05</td>\n",
       "    </tr>\n",
       "    <tr>\n",
       "      <th>1</th>\n",
       "      <td>Y</td>\n",
       "      <td>401</td>\n",
       "      <td>0.09</td>\n",
       "    </tr>\n",
       "    <tr>\n",
       "      <th>2</th>\n",
       "      <td>Z</td>\n",
       "      <td>3657</td>\n",
       "      <td>0.85</td>\n",
       "    </tr>\n",
       "  </tbody>\n",
       "</table>\n",
       "</div>"
      ],
      "text/plain": [
       "  xyz_group  customer_count  percent\n",
       "0         X             235     0.05\n",
       "1         Y             401     0.09\n",
       "2         Z            3657     0.85"
      ]
     },
     "execution_count": 31,
     "metadata": {},
     "output_type": "execute_result"
    }
   ],
   "source": [
    "# Найдем количество пользователей и их долю от общего числа в каждой группе\n",
    "customer_group = customer_xyz.groupby('xyz_group', as_index=False).agg(customer_count=('customer_id', 'count'))\n",
    "customer_group['percent'] = customer_group.customer_count / customer_group.customer_count.sum()\n",
    "customer_group"
   ]
  },
  {
   "cell_type": "markdown",
   "id": "0a1cb51c",
   "metadata": {},
   "source": [
    "### XYZ-анализ товаров"
   ]
  },
  {
   "cell_type": "code",
   "execution_count": 32,
   "id": "ea9907cc",
   "metadata": {},
   "outputs": [
    {
     "data": {
      "text/html": [
       "<div>\n",
       "<style scoped>\n",
       "    .dataframe tbody tr th:only-of-type {\n",
       "        vertical-align: middle;\n",
       "    }\n",
       "\n",
       "    .dataframe tbody tr th {\n",
       "        vertical-align: top;\n",
       "    }\n",
       "\n",
       "    .dataframe thead th {\n",
       "        text-align: right;\n",
       "    }\n",
       "</style>\n",
       "<table border=\"1\" class=\"dataframe\">\n",
       "  <thead>\n",
       "    <tr style=\"text-align: right;\">\n",
       "      <th></th>\n",
       "      <th>item</th>\n",
       "      <th>var_coeff</th>\n",
       "      <th>xyz_group</th>\n",
       "    </tr>\n",
       "  </thead>\n",
       "  <tbody>\n",
       "    <tr>\n",
       "      <th>101</th>\n",
       "      <td>60 GOLD AND SILVER FAIRY CAKE CASES</td>\n",
       "      <td>0.00</td>\n",
       "      <td>X</td>\n",
       "    </tr>\n",
       "    <tr>\n",
       "      <th>807</th>\n",
       "      <td>CLASSIC DIAMANTE EARRINGS JET</td>\n",
       "      <td>0.00</td>\n",
       "      <td>X</td>\n",
       "    </tr>\n",
       "    <tr>\n",
       "      <th>1542</th>\n",
       "      <td>GREEN POP ART MAO CUSHION COVER</td>\n",
       "      <td>0.00</td>\n",
       "      <td>X</td>\n",
       "    </tr>\n",
       "    <tr>\n",
       "      <th>2189</th>\n",
       "      <td>NEW BAROQUE BLACK BOXES</td>\n",
       "      <td>0.00</td>\n",
       "      <td>X</td>\n",
       "    </tr>\n",
       "    <tr>\n",
       "      <th>3958</th>\n",
       "      <td>WRAP, CAROUSEL</td>\n",
       "      <td>0.00</td>\n",
       "      <td>X</td>\n",
       "    </tr>\n",
       "  </tbody>\n",
       "</table>\n",
       "</div>"
      ],
      "text/plain": [
       "                                     item  var_coeff xyz_group\n",
       "101   60 GOLD AND SILVER FAIRY CAKE CASES       0.00         X\n",
       "807         CLASSIC DIAMANTE EARRINGS JET       0.00         X\n",
       "1542      GREEN POP ART MAO CUSHION COVER       0.00         X\n",
       "2189              NEW BAROQUE BLACK BOXES       0.00         X\n",
       "3958                       WRAP, CAROUSEL       0.00         X"
      ]
     },
     "execution_count": 32,
     "metadata": {},
     "output_type": "execute_result"
    }
   ],
   "source": [
    "# Распределяем товары по группам\n",
    "item_xyz = perform_xyz(retail_data, attribute='item')\n",
    "item_xyz.head()"
   ]
  },
  {
   "cell_type": "code",
   "execution_count": 33,
   "id": "0688b286",
   "metadata": {},
   "outputs": [
    {
     "data": {
      "text/html": [
       "<div>\n",
       "<style scoped>\n",
       "    .dataframe tbody tr th:only-of-type {\n",
       "        vertical-align: middle;\n",
       "    }\n",
       "\n",
       "    .dataframe tbody tr th {\n",
       "        vertical-align: top;\n",
       "    }\n",
       "\n",
       "    .dataframe thead th {\n",
       "        text-align: right;\n",
       "    }\n",
       "</style>\n",
       "<table border=\"1\" class=\"dataframe\">\n",
       "  <thead>\n",
       "    <tr style=\"text-align: right;\">\n",
       "      <th></th>\n",
       "      <th>xyz_group</th>\n",
       "      <th>item_count</th>\n",
       "      <th>percent</th>\n",
       "    </tr>\n",
       "  </thead>\n",
       "  <tbody>\n",
       "    <tr>\n",
       "      <th>0</th>\n",
       "      <td>X</td>\n",
       "      <td>56</td>\n",
       "      <td>0.01</td>\n",
       "    </tr>\n",
       "    <tr>\n",
       "      <th>1</th>\n",
       "      <td>Y</td>\n",
       "      <td>42</td>\n",
       "      <td>0.01</td>\n",
       "    </tr>\n",
       "    <tr>\n",
       "      <th>2</th>\n",
       "      <td>Z</td>\n",
       "      <td>3904</td>\n",
       "      <td>0.98</td>\n",
       "    </tr>\n",
       "  </tbody>\n",
       "</table>\n",
       "</div>"
      ],
      "text/plain": [
       "  xyz_group  item_count  percent\n",
       "0         X          56     0.01\n",
       "1         Y          42     0.01\n",
       "2         Z        3904     0.98"
      ]
     },
     "execution_count": 33,
     "metadata": {},
     "output_type": "execute_result"
    }
   ],
   "source": [
    "# Найдем количество товаров и их долю от общего числа в каждой группе\n",
    "item_group = item_xyz.groupby('xyz_group', as_index=False).agg(item_count=('item', 'count'))\n",
    "item_group['percent'] = item_group.item_count / item_group.item_count.sum()\n",
    "item_group"
   ]
  },
  {
   "cell_type": "markdown",
   "id": "d3cc9194",
   "metadata": {},
   "source": [
    "### Результаты XYZ-анализа"
   ]
  },
  {
   "cell_type": "code",
   "execution_count": 34,
   "id": "692a831d",
   "metadata": {},
   "outputs": [
    {
     "data": {
      "image/png": "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\n",
      "text/plain": [
       "<Figure size 1440x720 with 2 Axes>"
      ]
     },
     "metadata": {},
     "output_type": "display_data"
    }
   ],
   "source": [
    "# Построим полученные распределения\n",
    "\n",
    "fig, axs = plt.subplots(2, 1, figsize=(20, 10))\n",
    "plt.subplots_adjust(hspace=0.5)\n",
    "sns.barplot(data=customer_group, x='xyz_group', y='percent', ax=axs[0]) \\\n",
    "    .set(ylabel='Доля', xlabel='Группа', title='Распределение пользователей по группам\\n')\n",
    "sns.barplot(data=item_group, x='xyz_group', y='percent', ax=axs[1]) \\\n",
    "    .set(ylabel='Доля', xlabel='Группа', title='Распределение товаров по группам\\n')\n",
    "plt.show()"
   ]
  },
  {
   "cell_type": "markdown",
   "id": "2dcf53f3",
   "metadata": {},
   "source": [
    "**Вывод:** из полученных таблиц и графиков видим: \n",
    "- и для пользователей, и для товаров преобладают покупки с большим коэффициентом вариативности или единичные покупки, то есть делать какие-либо прогнозы по ним сложно  \n",
    "- нужно обратить внимание на объекты со стабильным спросом\n",
    "  \n",
    "По данному анализу можно судить о спросе у пользователей или на товар, однако он не лишен минусов (резкий скачок спроса может испортить картину; анализ дает картину колебаний, но не учитывает факторы, которые к ним приводят и так далее), поэтому для наибольшей эффективности можно использовать ABC/XYZ-анализ, который комбинирует два анализа."
   ]
  },
  {
   "cell_type": "markdown",
   "id": "eec58929",
   "metadata": {},
   "source": [
    "## 3. ABC/XYZ-анализ пользователей и товаров\n",
    "\n",
    "### ABC/XYZ-анализ пользователей\n",
    "\n",
    "В данном анализе уже не 3 группы, а 9 групп:  \n",
    "\n",
    "AX — большая доля прибыли, стабильный спрос.  \n",
    "AY — большая доля прибыли, колеблющийся спрос.  \n",
    "AZ — большая доля прибыли, непредсказуемый спрос.  \n",
    "BX — средние объёмы прибыли, стабильный спрос.  \n",
    "BY — средние объёмы прибыли, колеблющийся спрос.  \n",
    "BZ — средние объёмы прибыли, непредсказуемый спрос.  \n",
    "CX — малозначительная прибыль, стабильный спрос.  \n",
    "CY — малозначительная прибыль, колеблющийся спрос.  \n",
    "CZ — малозначительная прибыль, непредсказуемый спрос.  "
   ]
  },
  {
   "cell_type": "code",
   "execution_count": 35,
   "id": "d3259ca0",
   "metadata": {},
   "outputs": [
    {
     "data": {
      "text/html": [
       "<div>\n",
       "<style scoped>\n",
       "    .dataframe tbody tr th:only-of-type {\n",
       "        vertical-align: middle;\n",
       "    }\n",
       "\n",
       "    .dataframe tbody tr th {\n",
       "        vertical-align: top;\n",
       "    }\n",
       "\n",
       "    .dataframe thead th {\n",
       "        text-align: right;\n",
       "    }\n",
       "</style>\n",
       "<table border=\"1\" class=\"dataframe\">\n",
       "  <thead>\n",
       "    <tr style=\"text-align: right;\">\n",
       "      <th></th>\n",
       "      <th>customer_id</th>\n",
       "      <th>revenue</th>\n",
       "      <th>abc_group</th>\n",
       "      <th>var_coeff</th>\n",
       "      <th>xyz_group</th>\n",
       "      <th>abcxyz_group</th>\n",
       "    </tr>\n",
       "  </thead>\n",
       "  <tbody>\n",
       "    <tr>\n",
       "      <th>0</th>\n",
       "      <td>14646</td>\n",
       "      <td>279,138.02</td>\n",
       "      <td>A</td>\n",
       "      <td>0.58</td>\n",
       "      <td>Z</td>\n",
       "      <td>AZ</td>\n",
       "    </tr>\n",
       "    <tr>\n",
       "      <th>1</th>\n",
       "      <td>18102</td>\n",
       "      <td>259,657.30</td>\n",
       "      <td>A</td>\n",
       "      <td>0.83</td>\n",
       "      <td>Z</td>\n",
       "      <td>AZ</td>\n",
       "    </tr>\n",
       "    <tr>\n",
       "      <th>2</th>\n",
       "      <td>17450</td>\n",
       "      <td>194,390.79</td>\n",
       "      <td>A</td>\n",
       "      <td>1.26</td>\n",
       "      <td>Z</td>\n",
       "      <td>AZ</td>\n",
       "    </tr>\n",
       "    <tr>\n",
       "      <th>3</th>\n",
       "      <td>16446</td>\n",
       "      <td>168,472.50</td>\n",
       "      <td>A</td>\n",
       "      <td>1.41</td>\n",
       "      <td>Z</td>\n",
       "      <td>AZ</td>\n",
       "    </tr>\n",
       "    <tr>\n",
       "      <th>4</th>\n",
       "      <td>12415</td>\n",
       "      <td>124,564.53</td>\n",
       "      <td>A</td>\n",
       "      <td>0.59</td>\n",
       "      <td>Z</td>\n",
       "      <td>AZ</td>\n",
       "    </tr>\n",
       "  </tbody>\n",
       "</table>\n",
       "</div>"
      ],
      "text/plain": [
       "  customer_id    revenue abc_group  var_coeff xyz_group abcxyz_group\n",
       "0       14646 279,138.02         A       0.58         Z           AZ\n",
       "1       18102 259,657.30         A       0.83         Z           AZ\n",
       "2       17450 194,390.79         A       1.26         Z           AZ\n",
       "3       16446 168,472.50         A       1.41         Z           AZ\n",
       "4       12415 124,564.53         A       0.59         Z           AZ"
      ]
     },
     "execution_count": 35,
     "metadata": {},
     "output_type": "execute_result"
    }
   ],
   "source": [
    "# Соединим полученные ранее таблицы с делением по группам\n",
    "customer_abcxyz = customer_abc.merge(customer_xyz, on='customer_id', how='left')\n",
    "customer_abcxyz['abcxyz_group'] = customer_abcxyz.abc_group + customer_abcxyz.xyz_group\n",
    "customer_abcxyz = customer_abcxyz.sort_values('revenue', ascending=False)\n",
    "customer_abcxyz.head()"
   ]
  },
  {
   "cell_type": "code",
   "execution_count": 36,
   "id": "954cafbf",
   "metadata": {},
   "outputs": [
    {
     "data": {
      "text/html": [
       "<div>\n",
       "<style scoped>\n",
       "    .dataframe tbody tr th:only-of-type {\n",
       "        vertical-align: middle;\n",
       "    }\n",
       "\n",
       "    .dataframe tbody tr th {\n",
       "        vertical-align: top;\n",
       "    }\n",
       "\n",
       "    .dataframe thead th {\n",
       "        text-align: right;\n",
       "    }\n",
       "</style>\n",
       "<table border=\"1\" class=\"dataframe\">\n",
       "  <thead>\n",
       "    <tr style=\"text-align: right;\">\n",
       "      <th></th>\n",
       "      <th>abcxyz_group</th>\n",
       "      <th>customers_count</th>\n",
       "      <th>revenue</th>\n",
       "      <th>count_percent</th>\n",
       "    </tr>\n",
       "  </thead>\n",
       "  <tbody>\n",
       "    <tr>\n",
       "      <th>2</th>\n",
       "      <td>AZ</td>\n",
       "      <td>1001</td>\n",
       "      <td>6,302,472.99</td>\n",
       "      <td>0.23</td>\n",
       "    </tr>\n",
       "    <tr>\n",
       "      <th>5</th>\n",
       "      <td>BZ</td>\n",
       "      <td>1119</td>\n",
       "      <td>982,926.60</td>\n",
       "      <td>0.26</td>\n",
       "    </tr>\n",
       "    <tr>\n",
       "      <th>8</th>\n",
       "      <td>CZ</td>\n",
       "      <td>1537</td>\n",
       "      <td>371,403.06</td>\n",
       "      <td>0.36</td>\n",
       "    </tr>\n",
       "    <tr>\n",
       "      <th>1</th>\n",
       "      <td>AY</td>\n",
       "      <td>114</td>\n",
       "      <td>312,805.82</td>\n",
       "      <td>0.03</td>\n",
       "    </tr>\n",
       "    <tr>\n",
       "      <th>4</th>\n",
       "      <td>BY</td>\n",
       "      <td>204</td>\n",
       "      <td>176,547.51</td>\n",
       "      <td>0.05</td>\n",
       "    </tr>\n",
       "    <tr>\n",
       "      <th>0</th>\n",
       "      <td>AX</td>\n",
       "      <td>31</td>\n",
       "      <td>108,851.52</td>\n",
       "      <td>0.01</td>\n",
       "    </tr>\n",
       "    <tr>\n",
       "      <th>3</th>\n",
       "      <td>BX</td>\n",
       "      <td>130</td>\n",
       "      <td>102,804.70</td>\n",
       "      <td>0.03</td>\n",
       "    </tr>\n",
       "    <tr>\n",
       "      <th>7</th>\n",
       "      <td>CY</td>\n",
       "      <td>83</td>\n",
       "      <td>26,645.43</td>\n",
       "      <td>0.02</td>\n",
       "    </tr>\n",
       "    <tr>\n",
       "      <th>6</th>\n",
       "      <td>CX</td>\n",
       "      <td>74</td>\n",
       "      <td>22,555.29</td>\n",
       "      <td>0.02</td>\n",
       "    </tr>\n",
       "  </tbody>\n",
       "</table>\n",
       "</div>"
      ],
      "text/plain": [
       "  abcxyz_group  customers_count      revenue  count_percent\n",
       "2           AZ             1001 6,302,472.99           0.23\n",
       "5           BZ             1119   982,926.60           0.26\n",
       "8           CZ             1537   371,403.06           0.36\n",
       "1           AY              114   312,805.82           0.03\n",
       "4           BY              204   176,547.51           0.05\n",
       "0           AX               31   108,851.52           0.01\n",
       "3           BX              130   102,804.70           0.03\n",
       "7           CY               83    26,645.43           0.02\n",
       "6           CX               74    22,555.29           0.02"
      ]
     },
     "execution_count": 36,
     "metadata": {},
     "output_type": "execute_result"
    }
   ],
   "source": [
    "# Посмотрим информацию по группам\n",
    "result_customer = customer_abcxyz.groupby('abcxyz_group', as_index=False) \\\n",
    "                              .agg(customers_count=('customer_id', 'count'),\n",
    "                                   revenue = ('revenue', 'sum')) \\\n",
    "                              .sort_values('revenue', ascending=False)\n",
    "result_customer['count_percent'] = result_customer.customers_count / result_customer.customers_count.sum()\n",
    "result_customer"
   ]
  },
  {
   "cell_type": "code",
   "execution_count": 37,
   "id": "f48f3496",
   "metadata": {},
   "outputs": [
    {
     "data": {
      "image/png": "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\n",
      "text/plain": [
       "<Figure size 1296x720 with 2 Axes>"
      ]
     },
     "metadata": {},
     "output_type": "display_data"
    }
   ],
   "source": [
    "# Посмотрим на распределение\n",
    "fig, axs = plt.subplots(2, 1, figsize=(18, 10))\n",
    "sns.barplot(data=result_customer, x='abcxyz_group', y='revenue', ax=axs[0]) \\\n",
    "    .set(ylabel='Доход', xlabel='', title='Распределение дохода и количества пользователей по группам\\n')\n",
    "sns.barplot(data=result_customer, x='abcxyz_group', y='count_percent', ax=axs[1]) \\\n",
    "    .set(ylabel='Доля от общего количества', xlabel='Группа')\n",
    "plt.show()"
   ]
  },
  {
   "cell_type": "markdown",
   "id": "96ecec01",
   "metadata": {},
   "source": [
    "**Выводы:** \n",
    "- Больше всего прибыли совершили клиенты из группы AZ, эти клиенты нестабильные, однако у них есть потенциал, с этими клиентами нужно усиленно работать, выводя их на постоянные большие объемы, доля этих клиентов большая.\n",
    "- Больше всего пользователей в группе СZ, эти клиенты непредсказуемые, возможно, это новые клиенты, или у них были сезонные покупки, нужно изучить их внимательнее.\n",
    "- Лучших клиентов AX небольшое количество, нужно работать с ними внимательнее, напоминать о себе, делать скидки и предложения.\n",
    "- Доход от группы СX мал, эти пользователи покупают постоянно, но мало.\n",
    "- Также большой доход от клиентов группы BZ, их доля приличная, эти клиенты нестабильные, но приносят доход, нужно поднимать у них объемы покупок.\n",
    "\n",
    "Дополнительно следует провести когортный анализ пользователей и RFM-анализ."
   ]
  },
  {
   "cell_type": "markdown",
   "id": "72851c43",
   "metadata": {},
   "source": [
    "### ABC/XYZ-анализ товаров"
   ]
  },
  {
   "cell_type": "code",
   "execution_count": 38,
   "id": "19591593",
   "metadata": {},
   "outputs": [
    {
     "data": {
      "text/html": [
       "<div>\n",
       "<style scoped>\n",
       "    .dataframe tbody tr th:only-of-type {\n",
       "        vertical-align: middle;\n",
       "    }\n",
       "\n",
       "    .dataframe tbody tr th {\n",
       "        vertical-align: top;\n",
       "    }\n",
       "\n",
       "    .dataframe thead th {\n",
       "        text-align: right;\n",
       "    }\n",
       "</style>\n",
       "<table border=\"1\" class=\"dataframe\">\n",
       "  <thead>\n",
       "    <tr style=\"text-align: right;\">\n",
       "      <th></th>\n",
       "      <th>item</th>\n",
       "      <th>revenue</th>\n",
       "      <th>abc_group</th>\n",
       "      <th>var_coeff</th>\n",
       "      <th>xyz_group</th>\n",
       "      <th>abcxyz_group</th>\n",
       "    </tr>\n",
       "  </thead>\n",
       "  <tbody>\n",
       "    <tr>\n",
       "      <th>0</th>\n",
       "      <td>PAPER CRAFT , LITTLE BIRDIE</td>\n",
       "      <td>168,469.60</td>\n",
       "      <td>A</td>\n",
       "      <td>NaN</td>\n",
       "      <td>Z</td>\n",
       "      <td>AZ</td>\n",
       "    </tr>\n",
       "    <tr>\n",
       "      <th>1</th>\n",
       "      <td>REGENCY CAKESTAND 3 TIER</td>\n",
       "      <td>165,411.99</td>\n",
       "      <td>A</td>\n",
       "      <td>0.42</td>\n",
       "      <td>Z</td>\n",
       "      <td>AZ</td>\n",
       "    </tr>\n",
       "    <tr>\n",
       "      <th>2</th>\n",
       "      <td>WHITE HANGING HEART T-LIGHT HOLDER</td>\n",
       "      <td>102,532.32</td>\n",
       "      <td>A</td>\n",
       "      <td>0.50</td>\n",
       "      <td>Z</td>\n",
       "      <td>AZ</td>\n",
       "    </tr>\n",
       "    <tr>\n",
       "      <th>3</th>\n",
       "      <td>PARTY BUNTING</td>\n",
       "      <td>97,308.38</td>\n",
       "      <td>A</td>\n",
       "      <td>0.73</td>\n",
       "      <td>Z</td>\n",
       "      <td>AZ</td>\n",
       "    </tr>\n",
       "    <tr>\n",
       "      <th>4</th>\n",
       "      <td>JUMBO BAG RED RETROSPOT</td>\n",
       "      <td>93,235.79</td>\n",
       "      <td>A</td>\n",
       "      <td>0.40</td>\n",
       "      <td>Z</td>\n",
       "      <td>AZ</td>\n",
       "    </tr>\n",
       "  </tbody>\n",
       "</table>\n",
       "</div>"
      ],
      "text/plain": [
       "                                 item    revenue abc_group  var_coeff  \\\n",
       "0         PAPER CRAFT , LITTLE BIRDIE 168,469.60         A        NaN   \n",
       "1            REGENCY CAKESTAND 3 TIER 165,411.99         A       0.42   \n",
       "2  WHITE HANGING HEART T-LIGHT HOLDER 102,532.32         A       0.50   \n",
       "3                       PARTY BUNTING  97,308.38         A       0.73   \n",
       "4             JUMBO BAG RED RETROSPOT  93,235.79         A       0.40   \n",
       "\n",
       "  xyz_group abcxyz_group  \n",
       "0         Z           AZ  \n",
       "1         Z           AZ  \n",
       "2         Z           AZ  \n",
       "3         Z           AZ  \n",
       "4         Z           AZ  "
      ]
     },
     "execution_count": 38,
     "metadata": {},
     "output_type": "execute_result"
    }
   ],
   "source": [
    "# Соединим полученные ранее таблицы с делением по группам\n",
    "item_abcxyz = item_abc.merge(item_xyz, on='item', how='left')\n",
    "item_abcxyz['abcxyz_group'] = item_abcxyz.abc_group + item_abcxyz.xyz_group\n",
    "item_abcxyz = item_abcxyz.sort_values('revenue', ascending=False)\n",
    "item_abcxyz.head()"
   ]
  },
  {
   "cell_type": "code",
   "execution_count": 39,
   "id": "bb056199",
   "metadata": {},
   "outputs": [
    {
     "data": {
      "text/html": [
       "<div>\n",
       "<style scoped>\n",
       "    .dataframe tbody tr th:only-of-type {\n",
       "        vertical-align: middle;\n",
       "    }\n",
       "\n",
       "    .dataframe tbody tr th {\n",
       "        vertical-align: top;\n",
       "    }\n",
       "\n",
       "    .dataframe thead th {\n",
       "        text-align: right;\n",
       "    }\n",
       "</style>\n",
       "<table border=\"1\" class=\"dataframe\">\n",
       "  <thead>\n",
       "    <tr style=\"text-align: right;\">\n",
       "      <th></th>\n",
       "      <th>abcxyz_group</th>\n",
       "      <th>items_count</th>\n",
       "      <th>revenue</th>\n",
       "      <th>count_percent</th>\n",
       "    </tr>\n",
       "  </thead>\n",
       "  <tbody>\n",
       "    <tr>\n",
       "      <th>1</th>\n",
       "      <td>AZ</td>\n",
       "      <td>839</td>\n",
       "      <td>7,869,555.16</td>\n",
       "      <td>0.21</td>\n",
       "    </tr>\n",
       "    <tr>\n",
       "      <th>3</th>\n",
       "      <td>BZ</td>\n",
       "      <td>993</td>\n",
       "      <td>1,484,433.84</td>\n",
       "      <td>0.25</td>\n",
       "    </tr>\n",
       "    <tr>\n",
       "      <th>6</th>\n",
       "      <td>CZ</td>\n",
       "      <td>2072</td>\n",
       "      <td>489,752.75</td>\n",
       "      <td>0.52</td>\n",
       "    </tr>\n",
       "    <tr>\n",
       "      <th>0</th>\n",
       "      <td>AY</td>\n",
       "      <td>5</td>\n",
       "      <td>62,124.62</td>\n",
       "      <td>0.00</td>\n",
       "    </tr>\n",
       "    <tr>\n",
       "      <th>2</th>\n",
       "      <td>BY</td>\n",
       "      <td>5</td>\n",
       "      <td>5,315.14</td>\n",
       "      <td>0.00</td>\n",
       "    </tr>\n",
       "    <tr>\n",
       "      <th>5</th>\n",
       "      <td>CY</td>\n",
       "      <td>32</td>\n",
       "      <td>3,425.24</td>\n",
       "      <td>0.01</td>\n",
       "    </tr>\n",
       "    <tr>\n",
       "      <th>4</th>\n",
       "      <td>CX</td>\n",
       "      <td>56</td>\n",
       "      <td>2,971.38</td>\n",
       "      <td>0.01</td>\n",
       "    </tr>\n",
       "  </tbody>\n",
       "</table>\n",
       "</div>"
      ],
      "text/plain": [
       "  abcxyz_group  items_count      revenue  count_percent\n",
       "1           AZ          839 7,869,555.16           0.21\n",
       "3           BZ          993 1,484,433.84           0.25\n",
       "6           CZ         2072   489,752.75           0.52\n",
       "0           AY            5    62,124.62           0.00\n",
       "2           BY            5     5,315.14           0.00\n",
       "5           CY           32     3,425.24           0.01\n",
       "4           CX           56     2,971.38           0.01"
      ]
     },
     "execution_count": 39,
     "metadata": {},
     "output_type": "execute_result"
    }
   ],
   "source": [
    "# Посмотрим информацию по группам\n",
    "result_item = item_abcxyz.groupby('abcxyz_group', as_index=False) \\\n",
    "                              .agg(items_count=('item', 'count'),\n",
    "                                   revenue = ('revenue', 'sum')) \\\n",
    "                              .sort_values('revenue', ascending=False)\n",
    "result_item['count_percent'] = result_item.items_count / result_item.items_count.sum()\n",
    "result_item"
   ]
  },
  {
   "cell_type": "code",
   "execution_count": 40,
   "id": "d2fae3a4",
   "metadata": {},
   "outputs": [
    {
     "data": {
      "image/png": "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\n",
      "text/plain": [
       "<Figure size 1296x720 with 2 Axes>"
      ]
     },
     "metadata": {},
     "output_type": "display_data"
    }
   ],
   "source": [
    "# Посмотрим на распределение\n",
    "fig, axs = plt.subplots(2, 1, figsize=(18, 10))\n",
    "sns.barplot(data=result_item, x='abcxyz_group', y='revenue', ax=axs[0]) \\\n",
    "    .set(ylabel='Доход', xlabel='', title='Распределение дохода и количества товаров по группам\\n')\n",
    "sns.barplot(data=result_item, x='abcxyz_group', y='count_percent', ax=axs[1]) \\\n",
    "    .set(ylabel='Доля от общего количества', xlabel='Группа')\n",
    "plt.show()"
   ]
  },
  {
   "cell_type": "markdown",
   "id": "9d688462",
   "metadata": {},
   "source": [
    "**Выводы:**\n",
    "\n",
    "- Больше всего дохода нам приносят группы AZ, BZ — при высокой выручке отличаются низкой прогнозируемостью. Попытка обеспечить гарантированное наличие по всем товарам данных групп только за счет избыточного страхового товарного запаса приведет к тому, что средний товарный запас компании значительно увеличится. Поэтому по товарам данной группы следует пересмотреть систему заказов:",
    "    - перевести часть товаров на систему заказов с постоянной суммой (объемом) заказа\n",
    "    - обеспечить по части товаров более частые поставки\n",
    "    - повысить периодичность контроля\n",
    "    - поручить работу с данной группой товаров самому опытному менеджеру компании\n",
    "    \n",
    "\n"
    "- Больше всего товаров относятся к группе СZ — в нее попадают все новые товары, товары спонтанного спроса, поставляемые под заказ. Часть этих товаров можно безболезненно выводить из ассортимента, а другую часть нужно регулярно контролировать. Данные товары требуют дополнительного анализа, так как выручка от них есть.\n",
    "\n",
    "- AY могут перейти в группу AX — самые ценные товары, в нашем случае товаров в данной группе нет. Спрос на них можно стимулировать: например, расположив эти товары на первых страницах каталогов. Но данных товаров очень маленькое количество.  \n",
    "\n",
    "- Остальные группы приносят минимальную выручку, стоит провести дополнительные исследования.\n",
    "\n",
    "**Итог:** наблюдается очень низкая прогнозируемость, нужно стимулировать спрос на товары."
   ]
  },
  {
   "cell_type": "markdown",
   "id": "ac0c8bb2",
   "metadata": {},
   "source": [
    "## 4. Общая динамика продаж\n",
    "### По месяцам"
   ]
  },
  {
   "cell_type": "code",
   "execution_count": 41,
   "id": "74ba79a5",
   "metadata": {},
   "outputs": [
    {
     "data": {
      "text/html": [
       "<div>\n",
       "<style scoped>\n",
       "    .dataframe tbody tr th:only-of-type {\n",
       "        vertical-align: middle;\n",
       "    }\n",
       "\n",
       "    .dataframe tbody tr th {\n",
       "        vertical-align: top;\n",
       "    }\n",
       "\n",
       "    .dataframe thead th {\n",
       "        text-align: right;\n",
       "    }\n",
       "</style>\n",
       "<table border=\"1\" class=\"dataframe\">\n",
       "  <thead>\n",
       "    <tr style=\"text-align: right;\">\n",
       "      <th></th>\n",
       "      <th>month_year</th>\n",
       "      <th>revenue</th>\n",
       "      <th>purchases_count</th>\n",
       "    </tr>\n",
       "  </thead>\n",
       "  <tbody>\n",
       "    <tr>\n",
       "      <th>0</th>\n",
       "      <td>2010-12</td>\n",
       "      <td>776,018.33</td>\n",
       "      <td>1532</td>\n",
       "    </tr>\n",
       "    <tr>\n",
       "      <th>1</th>\n",
       "      <td>2011-01</td>\n",
       "      <td>646,689.86</td>\n",
       "      <td>1071</td>\n",
       "    </tr>\n",
       "    <tr>\n",
       "      <th>2</th>\n",
       "      <td>2011-02</td>\n",
       "      <td>489,008.19</td>\n",
       "      <td>1072</td>\n",
       "    </tr>\n",
       "    <tr>\n",
       "      <th>3</th>\n",
       "      <td>2011-03</td>\n",
       "      <td>658,513.14</td>\n",
       "      <td>1410</td>\n",
       "    </tr>\n",
       "    <tr>\n",
       "      <th>4</th>\n",
       "      <td>2011-04</td>\n",
       "      <td>506,516.92</td>\n",
       "      <td>1220</td>\n",
       "    </tr>\n",
       "    <tr>\n",
       "      <th>5</th>\n",
       "      <td>2011-05</td>\n",
       "      <td>720,528.71</td>\n",
       "      <td>1644</td>\n",
       "    </tr>\n",
       "    <tr>\n",
       "      <th>6</th>\n",
       "      <td>2011-06</td>\n",
       "      <td>708,956.50</td>\n",
       "      <td>1491</td>\n",
       "    </tr>\n",
       "    <tr>\n",
       "      <th>7</th>\n",
       "      <td>2011-07</td>\n",
       "      <td>641,412.49</td>\n",
       "      <td>1419</td>\n",
       "    </tr>\n",
       "    <tr>\n",
       "      <th>8</th>\n",
       "      <td>2011-08</td>\n",
       "      <td>700,108.87</td>\n",
       "      <td>1311</td>\n",
       "    </tr>\n",
       "    <tr>\n",
       "      <th>9</th>\n",
       "      <td>2011-09</td>\n",
       "      <td>979,394.80</td>\n",
       "      <td>1773</td>\n",
       "    </tr>\n",
       "    <tr>\n",
       "      <th>10</th>\n",
       "      <td>2011-10</td>\n",
       "      <td>1,069,016.63</td>\n",
       "      <td>1958</td>\n",
       "    </tr>\n",
       "    <tr>\n",
       "      <th>11</th>\n",
       "      <td>2011-11</td>\n",
       "      <td>1,415,464.85</td>\n",
       "      <td>2697</td>\n",
       "    </tr>\n",
       "    <tr>\n",
       "      <th>12</th>\n",
       "      <td>2011-12</td>\n",
       "      <td>605,948.84</td>\n",
       "      <td>802</td>\n",
       "    </tr>\n",
       "  </tbody>\n",
       "</table>\n",
       "</div>"
      ],
      "text/plain": [
       "   month_year      revenue  purchases_count\n",
       "0     2010-12   776,018.33             1532\n",
       "1     2011-01   646,689.86             1071\n",
       "2     2011-02   489,008.19             1072\n",
       "3     2011-03   658,513.14             1410\n",
       "4     2011-04   506,516.92             1220\n",
       "5     2011-05   720,528.71             1644\n",
       "6     2011-06   708,956.50             1491\n",
       "7     2011-07   641,412.49             1419\n",
       "8     2011-08   700,108.87             1311\n",
       "9     2011-09   979,394.80             1773\n",
       "10    2011-10 1,069,016.63             1958\n",
       "11    2011-11 1,415,464.85             2697\n",
       "12    2011-12   605,948.84              802"
      ]
     },
     "execution_count": 41,
     "metadata": {},
     "output_type": "execute_result"
    }
   ],
   "source": [
    "# Посмотрим на количество покупок и доход от них по месяцам\n",
    "retail_by_month = retail_data.groupby('month_year', as_index=False) \\\n",
    "                             .agg(revenue=('revenue', 'sum'), purchases_count=('bill', 'nunique'))\n",
    "retail_by_month"
   ]
  },
  {
   "cell_type": "code",
   "execution_count": 42,
   "id": "eb192496",
   "metadata": {},
   "outputs": [
    {
     "data": {
      "text/plain": [
       "Timestamp('2011-12-09 12:50:00')"
      ]
     },
     "execution_count": 42,
     "metadata": {},
     "output_type": "execute_result"
    }
   ],
   "source": [
    "# Определим последнюю дату\n",
    "max(retail_data['date'])"
   ]
  },
  {
   "cell_type": "markdown",
   "id": "b4b915aa",
   "metadata": {},
   "source": [
    "Не будем в анализ брать декабрь 2011 года, так как он неполный, только до 9 числа."
   ]
  },
  {
   "cell_type": "code",
   "execution_count": 43,
   "id": "12195853",
   "metadata": {},
   "outputs": [
    {
     "data": {
      "image/png": "iVBORw0KGgoAAAANSUhEUgAABFMAAAJwCAYAAABFzC4zAAAAOXRFWHRTb2Z0d2FyZQBNYXRwbG90bGliIHZlcnNpb24zLjUuMSwgaHR0cHM6Ly9tYXRwbG90bGliLm9yZy/YYfK9AAAACXBIWXMAAAsTAAALEwEAmpwYAAC/o0lEQVR4nOzdd3yV5eH+8euc7L33IgQyIIQQIAgioCCCKO49Cm1/WBVH1ba01tV+3aturVpXq6IWB4qioiIqhRCSQCADQiYJ2XuP8/sjGI2sBJJzMj7v14uX5DnPyXOdOxFyLu77fgwmk8kkAAAAAAAA9InR0gEAAAAAAACGE8oUAAAAAACAfqBMAQAAAAAA6AfKFAAAAAAAgH6gTAEAAAAAAOgHyhQAAAAAAIB+sLZ0AAAAcGRFRUWaP3/+Uc9ZuXKlbrjhBjMlAgAAAGUKAADDQHh4uJYsWdLrWEZGhjZs2GChRAAAAKMXZQoAAEOYyWSSJI0bN+6Q2Sdr1qyhTAEAALAA9kwBAGAI6+zslCTZ2NhYOAkAAAB+RJkCAMAQ1tHRIUlydHTs83OioqJ0zjnnHHJ85cqVioqK0r333ttz7KqrrlJUVJTq6up6nVtUVKSoqChdd911vY5nZ2frD3/4g+bOnavY2FglJCTo0ksv1fr163ud99RTTykqKkpRUVH6z3/+c0iWjIyMnsf7kuf1118/5HWtWrVKUVFRysjI6Dn217/+VVOmTNF9993Xc6yqqkoPPvigFi9erMmTJ2vy5MlasmSJnn/++Z7xPZofMx3p16uvvtpz7mmnnabLLrtMmZmZuuqqqzR58mTNmTNHf/vb31RTU3PI587NzdVtt92mWbNmKTY2VgsWLNBDDz2k+vr6Q85dvnx5nzL09TV/+eWXio2N1aWXXqqqqqper2HatGk9Hzc0NOjXv/61Jk2apDVr1hxzvAAAGA1Y5gMAwBDW1NQkSXJ1dT2hz7N161Z98cUXJ/Q5duzYoauuukq2trZauHChPD09lZ+frw0bNujGG2/U888/r1NPPbXXc6ysrPTVV1/piiuu6HX8k08+6fN1a2pq9MwzzxzzvC+++ELvvvuuzj33XM2ePVuSVF9fr4svvlglJSU67bTTtGDBAlVVVemLL77Q448/rtraWv3pT3/qU47/9//+n+zs7Ho+PtKeNWVlZbr66qsVFBSkK664QmlpafrPf/6jrVu36p133ukpxtLS0rRs2TK1tLTo1FNPVUhIiFJTU/Xyyy/r66+/1ltvvSV3d/eez9vR0aFx48Zp0aJFR83Q19ccHh6uK6+8UqtXr9aTTz6pu++++7Cv+4UXXtDWrVt1xRVXKCYmpk9jBQDASEeZAgDAENbY2ChJ8vDwOO7P0dXVpfvuu092dnZqbW097s/zxBNPqKOjQ2vWrFFERETP8XXr1un3v/+9Pv7440PKlClTpmjLli1qaGiQs7Nzz/FPP/1UQUFB2r9//zGv+/TTT6u5ufmY5/3rX/9STEyMHnzwwZ5jb731lgoLC/V///d/uuiii3qOr1y5UgsXLtTatWv7XKasWLGiV6l1pD1rioqKdNppp+npp5+WlZWVJOn//u//9MYbb+jll1/WDTfcoM7OTv3xj39UW1ubXnjhBc2ZM6fn+Y888ohefPFFPfTQQ71m2DQ2NiouLq7X3jmHy9DX1xwREaFVq1bJzs5Or7zyim688UZ5enr2+lyNjY166623dP755+vPf/5zn8YJAIDRgGU+AAAMYT8uv/Dy8jruz/Hee+8pIyNDv/71r08oy7Jly/Twww/3KlIkacaMGZKkysrKQ56zYMECtbe369tvv+05lpqaqqKiIp155pnHvGZOTo7eeuutY2bftm2btm/frssuu6zX8dmzZ+uee+7Rueee2+t4QECAQkJCei1vGSgGg0F//OMfe4oUSbrpppvk6OiotWvXSpJSUlKUl5enJUuW9CpSJOnGG2+Un5+f1q5dq7a2tp7jtbW1vWaqHEl/X/PFF1+sjo4Ovfbaa4d8rjfffFP19fWHjCsAAKMdM1MAABjCSkpKJEn+/v7H9fyGhgY98cQTWrBggWbOnKnnnnvusOf985//7LWE5Zd7lkjSKaecIkkqLy9XZmamCgoKlJubq+TkZEk/bZb7cxMmTFBgYKA2bNjQU56sW7dOHh4emjVrll588cWj5r///vvl5eWlFStWHDH7K6+8os2bN2vixIk677zzDrn+hAkT1NjYqLS0NOXn5ysvL087d+5Ufn7+YTOfKB8fH4WHh/c65uLiovDwcO3atUvNzc09+7xMnz79kOfb2tpq0qRJ+vLLL7Vv3z5FR0erq6tLZWVl8vPzO+b1+/uag4KC9Ktf/Uovv/yyqqqqVFdXp9bWVt111116//33df7557O8BwCAX6BMAQBgCCsoKJAkhYSEHNfzn3vuOdXV1WnVqlUqLi4+4nnHKjWk7mLn73//u7766iuZTCYZjUaNGTNGU6dO1e7du4/4vNNOO00fffSROjo6ZDQa9dlnn2nhwoW9Zm4czsaNG7Vp0yY9/PDDR92A98MPP5SVlZVuueUW2dra9nqstbVVjz32mFavXt2zVMjPz0/Tp0+Xh4eHysvLj/m6++tIhYe3t7ek7j1NGhoaJKnX0qef8/X1laSezPv371dbW5vCwsKOef3jec3nnHOOPvnkE73zzjs9x95++225u7vrkksuOeY1AQAYbShTAAAYwjIzM+Xo6HhcZUphYaFef/11/epXv1JISMhRy5SkpKRe+4EUFRVp/vz5PR+bTCatWLFCe/fu1TXXXKMFCxZo/Pjxsre3V0VFhd59990jfu4FCxbo3//+t5KSkmRlZaXS0lItWbLkqNk7Ojr04IMPKj4+XmefffZRz3399de1evVqrVq1SjY2NjrrrLN6HnvggQf05ptv6owzztAVV1yhqKionqUyixcvHpQy5Uj70vw428fd3V1OTk6SujerPda5krRz505JUmRk5DGv39/XnJ+fr6uuukqenp769NNP9dvf/lZ1dXX64IMPtHLlSi1btkxvv/22oqOjj3ltAABGC/ZMAQBgiGpoaNDu3bsVHx8vg8HQ7+c/+OCDcnNz0+9+97sTzpKVlaXs7Gydfvrp+v3vf69JkybJ3t5eUve+JlJ34XI406dPl5ubmzZs2KBPPvlEvr6+h13e8nNvvvmm9u3bp9tvv/2Yr93V1VX33nuvgoKC9Le//a3XniAff/yxvLy89MQTT2jGjBk9pUJLS0tPuXSk3McrNzf3kFsbNzc3KysrSxMmTJCtrW3Pspkfl0j9XFdXl5KTk+Xo6KigoCBJ0nfffafg4OCej4+mv6/5jjvuUH19vR566CGNHTu253hwcLAeffRRdXR06C9/+Yu6urr6NxAAAIxglCkAAAxRX375pdrb2w/ZoLQv8vPz9cUXX+iWW2454lKS/vhx+cwvN5mtqanRQw89JKl7NsnhWFtba86cOfrqq6/0+eefa9GiRTIaj/4jyMsvv6xzzz1XcXFxfcrn4OCgW2+9VbW1tXr22Wd7jv94B6Of7wHT2dmpe++9Vy0tLZKk9vb2Pl2jr9rb2/XYY4/1FBYmk0mPPvqompqadMEFF0iSpk6dqrCwMH3++efauHFjr+c/+eSTKikp0eLFi2Vra6uGhgatX79eCxcu7NP1+/Oav/jiC23ZskXnnHOOJk+efMjnioiI0OWXX65du3bpgw8+6PdYAAAwUrHMBwCAIeipp57qufNLXl6ennrqqUPO+XET061bt+rVV1/VsmXLeh5rbm5WbGzsIRuyHq8xY8YoLi5O27Zt0+WXX66EhARVV1fryy+/VFtbmxwcHFRdXX3E5y9YsKDn9Rxric+Pbrnlln5lPPPMM/Xqq6/q7bff1lVXXaWwsDCdffbZ+te//qULLrhACxYsUEdHh7777jvl5ubK09NTVVVVqqmp6dmjZCDY2Njoww8/VEZGhiZPnqy0tDSlpKRoxowZuvTSSyVJRqNRDzzwgH7zm9/od7/7nU499VSFhoYqJSVFqampioiI0B//+Edt2bJFr776qhoaGlRTU3PI98GP3wObNm1ScHCwFixY0OfX7OHhoUceeUQODg5HHevrr79eH374oR5//HEtXrxYDg4OAzZWAAAMV5QpAAAMQU8//XTP799+++2jnrt161bt37+/V5kiqU9LZPrKaDTq2Wef1WOPPabvv/9eu3btkr+/v+bMmaNrr71Wjz76qL788ksVFBQoNDT0kOefcsopsrOzk7e3t+Lj4495vd/97nf9LjgMBoP+9Kc/6YorrtAjjzyip556Sr///e/l5OSkjz76SG+++aY8PT0VERGhv/71r8rJydF9992njRs36qKLLurXtY7G3t5e//73v3X33Xfrrbfeko+Pj1auXKlrrrlG1tY//eiVkJCg9957T88++6x++OEHbdq0SYGBgbr22mv1//7f/5OTk5O2bt2qr776SpK0Zs2aI17zu+++k4+PjxYsWNDn19zY2Ki8vDytXLnyqHcJcnNz07XXXqv7779fL730km644YYBGysAAIYrg2mgFwoDAIATFhUVpcTERL3xxhvHPPe0006TpJ433bCc0047TXV1ddq2bduAfL6nnnpKTz/9tLKyso553cTERD3wwAMDcl0AAHB07JkCAAAAAADQD5QpAAAAAAAA/cCeKQAADEErV67s021wJenqq68e5DSwlMTERK1cufKY51199dUKDg42QyIAACCxZwoAAAAAAEC/sMwHAAAAAACgHyhTAAAAAAAA+oEyBQAAAAAAoB8oUwAAAAAAAPqBMgUAAAAAAKAfKFMAAAAAAAD6gTIFAAAAAACgHyhTAAAAAAAA+oEyBQAAAAAAoB8oU/rozjvv1O23396v57S1temBBx7QySefrISEBK1YsUKFhYWDlBAAAAAAAJgDZcoxmEwmPfHEE1q9enW/n3vXXXfp008/1SOPPKK3335bLS0tuu6662QymQYhKQAAAAAAMAfKlKMoLCzU1VdfrbfeekuBgYH9fu6aNWv0wAMPaObMmYqMjNTdd9+thoYGFRQUDFJiAAAAAAAw2ChTjiIlJUUhISFau3atgoODD3n8nXfe0RlnnKG4uDidffbZev/993se++677+Tp6amZM2f2HBs7dqy+/vprhYWFmSU/AAAAAAAYeNaWDjCULV26VEuXLj3sY2+++aaeeuop3XXXXZowYYJSUlL097//XZJ03nnnKS8vr6eIefHFF1VVVaWEhAT95S9/kb+/vzlfBgAAAAAAGECUKcfp+eef18qVK7Vo0SJJUmhoqIqLi/X888/rvPPOU0NDg/bt26dXXnlFf/7zn2Vra6vHHntMv/rVr/TRRx/Jzs7Owq8AAAAAAAAcD8qU41BVVaXS0lI9+OCDeuSRR3qOd3R0qLOzU21tbbK2tlZ9fb2eeOIJhYSESJKefPJJzZ49Wxs3btTChQstFR8AAAAAAJwAypTjYGNjI0m64447lJiYeMjj1tbW8vPzk6OjY0+RIkleXl5yd3dXUVGR2bICAAAAAICBxQa0x8HFxUV+fn4qKipSWFhYz68ffvhBL7/8soxGo6ZNm6ampibl5OT0PK+8vFzV1dUKDQ21YHoAAAAAAHAiKFOO07XXXqtXX31Vq1evVkFBgdauXasHHnhAPj4+kqTp06dr2rRpuvXWW5WSkqLMzEzdeuutCg8P15w5cyycHgAAAAAAHC+W+Rynyy67TG1tbXr55Zf197//XX5+frruuuu0YsUKSZLBYNBzzz2nBx98UNdcc43a29s1a9YsPfTQQ7K1tbVwegAAAAAAcLwMJpPJZOkQAAAAAAAAwwXLfAAAAAAAAPqBZT6/0NXVpcbGRtnY2MhgMFg6DgAAAAAAOMhkMqm9vV1OTk4yGi03P4Qy5RcaGxuVnZ1t6RgAAAAAAOAIIiMj5eLiYrHrU6b8go2NjaTuLwwbxZpHenq6YmNjLR1jVGCszYexNh/G2rwYb/NhrM2HsTYvxtt8GGvzYazNp62tTdnZ2T3v3S2FMuUXflzaY2trKzs7OwunGT0Ya/NhrM2HsTYfxtq8GG/zYazNh7E2L8bbfBhr82GszcvS23KwAS0AAAAAAEA/UKYAAAAAAAD0A2UKAAAAAABAP1CmAAAAAAAA9ANlCgAAAAAAQD9QpgAAAAAAAPQDZQoAAAAAAEA/DKsy5c4779Ttt9/e5/OvueYaXXXVVYOYCAAAAAAAmENNZYO+/3SnpWNIGiZlislk0hNPPKHVq1f3+Tlvv/22vvnmm8ELBQAAAAAAzKK8uEbr/vM/FedXWjqKJMna0gGOpbCwUH/5y1+0Z88eBQYG9uk5+fn5evzxxzVlypRBTgcAAAAAAAZTcV6FNqzZLntHWwWO8ZXUbulIQ39mSkpKikJCQrR27VoFBwcf8/zOzk796U9/0m9/+1tFRESYISEAAAAAABgMeZkl+uLdbXJxd9SSK0/SpJPGWjqSpGFQpixdulT33XeffHx8+nT+Cy+8IEn6zW9+M5ixAAAAAADAIMpMLdDXH6bKO8Bdiy+fIUdne9k52Fg6lqRhsMynP3bt2qVXXnlF7733nozGE+uJ0tPTBygV+iI5OdnSEUYNxtp8GGvzYazNi/E2H8bafBhr82K8zYexNh/GeuCYTCaV5TWpNKdRLt628o20VvquHZaO1cuIKVNaW1v1hz/8QTfffLPCwsJO+PPFxsbKzs5uAJLhWJKTkzV16lRLxxgVGGvzYazNh7E2L8bbfBhr82GszYvxNh/G2nwY64FjMpm09atMleaUK2JioGYvniSj1U+TJVpbW4fE5IcRU6akpaUpJydHjzzyiB555BFJUltbm7q6ujRlyhR98sknfd7AFgAAAAAAmFdXZ5e++3SncnYVa8LUMCXOj5HBYLB0rMMaMWVKXFycPv/8817HHnvsMRUXF+uRRx6Rr6+vhZIBAAAAAICj6Wjv1Ncfpqgop1wJp4xX3MyIIVukSMO8TGlra1Ntba3c3Nxkb29/yPIeZ2fnwx4HAAAAAABDQ2tLu758L1ll+6s1c+FERU8JtXSkYxryd/M5mpSUFM2ePVspKSmWjgIAAAAAAPqpqaFFn765RRUlNZp3TvywKFKkYTYz5Y033uj18YwZM5SVlXXE8++9997BjgQAAAAAAI5DXXWjPn8nSc2NbVpw4TQFhXtbOlKfDasyBQAAAAAADH9VZXX6/J0kdXWZtOjSRPkEuls6Ur9QpgAAAAAAALM5UFilDf9NlrWttc68dLrcvZ0tHanfKFMAAAAAAIBZFO4t09cfpsjZ1UELL5kuZ1cHS0c6LpQpAAAAAABg0O1N36/v1u2Ul5+rTr9oquwd7Swd6bhRpgAAAAAAgEG1KylXW7/KVECYl+aflyAbu+FdRwzv9AAAAAAAYMgymUzavmmPdmzOUVikn+aePVlW1laWjnXCKFMAAAAAAMCA6+oyafPnu5SdVqjIySGauXCijEaDpWMNCMoUAAAAAAAwoDo7OvXtxzuUl3VAcTMjlHDKeBkMI6NIkShTAAAAAADAAGpv7dCG97erJL9SiadFa+L0cEtHGnCUKQAAAAAAYEC0NLXpi3e3qbK0TqcsidO42CBLRxoUlCkAAAAAAOCENdQ16/PVSWqoa9Zp509R6Dg/S0caNJQpAAAAAADghNRUNGj9O0nqaOvQwounyz/E09KRBhVlCgAAAAAAOG7lxTX64r1tMhoNWnz5DHn6ulo60qCjTAEAAAAAAMelOK9CG9Zsl72jrc64ZLpcPZwsHcksKFMAAAAAAEC/5WaW6Nu1aXLzctbCi6fJ0dne0pHMhjIFAAAAAAD0S2ZKgTZ/vku+QR5acOFU2dnbWDqSWVGmAAAAAACAPjGZTNqxOUfbN+1RcISPTj1niqxtrCwdy+woUwAAAAAAwDGZTCZt3ZCh3cn5ipgYqNmLJ8loZbR0LIugTAEAAAAAAEfV1dml7z7dqZxdxZowbYwST4uWwWCwdCyLoUwBAAAAAABH1NHeqa8/TFFRTrkS5kQq7qSxo7pIkShTAAAAAADAEbS2tOvL95JVtr9aM8+YqOj4UEtHGhIoUwAAAAAAwCGaGlr0+TvbVFvZoHnnxCs8OsDSkYYMyhQAAAAAANBLXXWj1q9OUktTm06/aJoCx3hbOtKQQpkCAAAAAAB6VJXV6fN3ktTVZdKiSxPlE+hu6UhDDmUKAAAAAACQJB0orNKG/ybL2tZaZ146Xe7ezpaONCRRpgAAAAAAABXsLdU3H6bK2dVBCy+ZLmdXB0tHGrIoUwAAAAAAGOX2pu/Xd+t2ysvfVadfOE32jraWjjSkUaYAAAAAADCK7UrK1davMhUQ5qX55yXIxo6q4FgYIQAAAAAARiGTyaTt32Zrx//2KSzST3PPniwraytLxxoWKFMAAAAAABhlurpM2vz5LmWnFSpycohmLpwoo9Fg6VjDBmUKAAAAAACjSGdHpzauTVN+dqniZkYo4ZTxMhgoUvqDMgUAAAAAgFGivbVDG97frpL8SiWeFq2J08MtHWlYokwBAAAAAGAUaGlq1RfvJquytE6nLInTuNggS0catihTAAAAAAAY4RrqmvX56iQ11DVr/vkJChnna+lIwxplCgAAAAAAI1hNRYPWv5OkjrYOLbx4uvxDPC0dadijTAEAAAAAYIQqL67RF+9tk9Fo0OLLZ8jT19XSkUYEo6UD9Medd96p22+//ajnrFu3Tuecc47i4+N1+umn65///Kc6OzvNlBAAAAAAgKFhf26FPnt7q2ztrHXmFSdRpAygYVGmmEwmPfHEE1q9evVRz9u4caNuu+02XXTRRfroo49066236sUXX9Tzzz9vpqQAAAAAAFhebmaJvnxvm1zcHXXmFSfJ1cPJ0pFGlCG/zKewsFB/+ctftGfPHgUGBh713LffflsLFy7UlVdeKUkKDQ1VTk6O1qxZo+uvv94ccQEAAAAAsKjMlAJt/nyX/II9NP+CqbKzt7F0pBFnyM9MSUlJUUhIiNauXavg4OCjnnvttddq5cqVvY4ZjUbV1dUNZkQAAAAAACzOZDIp9Ye92vz5LgVH+GjhxdMpUgbJkJ+ZsnTpUi1durRP58bFxfX6uKGhQW+99ZZOOeWUwYgGAAAAAMCQYDKZtHVDhnYn5ytiYqBmL54ko9WQnz8xbBlMJpPJ0iH66qqrrlJoaKjuvffeY57b3Nysa665RllZWVqzZo2CgoL6dI3W1lalp6efaFQAAAAAAMzC1GVS4e461RxolXeIgwIinWUwGCwda1DFxsbKzs7OYtcf8jNTjkdVVZWuu+467d27V//617/6XKT8nKW/MKNJcnKypk6daukYowJjbT6Mtfkw1ubFeJsPY20+jLV5Md7mw1ibjyXHuqO9U19/mKKaA61KmBOpuJPGjugiZahMgBhxZUpRUZF+85vfqLGxUf/+978VHR1t6UgAAAAAAAy41pZ2fflessr2V2vmGRMVHR9q6UijxogqUyorK3X11VfLyspKb731lkJCQiwdCQAAAACAAdfU0KLP39mm2qoGnXpOvMZEB1g60qgyrMuUtrY21dbWys3NTba2trrnnntUXV2t1157Tfb29iovL5ckGQwGeXt7WzgtAAAAAAAnrq66UetXJ6mlqU2nXzhNgWN4v2tuw7pMSUlJ0dVXX63XX39dkydP1hdffKGuri5ddNFFvc6zsrLS7t27LZQSAAAAAICBUVlapy/eTVJXl0mLLk2UT6C7pSONSsOqTHnjjTd6fTxjxgxlZWX1fJyRkWHuSAAAAAAAmMWBwip9+V6ybOysdeal0+Xu7WzpSKPWsCpTAAAAAAAYjQr2luqbD1Pl7OqghZdMl7Org6UjjWqUKQAAAAAADGF7dhbp+0/T5eXvqtMvnCZ7R1tLRxr1KFMAAAAAABii0rfmKunrTAWEeWn+eQmyseNt/FDAVwEAAAAAgCHGZDJp+7fZ2vG/fRoT5a85Z8XJytrK0rFwEGUKAAAAAABDSFeXSZs/36XstEJFxYfopNMnymg0WDoWfoYyBQAAAACAIaKjo1Pfrk1Tfnap4mZGKOGU8TIYKFKGGsoUAAAAAACGgPbWDm14f7tK8iuVeFq0Jk4Pt3QkHAFlCgAAAAAAFtbS1Kov3k1WZWmdTlkSp3GxQZaOhKOgTAEAAAAAwIIa6pr1+eokNdQ1a/75CQoZ52vpSDgGyhQAAAAAACykpqJe61cnqaO9U2dcMl1+wZ6WjoQ+oEwBAAAAAMACyotr9MW722S0Mmrx5TPk6etq6UjoI8oUAAAAAADMbH9uhb56f7scnGy18OLpcvVwsnQk9ANlCgAAAAAAZpSbUaJvP06Tm5ezFl48TY7O9paOhH6iTAEAAAAAwEwyU/K1+fPd8gv20PwLpsrO3sbSkXAcKFMAAAAAABhkJpNJaZtzlLJpj0IifDTvnCmytrGydCwcJ8oUAAAAAAAGkclk0pYNGcpIzlfExEDNXjxJRiujpWPhBFCmAAAAAAAwSLo6u7Rp3U7t212sCdPGKPG0aBkMBkvHwgmiTAEAAAAAYBB0tHfq6w9SVLSvXAlzIhV30liKlBGCMgUAAAAAgAHW2tKuL9/bprL9NZp1xkRFxYdaOhIGEGUKAAAAAAADqKm+RevfSVJddaNOPSdeY6IDLB0JA4wyBQAAAACAAVJX3aj1q5PU0tSm0y+cpsAx3paOhEFAmQIAAAAAwACoLK3TF+8mqavLpEWXJconwN3SkTBIKFMAAAAAADhBBwqr9OV7ybKxs9aZl02Xu5ezpSNhEFGmAAAAAABwAmrLW7XrmyQ5uzpo4SXT5ezqYOlIGGSUKQAAAAAA9IPJZFJ1eb1Ki6pVWlit/Kxaefu76fQLp8ne0dbS8WAGlCkAAAAAABxFZ0enKg7UqbSoSqWF1SrbX6221g5JkqOznTwD7bXookTZ2PEWe7TgKw0AAAAAwM+0t3aobH+1DhRVq7SoShUlters6JIkuXk6aUx0gPyCPeQX7CFnNwdt376dImWU4asNAAAAABjVmhtbDy7ZqVJpUbWqyupkMkkGg0Fefq6Kjg+VX0h3eWLvaGfpuBgCKFMAAAAAAKOGyWRSfU1Td3ly8FddVaMkycraKJ9Ad8XNjJBfsKd8A92ZcYLD4rsCAAAAADBidXWZVFNRrwOF3Ut2yoqq1dTQKkmytbeRX7CHIuOC5RfsIS9/N1lZGS2cGMMBZQoAAAAAYMQ46maxLvbyD/E8uGTHU+7ezjIYDBZOjOHIYmVKTk6O7rnnnp6Px40bpzvvvNNScQAAAAAAw1Bba7vK9tccXLJTpYriWnV2Hmaz2BAPObs6UJ5gQAxqmTJ//vwjPtbW1qaKigpdf/31kiQ/P7/BjAIAAAAAGAGaG1tVWlh18E471ar++Wax/q6KnsJmsRh8g1qm7N+/X7NmzZK7u/shj9XU1KiiokIrV64czAgAAAAAgGGq12axB/c8qatukvTTZrGTZ46TX4iHfALdZWPLThYwj0H/Trv55psVFxd3yPHU1FRt3rx5sC8PAAAAABgmurpMqi6v71myU1pUreZfbhY7OYTNYmFxFqvtWKcGAAAAAKNb92axtSotrNaBomqV/2Kz2AA2i8UQxRwoAAAAAIBZ9NostrBKFSU/2yzWq3uzWP+D5Ymzm4OF0wJHNuhlyooVK+Tp6Slvb2+NGTNGsbGxOvnkk4/rc915553q7OzUvffee8Rzdu7cqXvvvVcZGRny8/PTddddp3PPPfc40wMAAAAAjldTQ6vKio6yWWxCqPyCPeUX7M5msRhWBrVM+ec//6mWlhY1NTWpuLhYBQUFeuGFF3TXXXdp/Pjxff48JpNJTz75pFavXq0LL7zwiOdVVVXpt7/9rc466yzde++9+uGHH3T77bfL29tbs2fPHoiXBAAAAAA4jJ7NYg9uFHugqFr1bBaLEWpQv3vnzJlz2OMZGRl6/PHHlZ2drT//+c+SpNDQUF177bWHnFtYWKi//OUv2rNnjwIDA496vXfffVfOzs66/fbbZTQaFRERod27d+tf//oXZQoAAAAADKCfNoutOligVKu5sXuzWDt7G/kGeyhqcoj8Qzzl6efKZrEYUcxWBTY3N6uhoUHu7u6KiYnRHXfcoWefffaYz0tJSVFISIgee+wx3XLLLUc9d9u2bZo+fbqMxp/+J01MTNQ999yjrq6uXscBAAAAAH3X0dGpipJalRV1bxZbVlSt9rbuzWKdXOwVEOZ5cMmOB5vFYsQb9DIlOTlZDz30kHbu3CmTySSDwaDJkyfr1ltv1f3333/M5y9dulRLly7t07UOHDigCRMm9Drm6+ur5uZm1dTUyNPT87heAwAAAACMNm2t7Sorqum5RfEvN4sNj2GzWIxeg1qmpKWladmyZfL19dWvf/1r+fj4qLS0VJ999pmWLVumN998U3FxcQN2vZaWFtna2vY69uPHbW1t/fpc6enpA5YLx5acnGzpCKMGY20+jLX5MNbmxXibD2NtPoy1eTHe5tOfsW5v7VRjTXv3r+p2tTR0zzqRQXJwsZZHkJ2c3G3l5G4ja1ujpFbVtBxQzd4DgxN+mOH7enQZ1DLliSee0KRJk/Tqq6/2KjluvvlmLVu2TE899ZRefPHFAbuevb39IaXJjx87OPSvKY2NjZWdHbtJm0NycrKmTp1q6RijAmNtPoy1+TDW5sV4mw9jbT6MtXkx3uZztLE2mUyqq25SaVFVz7KdHzeLtbaxkk+gu/wme8gvmM1i+4Lva/NpbW0dEpMfBvX/iJSUFD388MOHnS2yfPly/eUvfxnQ6/n7+6u8vLzXsbKyMjk6OsrFxWVArwUAAAAAw0X3ZrF1PRvFHm2zWC8/VxnZLBY4qkEtU442G8RgMKijo2NArzd16lStWbOmZ28WSdqyZYsSEhLYfBYAAADAqNHZ2aXG6jalbc5RaWGVyvbXsFksMIAGtUyJi4vTa6+9plNPPVVWVlY9xzs7O/Xqq69q8uTJJ/T529raVFtbKzc3N9na2urCCy/USy+9pLvuuku/+tWv9MMPP+jjjz8e0KVEAAAAADCUVZTU6puPUlRf0yypRu5ezho7IUB+wR7yC/GUsyubxQInalDLlBtvvFEXX3yxFi9erEWLFsnb21sVFRX67LPPVFxcrNdee+2EPn9KSoquvvpqvf7665oxY4a8vb310ksv6f/+7/907rnnKjAwUA8++KBmzpw5QK8IAAAAAIYmk8mk3dvytO2bLDk42Sl0kqtOnjdd9o62x34ygH4Z1DJlwoQJ+te//qVHHnlEL774Ys/ym7i4OP3973/v9wY9b7zxRq+PZ8yYoaysrF7H4uPj9d57751wdgAAAAAYLlqb27Rp3U4V7i1TyDhfnXLmJKXv3kmRAgySQS1TTCaTEhMT9c4776i5uVl1dXVydXXt2UulvLxcPj4+gxkBAAAAAEa00qJqbfwoVc2NrUqcH6MJU8PYAwUYZIO6K+uVV16pAwe67znu4OAgPz+/niJl3bp1Ovvsswfz8gAAAAAwYplMJu34X44+fXOLjFYGLblypiZOG0ORApjBoJYpeXl5Wrp0qT777LOeY/X19br11lt1yy23aOzYsYN5eQAAAAAYkZobW/X5O9uUvDFbYVF+WrrsZHkHuFk6FjBqDOoyn7Vr1+qOO+7QzTffrAsuuECnnXaa7rnnHjU0NOivf/2rrrjiisG8PAAAAACMOMX5lfp2bZraWts164yJipwcwmwUwMwGtUzx9PTUM888o3fffVd33XWX1qxZo+joaK1evVoBAQGDeWkAAAAAGFG6ukxK+36vUn/YKzdPJy28eJo8fV0tHQsYlQZ1mY8kpaen680335QkjR07VllZWXrttdfU0tIy2JcGAAAAgBGhsb5F69/eqtQf9mpcbJDO/tUsihTAgga1THnwwQd16aWXqr6+Xq+//ro+/vhj3XzzzfrPf/6jpUuXasuWLYN5eQAAAAAY9opyyvXhK9+p4kCtZp85SacsiZON7aAuMgBwDINaprzyyis677zz9NFHH2natGkyGAxasWKF3n33Xdnb22vZsmWDeXkAAAAAGLa6OruU9E2mvnhvmxyd7XX2r2Zp/KRgS8cCoEHeM+X555/XvHnzDjkeHR2t9957T0899dRgXh4AAAAAhqX62iZt/ChN5cU1iooPUeJpMbK2sbJ0LAAHDWqZ8mORsmnTJm3ZskV1dXXy8PDQjBkzNGvWLN16662DeXkAAAAAGHbysw/ou3U7ZTJJ85bGKzyGm3cAQ82glint7e1auXKlNm7cKElycXFRfX29/vnPf+rkk0/Wc889Jxsbm8GMAAAAAADDQmdHp5K+yVJGcr68/F01b2m8XD2cLB0LwGEM6p4pzzzzjDZv3qx77rlHaWlpSkpKUkpKiu666y4lJSXphRdeGMzLAwAAAMCwUFfdqE/+/T9lJOdrwrQxWnLFSRQpwBA2qDNT1q5dq2uvvVaXXHJJzzEHBwddeumlqq6u1vvvv6+VK1cOZgQAAAAAGNL27S7WD+vTZTAaNf/8BIWO97N0JADHMKgzUyoqKhQfH3/Yx+Lj41VSUjKYlwcAAACAIaujvVPff7pTG9emycPHRecsP5kiBRgmBnVmSnBwsHbu3KmZM2ce8tiOHTvk4+MzmJcHAAAAgCGppqJeX3+YqpqKBsWdNFZTZo+X0WpQ/60bwAAa1DLlnHPO0XPPPSdvb2+dddZZsrW1VVtbm9auXavnn39eV1555WBeHgAAAACGFJPJpL0792vzF7tkY2uthRdNU9BY/pEZGG4GtUxZtmyZtmzZor/85S+6/fbbe+7mYzKZNGvWLN1www2DeXkAAAAAGDLaWzu0+YtdytlVLP9QT809e7Icne0tHQvAcRjUMsXW1lYvv/yyvv32W23dulW1tbVyc3PTjBkzdMoppwzmpQEAAABgyKgsrdM3H6WqvrpRU2aPU9zMcTIaDZaOBeA4DWqZ8qM5c+Zozpw55rgUAAAAAAwZJpNJmSkFSvoqU3YONlp0aaL8Q70sHQvACTJLmXI4GRkZvW6LPGHCBD311FOWigMAAAAAA6q1pV3ff7pT+dmlChrrozlLJsne0c7SsQAMgAEvUy699NI+ndfY2Kji4mJdf/31kiQ/P24BBgAAAGBkKC+u0TcfpaqxvkXT5kUpNjFcBgPLeoCRYsDLlNTUVE2YMEFOTk5HPc/GxkaSes1OAQAAAIDhzGQyaVdSnrZtzJKjs53OvHyGfIM8LB0LwAAblGU+d999t+Li4o56Tmpqqi677LLBuDwAAAAAmF1Lc5u++2SHCnPKFTreT7PPnCQ7extLxwIwCCy2ZwpT3AAAAACMFAcKq7RxbZpamlo1Y0GMYhLCeM8DjGAWK1MAAAAAYLjr6jJp5/9ylPLdHjm7O2rJlTPl7e9m6VgABhllCgAAAAAch6aGVm36OE3F+ZUKjwnQrDMmytaOZT3AaDAoZcoll1wiKysrOTo6ytXVVV5eXvL391dERITGjRunWbNmDcZlAQAAAMAsivMq9O3HaWpr7dDJi2I1Pi6YZT3AKDLgZcr/+3//T5LU2dmp9vZ2NTc3q7q6Wvv379cPP/yg+vp6WVtba9y4cQN9aQAAAAAYVF1dXUr9bq/SNufIzctJZ1ySKA8fF0vHAmBmA16m3HrrrUd9PCcnRxs2bNCbb74pSfrggw8kSR4eHpo7d+5AxwEAAACAAdFY16yNa9NUWlSt8ZOCNGPBBNnYsnMCMBqZ/f/8iIgIRUREaPr06brsssu0atUqSVJ8fDxlCgAAAIAhqTCnTJs+2aHOji7NOStOERODLB0JgAVZrEadMmWKMjMzLXV5AAAAADimzs4uJW/M1q6kXHn6umjeOVPk5ulk6VgALIw5aQAAAABwGPU1Tfrmo1RVlNQqekqopp8WLWtrK0vHAjAEUKYAAAAAwC/kZR3Q95/ulMkknXpOvMZEB1g6EoAhhDIFAAAAAA7q6OhU0teZytxeIO8AN81bGi8Xd0dLxwIwxFCmAAAAAICk2qpGffNhiqrK6jVxerimzo2UlZXR0rEADEGUKQAAAABGvZxd+/XD+l2ysjJqwQVTFTLO19KRAAxhQ75m7ezs1KOPPqrZs2drypQpuvHGG1VRUXHE8zdv3qwLL7xQ8fHxWrBggV588UWZTCYzJgYAAAAwXLS3dei7dTv17cc75OXnqnOWn0yRAuCYhnyZ8tRTT+n999/Xgw8+qH//+986cOCAbrjhhsOem5+fr9/97neaN2+e1q5dq9tuu03PPPOM3nzzTTOnBgAAADDUVZfX6+PXN2vPziLFzYzQossS5eTqYOlYAIaBIV2mtLW16fXXX9ctt9yik08+WRMnTtRjjz2m7du3a/v27Yecv2nTJtnb22vlypUKCQnRokWLNHfuXG3atMkC6QEAAAAMRSaTSdlphVr7+g9qaW7Twouna+qcSBmNQ/rtEYAhZEj/aZGZmanGxkYlJib2HAsODlZQUJC2bdt2yPmenp6qqanRxx9/rK6uLmVnZ2vbtm2KjY01Z2wAAAAAQ1Rba7u+XZum7z9Ll2+Qh85ZPltB4d6WjgVgmBnSG9AeOHBAkuTn59fruK+vb89jP7dw4UJdeOGFuu222/THP/5RnZ2dWrx4sa677jqz5AUAAAAwdFUcqNU3H6WqoaZJCaeM16STImQ0GiwdC8AwZDAN4d1ZP/zwQ61atUoZGRm9jl999dUKCQnRvffe2+t4VVWVbr31Vk2cOFFnnnmmsrOzdd999+nKK6/UjTfe2Kdrtra2Kj09fcBeAwAAAADLMplMqixqVkl2g6xtjQqNdZWTh62lYwE4AbGxsbKzs7PY9Yf0zBR7e3t1dXWpo6ND1tY/RW1ra5ODw6EbQz3yyCMyGo267bbbJEkTJkxQR0eH7r77bl111VXy8PDo87Ut/YUZTZKTkzV16lRLxxgVGGvzYazNh7E2L8bbfBhr82Gszcvc493a0q7vPt2p4uwGBUf46JQz42TvODqKFL63zYexNp+hMgFiSO+ZEhAQIEkqLy/vdbysrOyQpT+SlJaWdsj+KJMnT1Z7e7tKSkoGLygAAACAIadsf7U+euV7Fe4t0/RTo7XggqmjpkgBMLiGdJkSHR0tJycnbd26tedYUVGR9u/fr+nTpx9yvr+/v7Kysnod27Nnj4xGo0JDQwc9LwAAAADLM5lM2rlln9a9uUUySEuuOEmxieEyGNgfBcDAGNLLfGxtbXX55ZfroYcekoeHh7y8vHTPPfcoMTFR8fHxamtrU21trdzc3GRra6urr75a11xzjZ599lmdffbZ2rt3r+6//35dfvnlcnZ2tvTLAQAAADDIWppa9e0nO7V/X7nCIv108uJJsrO3sXQsACPMkC5TJOnmm29WR0eH/vCHP6ijo0OnnHKK7rzzTklSSkqKrr76ar3++uuaMWOG5s6dq6efflrPPvusXnzxRXl7e+uSSy7RNddc0+/r5mUe0JioQP7gBQAAAIaJAwWV2rg2TS3NbTrp9AmKnhLKbBQAg2LIlynW1tZatWqVVq1adchjM2bMOGRZz4IFC7RgwYITvm7SN5n63xcZCgr30diYAIWM85WN7ZAfLgAAAGDU6eoyacfmHKV+v0cu7o4668JZ8vJztXQsACMY7cARzD8/QYV7KpSbUaLCvWWysjYqZJyvxsYEKGisj6ytrSwdEQAAABj1mhpa9O3HO1SSX6mxEwI1a+FE2djxNgfA4OJPmSPw9HVVQIiPpp8ardKiauVmlCgv64DyMg/IxtZKoZH+GhsdoMAxXjJaDel9fAEAAIARaX9uub79eIfa2zo0e/EkjZsUxLIeAGZBmXIMBoNB/iGe8g/x1IwFMSrJr1JuRonysw8oJ32/7OxtFBblr/CYAPmHeMpo5A9vAAAAYDB1dXUpZdMe7fjfPrl7O2vRpYny8HGxdCwAowhlSj8YjUYFhXsrKNxbMxdO0P687mVA+3YXKzutUA5OdhoT7a/w6AD5BrnTigMAAAADrKGuWRs/SlPZ/mpFxgVrxoIJsrZhCT4A86JMOU5W1lYKHeen0HF+6mjvVGFOmXIzSpSdWqiM5Hw5udorPDpA4TEB8vJzpVgBAAAATlDB3lJ998lOdXZ1ac7ZkxUxIdDSkQCMUpQpA8Daxqq7OIkOUFtruwr3lmlfRol2bctT+tZcuXo4KjwmQGNjAuTuzfRDAAAAoD86O7uU/E2Wdm3Lk6efq+YtjZebp5OlYwEYxShTBpitnY0iJgYpYmKQWprbVJBdqn0ZJdqxOUdpP+TI3dtZY2O6Z6y4evAXAAAAAHA0ddWN2vhRmioO1Cpmapimz4uSFXfWBGBhlCmDyN7BVpGTQxQ5OURNDa3Kyzqg3IwSbd+0R9s37ZG3v5vCYwI0Jtpfzq4Olo4LAAAADCm5GSX6/rN0GQzSqedO0Zgof0tHAgBJlClm4+hspwlTwzRhapga6pqVm1Gi3MwSJX2dqaSvM+UX7NFdrET5y8HJztJxAQAAAIvpaO/U1q8ylJVaKJ8AN809J14ubo6WjgUAPShTLMDZ1UGTZozVpBljVVfd2H1HoIwS/e+L3dry5W4FhHopPCZAYZF+snOwtXRcAAAAwGxqKhv0zYepqi6vV2xiuKbOiZTRymjpWADQC2WKhbl6OGnyrHGaPGucqsvru4uVzO7pjJs/36XAcG+NjQlQ6Dg/2djx5QIAAMDItTd9vzZ/vktW1kadfuE0BUf4WDoSABwW786HEA8fF3n4uGjKKeNVWVrXvRQoo0Tf5pTLytqo4LE+GhsToOAIX1nbsOkWAMB8TCaTyvbXqLa8Vftzy2VlbSUrK6OsrI0H/2vV/fuDHxutjDIYDJaODWCYaG/r0P++2K296fvlF+KhuWfHy8nF3tKxAOCIKFOGIIPBIG9/N3n7u2navCiV7a/p2WMlP7tU1rZWCh3np7ExAQoM95YV0x4BAIOoqqxOW7/KVEl+pSQpP21bn573U9FilJVV77Llx/LF+OPjPy9nrI2ytrKS8efPP+ScX5Y5Pyt0Dn5sNPL3IzAcVJXV6ZsPU1Vb1aj4WeM0+eQI/v8FMORRpgxxBoNBfsEe8gv2UOL8aB0oqFJu5gHlZR3Qvt3FsrWzVlikv8JjAhQQ5slfPACAAdPc2Krtm/Zoz45C2drZaMb8GFXWH1Dk+Ch1dnaps6NTnR1d6ursUmdHlzo7uz/+8VdH5y8e/8U5bS3tBz9P10//7ejs+f2JMhgMhy1wDlvI/LzwOUqB82P5Y32YAsd4mNKI2TnAkZlMJmWnFWrLhgzZ2tnojEumK3CMt6VjAUCfUKYMI0ajUYFjvBU4xlsnnT5BxXkVys0oUV5WifbsLJK9o63GRHUXK37BHvwABwA4Lp0dndqdnK+0H3LU0dGpmKljFD8rQnYOtkpOrpRfsMegZzCZTN0lzOHKlp6PO3/x2C8Knc7e5cwvy5rOji61tbYfscwxdZlO+HX8vJgxWvWlwPnp48rqJu33LJeHj6scnGz5ex0jSltru374bJdyM0sUOMZLc86azB0tAQwrlCnDlJWVUSERvgqJ8FVHe6eK9pUrN6O7VMlMKZCjs53CYwIUHhMgb383fgADAByTyWRSfnaptn2TqfqaZoWM89X0eVFy83I2e5buWSVWsrK2kiz0/qqrq+sXM2+6y5aOX5Q1R5p58+PsnK6jFD7tre1qaTpyYVSyp3tJlb2jrTx8XOR5cH81D18XuXs5s4cahqWmunZ99OoPaqht1tS5kZo0Yyw/qwIYdihTRgBrGyuNifLXmCh/tbd2qCCnTLkZJcpIzteupDy5uDsoPCZQ4dH+8vBx4S8rAMAhKg7UautXGSotrJa7t7MWXjxdQeGje7q90WiU0dZyy2e3bE5SaOBYVZXXq/rgr8zUgp4lUAZD910BPXwPliy+LvL0cZWTqz1/12PIaW/tUG1Vo4rzKpSTVC0HZ3stvnyGWWa6AcBgoEwZYWzsrBUxIVAREwLV2tKuguxS7cso0c7/7dOOzTly83LS2JgAhccEys3TydJxAQAW1tTQou3fZmvPzv2yd7TVzDMmKjIumD24hgBrW6MCwrwUEObVc6yry6T6miZVl9X1lCwVJbXKyzzQc46NrbU8fV167hL444wWGzt+7MPgMplMaqpvUW1Vo2oqG1Vb1aDaykbVVjaoqaG15zwXb1uddfnJsnewtWBaADgx/K06gtnZ22h8XLDGxwWrubFV+dkHtC+jRCnf7VXKd3vl6efaXaxEB8jZzcHScQEAZtTR3qldSbna8b996ursUmxiuCbPipCtnY2lo+EojEaD3Dyd5ObppDHRAT3H21rbVV3e0DODpbq8Xjm7itXe1tFzjrObQ0/J0j2TxVUu7o4yGpnFgv7p6OhUXXWTaisPliU/liZVjepo7+w5z8bWWm5eTgoY4y13Tye5eTnJzctZe3MzKVIADHuUKaOEg5OdoqeEKXpKmBrrmrvvBpRRom3fZGnbN1nyCXTX2JgAjYn2l6OzvaXjAgAGiclkUm5GibZtzFJjXYvCIv00bV6UXD2YrTic2drZ9Nz970cmk0mNdS2qKq9TdVl990yWsnoV7i2T6eDeulbWxl6zVzwOli280YXJZFJLU5tqq7pnlnT/t7s4qa9p7nWus6uD3Lyc5BfsITcv5+7SxNP5iBsnG/Io8AAMf5Qpo5CTq4MmTg/XxOnhqq9pUm5GifZllGjLhgxt2ZAh/1BPjY0JUFikv+wd+WEKAEaK8uIabdmQofLiGnn6uWrOkjj5h3od+4kYlgwGg5zdHOTs5qDQcX49xzvaO1VT2fBTwVJer4I9pdqzo6jnHEdnu56Nbn+cxeLm6SQrK5Z/jTRdnV2qr23+WWHScHCJTqPaWtp7zrOyNsrN00neAe6KmBjUPUPKy1lunk5shAxgVKJMGeVc3B0VNzNCcTMjVFNRr9yMA9qXWaIf1u/S5s93K3CMl8JjAhQW6cfUbwAYphrqmpW8MVv7dhfLwclOsxdPUkRsEMs7RilrGyt5+7vJ29+t55jJZFJzY5uqy+tUVfbTUqGSpEp1HbxFtNFokJuX8y+WCrnIwcmODW+HgdaWdtVVNarml7NMqpt6vsZS92xmNy8nhUf7y83L+eDyHGc2NgaAX6BMQQ93bxdNOcVF8bPHqaqsXrkZJcrNKNF363bqh/XpCh7rq/CYAIVE+MjGlm8dABjq2ts6lL4lVzu37pNM6i7PZ4xlI1IcwmAwyNHZTo7OPgoK9+k53tXZpdqqxp4lQlXl9SopqFLOruKec+wcbHqVK54+rnL35rbNlmAymdRQ16y6ykbV/GJ5TnPjTxvAGowGuXo4ys3LWWHj/XpmmLh5OfGPZwDQR/w0hUMYDAZ5+bnKy89VU+dGqry4prtYyTqggj2lsraxUsi47mIlONxbVtb8sAQAQ4nJZFLOrmIlb8xSU0OrwmMCNG1uFJuNo9+MVj/tqaIJPx1vbW5TdXl9r5Ile0dRz+ajPbdt7rVUyEXOrg7MbhgAHe2dh93LpLaqsefW2ZJka28jdy8nBY/1ObiPSfcsExc3BxlZsgUAJ4QyBUdlMBjkG+Qh3yAPTT8tRqVFVcrNKFFe1gHlZpTI1s5aoeP9FB4ToMAwL/5iBgALKy2q0tYNmao4UCvvADfNO2dKr01JgYFg52Ar/1CvXnvu9Ny2+WcFS2VprfKyfn7bZit5+LjKw+fH5ULdv2c2xKG6l1619hQlNZXdpUldVaMa6npvAOvi7iA3T2cFhHnJzbN7A1h3LyfZORx+A1gAwImjTEGfGY0GBYR6KSDUSyctmKDi/ErlZpQoP7tUe9P3y87BRmOi/BUeEyC/YE/W4gOAGdXXNGnbN1nKyzogR2c7zTkrTmMnBPJGCmbT67bNUf49x9tbO1RdUd9rJktuRomyUgt7znF2c/jFUiEXuXg4jYqfJTo7u1Rf3dgzw6RneU5lY69bW1vbWMnNy0m+wR4a7xXcs5eJi4ejrJklDABmR5mC42K0Mip4rI+Cx/po5hmd2r+vQrmZJcrZVays1EI5ONsp/GCx4hPozg/zGFWaGlrU0tBx7BOBAdDW2q4d/9un3Ul5MhgNij95nGITw9nbCkOGjZ11zyzXH5lMJjXWt/S6ZXNVeZ2KcsplOnjfZitrozy8XeTh43xwuZCrPH1chu2dBlub2w7eJafh4GyT7tKkvqa55zVLkqOLvdw9nRQRGyg3T2e5H1ye4+jCBrAAMJTwkxZOmLW1lcIi/RQW6af2tg4V5pQrN6NEmakF2p2cL2dXB4XHBCg8JkCevi78IIARq6qsTulbc7Uvo0SmLpMq875XdHyowmMCeGOLAdfVZdLenUXavilbzY1tipgYqKlzIuXkyr4oGPoMBoOcXR3k7OqgkHG+Pcc7OjpVW9nw0x2FyupVmFOuPTv395zj4GzXPYPFx6XnzkJuXs5D4rbNXV0mNdQ2/bSPyY97mlQ1qqWprec8o5VBrh5O8vR1VXh0QPd+Jl7OcvNwYoNoABgm+NMaA8rG1lpjYwI0NiZAba3tys8uVW5GidK35mrnln1y83RSeHR3seLu7WzpuMAJM5lM2p9bofStuSrJr5S1jZWip4Sqtr5STVVd+v6zdG39KkMRE4MUFR8iT19XS0fGCFCSX6mtX2WoqqxevkHumn/BVPkEuFs6FnDCrK2t5OXnJi8/t17HmxtbewqW7pksdSopqFRXZ/eMDoPRIHcv514Fi4ePixydB+e2ze2tHQdLkp9mmdRUdt9muLPzpw1g7R1t5ebppNDxfj13y3H3cpaTq8OoWMIEACMZZQoGja2djcZPCtb4ScFqaWpTXnb3prWpP+xV6g975eHjorExAWo3dVo6KtBvnR2dytldrF1JeaqpaJCjs52mzo1UVHyo7OxtlJycrIRzE1S2v0ZZqQXas6NImSkF8gl0V1R8iMKjA7htKPqtrrpRSV9nqWBPqZxdHTRvabzGRPsz4w8jnoOTnYLC7RQU7t1z7MfbNleX/1SylBZWad/un9222d5GHgfLlR/3Y/HwdunTn78mk0lN9S0Hi5KfFSeVDWpq+Nlthg0GuXg4ys3z53fN6d4E1t5heC5JAgAcG2UKzMLe0VbR8aGKjg9VU32Lcg/eDSj522zJILWUpyo6IVR+wR68KcCQ1tLcpqyUAmVsL1BzY6s8fFx0ypI4hccEHDLF3GAwyC/YQ37BHpoxP0Z70/crK7VQ363bqa0bMhQRG6To+BC5e7tY6NVguGhtaVfaDznKSM6T0dqoqXMiNWH6GDadxKjW67bNP9Pa0t5drvQsFarTnp/dtlmSXD2depYKefi4qKmuXbmZJT/tZXKwOPn5c2xsreXm5aSAMd4HN3/tLk1cPByHxBIjAIB5UabA7Bxd7DVx2hhNnDZGtVWN+vazJO3PLVduZok8fFwUnRCqiAmB7DGBIaWuulG7kvK0Z2eROju6FBTurdjEOAWEefWpALRzsNXE6eGaMG2MSgurlJVa2F3KJOfLL9hDUfEhCovy580xeunq6lJ2WqG2b9qj1uZ2jY8LVsIpkXJ0trN0NGDIsrO3kX+Ip/xDPHuOmUzdt23uKVjK61VZVtfrts17VS1JcnZ1kJuXk/ziPLr3MTlYmjg4cZthAMBPeLcKi3LzdFJglIsWXThZ+3aXKGN7vjav36Xkb7I0LjZI0QlhcvN0snRMjFImk0ll+2uUvjVXBXtKZbQyKGJCoCZODz/kX0L7ymAwyD/US/6hXprR1Ko9O/crK61Q3368Q3YbMjQuNkhR8aF830P7c8u19atM1VQ0yD/UU4mnxcjLjz13gONhMHRv+Orq8YvbNrd1qKaiQTtTd2ny1Ely83RiCSYAoE8oUzAk2NhaKyo+RJGTg1W2v1oZ2wuUkdJ9N6DAMV6KSQhTcIQvm7XBLLq6upSfXapdW3NVXlIrO3sbxc2MUExC2IDOCLB3tNOkGWMVmxiukvxKZaUWandyvnYl5ck/1FPR8aEKjfRj+vgoU1PZoKSvMlW0r1wu7o467bwEhY735V/EgUFgY2stn0B3uZXYU1YCAPqFMgVDSvceE57yC/ZUU0OrstMKlZVaoA1rtsvZ1UFRU0IUGRcse0emuGPgtbd1aM+OIu3alqeG2ma5uDvqpNMnaFxs0KAuOzMYDAoc463AMd5qamjVnp1Fyk4r1Dcfpcre0VbjJwUrKj5ELu6Og5YBltfS3KbU7/cqc3uBrG2sNP3UaMUkhMqKpV8AAABDDmUKhixHZzvFnzxOcSeNVcGeUmWkFCh5Y7ZSvtuj8OgAxSSEySfQ3dIxMQI01rcoIzlfWakFamvtkG+QuxJPi1bIOD+zz4ZydLbT5JkRmjRjrIrzKpSVWtBza/HAMd6Kig9R6DhfGZmtMmJ0dXYpI6VAqd/vVXtru6LiQzVl9jhKYwAAgCGMMgVDntHKqDHRARoTHaDq8nplphRo7679ytlVLG9/N0UnhHKbWRyXqrI6pW/NVW5GiUwmk8Ii/TVx+hj5BnlYOpqMRoOCx/ooeKyPGutbtGdHobLSivT1BylycLZT5KRgRU4OkbObg6Wj4jiZTCYV5ZQr6etM1VY1KnCMlxJPiznu/XgAAABgPkO+TOns7NQ//vEPvf/++2psbNQpp5yiO++8U97e3oc9/8CBA7rvvvu0adMm2dvb64wzztCf/vQnOTjwhmMk8PBx0cyFEzV1bqRydhUrY3u+vlu3U0lfZWp8XLCip4SyFAJHZTKZtD+3Qru25qo4v1LWNlaKmhKqidPGDNnvHScXe8WfPF5xMyNUtK9cWamFStuco7TNOQqO8FFUfIiCx7Kn0HBSXV6vrV9lqDivUm6eTlpw4VQFj/VhXxQAAIBhYsiXKU899ZTef/99Pfjgg3J3d9c999yjG264QW+99dYh57a1tWn58uXy8fHRW2+9pZqaGq1atUpGo1F33nmnBdJjsNja2SgmIUzRU0JVUlClzO3dm3amb81VSISPohPCFBTuzRsT9Ojs6NS+3SVKT8pVTUWDHJ3tNHVupKLiQ2Vnb2PpeH1iNBoVOs5PoeP81FDbrOy0QmXvLNKG/26Xo4u9IuO6Z6s4udhbOiqOoKWpVds37VF2WqFs7Gw0Y36MoqeEsmwLAABgmBnSZUpbW5tef/11/fWvf9XJJ58sSXrsscc0f/58bd++XQkJCb3OX7t2rcrLy/X222/Lzc1NkrRy5Uq9/fbbZs8O8zAYDAoM81JgmJca65qVlVqorLRCFb67TS4ejoqOD9X4uOBh82YZA6+luU1ZKQXK2F6g5sZWefi46JQlcQqPCRjWd8lxdnNQwpxIxZ88TgV7y5SVWqjU7/cq7YcchYzzUdTkUAWGezNbZYjo7OjU7uR8pf2Qo46OTkUnhGnKyeNk52Br6WgAAAA4DkO6TMnMzFRjY6MSExN7jgUHBysoKEjbtm07pEz57rvvNGvWrJ4iRZIuvPBCXXjhhWbLDMtxcu1+czl5VoTyskuVuT1fSV9navumbEVMCFR0Qhi3PRxF6qobtWtbnvbu3K+O9k4FhXtr4vQ4BY7xGlEzloxWRo2J8teYKH/V1zQpK61Qe3YUqWBPmZzdHBQ5OUTjJwUP6C2d0Xcmk0kFe0qV9HWm6muaFRzho+mnRsvdy9nS0QAAAHAChnSZcuDAAUmSn59fr+O+vr49j/1cXl6eTjrpJP3jH//QRx99JIPBoIULF+rmm2+WnR1vJEYLK2srRUwIVMSEQFWW1ilze75ydhcre0eRfIPcFZ0QpjFR/sN6VgKOrLSoWulJuSrILpXRyqCICYGaOD18VGzq6eLuqGlzozRl9ngVZJcqM7VA27/tvgNW2Hg/RcWHKCBsZJVJQ1llaa22bsjUgcIquXs7a+HF0xQU7mPpWAAAABgABpPJZLJ0iCP58MMPtWrVKmVkZPQ6fvXVVyskJET33ntvr+Onn366ampqNGfOHC1btkylpaX6+9//rpNOOkkPPvhgn67Z2tqq9PT0AXsNGBo62rtUXdyiyqJmtTV3ytrWIM8gB3kGOcjWnrsADXcmk0m1Za2qKGhSU22HrKwN8gp2kFeIg2zsRvfXt7WxQ5X7m1Vd0qLOdpNsHazkGWQvz0AHWdtSKA6G9tZOHchpVHVxi6xsDPKPcJZnoL0MLLkCAAAYMLGxsRadNDGkZ6bY29urq6tLHR0dsrb+KWpbW9th785jbW0tNzc3PfTQQ7KystKkSZPU0dGhm266SatWrZKHR99vd2rpL8xokpycrKlTp5rlWj/eySVze74Kc8pVntes0PG+ik4IU0Co54j/F3tzjrU5tLd1aM+OIu3alqeG2ma5uDvqpNMjNS42SDa2lv3jbaiNdUdHp/KzDigrtVAH9larLLdJYZH+io4PkV/I8P7eHypj3dHeqV3b8rR7S466OroUmxiuuJkRI27PpqEy3qMBY20+jLV5Md7mw1ibD2NtPkNlAsSQLlMCAgIkSeXl5T2/l6SysrJDlv5I3cuB7OzsZGX1079Ejxs3TpK0f//+fpUpGJkMBoOCx/ooeKyP6mualJlSoD07ipSfXSo3LyfFJIQpYmKgbO1G1pufkaapvkW7t+crK6VAba0d8g1yV+Jp0QoZ58eGq0dgbW2liIlBipgYpJqKemWmFionfb9yM0rk5umkqPgQjYsNYkPU42AymZSbeUDJ32Spoa5ZoZF+mj4vSq4eTpaOBgAAgEEypMuU6OhoOTk5aevWrTrnnHMkSUVFRdq/f7+mT59+yPnTpk3TO++8o/b2dtnYdL8Zzs7OlpWVlYKCgsyaHUOfi7ujpp8arSmzxys3s0SZ2wv0vy92a9vGLI2bGKSYhFC5e4/8fTaGk6qyOqUn5Sl3d7FMJpPCIv01cfoY+QZRlPaHu7eLTlowQdPmRik3s0RZqYXa+lWmkjdma0y0v6LiQ+Ub5D6sZ6uYS3lxjbZ+laGy/TXy9HXRoiWJCgj1snQsAAAADLIhXabY2trq8ssv10MPPSQPDw95eXnpnnvuUWJiouLj49XW1qba2lq5ubnJ1tZWl156qd544w2tWrVK1113nUpLS/Xwww/rnHPOYVYKjsjaxkrjJwVr/KRglRfXKCOlQNk7CpWZUiD/UE/FJIQpdLyvjEb2l7AEk8mk4twKpSflqjivUtY2VoqaEqqJ08bIxd3R0vGGtZ9/71eV1SkrtVA5u/YrZ1ex3L2dFRUfqoiJgSNumcpAaKxrVvK32crZVSwHJ1udvChW4yYFMzMKAABglBjSZYok3Xzzzero6NAf/vAHdXR06JRTTtGdd94pSUpJSdHVV1+t119/XTNmzJC3t7f+85//6P7779f5558vR0dHLV26VLfeequFXwWGC59Ad/kEuivx1Chl7yhSZkqBvv4gRY7OdoqKD1Xk5BBuMWsmnR2d2re7ROlJuaqpaJCDs52mzo1UVHwob+4Hgaevq2YunKhp86KUm9E9W2XLl7u17ZtMjY0JVFR8iLwD3Eb9bJX2tg6lb83Vzi37JJMUNzNCcTPGysZuyP91CgAAgAE05H/6s7a21qpVq7Rq1apDHpsxY4aysrJ6HRs3bpxefvllc8XDCGXvaKe4kyIUmzhWRTllytheoJTv9ijth70Ki/JXTEKofIM8Rv0by8HQ2tymzNRCZSTnq7mxVR4+LjplSZzCYwK4nbUZ2NhaK3JyiCInh6jiQK2yUgu1b3ex9uwskqevi6KmhCoiJnDUlQcmk0k5u4qVvDFLTQ2tCo8O0NR5kXJxY3YUAADAaDS6fhoG+sloNCh0vJ9Cx/uptqpRmdvztffgpp2evi6KnhKmsRMCLH7nmJGgrrpRu7blae/O/epo71RQuLcmTo9T4BgvSisL8fZ3k/ciN00/NUr7dhcrK7VQm9fvUtLXP5ut4u9m6ZiDrrSoWlu/ylBFSa28A9w075wp8gtm6SgAAMBoxjtAoI/cPJ00Y8EEJcyJ1L7dxcrYXqAf1qdr2zeZGjcpWNFTQuXmyd07+qu0qFq7knKVn10qo9GgsRMCNTExXJ4+bP47VNja2Sh6Spii4kNVXlzTs7dKdlqhvAPcFDU5ROExI69UbKht1rZvspSbWSJHZzudsiROERMDKfcAAABAmQL0l42tdc/+KaVF1crcXqCM7fnavS1PQeHeik4IVfBYXzaiPIquLpMKsg8oPSlP5cU1srW3UdzMCMUkhMrR2d7S8XAEBoNBvkEe8g3yUOL8GOWk71dWaqG+/yxdW7/KVERsoKLiQ4d9Edbe2qEdW/Zp19ZcySDFnzxOsYnhI64sAgAAwPHjJ0PgOBkMBvmHeMo/xFNNDS3KTitUVmqhNvx3u5zdHBQVH6LIuBDZO9paOuqQ0d7WoT07i7QrKU8Ntc1ycXfQSadP0LjYIN6oDjN29jaaMG2MYqaGqWx/tbJSC7UnrUiZ2wvkG+SuqPhQjYnyl7WNlaWj9llXl0l704u0/ds9am5sVcTEQE2dEyknVwdLRwMAAMAQw7sXYAA4Otsr/uTxijspQgV7SpWxvUDJG7OV+t1ehccEKDohVD4B7paOaTFN9S3avT1fWSkFamvtkG+Qu6afGq3Q8X7M4BnmDAaD/II95RfsqcT5Mdq7c7+y0gq16ZMd2rIhQ+Mmds9Wcfd2tnTUoyopqNTWDRmqKquXT6C75p+fIJ9Ad0vHAgAAwBBFmQIMIKOVUWOiAzQmOkDV5fXKTCnQ3vT92pu+X94BboqeEqrwmABZWw+ff60/EVVlddqVlKd9u4tlMpkUOt5PsYnh8g1i886RyN7BVrGJ4Zo4fYwOFFQpK7VQmSkF2p2cL78Qj+7ZKpF+shpC3/911Y1K+iZLBdmlcnK119yl8QqP9mdfFAAAABwVZQowSDx8XDRz4URNnRupvenFytyer+/W7VTS15mKjAtR1JSQEXlbVZPJpOLcCqUn5ao4r1LWNlaKmhKqidPGyMV95L1eHMpgMCggzEsBYV5qbmzVnp1Fyk4r1Ldr07TFwUbjJwUrcnKIRTdsbmttV9oPOdq9LU9GK6MS5kRq4rQxw2pZEgAAACyHMgUYZLZ2NpowNUwxCaEqKahSxvZ8pW/dp51b9ilknK9ipoQqMNx72P9LeGdHp/ZllGhXUp6qy+vl4GynqXMjFRUfKjt7G0vHg4U4ONkp7qQITZoxVsV5lcpKLdCupDylb81VQJiXouJDFDreT1ZWRrPk6erqUnZakVK+26OWpjaNnxSshDnj2fgYAAAA/UKZApiJwWBQYJiXAsO81FDXrKzUQmWnFapwb5lcPRwVPSVU4yYFD7viobW5TZmphcpIzldzY6s8fFw0+8xJGjsh0GxvkDH0GQwGBYV7KyjcW00NLdqzo0hZaYX65sNU2TvaKjKue7bKYM5e2p9boa1fZaimokH+IZ5KvDhaXn5ug3Y9AAAAjFyUKYAFOLs6aOqcSMXPilBedqkykvO19atMbd+0R2MnBComIVSevq6WjnlUddWN2r0tX3t2FqmjvVNB4d6aOD1OgWO8hv0sGwwuR2d7TZ41TpNOitD+3HJlpRZq55Z92vG/fQoK91ZUfKhCxvnIaByYMq62skFJX2eqMKdcLu4OOvXcKQqL9OP7FAAAAMeNMgWwICtrK0VMCFTEhEBVltYqY3uBcnbtV3ZaoXyDPBSTEKqwKP8hNcOjtKhau5JylZ9dKqPRoLETAjUxMVyePi6WjoZhxmg0KCTCVyERvmqoa9aeHd17q3z1/nY5Ottp/MHZKs7HeWvi1uY2pX6/VxkpBbK2ttK0eVGaMDVsSG2ACwAAgOGJMgUYIrz83DR78SRNPzVae3YUKTOlQBvXpsnhqwxFTg5RVHyonFwss69DV5dJBXtKlb41V+XFNbK1t1HcSWMVkxAmRwtlwsji7OqgKbPHa/KsCBXmdM9WSfshRzs25yh4rI+i4kMVNNanT7fS7ursUmZqgVK+26v21nZFTg7RlNnj5eBkZ4ZXAgAAgNGAMgUYYuzsbXpuL7t/X4UyUvIPvqncp9DxvopJCJN/qKdZlii0t3Voz84i7d6Wp/qaZrm4O2jGggkaPylINrb88YGBZzQaFTbeT2Hj/VRf26TstCLt2VGowv8my8nFXpGTQxQZF3zYEs9kMqloX7mSvspUbVWjAsO8NH1+DLOmAAAAMOB4NwQMUQaDQcERPgqO8FF9TZMyUwq0Z0eR8rNL5e7lrOiEUI2bGCQbu4H/37ipoUUZyfnKTC1UW0u7fIPcNW1etELH+/VpZgAwEFzcHDV1TqSmnDxOBXvLlJVSoJTv9ij1+70KGe+r6MkhCgz3liRVl9dr61eZKs6rkKunkxZcMFXBET7siwIAAIBBQZkCDAMu7o6afmq0pswer9yMEmWk5Ot/X+xW8sYsRcQGKWZKmNy9nU/4OlXl9dq1NVf7dhfLZDIpdLyfYhPD5RvkMQCvAjg+RiujxkT5a0yUv+qqG5WVVqi9O/erILtUzm4OsrLv0s4N38nGzkaJ82MUPSV0SO0zBAAAgJGHMgUYRqxtrDQ+LljjJgWpoqRWGdvzlZ1WqMztBQoI81L0lFCFjvft111QTCaTivMqlL41T8V5FbK2sVLUlFBNnDZmUG9TCxwPVw8nTZ8XrYTZ45WfXaqstEKVFlYpOiFM8SePk72DraUjAgAAYBSgTAGGIYPBIJ9Ad/kEuivxtGhlpxUpM7VAX3+QIkcXe0XFhyhqcshRN9zs7OjUvowS7UrKU3V5vRyc7TR1TqSi4kNkxxtSDHFW1lYaOyFQYycEatu2bZo2bYKlIwEAAGAUoUwBhjl7RzvFzYxQ7IyxKswpU+b2fKVs2qO07/dqTLS/oqeEyTfIvWfviNbmNmWlFmr39nw1N7TKw8dFs8+cpLExAdwyFsMS+6IAAADA3ChTgBHCaDT03AWltrKhe8Panfu1b3eJPH1dFBUfqv2Z9dq98Rt1tHcqcIy3TjlzkgLHePNmFAAAAAD6gTIFGIHcvJw1Y8EEJcyJVM7uYmVuL9Dmz3fJYJAiJgZpYmI4t4sFAAAAgONEmQKMYDa21oqOD1XU5BBVldVpT06WTpoVZ+lYAAAAADCsce9IYBQwGAzy8nOTjR17ogAAAADAiaJMAQAAAAAA6AfKFAAAAAAAgH6gTAEAAAAAAOgHyhQAAAAAAIB+oEwBAAAAAADoB8oUAAAAAACAfqBMAQAAAAAA6AfKFAAAAAAAgH6wtnSAocZkMkmS2traLJxkdGltbbV0hFGDsTYfxtp8GGvzYrzNh7E2H8bavBhv82GszYexNo8f36v/+N7dUgwmSycYYurr65WdnW3pGAAAAAAA4AgiIyPl4uJisetTpvxCV1eXGhsbZWNjI4PBYOk4AAAAAADgIJPJpPb2djk5OclotNzOJZQpAAAAAAAA/cAGtAAAAAAAAP1AmQIAAAAAANAPlCkAAAAAAAD9QJkCAAAAAADQD5QpAAAAAAAA/UCZAgAAAAAA0A+UKQAAAAAAAP1AmQIAAAAAANAPlCkAAAAAAAD9QJkCAAAAAADQD5QpAAAAAAAA/UCZAgAAAAAA0A+UKQAAAAAAAP1AmQIAAAAAANAPlCkAAAAAAAD9QJkCAAAAAADQD5QpAAAAAAAA/UCZAgAAAAAA0A+UKQAAAAAAAP1AmQIAAAAAANAPlCkAAAAAAAD9QJkCAAAAAADQD5QpAAAAAAAA/UCZAgAAAAAA0A+UKQAAAAAAAP1AmQIAAAAAANAPlCkAAAAAAAD9QJkCAAAAAADQD5QpAAAAAAAA/UCZAgAAAAAA0A+UKQAAAAAAAP1AmQIAAAAAANAPlCkAAAAAAAD9QJkCAAAAAADQD5QpAAAAAAAA/UCZAgAAAAAA0A+UKQAAAAAAAP1AmQIAAAAAANAPlCkAAAAAAAD9QJkCAAAAAADQD5QpAAAAAAAA/UCZAgAAAAAA0A+UKQAAAAAAAP1AmQIAAAAAANAPlCkAAAAAAAD9YG3pAENNV1eXGhsbZWNjI4PBYOk4AAAAAADgIJPJpPb2djk5OclotNz8EMqUX2hsbFR2dralYwAAAAAAgCOIjIyUi4uLxa5PmfILNjY2krq/MLa2thZOMzqkp6crNjbW0jFGBcbafBhr82GszYvxNh/G2nwYa/NivM2HsTYfxtp82tralJ2d3fPe3VIoU37hx6U9tra2srOzs3Ca0YOxNh/G2nwYa/NhrM2L8TYfxtp8GGvzYrzNh7E2H8bavCy9LQcb0AIAAAAAAPQDZQoAAAAAAEA/UKYAAAAAAAD0A2UKAAAAAABAP1CmAAAAAAAA9ANlCgAAAAAAQD9QpgAAAAAAAPQDZQoAAAAAABjyTCaTqisaLB1DEmUKAAAAAAAY4kwmk5K+ztKX722zdBRJlCkAAAAAAGAIM5lM+t8Xu7UrKVfW1laWjiNJsrZ0AAAAAAAAgMPp6jLp+093am/6fk2aMVYuHvZq6KiwdCxmpgAAAAAAgKGnq7NL365N0970/Zoye7ymzo1UyDgfS8eSxMwUAAAAAAAwxHR0dOqbD1NVuLdM00+NVmxiuCTJimU+AAAAAAAAvXW0d2rDmmQV51XqpNMnKCYhzNKRDkGZAgAAAAAAhoT21g598d9tKiuq1uwzJ2n8pGBLRzosyhQAAAAAAGBxrS3t+uKdJFUcqNOcsyZr7IRAS0c6IsoUAAAAAABgUS1NrVq/Okk1lQ069bwpChvvZ+lIR0WZAgAAAAAALKapoUXr305SfW2TFpw/VUFjh8Yde46GMgUAAAAAAFhEQ12zPnt7q5obW7XwomnyD/WydKQ+oUwBAAAAAABmV1fdqM/e3qr21g6dcfF0+QZ5WDpSn1GmAAAAAAAAs6qpqNdnq5PU1dmlRZclysvPzdKR+oUyBQAAAAAAmE1laZ3Wr94qo9GoxZfNkIePi6Uj9RtlCgAAAAAAMIvy4hp9/k6SbGytdcaliXLzdLJ0pONCmQIAAAAAAAbdgcIqffneNtk72mrRpTPk7OZg6UjHjTIFAAAAAAAMqv25FdqwJlnOrg4649JEObnYWzrSCaFMAQAAAAAAg6Zgb6m+/iBF7l7OWnjxdDk42Vk60gmjTAEAAAAAAIMiN6NEGz9Ok5efqxZeNE12DraWjjQgjOa+YEVFhf70pz9p9uzZmjZtmn7zm98oOzu75/ELLrhAUVFRvX7dfvvtPY9XVlbqpptu0rRp0zRz5kw9/PDD6ujo6HWNV199VaeeeqomT56s5cuXKy8vz1wvDwAAAAAASNqbvl8b16bKN9BdZ1wyfcQUKZKZZ6Z0dXVp5cqVMplMevbZZ+Xo6KinnnpKy5Yt0yeffCJ3d3ft27dPjzzyiE466aSe5zk4/LQpzQ033CCDwaB///vfKi0t1apVq2Rtba3f//73kqR3331XTz75pO677z6Fh4fr8ccf129/+1utW7dOtrYj5wsHAAAAAMBQlZlaoM3rdykwzEunnZ8gG9uRtTDGrDNTMjMzlZKSovvuu09xcXEaN26cHn74YTU1NWnjxo0qLCxUU1OT4uPj5ePj0/PL2dlZkpSSkqLk5GQ98MADio6O1ty5c/XHP/5Rb7zxhtra2iRJL730kpYvX65FixYpKipKjz76qCorK7V+/XpzvlQAAAAAAEalXUm52rx+l0IifDT/wqkjrkiRzFymBAQE6IUXXlB4eHjPMYPBIJPJpNraWmVnZ8ve3l5BQUGHff62bdsUFBSkkJCQnmOJiYlqbGxURkaGKisrlZeXp8TExJ7HnZycFBsbq23btg3eCwMAAAAAAEr7Ya+2fpWpMVH+OvW8BFlbW1k60qAwa5ni4eGhefPmyWj86bJvvPGGWltbNXv2bO3Zs0cuLi667bbbNHv2bJ199tl65ZVX1NXVJUkqLS2Vr69vr8/548clJSU6cOCAJMnPz++Qc358DAAAAAAADCyTyaTkjVnavmmPIiYGau7SybKyMvs2rWZj0bk2GzZs0GOPPably5crIiJCe/fuVVNTk2bPnq1rrrlG27dv10MPPaT6+nrdeOONam5ulp1d71so2djYyGAwqLW1Vc3NzZJ0yDm2trZqbW3tV7b09PQTe3Hol+TkZEtHGDUYa/NhrM2HsTYvxtt8GGvzYazNi/E2H8bafEbzWJtMJhVnN6iysFmeQfZy9G9XSkqKpWMNKouVKWvWrNEdd9yhM888U3/4wx8kSQ8++KCamprk6uoqSYqKilJ9fb2ef/553XDDDbK3t+/ZG+VH7e3tMplMcnR0lL29vSQdck5bW1uvTWz7IjY29pBSBoMjOTlZU6dOtXSMUYGxNh/G2nwYa/NivM2HsTYfxtq8GG/zYazNZzSPtclk0g/rd6mysFwTpo1R4mnRMhgMg3a91tbWITH5wSJzbp577jn9+c9/1qWXXqqHHnqoZ9mPtbV1T5Hyo6ioKDU2Nqq+vl7+/v4qLy/v9XhZWZmk7qU9AQEBknTYc3659AcAAAAAABy/rq4ubfpkh7LTChU3M2LQi5ShxOxlyosvvqh//OMfuvHGG3XHHXf0GuiLL75Y9957b6/zd+7cKV9fX7m6umrq1KkqLCxUSUlJz+NbtmyRk5OToqOj5eXlpTFjxmjr1q09jzc2Nio9PV3Tp08f/BcHAAAAAMAo0NnZpW8+TFXOrmIlzInU1DmRo6ZIkcy8zCczM1OPP/64LrjgAl188cW9ZpA4OTnp9NNP15NPPqmJEycqISFBW7Zs0UsvvaTbb79dkjRlyhTFx8fr97//ve644w5VVFTokUce0fLly2VraytJWrZsmR566CGFhYVp/Pjxeuyxx+Tr66vTTz/dnC8VAAAAAIARqaOjU19/kKKinHIlnhatidPDj/2kEcasZcq6devU2dmp//73v/rvf//b67GbbrpJ1157raytrfXcc8+puLhYgYGB+vOf/6yLLrpIUvdtlJ9++mndfffduuKKK+Tk5KQLL7xQ119/fc/nueyyy1RfX6/7779fjY2NSkhI0EsvvdRTtgAAAAAAgOPT3tahDWu2qyS/UrPOmKio+FBLR7IIs5Ypt9xyi2655ZajnrN8+XItX778iI/7+PjomWeeOernWLFihVasWHFcGQEAAAAAwKHaWtv1xbvJKi+u1pyz4hQxMcjSkSzGordGBgAAAAAAQ19rc5s+f2ebKsvqNG9pvMZEB1g6kkVRpgAAAAAAgCNqbmzV+tVJqqtq1PzzEhQyztfSkSyOMgUAAAAAABxWY32L1r+9VY31LVpw4VQFjvG2dKQhgTIFAAAAAAAcor62Sevf3qqWpjYtvHia/II9LR1pyDD25aSNGzeqoaHhiI9v2LBhwAIBAAAAAADLqq1q1Lr/bFFrS4fOuDSRIuUX+lSm3HTTTUpOTj7keGlpqa6//nqtXLlywIMBAAAAAADzqy6v16dv/k9dnV1afFmifALcLR1pyOlTmbJ06VLdeOONWrVqldLT0yVJ69at0+LFi7Vjxw794x//GMyMAAAAAADADCoO1OrTt7bIYDBo8eUz5OnraulIQ1KfypS//e1veu6551RTU6NLLrlEjz/+uP7whz9o6dKl+vTTT3XGGWcMdk4AAAAAADCIyvZXa/3bW2VjY63Fl8+Qu5ezpSMNWX3egHbWrFmaNWuWNm3apBUrVuh3v/udbrrppsHMBgAAAAAAzKCkoFJfvpcsB2c7Lbo0Uc6uDpaONKT1qUy59dZbe37f2dkpk8mklJSUXscfffTRgU8HAAAAAAAGVdG+cn31/na5uDnqjEuny9HZ3tKRhrw+lSkpKSm9Pg4MDFRBQYEKCgokSQaDYeCTAQAAAACAQZWfXapvPkyRu4+Lzrh4uuwdbS0daVjoU5ny1VdfDXYOAAAAAABgRvt2F+vbj3fIO8BNp180TXb2NpaONGz0ec8USaqrq1Nqaqrq6+vl6empuLg4OTk5DVY2AAAAAAAwCLJ3FOr7T9PlH+KpBRdMlY1dv+qBUa/Po/XSSy/pmWeeUUtLi0wmkyTJzs5O119/vVasWDFoAQEAAAAAwMDJ2J6v/32xW4FjvDX//ARZ21hZOtKw06cy5cMPP9QjjzyiJUuW6JxzzpGvr69KS0v14Ycf6vHHH5e/v7+WLl062FkBAAAAAMAJ2Llln7Z9k6XQ8b6atzReVtYUKcejT2XKK6+8ovPPP1/33Xdfz7Ho6GjNnTtXDg4Oeu211yhTAAAAAAAYokwmk1K/36vU7/cqPCZAc5bEyWhltHSsYatPI7dv3z6deeaZh31s8eLFysnJGdBQAAAAAABgYJhMJm37Jkup3+/V+ElBmnPWZIqUE9SnmSne3t6qqKg47GNlZWWyt+ce1AAAAAAADDUmk0n/+3K3MrcXKDohVCctmCCDwWDpWMNen6qok08+WU8++aTy8/N7Hc/Ly9PTTz+t2bNnD0o4AAAAAABwfLq6TPr+053K3F6g2MRwipQB1KeZKTfffLO+/fZbLVmyRLGxsT0zVdLT0+Xl5aVbb711sHMCAAAAAIA+6urs0ref7FBuRoniTx6n+JPHUaQMoD7NTPHy8tL777+vZcuWqaurS3v27FFXV5eWL1+uNWvWKCAgYLBzAgAAAACAPujs6NTXH6YqN6NE0+ZFacrs8RQpA6xPM1MkydPTU7fddttgZgEAAAAAACego71TX72/XftzKzRjwQRNmBpm6UgjUp/KlA8++OCY55x77rknGAUAAAAAAByv9tYOfbkmWQcKqnTy4lhFxoVYOtKI1acyZdWqVTIYDDKZTId93GAwUKYAAAAAAGAhrS3t+uLdbaooqdXcsydr7IRAS0ca0fq8zOexxx5TVFTUYGYBAAAAAAD91NLUpvXvJKmmvF6nnhuvsEh/S0ca8fpcpgQFBWns2LGDmQUAAAAAAPRDU0Or1q/eqvqaJs0/f6qCI3wsHWlU6HOZAgAAAAAAho6Gumatf3urmhpadfqF0xQQ5mXpSKMGZQoAAAAAAMNMfU2TPntrq1pb2rXw4unyC/awdKRRpc9lyooVK2RtffjTDQaDNm3aNGChAAAAAADA4dVUNmj921vV2dGlRZclytvfzdKRRp0+lSnnnnuuDAbDYGcBAAAAAABHUVVWp/Wrk2QwSIsvnyEPHxdLRxqV+lSm3H///ZQpAAAAAABYUHlJjT5/Z5usbay06NJEuXk6WTrSqGXsy0lz587V448/rsLCwsHOAwAAAAAAfqG0qErr394qWztrnXn5DIoUC+tTmTJ//ny9/fbbWrhwoa666ip99NFHam1tHexsAAAAAACMesV5Ffr8nW1ycLbXmZfPkIu7o6UjjXp9KlPuuusubdq0SQ8//LBsbW21atUqzZ49W3fffbfS09MHOyMAAAAAAKNSYU6ZvnwvWS7ujjrz8hlycnWwdCSoH3fzsbW11VlnnaWzzjpLBw4c0Lp16/TJJ59o9erVioyM1GWXXabzzjtPdnZ2g5kXAAAAAIBRIS/rgDZ+lCpPX1edfvE02TvYWjoSDurTzJSf6+zs1O7du7Vr1y7l5eXJzs5O3t7eevDBB7VgwQKlpKQMRk4AAAAAAEaNnF379c2HKfIOcNcZl06nSBli+jwzJSMjQ++//74+/vhjVVVVKSYmRrfccouWLl0qFxcX1dXV6de//rVWrVql9evXD2ZmAAAAAABGrKzUAv2wfpcCwrw0//wE2dj2+a07zKRPX5GlS5dqz549cnJy0pIlS3TRRRcpNja21zmurq6aN2+eXnvttUEJCgAAAADASLdrW562bshQ8FgfnXruFFnbWFk6Eg6jT2WKo6Oj7r33Xi1evFgODkfe7GbhwoU67bTTBiwcAAAAAACjxY7NOUr+NlthkX6auzReVlb93pkDZtKnMuXaa6/V1KlTj1ikbNiwQfPnz1dkZOSAhgMAAAAAYKQzmUxK2bRHaZtzNHZCoE5ZMklGI0XKUNanr85NN92k5OTkQ46Xlpbq+uuv18qVKwc8GAAAAAAAI53JZFLSV5lK25yjyLhgnbIkjiJlGOjTV2jp0qW68cYbtWrVKqWnp0uS1q1bp8WLF2vHjh36xz/+MZgZAQAAAAAYcUwmkzZ/vku7tuUpZmqYZi2KldFosHQs9EGflvn87W9/06JFi/T666/rkksu0W9/+1u99NJLuuiii3TbbbfJ2dl5sHMCAAAAADBidHV16btP05WTvl+TThqrqXMiZTBQpAwXfb6/0qxZszRr1ixt2rRJK1as0O9+9zvddNNNg5kNAAAAAIARp7OzS9+uTVNe1gFNOWW8Js+MoEgZZvpUptx66609v+/s7OzeHCclpdfxRx99dODTAQAAAAAwgnR0dOqbD1NVuLdM00+NVmxiuKUj4Tj0qUxJSUnp9XFgYKAKCgpUUFAgSTRoAAAAAAAcQ0d7pzasSVZxXqVmLpyg6Clhlo6E49SnMuWrr74a7BwAAAAAAIxYba3t+vK9ZJXtr9bsMydp/KRgS0fCCejX/Zbq6ur07bff6pNPPtHmzZvV2NjY7wtWVFToT3/6k2bPnq1p06bpN7/5jbKzs3se/+6773TOOecoLi5OZ599tjZu3Njr+ZWVlbrppps0bdo0zZw5Uw8//LA6Ojp6nfPqq6/q1FNP1eTJk7V8+XLl5eX1OycAAAAAAAOhtblN61cnqay4RnPPjqdIGQH6vAHtSy+9pGeeeUYtLS0ymUySJDs7O11//fVasWJFnz5HV1eXVq5cKZPJpGeffVaOjo566qmntGzZMn3yySeqrKzUtddeq+uuu04LFy7U2rVrdf311+v999/X+PHjJUk33HCDDAaD/v3vf6u0tFSrVq2StbW1fv/730uS3n33XT355JO67777FB4erscff1y//e1vtW7dOtna2vZ3fAAAAAAAOG7Nja36/J0k1VQ26LTzpih0nJ+lI2EA9GlmyocffqhHHnlEp512ml544QV98MEHeuGFFzR//nw9/vjj+uijj/p0sczMTKWkpOi+++5TXFycxo0bp4cfflhNTU3auHGjXn/9dcXHx+vaa69VRESEbr75Zk2ZMkWvv/66pO69W5KTk/XAAw8oOjpac+fO1R//+Ee98cYbamtrk9Rd+ixfvlyLFi1SVFSUHn30UVVWVmr9+vXHOUQAAAAAAPRfU32LPn1zi2qrGrXggmkUKSNIn2amvPLKKzr//PN133339Rz7scxwcHDQa6+9pqVLlx7z8wQEBOiFF15QePhPuxUbDAaZTCbV1tZq27ZtWrx4ca/nzJgxQ5988okkadu2bQoKClJISEjP44mJiWpsbFRGRoaCg4OVl5enxMTEnsednJwUGxurbdu26eyzz+7LywUAAAAA4IQ01Dbrs7e3qrmpVQsvni7/EE9LR8IA6tPMlH379unMM8887GOLFy9WTk5Ony7m4eGhefPmyWj86bJvvPGGWltbNXv2bB04cEB+fr2bOl9fXx04cECSVFpaKl9f30Mel6SSkpKe8472OQAAAAAAGEx11Y1a95//qbW5TYsuSaRIGYH6NDPF29tbFRUVh32srKxM9vb2x3XxDRs26LHHHtPy5csVERGhlpaWQ/Y1sbW1VWtrqySpublZdnZ2vR63sbGRwWBQa2urmpubJemQc37+OfoqPT29vy8HJyA5OdnSEUYNxtp8GGvzYazNi/E2H8bafBhr82K8zYexNp8fx7qloUP7ttfIZDJpbIK7CkpyVFBi4XAYcH0qU04++WQ9+eSTmjJlisLCfroPdl5enp5++mnNnj273xdes2aN7rjjDp155pn6wx/+IKm7BGlvb+91XltbmxwcHCRJ9vb2PXuj/Ki9vV0mk0mOjo49pc4vz/n55+ir2NjYQ0oZDI7k5GRNnTrV0jFGBcbafBhr82GszYvxNh/G2nwYa/NivM2HsTafH8e6srRW61cnycbWRosumS53bxdLRxtxWltbh8Tkhz6VKTfffLO+/fZbLVmyRLGxsT0zVdLT0+Xl5aVbb721Xxd97rnn9I9//ENXXnml/vrXv8pgMEjq3lOlrKys17llZWU9y3b8/f0PuVXyj+f7+fkpICBAklReXt6r9CkrK1NERES/MgIAAAAA0FflxTX6/J0k2dhZa9GliXL1cLJ0JAyiPu2Z4uXlpffff1/Lli1TV1eX9uzZo66uLi1fvlxr1qzpKTH64sUXX9Q//vEP3Xjjjbrjjjt6ihRJmjp1qpKSknqdv2XLFk2bNq3n8cLCQpWUlPR63MnJSdHR0fLy8tKYMWO0devWnscbGxuVnp6u6dOn9zkjAAAAAAB91VDdps9Wb5Wdg63OvPwkipRRoE8zUyTJ09NTt9122wldLDMzU48//rguuOACXXzxxSovL+95zMnJSVdeeaUuuOACPfnkk1qyZIk+/vhjpaWl6e6775YkTZkyRfHx8fr973+vO+64QxUVFXrkkUe0fPnynr1Wli1bpoceekhhYWEaP368HnvsMfn6+ur0008/oewAAAAAAPyotblNpUXVOlBYrdyUGrl6OGnRJYlydDm+PUUxvPSpTPnggw+Oec655557zHPWrVunzs5O/fe//9V///vfXo/ddNNNuu666/T000/r4Ycf1osvvqixY8fq+eef71miYzAY9PTTT+vuu+/WFVdcIScnJ1144YW6/vrrez7PZZddpvr6et1///1qbGxUQkKCXnrppUM2tgUAAAAAoK8a61tUWlh1sECpUk1FgyTJaGWQs4etzrx8huwd2XdztOhTmbJq1SoZDAaZTKbDPm4wGPpUptxyyy265ZZbjnrOvHnzNG/evCM+7uPjo2eeeeaon2PFihVasWLFMfMAAAAAAPBLJpNJddVNKi2qUmlhtUqLqlRf0333WGtbK/kFeWhsTID8QjzlHeCmtLRUipRRps/LfB577DFFRUUNZhYAAAAAAMzOZDKpurxeBwqre2afNDe2SpLsHGzkF+KpmIQw+YV4ytPXRUZjn7YfxQjW5zIlKChIY8eOHcwsAAAAAAAMus7OLlUeqO1ZslNWVK221g5JkpOLvQLCvOQX4iH/YE+5eTn1unEKIPWjTAEAAAAAYDhqb+tQeXFNT3lSXlyjzo4uSZKbp5PGRAfIL9hD/iGecnZzsHBaDAeUKQAAAACAEaW1pf2n/U4Kq1RRWidTl0kGg+Th66qoySHyC/GUX7CHHJzY6wT91+cyZcWKFbK2PvzpBoNBmzZtGrBQAAAAAAD0VVN9iw4UVfcUKNXl9ZK677TjE+CuSYnh8gv2lG+wu2ztbCycFiNBn8qU8847b7BzAAAAAABwTCaTSfU1TSot7F6yU1pUrfqaJkmStY2VfIM8NCbaX/4hnvL2d5O1jZWFE2Mk6lOZcv/99w92DgAAAAAADvHjnXZ+3O+ktKhazQ0/u9NOsKeip4TKP8RTnn7caQfmwZ4pAAAAAIAho6uzSxUH77RTWlil0v01amtplyQ5utgrINRTfsHd+524eztzpx1YBGUKAAAAAMBiOto7VVZc012cFFWrvLhGHe2dkiRXTyeNifTr3iw2xEPOrg6UJxgSKFMAAAD+f3v3HR5VmfYP/HumZJKZ9DbpCekECGkEkKBI01VBXkVfXXkVVtRVBPSHHSy76FoAFYTVFVRU7Cur4u5aQKQIhCRESnoC6b2QnkmZ8/sjYWAIZUIyLfl+riuX5Dwz59znloSZe577eYiIyGQ0HV2oLm1AZd9isbWVjRC1IgDA1dMBYdF+8PJzgdrflTvtkMViMYWIiIiIiIiMpq2lo3eL4r41T3Q77UgEuHs7YWziKKj9XODp6wKFLXfaIevAYgoRERERERENCd1OO33rnVSWNqC54ZyddnycEZQUBrW/Czy8nbnTDlktg4spDQ0NeP/995GcnIympia4uLggMTER99xzD1xdXY0ZIxEREREREVkgURTRUNvSu95JSQOqSuvRdmanHVs5PP1cEBkTALWfC9zUjpBIudMODQ8GFVOqq6txxx13oKqqCmPGjEFISAiqq6uxZcsWfPvtt/jqq6/g4eFh7FiJiIiIiIjIjLQ9WtRVNem2KK4qbTi70469Al59C8Wq/Vy50w4NawYVU9atW4fu7m58++23CA0N1R3Pz8/H4sWL8cYbb+Bvf/ub0YIkIiIiIiIi0+vu6kFN+WlUldajsuS8nXZclAgMV0Pt5wIvf1fYO3GnHRo5DCqm7N27F4899pheIQUAQkNDsXTpUrzxxhtGCY6IiIiIiIhMR9PRheqyBlSV9C4WW1fZCO15O+2o/XpnnijtudMOjVwGFVM0Gg3UavUFx9RqNZqamoY0KCIiIiIiIjK+thYNqkrPrndSX312px03LyeMmTAKan/utEN0PoOKKaGhofjpp5+QlJTUb+zHH39EUFDQUMdFREREREREQ0gURbQ0tveud9JXPGk6Z6cdDx9nxCaFQu3nCg8f7rRDdCkGFVPuvfdeLF++HJ2dnbjpppvg7u6O2tpa7NixA9999x1Wr15t7DiJiIiIiIhoAERRRENNs269k6qSszvt2NjKofZzQfh4f3j5u3KnHaIBMqiYct111+GRRx7B22+/jW+//RZA7w+mQqHAsmXLMH/+fKMGSURERERERIZpb9XgyL48FGTW4nhXDYDenXbUfn077fi7woU77RANikHFFAD485//jD/+8Y9IT09HU1MTnJycEBMTA0dHR2PGR0RERERERAbQarXITi9B+r5cdHf1wNFTgbFxYVD7ucDBWcniCdEQMriYAgDd3d24+uqrIQgCMjIy8M9//hMRERGYMmWKseIjIiIiIiKiy6gqbcChnzNQX90Mn0A3TJwVhYLCHISN8zN3aETDkkHFlOzsbDz88MMoKyuDr68vFi9ejNWrV6OnpweCIODpp5/G3XffbexYiYiIiIiI6BztrRqk/pqD/BNlUDrYYtrNMQiK8OqdhVJo7uiIhi+DVhhavXo1pFIpHn/8cbi6uuIvf/kLrrvuOhw8eBC33HILPv30U2PHSURERERERH20Wi0y04qwffNenMwsx7iJwbhl8VSMivRmOw+RCRg0MyUzMxMvvfQSbrjhBsyePRszZ87EnXfeCRcXF9x4443YsWOHseMkIiIiIiIiXLilx9nN3txhEY0oBhVT2tvb4e3tDQDw8vICACiVSgCASqVCV1eXkcIjIiIiIiIioH9Lz7U3xyDwTEsPEZmUwQvQSqVSAND9oPIHloiIiIiIyPh6d+kpRvq+PHR39WDcpGCMnxwCuc2A9hMhoiFk8E/fypUroVKpdN8/9dRTUCqVaG1tNUpgREREREREI51eS0+QGybNjIITW3qIzM6gYsqECRMu+r2zszMSEhKGNioiIiIiIqIRjC09RJbNoGLKxx9/bOw4iIiIiIiIRjy29BBZB4N+ImfMmIFNmzYhMjLS2PEQERERERGNSGzpIbIeBhVTysrK0NnZaexYiIiIiIiIRhy29BBZH4PnitXU1KC8vPyi4z4+PkMSEBERERER0UjAlh4i62XwT+nDDz98yfGsrKxBB0NERERERDQSVJU24OBPGWioYUsPkTUyuJhy7733ws/Pz5ixEBERkYXq7urBycxyNFR04HRtCxxdVZBIOP2ciGig+rX0zItFYLiaLT1EVsbgYsrs2bMRHR1tzFiIiIjIwoiiiIKMchzZm4vW5g4AQEnGPsjkUripHeGqdoS7lxPc1I5wcrNngYWI6CLY0kM0vPAnl4iIiC6ovLAWKbuzUV/dDDe1I5JuGIeTRQVQu/qirrIJtZWNyD1agqy0IgCATC6Fq6cD3PqKK+5eTnByU0EikZj5ToiIzKuqtB4Hf8pkSw/RMGJQMeWjjz5CSEiI3rHu7m4IggCpVGqUwIiIiMg86muakbo7G2WnamHvaIer54xH8GhvCIKAiroihI3zQ9i43sdqtVo01rWirqq3uFJX2YS8Y6XI6uoBAEhlErh6OsLNyxHuaie4eTnC2d2eBRYiGhHaWzVI+TUHBSfKoGJLD9GwYlAxJTExEZs2bUJqaio++OADAEBaWhqWLVuGP//5z1i0aJFRgyQiIiLja23uQPq+POSfKIXcRoaEaREYHR8ImeziH5xIJBK4eDjAxcMBoWN9AQBarYim+pa+AksT6iobkX+iDNlHigH0FlhcPBx07UFuXk5wcbeHRMoCCxEND1qtFtlHinFkXx56unsQPSkY0WzpIRpWDPpp3rJlCzZt2oQFCxbojgUEBGDOnDlYt24dVCoVbr/9dqMFSURERMbTpenG8eSTOJFyCqJWRFR8EKKvCoGtnc0VnU8iEeDs7gBndweEjOktsIiiiMb6VtT1zV6pq2pCQUYZstP7CixSCVw8HXqLK30zWFw8HCBlgYWIrIx+S487Js0czZYeomHIoGLKV199heXLl+OBBx7QHfP29saqVavg6uqKjz76iMUUIiIiK6Pt0SLnaAl+/y0fHW2dGBXpjfhrwuHgrBzyawmCAGc3ezi72esVWJoa2lBX2dg7g6WqESczK5DzewkAQCIV4OLhADe1E9y9eossLh72kF5ipgwRkbmwpYdoZDGomFJZWXnRnXxiY2Pxj3/8Y0iDIiIiIuMRRRHFedVI25ODxvpWqP1cMPPWeHj4OJs0DkEQ4OSqgpOrCsFRPrrYmk+36dqD6qqaUJhdgdyjfQUWiQBnDwe497UHnZnBcqlWJCIiY2JLD9HIZNBPuJeXF9LS0jB58uR+Y8eOHYO7u/uQB0ZERERDr6b8NFJ2Z6OqtAFOrirMuCUO/qGeFvPJqSAIcHRRwdFFheDR3gB6Cywtje26BW7rKhtRmFuF3GOlvc+RCHBxt9e1B7l7OfUWWOQssBCRcbGlh2jkMqiYcvPNN+Odd96BQqHA7Nmz4ebmhoaGBuzcuRNvv/02Fi9ebOw4iYiIaBCaT7chdU8OCrMrYau0weTZYxA+3s8qdtURBAEOzko4OCsxKlK/wHJm9kptZROK86uQd7xU9xxnd3vdArfuXo5w9XRkgYWIhgRbeojIoGLKAw88gJMnT2LdunV4/fXXdcdFUcSNN96IBx980GgBEhER0ZXraO/E0QMFyD5SBIlUgvFXhWBcYjDkCuuefn5ugSXonAJLa1NH7wyWqt4ZLKUna5B/oqzvOYCTm73eLkKung6cik9EBuvX0jM5BNGTgvl7hGgEMuinXiqVYu3atXjwwQeRkpKC06dPw8HBAQkJCYiIiDB2jERERDRA3d09yEorwrGDBejq7EboOD/EJYVB6WBr7tCMRhAE2DvZwd7JDkERXgD6CizNHbr2oNqqpv4FFld7uHnpz2DhGyMiOl+/lp5ZUXByVZk7LCIykwG9UggJCUFgYCAaGhrg4uICmYwvNIiIiCyJKIo4mVmOI3vz0NLUDt9gD0yYFgEXDwdzh2YWgiDA3tEO9o52CAxXA+jNUVuLRrdNc21VI8oL61CQUa57npOrSldccfNygpuno9XP5iGiK6PX0uPIlh4i6mXwq4Ls7GysW7cOycnJ6O7uxldffYVt27YhKChIb8vkgXjuuefQ09ODl156SXfs1ltvxYkTJ/QeN3/+fN1j6urq8Ne//hW//fYb5HI5brnlFjz66KN6hZ2tW7fiww8/RH19PeLi4vD8888jKCjoimIkIiKyFhVFdUjZnY26qia4qh1x3R/GwieIi8SfTxAEqBxsoXKwRUCYWne8rbmjb/2V3jahyuI6nMw8r8Byzi5CbmpH2Cjk5rgFIjIBtvQQ0aUY9JvgxIkTWLBgAby8vPDHP/4RH374IQDAyckJb775JlxdXXHbbbcZfFFRFLFhwwZ88cUXmD9/vt7xkydPYu3atZg0aZLuuJ2dne7PS5cuhSAI2LZtG6qqqvDUU09BJpPh0UcfBQB89dVX2LBhA/72t79h1KhReOONN7B48WL85z//gY2NjcEx/n4gH7FXhfNFEhERWbyGmmak7slBaUENVI62uPqmaARH+fBT0wFSOthC6WAL/1BP3bG2Fg3qqvp2EapqRGVpA05mVejGHV2UvcWVM0UWtSMUtnztQGTtKkvqcehntvQQ0cUZVExZu3YtoqOj8cEHH0AURWzduhUA8NRTT6G1tRWffPKJwcWUkpISPPPMM8jLy4OPj0+/sba2NsTExMDDw6Pfc9PT05GWloadO3fC398fkZGReOKJJ7B69WosWbIENjY22LJlCxYtWoTrr78eALBu3TokJSXhxx9/xJw5cwyKEQDyjpXiVEYlEqZFImQMX5ASEZHlaWvpQPq+POQdL4XcRoaEaREYHR8ImYw71gwVpb0CSntP+IecLbC0t2p07UF1lU2oLm3AqXMKLA7OSt0WzWeKLCywEFmHthYNUn/NRkFGOVt6iOiSDCqmHD16FGvXroVUKkVPT4/e2A033IDvv//e4Aump6fD398fr7/+Ov7f//t/emO5ubmwtbWFr6/vBZ+bmpoKX19f+Pv7644lJiaitbUVWVlZ8PPzQ2FhIRITE3XjKpUKY8eORWpq6oCKKTNvjUfqL7nY9+9jyD1agkmzouDq6Wjw84mIiIylq7MbJ5JP4UTKKWh7tBgdF4jxU0Jha2f4DEy6cnYqBfxCPOAXcvaDn462MwWWvoVuyxtRmF2pG7d3sustrng5wk3d+1/+/yKyHFqtFllHipG+Lw89PWzpIaLLM+i3g0wmQ3d39wXHmpubIZcb/mnL3LlzMXfu3AuO5eXlwcHBAY899hgOHz4MFxcX3HLLLbjnnnsgkUhQVVUFT09Pveec+b6iokK3bopare73mMrKSgyEi4cDbvy/ycg7VorUPTn4butviIwLRGxSGD9dIiIis9Bqtcg9Vorf9+ehvbUTQRFeiL8mHI4unHpubrZKBXyDPeAbfG6BpbN3i+a+GSy1lY0ozDmnwOJod3YXob4ZLLZKFliITO3clh7fUe6YOJMtPUR0eQYVUyZOnIi3334bkydPhkrV+4tFEAR0d3fj448/RkJCwpAEk5+fj7a2NiQlJeGBBx7AkSNH8Nprr6G5uRnLli1De3s7FAqF3nPkcjkEQYBGo0F7ezsA9HuMjY0NNBrNgGI5dxHckEQnVBW0IiutCHnHi+EVag8Xb1tO9xtCaWlp5g5hxGCuTYe5Np3hnmtRFNFc24mK/BZoWnugdJYjdIILlE5a5J3MNnk8wz3fQ04OOPoDjv4O6O5Sob2pG+3NXWhv7kZFSS2KcqvOPtRWAjsHGewc5LC1l2LvrkOQ2UggV0ggkfJ1hzHx77VpWUK+uzQ9qMhrxenKDshtJQiMdoKjh4D8U9nAKXNHN3QsIdcjBXM9shhUTFmxYgX+93//F7NmzcKECRMgCALeeecd5Ofno7KyEp9//vmQBPPqq6+ira0Njo697TQRERFobm7GO++8g6VLl8LW1hadnZ16z+nq6oIoilAqlbC1tQWAfo/p7OzUW8TWEGPHjtUvykwC6qoacfCnTJRmnkZnoxSTZo2Bm5qtP4OVlpaG+Ph4c4cxIjDXpsNcm85wz3VNxWmk7s5BZUkjHF1VmDI7AgFhnmYr6A/3fJuDpqOrdwZL5dmFbqtOtvZ7nNxGCjuV4uyX/Zk/2+iOKVUK2CptIJFKzHAn1ot/r03L3Pk+09KTlXy2pWf85BDI5MNvvSlz53okYa5NR6PR9NsB2BwMKqaMGjUKX3/9Nd566y0cOHAAUqkUKSkpSExMxIYNGxAaGjo0wchkukLKGREREWhtbUVzczO8vLywZ88evfHq6moAva093t7eAICamhoEBgbqPSYkJGTQ8bmpnXDjgknIP1GG1F9zsOPD3xAZG4jYqWz9ISKiodV8ug1pe3NxKqsCtkobTJoVhYjx/nyTPAwpbOXwCXSDT6Cb7linpguHD6QhKCAE7a0atLdq0Nb3347WTjTUNKO8sBadmgu3Ydsq+wosSptzii76hRc7ewUUtnLOtKURhS09RDRUDF5Ryd/fH6+99poxY8Htt9+O8ePHY+XKlbpjx48fh6enJxwdHREfH4+1a9eioqJCVzhJTk6GSqVCZGQkbGxsEBQUhMOHD+taj1pbW3HixAnccccdQxKjIAgIG+eHgDA10vflITu9CKeyK5BwTQRCx/nyBQkREQ2Kpr0TRw8WIOtIEQRBQPTkEIybOAo2ChbtRxIbhRx2jnK9RW4vpLurB+1tGrS3aNDe2qkrvOi+WjRoKmlDe6sGPT3afs+XSATY9s1oOb/Qcn7xhQtxkjU7f5ee6f8Ti4Aw7tJDRFfOoH8V9+/ff9nHJCUlDTqYWbNmYcOGDRgzZgzi4uKQnJyMLVu26IorsbGxiImJwaOPPopnn30WtbW1WLt2LRYtWgQbm94F2xYuXIjXXnsNgYGBCAsLw+uvvw5PT0/MmjVr0PGdS2Erx6RZUQiL9sOhnzOx/7/HkdO364+7l9OQXouIiIa/nu4eZB0pxtGDBejs6ELYOF/EJoVB5TiwNlUaWWRyKRyclHBwUl7ycaIooquzu6/ookHbuYWXvmOtzR2orWxCR5sGonjha+nNcLE/21p07nFblQJSzqAiC3GhXXqGa0sPEZmWQcWUxYsXQxAEiH3/sp6p4J77fVZW1qCDWbx4MWQyGd5++22Ul5fDx8cHTz/9NG677TbddTZu3IgXXngBd911F1QqFebPn48lS5boznHnnXeiubkZL7/8MlpbWxEXF4ctW7boii1DzU3tiBvumoiCjHKk7M7G9x8dQERMAOKuDmfrDxERXZYoijiVVYG0vbloaWyH7yh3JEyLgKsn1+SioSMIAmwUctgo5HBys7/kY7VaEZr2c2e5dOoVXdpaNThd14KK4np0dnRd8BwKO/mFW4vOmfmiVNlAYWfDmQFkNGzpISJjMqiY8tFHH+l9v3v3bnz//fdYt27doC7+8ccf630vCAIWLVqERYsWXfQ5Hh4e2LRp0yXPe//99+P+++8fVGwDIQgCQsf6wj/UE+n785B95GzrT1i0H18kEBHRBVUW1yFldw5qKxvh6umA2bdPgO8od3OHRSOcRCLoih6X09Pdg/a2Tl2h5UKtRjXlp9HWokFPd/82I0EQ+hdb7PsKMEr9diO5jYyvqcggbOkhIlMwqJiSmJio972Hhwe2bt2K0aNHw8HBwSiBWSOFrRyTZkYhvK/157cfTiD3aAkmzR7D1h8iItI5XduC1D05KMmvhtLBFlNvjEbIGB++0CerI5VJYe9oB/vLtKOJoojuzh7dIrr9Zr30fdVXN6G9rROitn+fkVQmOW9mywVmvdj3LrorlbGFYyTSarXISitC+v58tvQQkdFd0Upinp6eEEURVVVVLKZcgKunI/7wx97Wn9Rfs7HjwwOIiPFH/NXhUNgZp92IiIgsX1uLBr//lofco6WQyaWIvyYcUfFBfKFPw54gCJArZHBSyC7bZiGKIjTtXXpFlrbzFthtqm9FVUk9NO0XbjOysZVfdCcj5TkL7CrsbCCRsIg5HLClh4hM7YqKKTt27IBEIoGrq+tQxzNsnGn9CQjzRPr+fGSlFaEwpxLxV0cgfDxbf4iIRpKuzm5kpJzC8eRT6OnRIjIuADFXhcBWefk2CqKRRhAE2CptYKu0gYvHpT+00/Zoe9uMzltM99zCS21lI9pbNeju7LnAtQBbpQKipAdNJelwcFHC0VkJRxclHFxUUNor+JrNwrW1dCD115xzWnriEBDmyf9vRGR0BhVTVqxYAQDo7u5GZWUljh07hnnz5rGYYgAbhRwTZ4zu2/UnAwd+PIHcY727/nh4O5s7PCIaYs2Nbcg+UoySwkbYak9B7e8KV09HfvI5Qmm1WuQdK0P6/jy0t2oQGK5G/DUR/LSUaIhIpBKoHGyhcrC97GO7OrvR0dbZN8tFv9WoorQKDTXNKM6rgvacFiOpTAKHM8UVZxUcXc4UWpRQOdjxd7sZnW3pyUNPj5YtPURkcgYVU9LT0wEAUqkUbm5ueOSRR/CnP/3JqIENN64eDvjDnRNxMqsCKb9k4/uPDiJ8vD/irwmHLVt/iKyaKIqoLmtARkohivOqAAiQKQQc/iUbAGCjkEHt5wK1vyu8AlzhpnaERMJtQ4czURRRerIGqb/m4HRtCzx8nHHtvFio/VzMHRrRiCW3kUFuI4ODc/9tpNPSNIiPj4dWK6K1uR3NDW1o6vtqPt2KpoY2lJ2q1VtEVyIR4ODcW1g5U3BxdFb1fu9kBwm3hzYatvQQkSUwqJjyyy+/GDuOEUEQBIRE+cA/xAO//5aPzNQiFOVUIu6acIRH+/PTDSIr09OjRWF2BTJTi1Bb2QgbWznGJgYjMi4AOXmZiAiLQlVJPSqL61FZUo+SghoAgNxGCk8/V3j5u8DL3xXuXk580T2M1FY2ImV3NiqL6+HgosS182IRGM5dJIisgUQiwMFJCQcnJXyC9MdEUURbcweaT/cVWk639RVdWlFZUq/XRiQIAuydbPVns/QVXOydlZBxgdwrwpYeIrIkBhVTvvnmm8s+Zt68eYMMZeSwUciROH00wsb54dDOTBz8MQN5R0t7W398nM0dHhFdRkdbJ3KOliD7SBHaWjRwclVh8uwohIzxhdzm7K9Ve0c72I/xRcgYXwBAW3MHKkvqdV9pJ3uLKzK5FJ6+zvDqm7ni7uXEnSisUEtjO9L25uJkZjkUdnJMnBmFyBh/FsqIhglBEKBytIPK0Q5eAW56Y6IooqOts282SyuazxRaTrfhZGY5OjXdeo9XOdj2rs/iotIrtDg4K/X+HaFe57f0jJ8cgmi29BCRmRn02/qpp57SVXxFsf9WdYIgsJhyBVw8HHD9HYk4lVWBlN3Z+P7jgwiP9kP8NRGwVbL1h8jSnK5tRkZqEQoyytDTrYVPkDumXD8OvsHuBn0qpnSwRXCUD4KjfAAA7a2as8WV4noc2ZcHoLdH39PX5ezMFR9nfoppwTQdXTh2sABZaUWAAERPCsa4ScGwUcjNHRoRmYggCLpdgy7Uzqdp7zxnNkurroWoOK8KHW2deo+1Uyn0CyznFFwUtiPv90plST0O/pSB07Ut8A32wMQZo9nSQ0QWwaBiyoIFC/D5559j9OjReOyxx+Dh4WHsuEYMQRAQHOUD/xBP/H4gHxmphSjMrUL81WEIHx/A1h8iMxNFEWWnapGRUojywlpIZRKEjPFFVHzgZXeZuBw7lQKjIr0xKtIbQO+Ml6rSs21B6fvzAQBSqQTuPk69M1f8XeHp68JP4yxAT3cPstOLcfRAATQdXQgd64vYqWGwd7Qzd2hEZGEUdjbwsLO54AzkTk2XrnVIt1bL6VaUF9Yi/4TmvPPI4eh8tsBytuiigsJOPqzaXdpaOpCyOwcnM8th72jHlh4isjgGFVNWrVqF22+/HatXr8ZDDz2Ehx9+GHfffTekUr6YHypyhQwTro1E2DhfHPw5Ewd/ykRuX+uPpy8XLCQyte6uHuSfKENmaiEa61thZ69A3NQwRMT4G207W1ulDQLDvRAY7gWgd8ZD1TltQccOFuDogQJIJALcvZ3hFdC77oqnrwunhZuQKIo4lV2JtD05aGlsh0+QGyZcGwlXT0dzh0ZEVshGIYeb2gluaqd+Y12d3WhubNetzXKm6FJd2oCTmeXnnUd2zmK4qr6iS2/BxU5lPVs8s6WHiKyFwa++w8PD8fHHH+P777/HmjVr8M9//hPPPvssJk2aZMz4Rhxn977Wn+xKpPyShX9vO4SwcX5ImBZutDdwRHRWa1M7stKLkfN7CTo7uuDm5Yirb4pGUKQ3pCZe+0JhK0dAmBoBYWoAvZ9eVpU26GauHD90EscOihAkAty9zpm54ufMFhMjqSypR8rubNRWNMLFwwGzb0+A7yjO1iQi45DbyODq4QDXC8yE7OnuOa/Q0o6mhlbUVTWhKKdKrzVfJpee0zZ0dtchRxclVA62FlNoYUsPEVmTAX+UedNNN2H69OnYtGkT7r//fkyfPh1PPfUUvLy8jBHfiCQIAoJHe/fu+nMgHxkphSjKrUTc1eGIiGHrD5Ex1JSf7m2zy64EICIgTI0xE4Lg6etiMS8ybRRy+Id4wj/EEwDQpelGdVmDbuZKRsopHE8+CUEA3NROfVsxu0Dt5zoi++yHUmNdC1L35KA4rxpKewWSbhiHkDG+/H1MRGYjlUnh7GYPZzf7fmPaHi1amtp1i+D2thC14nRtC0oKqqHtOVtokUolsHe26zebxdFFBZWjLSQS43+Q0K+l55Y4BISypYeILJtBxZQVK1Zc8HhoaCh++OEH7N27F0eOHBnSwKj304gJ0yIRNs4PyT9n4tDPmcg9WoJJs8ZccHEzIhoYrVaLopwqZKQWoqb8NOQ2MkQlBGJ0XCAcnJXmDu+y5AoZfIM94BvcOzOiq7MbNeWndTNXso4UIiPlFADAVe2om7mi9neBrR0XuTZEe6sGv/+Wj5zfSyCTSxB3dTjGJARxujkRWTSJVNK3U5AKvueNabUi2lo6dAWWc7d5Li+sRU+3VvdYQSLA3skOjn2tQ7pCi7MS9k52g955TtujRdaRc1p6rgpB9CS29BCRdTComJKenn7RMR8fnyELhi7M2c0es/93AgpzKnH4l2z855NDCB3ri4RpEbBTsfWHaKA0HV3IPVqCrLQitDZ3wMFZiYkzercrlyusd+0RuY0MPkHu8AlyB9C77ktNxdniSs7vxchMLQTQu5tYb3HFBWp/V/4uOU93Vw9O9M306enWIiLWHzFXhTJPRGT1JBIB9o52vYtlB/bf4rm9RaMrrvTOamlFc0Mbqssa0NXZo3usIAAqBztdgUW3Vkvfny9XEDm/pWfSzNFwdGFLDxFZD4PeNfzyyy/GjoMuQxAEjIr0hl+wB44eLEDG4VMozqtC7NQwRMYGmGQKJpG1a6xvRWZaIfKPl6G7qwdeAa6YNCsKfiGew7JdQyaXwjvADd4BvS+We7p7UFPRiMqSelQV1yPveCmyjhQB6C3aegW49rYG+btCaT8yiwZarYj8E6VI35eHthYNAsLVSLgmgj37RDQiCIIApYMtlA628PJ31RsTRfHsFs8NZ4stzQ2tKMyphKa9S+/xSnuFbn0W3VotLkrIbWQoPtGIY5XJbOkhIqtmvR/BjlByGxkSrolA2FhfHNqZheSdWcg7VsrWH6KLEEURFUV1yEgtRGlBDSRSAcGjfRCVEAQ39cjafUUqk+pafXAV0NOjRV1lo27mSn5GGbLTiwEATq6qvjVXeh+vcrA1c/TGJYoiyk7WIuXXbJyubYGHjzOm3RwDtZ/r5Z9MRDQCCIIAW6UCtkrFBXea1HR06RbD1c1saWhD6clqtLd2nncusKWHiKyeQcWUGTNmXHJcEATs3LlzSAIiwzi52WP27Qkoyq3C4V1Z+M8nhxAy1hcT2PpDBADo7u7ByYxyZKQW4nRtC2yVNoiZEoqImIARO+vifFKpBJ6+vVsrR08OgVarRV1lk25B21NZFcg9WgIAcHBW9hZi+oor9k52Zo5+6NRVNSJldw4qiurg4KzEtTfHIDDCi5+SEhENgMJWDoW3E9y9L7DFs6YbzY29xZXWpnY0dlQjbmq4GaIkIho6BhVTysrKcNVVV8HZ2dnI4dBACIKAoAgv+I5yx7FDJ3Hi8EkU51YhbmoYIuPY+kMjU1tLB7L7tjbuaOuEi4cDkv4wDqOivCEb5EJ5w51EIoGHjzM8fJwxbmIwtFoR9dVNupkrRXlVyDteCgCwd7LTzXLxCugtrlhb8aGlqR1H9uaiIKMcCjs5Js4YjYjYAJNvgU1ENNzJFTK4ejrC1bN3RmhaWr2ZIyIiGjyD23weeeQRREdHGzMWukJyGxnirw5H6FhfJO/MRPKuLOQeK8WkWVH9+l2Jhqu6qkZkpBbhVGY5tFoR/qGeGJMQBK8AV6t7k28pJBIB7l5OcPdywtjEURBFEQ01zbriSklBNfJPlAGArr/+THHF0UVpsXnv1HTh2MGTusV4x00MxrhJwdw+moiIiIgMxjVThhEnVxVm3ZaA4rwqJO/Kwn8/TUbIGB8kTIuA0n54r3dAI5NWK6IkvxoZqadQVdIAmVyKiNgAjI4L5IKhRiAIgu6TxaiEIIiiiNO1Lb1tQcX1KC+sxcnMcgCAnb3ibHHF3xVObiqzF1d6erTISS/G7wfyoWnvQsgYH8RdHd67owURERER0QCwmDLMCIKAwHAv+I7ywLGDBTh++GTvrj9JYRgdFwgJp6/TMNCp6ULesVJkphWhpbEd9o52mHBtJMKi/Ti7wIQEQYCLhwNcPBwwOi4Qoiiisb5Vt1tQRd+6KwBgq7TRW3PF2d3eZMUVURRRlFOJ1L25aG5og3egGyZcGwE3df++fiIiIiIiQxhcTNm5cyeysrJ03wuCAIlEAmdnZ0ydOhUKBRd0tCQyuRRxV4cjZKwvkndl4fAv2cg9VorJs8ew9YesVvPpNmSmFSHvWAm6Onvg6euCCdMiEBCu5hpBFkAQBDi72cPZzR6RMQEQRRFNDW2o6lvQtrK4HoU5lQAAhZ1ctw2zl78rXD0djFJcqSptQMrubNSUn4azuz1mzU+Ab7C72WfJEBEREZF1M7iY8u67717wuCAISEpKwubNm4csKBo6Tq4qzJofj+L8ahzua/0JjvLGhGmRUA7zrU5peBBFEVWlDchIKURxXhUEiYBRkd6ISgiEh7ezucOjSxAEAU6uKji5qhA+3h+iKKKlsV1XWKksqUdxbhUAwMZWDrWfi272iqunIySSKy94NNa3Im1PDopyq2Bnr8CU68cidJzfoM5JRERERHSGQcWUXbt2XfC4VqvFrl27sHbt2iENioaWIAgIDFPDN8gdxw+dxPHkkyjOr0bslDBExbP1hyxTT3cPTmVXIiO1EPVVTVDYyhE9OQSRsQFQsRBolQRBgIOzEg7OSoSN8wPQu6POmcJKZUk9SvKrAfQurK32c9G1Bbl5ORo0+6ijTYPffytA9u/FkMokiJ0ahjEJQZDbsKuViIiIiIaOQa8ufX19LzqWlJSEH374YcgCIuORyaWInRqGkLE+SN6VhZTd2cg7VopJs6PgHeBm7vCIAPS+Gc5OL0F2ejHaWzVwclPhquvGIGSML2Rybm083Ng72iF0rC9Cx/b+O9Pa3KGbuVJVUo/SkzUAAJmNFGrf3pkran9XuHs76W1h3N3Vg4zUQhw/VIDuLi0iYvwRMyUUdiq2oBIRERHR0DP4o7rOzk5s374dycnJaGpqgouLCyZOnIibb74Zn3/+uTFjpCHm6KLCrPkJKM6vQvLOLPzw2WGMGu2NCddG8hN/Mpv6mmZkphbiZEY5enq08B3ljjEJ4+AziutbjCQqB1uERPkgJMoHANDWotFbcyVtby6A3uKwh48zvAJcUVvdhq+T96KtuQMBYZ6IvyYCzm725rwNIiIiIhrmDCqmtLS04O6770ZmZibc3Nzg4eGBrKwsfP/99/jkk0+wbds22Nvzhau1CQhVwyfQHceTe1t/SgqqEXNVKMYkBLH1h0xCFEWUnqxBRkohKorqIJVJEDrOF1HxQXB25+8UApT2Cowa7Y1Ro70B9M5cqixp0BVX0vflAQDcvZ1wzZzxXGCbiIiIiEzCoGLKG2+8gZKSEmzZsgVJSUm64/v27cNjjz2Gt956C08//bTRgiTjkcmliE0KQ2jfrj+pv+Yg73gpJs0aA59Atv6QcXR1diP/RBkyUwvR1NAGpb0C8deEI3y8P2ztbMwdHlkwW6UCQRFeCIrwAgBo2jtx+NARJE2byBlMRERERGQyBhVTfv75ZyxbtkyvkAIAU6dOxcMPP4z333+fxRQr5+CsxMxb41FSUI3knZn48fPDCIr0QuK1kVA52pk7PBomWprakZVWhNyjJejUdOtmEwRFeHE2FF0RhZ0NlI5yFlKIiIiIyKQMKqY0NTUhNDT0gmMhISGora0d0qDIfPxDPOEd6IYTyadw7FABSgtqEDMlFFEJQXqLPRINRHVZAzJSC1GUUwVARGC4F8ZMCIKHjzPfBBMRERERkdUxqJgSFBSEAwcOYPLkyf3GDhw4AB8fnyEPjMxHJpMiZkooQsb44PAvfa0/x0oxaVYUfILczR0eWQltjxaFOZXITC1ETUUjbBQyjJkQhNFxgbB34mwnIiIiIiKyXgYVU+68806sXr0aNjY2uOmmm+Dh4YGamhrs2LEDW7duxSOPPGLkMMkcHJyVmHFLPEoLanBoVyZ+/CIFQRFemDA9EvZs/aGL0LR3IudoCbLSitDWooGjixKTZkUhdKwv5DYGbyBGRERERERksQx6Z3P77bfjxIkT2LRpE/7+97/rjouiiPnz5+Pee+81WoBkfn4hHpgXmISMw6dw9GABSk/WYPzkEIyZEASpTGru8MhCnK5rQWZqIfJPlKGnWwvvQDdcdd1Y+IV4sJWHiIiIiIiGFYOKKYIgYPXq1Vi4cCEOHz6MxsZGODk5ITExESEhIcaOkSyATCbF+KtCETLGF8m/ZCFtby7yTpRh0szR8B3lYe7wyExEUUR5YS0yUotQdrIGUqkEwVE+iJoQBFcPB3OHR0REREREZBQXLaYsW7YMK1asQGBgoO5YSEhIv+JJZ2cn/vGPf2Dp0qXGi5Ishr2THWb8TxzKTtbg0M5M/PRlKgLD1UicMZqtPyNId1cPCjLKkZlaiNN1LbBT2SA2KQwRMf6wUynMHR4REREREZFRXXR7ll9//RV5eXmXfPLevXtx00036bX+0MjgG+yBeX9KQvzV4Sg7VYvtm/fi6MEC9HT3mDs0MqK25g6k7c3Fl2/vxoEfT0AiFTD1xmjc9udpiJkSykIKERERERGNCBedmTJx4kS8+OKL0Gq1mD17tt5YVVUVXnzxRezcuRMKhYKzUkYoqUyK6MkhCB7jg8O7snBkby7yj5di4swo+AWz9Wc4qa1oREZqIU5lV0DUiggIU2NMQiDU/q5cD4WIiIiIiEacixZTVq9ejSVLlmDZsmUIDAzE8uXLccMNN2Dfvn1YsWIFmpqaMG3aNKxatQp+fn6mjJksjL2jHab/TxzKTtXi0M5M/PxVKgLC1EicEQkHJ6W5w6MrpNVqUZxXjczUQlSVNkBmI8Xo2ABEJQTBwZn/X4mIiIiIaOS6aDHFy8sLX3/9NXbu3IlNmzZhxYoVqK6uxptvvgkHBwds3LgRM2fONGWsZOF8R7lj3qIpyEgtxNEDBfjXln2InhyCsYmjIOOuP1ajU9OF3KOlyEorQktTO+yd7JA4PRJh0X6wUcjNHR4REREREZHZXXY3n5kzZ2LmzJlYs2YNXn31VUREROD999+Hq6urKeIjKyOVSRE9KQTBUT5I+SUb6fvykH+8DBNnjoZ/iKe5w6NLaGpoRWZaEfKOl6K7swdqfxckzoiEf6gaEglbeYiIiIiIiM4waGtkAFi8eDHee+89LF26lIUUuix7RztcOy8W5YW1OPRzJnb+Mw3+oZ6YOGM0W0QsiCiKqCyuR0ZqIUryqyGRCBg12htRCUFw93Iyd3hEREREREQW6aLFlKSkpAseX7lyJZ5//nm9Y4IgYN++fUMbGQ0LPkHuuPlPSchMLcTvv+XjX+/tQ/SkYIydGMzWHzPq7u7BqawKZKYWor66GQo7OcZPDkFkXACU9rbmDo+IiIiIiMiiXbKYwl06aChIpRKMmxiM4NHeSNmdg/T9+cg/UYaJM6LgH8rWH1Pq0miRvj8P2enF6GjrhLO7PaZcPxbBUT6QyVncIiIiIiIiMsRFiymvvPKKKeOgEUDlaIdpN8cgPMYfh37OwM6v0+AT5A5NTyu6GjIB8exjRf1vLkgULzxwkcN6A2K/P+h/c7Fz6D/ckOtf+D4u/pBL3/dF79mAb3q6tSgvrIUo1sIvxANjEoLgHejGoikREREREdEAGbxmCtFQ8Ql0w7xFSchMK0JGyiloOjrRXFMOANB7W3+R9/gXe/MvXOzJF/7jBZ948VNc7iRXcP2LXfcKYzAkL66+drjm+gQ4udlf7IpERERERER0GSymkFlIpBKMTRyFsYmjkJaWhvj4eHOHNCKkpaWxkEJERERERDRIEnMHQERERERERERkTVhMISIiIiIiIiIaALMWU5577jmsXLlS79j+/ftx8803Izo6GnPmzMGePXv0xuvq6rB8+XIkJCRg8uTJWLNmDbq7u/Ues3XrVlx77bUYP348Fi1ahMLCQmPfChERERERERGNEGYppoiiiPXr1+OLL77QO56fn48HH3wQ119/Pf71r39hxowZWLJkCfLy8nSPWbp0KWpra7Ft2za88sor2L59O9566y3d+FdffYUNGzbgySefxJdffgmFQoHFixejs7PTZPdHRERERERERMOXyYspJSUluPvuu/HZZ5/Bx8dHb+yjjz5CTEwMHnzwQYSEhOCRRx5BbGwsPvroIwBAeno60tLS8MorryAyMhLXXHMNnnjiCXz88ce6YsmWLVuwaNEiXH/99YiIiMC6detQV1eHH3/80dS3SkRERERERETDkMmLKenp6fD398eOHTvg5+enN5aamorExES9YxMnTkRqaqpu3NfXF/7+/rrxxMREtLa2IisrC3V1dSgsLNQ7h0qlwtixY3XnICIiIiIiIiIaDJNvjTx37lzMnTv3gmOVlZVQq9V6xzw9PVFZWQkAqKqqgqenZ79xAKioqIBM1ns7lzoHEREREREREdFgmLyYcikdHR2wsbHRO2ZjYwONRgMAaG9vh0Kh0BuXy+UQBAEajQbt7e0A0O8x557DUCdOnBho+DQIaWlp5g5hxGCuTYe5Nh3m2rSYb9Nhrk2HuTYt5tt0mGvTYa5HFosqpigUCnR1dekd6+zshJ2dHQDA1ta230KyXV1dEEURSqUStra2uudc7ByGGjt2bL+iDBlHWloa4uPjzR3GiMBcmw5zbTrMtWkx36bDXJsOc21azLfpMNemw1ybjkajsYjJD2bdGvl83t7eqK6u1jtWXV2ta9vx8vJCTU1Nv3Ggt7XH29sbAC74mPNbf4iIiIiIiIiIroRFFVPi4+ORkpKidyw5ORkJCQm68ZKSElRUVOiNq1QqREZGws3NDUFBQTh8+LBuvLW1FSdOnMCECRNMcxNERERERERENKxZVDFlwYIFSE1NxYYNG1BQUID169fj6NGjuOeeewAAsbGxiImJwaOPPoqMjAzs2bMHa9euxaJFi3RrrSxcuBCbN2/Gv//9b+Tm5mLFihXw9PTErFmzzHlrRERERERERDRMWNSaKREREdi4cSPWrFmDzZs3Izg4GO+88w5CQkIAAIIgYOPGjXjhhRdw1113QaVSYf78+ViyZInuHHfeeSeam5vx8ssvo7W1FXFxcdiyZUu/hW2JiIiIiIiIiK6EWYspH3/8cb9j06ZNw7Rp0y76HA8PD2zatOmS573//vtx//33DzY8IiIiIiIiIqJ+LKrNh4iIiIiIiIjI0rGYQkREREREREQ0ACymEBERERERERENAIspREREREREREQDwGIKEREREREREdEAsJhCRERERERERDQALKYQEREREREREQ0AiylERERERERERAPAYgoRERERERER0QCwmEJERERERERENAAsphARERERERERDQCLKUREREREREREA8BiChERERERERHRALCYQkREREREREQ0ACymEBERERERERENAIspREREREREREQDwGIKEREREREREdEAsJhCRERERERERDQALKYQEREREREREQ0AiylERERERERERAPAYgoRERERERER0QCwmEJERERERERENAAsphARERERERERDQCLKUREREREREREA8BiChERERERERHRALCYQkREREREREQ0ADJzB2BpRFEEAHR2dpo5kpFFo9GYO4QRg7k2HebadJhr02K+TYe5Nh3m2rSYb9Nhrk2HuTaNM+/Vz7x3NxdBNHcEFqa5uRm5ubnmDoOIiIiIiIiILiI8PBwODg5muz6LKefRarVobW2FXC6HIAjmDoeIiIiIiIiI+oiiiK6uLqhUKkgk5lu5hMUUIiIiIiIiIqIB4AK0REREREREREQDwGIKEREREREREdEAsJhCRERERERERDQALKYQEREREREREQ0AiylERERERERERAPAYgoRERERERER0QCwmEJERERERERENABWVUypra3Fk08+iaSkJCQkJODee+9Fbm6ubnz//v24+eabER0djTlz5mDPnj0XPE9nZyfmzp2Lb7/9tt/Y1q1bce2112L8+PFYtGgRCgsLDY6vuLgYMTExqKys1DteVFSEhx56CBMnTsSkSZOwbNkylJeXG3xeczFFvgHgueeew8qVKw2KaaiuaWmsMdcZGRlYuHAhEhISkJSUhJUrV+L06dOG3bAZWWOu09LScOeddyImJgZTp07FmjVr0NnZaeAdm5c15vtcW7ZsQUREhEHnNTdrzPUnn3yCiIgIva+oqCgD79h8rDHXnZ2deOWVVzBlyhTExcXh/vvvR0lJiYF3bF7Wlu+33nqr39/rM18bN24cwJ2bnrXlGgBKSkrw5z//Wfd6ZNWqVWhqajLwjs3HGnNdWFiI++67DwkJCbj66quxYcMGdHd3G3jH5mWJ+T4jLS0NY8eO7Xe8rq4Oy5cvR0JCAiZPnow1a9ZYRb6tMdcAcPr0aSQlJSE1NdXg81lNMUWr1eLhhx9GYWEh/v73v+Pzzz+Hvb09Fi5ciIaGBuTn5+PBBx/E9ddfj3/961+YMWMGlixZgry8PL3ztLS0YMmSJcjJyel3ja+++gobNmzAk08+iS+//BIKhQKLFy826E3LqVOn8Kc//Qnt7e16x9va2nDvvfdCq9Xiww8/xHvvvYeGhgbcd999Fv1myBT5FkUR69evxxdffGFQTENxTUtkjbmuqqrCokWL4Ofnhy+++ALr16/HsWPH8Mgjjww6H8ZkjbkuKyvD4sWLER0dje+++w6vvvoqvv32W6xbt27wCTEya8z3uXJycrB+/foru3kTs9Zc5+bmYvr06di/f7/ua+/evYNLhpFZa66ff/55/Pe//8XatWvx+eefo6OjAw899BBEURxcQozMGvP9pz/9Se/v9P79+3HHHXfAzc0Nt9122+CTYiTWmOvu7m7cf//9kEql+OKLL7BhwwakpaVh1apVg0+IEVljrhsbG3HXXXdBo9Hgo48+wuuvv47//ve/eO655wafECOzxHyfcfToUTz00EPQarX9xpYuXYra2lps27YNr7zyCrZv34633nprYDdvYtaa65qaGtx7772oqakZ2A2LViIjI0MMDw8X8/Pzdcc0Go04fvx48V//+pf47LPPigsWLNB7zoIFC8RVq1bpvv/tt9/EGTNmiP/zP/8jhoeHi998843e42fPni1u2LBB931LS4sYExMjfvfdd5eMbevWrWJsbKzuvBUVFbqxn376SYyKihKbm5t1x8rLy8Xw8HDx8OHDA0uCCRk738XFxeKCBQvEiRMnitOmTROfeeaZy8Y0FP+PLZE15vqDDz4Qp0yZInZ3d+vGU1JSxPDwcLGsrGxgCTAha8x1cnKy+MQTT+iNv/TSS+KcOXMMv3EzscZ8nxvnnDlzxAULFojh4eEDum9zsNZc33nnneL69esHfL/mZI25Li4uFsPDw8UDBw7oxgsKCsRp06aJhYWFA0uAiVljvs935MgRMTIyUtyzZ49B92wu1pjrnJwcMTw8XMzOztaNb9u2TYyNjR3YzZuYNeb6gw8+EGNjY8WGhgbdeGpqqhgeHi6WlJQM6P5NzRLzLYqiuGbNGnHMmDHivHnzxNGjR+uNHTlyRAwPDxeLi4t1x7Zv3y7GxsaKGo1mQPdvStaY6++//16cPHmy7nopKSkG36/VzEzx9vbGP/7xD4waNUp3TBAEiKKIxsZGpKamIjExUe85EydO1Jums2fPHtx66634/PPP+52/rq4OhYWFeudQqVQYO3bsZaf67N27Fy+++CKefPLJfmPR0dF49913YW9vrzsmkfSmvbGx8TJ3bT7Gznd6ejr8/f2xY8cO+Pn5GRTTYK9pqawx19OnT8ebb74JqVSqFzMAi55aa425TkxMxKuvvqoby8jIwM6dOzFlyhSDzm9O1pjvM958802o1WrMnz/foPOam7XmOj8/HyEhIQadz1JYY673798PV1dXTJ48WTceHByM3bt3IzAw0KBrmIs15vtcoijipZdewuzZs3H11VcbdH5zscZcOzk5QSKR4Msvv4RGo0F9fT1++OGHi07jtxTWmOuioiKEhYXB2dlZN36mLXMgbRHmYIn5BoCDBw/i3Xffxf/93//1G0tNTYWvry/8/f11xxITE9Ha2oqsrCyDr2Fq1pjr3bt34+GHH76i2ciyAT/DTFxcXDBt2jS9Yx9//DE0Gg2SkpKwfv16qNVqvXFPT0+99Uuefvrpi57/zOMud44Lee+99wAAycnJ/cbUanW/c7777ruws7NDfHz8Jc9rTsbO99y5czF37twBxVRZWTmoa1oqa8x1QEAAAgIC9MY3b94MtVqNsLCwAV3LlKwx1+dKSEhAc3MzoqKisGTJkgFdxxysNd+pqanYvn07vv32Wxw6dGhA5zcXa8x1VVUVGhsbsXfvXrz11ltob2/HhAkT8Pjjj/d7niWxxlwXFhbqXnxu3rwZ9fX1iIuLwzPPPAMvL68BXcvUrDHf59q1axcyMzOtojXTGnOtVquxatUqrF27Fp9++im0Wi1CQkKwbdu2AV3H1Kwx156enti9eze0Wq3ug+GysjIAvR9KWzJLzDcAfP311wCA7du39xurqqqCp6dnv5gAoKKiAuPHjx/w9UzBGnO9du1aAEBpaemAz2s1M1POt2vXLrz++utYtGgRQkJC0NHRARsbG73H2NjYQKPRGHS+M2udKBSKKz6HIT799FNs27YNjz32GFxcXIbsvMY21Pm+Eua4pjlYY67Xrl2LX3/9Fc8//7zebBVLZ0251mq1eP/997Flyxa0t7fjvvvus/i1Ds5nDfluaWnBE088gVWrVln0G/rLsYZcn+mPlslkeOONN/Dyyy/j1KlTWLhwITo6OowW11Czhly3tLTg5MmT+OCDD/D0009j/fr1qKurwz333GN1/4ZaQ77P9eGHH+L666+3+BlAF2INudZqtTh16hQmT56Mzz77DO+99x6kUikeeeQR9PT0GC2uoWYNuf7DH/6Auro6rFmzBu3t7aitrcWLL74ImUyGrq4uo8VlDJaQ78tpb2/v975ULpdDEASr+r1tDbkeDKuZmXKu7du349lnn8UNN9yAxx9/HEBvEeT8H+TOzk7Y2dkZdE5bW1vdcy52jtjYWL2x9PT0AcX99ttv480338QDDzyABQsWDOi55mSMfF9KeXk5brzxRt33Pj4++Pe//23Ua1oKa8t1T08P/vrXv+KLL77ACy+8gBkzZgw6JlOxtlxLJBJER0cDAF599VXcfvvtSE9PR1xc3KBjMwVryfdLL72EsWPH4qabbhp0DOZiLblOSkrCwYMH4erqqhsPDQ3FNddcgz179uC6664bdGzGZi25lslkaG5uxvr163VTxjds2ICkpCTs2bMHs2fPHnRspmAt+T6jsrIShw8fxocffjjoWEzNWnL93XffYceOHdi9ezeUSiUAIDAwEDNnzsSePXswffr0QcdmbNaS66CgIKxfvx7PPfcctm7dCqVSiWXLliEnJwcODg6DjstULCXfl2Nra9vvfWlXVxdEUdT9Xbd01pLrwbC6YsqZgsSCBQuwatUq3ToN3t7eqK6u1ntsdXW1wZ8sent7A+hdyffcTw+qq6t1/dzffPPNFcWs1Wrxwgsv4IsvvsBjjz2G++6774rOYw7GyveleHp66uVaJpMZ/ZqWwNpyrdFosHz5cuzfvx9r1qzBnDlzBh2PqVhTrvPz81FVVaW3Rkp4eDiA3img1sCa8r19+3YoFApd8fzMFoSxsbH4y1/+ckVTS03JmnINQK+QcuZczs7OqKioGHRcxmZNuVar1VAqlXq9925ubnB2dr6iac3mYE35PmPXrl3w8PDotz6ApbOmXB89ehTBwcF6by79/f3h4uKC4uLiQcdlbNaUa6B3zbzp06ejuroazs7O6OzsxN/+9je93y2WzJLyfTleXl79tgw+E6M1vPexplwPhlUVUzZv3ow333wTy5Yt67deQHx8PFJSUvSOJScnIyEhwaBzu7m5ISgoCIcPH9Y9p7W1FSdOnMAdd9wBAFc8RfOvf/0r/vnPf+Lll1/GLbfcckXnMAdj5vtSZDLZBXNtzGuam7XlWqvVYvny5Th06BDefvttTJ06ddCxmIq15Xr37t3YsmUL9u7dq5vueezYMQC9n+JbOmvL908//aQ3tmvXLrz66qv45ptv4ObmNui4jMnacv3RRx/h3Xffxe7duyGXywH09t/X19db9NpLgPXlOiEhAevXr0dBQYHuA6Kamho0NDT0W//KEllbvs84s9DimfUlrIG15drLyws//PADOjs7da0D1dXVOH36tMW3VllbrlNTU/HWW2/h/fff163d8Z///AdKpdIqZslaWr4vJz4+HmvXrkVFRYXuQ//k5GSoVCpERkYOOi5jsrZcD4bV/HbPzs7GG2+8gVtvvRW33347ampqdF9tbW1YsGABUlNTsWHDBhQUFGD9+vU4evQo7rnnHoOvsXDhQmzevBn//ve/kZubixUrVsDT0xOzZs264rj37NmDzz77DA8++CCmTp2qF7cl94aZIt8DZY5rmoI15vqzzz7D7t27sXLlSkRGRurFbMl9s9aY63nz5gEAnnnmGRQUFOC3337DypUrccMNN1j8G05rzHdgYKDe15kCSmBgoN6ubJbGGnM9bdo0tLa2YuXKlSgoKEBaWhqWLl2KuLg4XHXVVUaLa7CsMdcTJkxAQkICVqxYgfT0dGRnZ2PFihUYNWqUxe8wY435PiMzM1M3k9AaWGOu582bh+7ubjz++OPIy8vDsWPHsHz5ckRGRlr0Bz3WmOvg4GBkZmZi7dq1KCkpwc8//4zVq1fjgQcesOh/HwHLzPflxMbGIiYmBo8++igyMjKwZ88erF27FosWLeq35oglscZcD4bVzEz5z3/+g56eHnz99de61XjPWL58OR566CFs3LgRa9aswebNmxEcHIx33nlnQFsu3nnnnWhubsbLL7+M1tZWxMXFYcuWLYP6C/vdd98BADZu3IiNGzfqjb322mu4+eabr/jcxmSKfA9URESEya9pCtaY6x07dgAAVq1a1e+5n3zyicXOFrLGXHt4eODDDz/EK6+8gvnz50OpVGLu3Ll49NFHjRbTULHGfFsra8x1QEAAPvjgA6xbtw633XYb5HI5pk+fjqeeeko3HdgSWWOuBUHA22+/jVdffRUPPPAAurq6cNVVV+G1116z6BflgHXm+4yamhq9bWQtnTXmWq1W45NPPsFrr72Gu+66CzY2NpgyZQqefPJJk0zxv1LWmGtXV1fd75FPP/0Unp6eWLp0KRYuXGi0mIaKJeb7cgRBwMaNG/HCCy/grrvugkqlwvz58y1+N0drzPVgCKK1bQdBRERERERERGRGVtPmQ0RERERERERkCVhMISIiIiIiIiIaABZTiIiIiIiIiIgGgMUUIiIiIiIiIqIBYDGFiIiIiIiIiGgAWEwhIiIiIiIiIhoAFlOIiIiIiIiIiAaAxRQiIiIiIiIiogFgMYWIiIiIiIiIaAD+P1CtHwnr0zzLAAAAAElFTkSuQmCC\n",
      "text/plain": [
       "<Figure size 1296x720 with 2 Axes>"
      ]
     },
     "metadata": {},
     "output_type": "display_data"
    }
   ],
   "source": [
    "# Посмотрим на распределение по датам\n",
    "fig, axs = plt.subplots(2, 1, figsize=(18, 10))\n",
    "sns.lineplot(data=retail_by_month, x=retail_by_month['month_year'].astype(str), y='revenue', \n",
    "             color='#9e88b6', ax=axs[0]).set(xlim=('2010-12', '2011-11'), xlabel='', ylabel='Доход',\n",
    "                                             title='Динамика продаж\\n', xticklabels=[])\n",
    "sns.lineplot(data=retail_by_month, x=retail_by_month['month_year'].astype(str), y='purchases_count', \n",
    "             color='#9e88b6', ax=axs[1]).set(xlim=('2010-12', '2011-11'), xlabel='', \n",
    "                                             ylabel='Количество покупок',)\n",
    "plt.show()"
   ]
  },
  {
   "cell_type": "markdown",
   "id": "77b2b34f",
   "metadata": {},
   "source": [
    "В общей динамике наблюдается рост и дохода, и количества покупок, с некими колебаниями. Заметный рост наблюдается с сентября по ноябрь, что может указывать на сезонность.\n",
    "\n",
    "### По странам"
   ]
  },
  {
   "cell_type": "code",
   "execution_count": 44,
   "id": "b6734308",
   "metadata": {},
   "outputs": [
    {
     "data": {
      "text/html": [
       "<div>\n",
       "<style scoped>\n",
       "    .dataframe tbody tr th:only-of-type {\n",
       "        vertical-align: middle;\n",
       "    }\n",
       "\n",
       "    .dataframe tbody tr th {\n",
       "        vertical-align: top;\n",
       "    }\n",
       "\n",
       "    .dataframe thead th {\n",
       "        text-align: right;\n",
       "    }\n",
       "</style>\n",
       "<table border=\"1\" class=\"dataframe\">\n",
       "  <thead>\n",
       "    <tr style=\"text-align: right;\">\n",
       "      <th></th>\n",
       "      <th>country</th>\n",
       "      <th>customers_count</th>\n",
       "      <th>revenue</th>\n",
       "    </tr>\n",
       "  </thead>\n",
       "  <tbody>\n",
       "    <tr>\n",
       "      <th>0</th>\n",
       "      <td>United Kingdom</td>\n",
       "      <td>3918</td>\n",
       "      <td>8,740,259.69</td>\n",
       "    </tr>\n",
       "    <tr>\n",
       "      <th>11</th>\n",
       "      <td>Netherlands</td>\n",
       "      <td>9</td>\n",
       "      <td>283,889.34</td>\n",
       "    </tr>\n",
       "    <tr>\n",
       "      <th>1</th>\n",
       "      <td>Germany</td>\n",
       "      <td>94</td>\n",
       "      <td>205,381.15</td>\n",
       "    </tr>\n",
       "    <tr>\n",
       "      <th>2</th>\n",
       "      <td>France</td>\n",
       "      <td>88</td>\n",
       "      <td>184,679.00</td>\n",
       "    </tr>\n",
       "    <tr>\n",
       "      <th>10</th>\n",
       "      <td>Australia</td>\n",
       "      <td>9</td>\n",
       "      <td>138,103.81</td>\n",
       "    </tr>\n",
       "    <tr>\n",
       "      <th>3</th>\n",
       "      <td>Spain</td>\n",
       "      <td>30</td>\n",
       "      <td>55,706.56</td>\n",
       "    </tr>\n",
       "    <tr>\n",
       "      <th>5</th>\n",
       "      <td>Switzerland</td>\n",
       "      <td>22</td>\n",
       "      <td>53,065.60</td>\n",
       "    </tr>\n",
       "    <tr>\n",
       "      <th>13</th>\n",
       "      <td>Japan</td>\n",
       "      <td>8</td>\n",
       "      <td>37,416.37</td>\n",
       "    </tr>\n",
       "    <tr>\n",
       "      <th>4</th>\n",
       "      <td>Belgium</td>\n",
       "      <td>25</td>\n",
       "      <td>36,927.34</td>\n",
       "    </tr>\n",
       "    <tr>\n",
       "      <th>12</th>\n",
       "      <td>Sweden</td>\n",
       "      <td>8</td>\n",
       "      <td>36,828.83</td>\n",
       "    </tr>\n",
       "  </tbody>\n",
       "</table>\n",
       "</div>"
      ],
      "text/plain": [
       "           country  customers_count      revenue\n",
       "0   United Kingdom             3918 8,740,259.69\n",
       "11     Netherlands                9   283,889.34\n",
       "1          Germany               94   205,381.15\n",
       "2           France               88   184,679.00\n",
       "10       Australia                9   138,103.81\n",
       "3            Spain               30    55,706.56\n",
       "5      Switzerland               22    53,065.60\n",
       "13           Japan                8    37,416.37\n",
       "4          Belgium               25    36,927.34\n",
       "12          Sweden                8    36,828.83"
      ]
     },
     "execution_count": 44,
     "metadata": {},
     "output_type": "execute_result"
    }
   ],
   "source": [
    "# Посмотрим на количество пользователей и доход от них по странам\n",
    "by_country = retail_data.groupby('country', as_index=False) \\\n",
    "                                 .agg(customers_count=('customer_id', 'nunique'),\n",
    "                                     revenue=('revenue', 'sum')) \\\n",
    "                                 .sort_values('customers_count', ascending=False).reset_index()\n",
    "del by_country['index']\n",
    "top_10_count = by_country.sort_values('customers_count', ascending=False).head(10)\n",
    "top_10_revenue = by_country.sort_values('revenue', ascending=False).head(10)\n",
    "top_10_revenue"
   ]
  },
  {
   "cell_type": "code",
   "execution_count": 45,
   "id": "cbceb3bf",
   "metadata": {},
   "outputs": [
    {
     "data": {
      "image/png": "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\n",
      "text/plain": [
       "<Figure size 1296x720 with 4 Axes>"
      ]
     },
     "metadata": {},
     "output_type": "display_data"
    }
   ],
   "source": [
    "# Посмотрим на распределение\n",
    "fig, axs = plt.subplots(2, 2, figsize=(18, 10))\n",
    "plt.subplots_adjust(hspace=0.5, wspace=0.3)\n",
    "sns.barplot(data=top_10_revenue, x='revenue', y='country', ax=axs[0,0]) \\\n",
    "    .set(ylabel='', xlabel='', title='Распределение дохода по странам\\n')\n",
    "sns.barplot(data=top_10_revenue.query(\"country!='United Kingdom'\"), x='revenue', y='country', ax=axs[0,1]) \\\n",
    "    .set(ylabel='', xlabel='', title='Распределение дохода по странам без UK\\n')\n",
    "sns.barplot(data=top_10_count, x='customers_count', y='country', ax=axs[1,0]) \\\n",
    "    .set(ylabel='', xlabel='', title='Количество пользователей по странам\\n')\n",
    "sns.barplot(data=top_10_count.query(\"country!='United Kingdom'\"), x='customers_count', y='country', ax=axs[1,1]) \\\n",
    "    .set(ylabel='', xlabel='', title='Количество пользователей по странам без UK\\n')\n",
    "plt.show()"
   ]
  },
  {
   "cell_type": "markdown",
   "id": "4fe1c27d",
   "metadata": {},
   "source": [
    "Наибольший вклад дает United Kingdom, объединим остальные страны и посмотрим соотношение."
   ]
  },
  {
   "cell_type": "code",
   "execution_count": 46,
   "id": "8c0b6f8b",
   "metadata": {},
   "outputs": [
    {
     "data": {
      "text/html": [
       "<div>\n",
       "<style scoped>\n",
       "    .dataframe tbody tr th:only-of-type {\n",
       "        vertical-align: middle;\n",
       "    }\n",
       "\n",
       "    .dataframe tbody tr th {\n",
       "        vertical-align: top;\n",
       "    }\n",
       "\n",
       "    .dataframe thead th {\n",
       "        text-align: right;\n",
       "    }\n",
       "</style>\n",
       "<table border=\"1\" class=\"dataframe\">\n",
       "  <thead>\n",
       "    <tr style=\"text-align: right;\">\n",
       "      <th></th>\n",
       "      <th>country</th>\n",
       "      <th>customers_count</th>\n",
       "      <th>revenue</th>\n",
       "    </tr>\n",
       "  </thead>\n",
       "  <tbody>\n",
       "    <tr>\n",
       "      <th>0</th>\n",
       "      <td>United Kingdom</td>\n",
       "      <td>3918</td>\n",
       "      <td>8,740,259.69</td>\n",
       "    </tr>\n",
       "    <tr>\n",
       "      <th>1</th>\n",
       "      <td>other countries</td>\n",
       "      <td>386</td>\n",
       "      <td>1,177,318.44</td>\n",
       "    </tr>\n",
       "  </tbody>\n",
       "</table>\n",
       "</div>"
      ],
      "text/plain": [
       "           country customers_count      revenue\n",
       "0   United Kingdom            3918 8,740,259.69\n",
       "1  other countries             386 1,177,318.44"
      ]
     },
     "execution_count": 46,
     "metadata": {},
     "output_type": "execute_result"
    }
   ],
   "source": [
    "# Объединяем все страны, кроме United Kingdom\n",
    "UK_other = pd.concat([by_country[:1], pd.DataFrame(by_country.loc[1:].sum()).transpose()], \n",
    "                                      ignore_index=True)\n",
    "UK_other.loc[1, 'country'] = 'other countries'\n",
    "UK_other"
   ]
  },
  {
   "cell_type": "code",
   "execution_count": 47,
   "id": "d8cb780a",
   "metadata": {},
   "outputs": [
    {
     "data": {
      "image/png": "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\n",
      "text/plain": [
       "<Figure size 1080x720 with 2 Axes>"
      ]
     },
     "metadata": {},
     "output_type": "display_data"
    }
   ],
   "source": [
    "# Визуализируем отношение\n",
    "\n",
    "fig = plt.figure(figsize=(15, 10))\n",
    "ax1 = fig.add_subplot(121)\n",
    "ax1 = plt.pie(UK_other.revenue, labels=['United Kingdom', 'other countries'], autopct='%.2f%%')\n",
    "plt.title('Доход')\n",
    "ax2 = fig.add_subplot(122)\n",
    "ax2 = plt.pie(UK_other.customers_count, labels=['United Kingdom', 'other countries'], autopct='%.2f%%')\n",
    "plt.title('Количество пользователей')\n",
    "plt.show()"
   ]
  },
  {
   "cell_type": "code",
   "execution_count": 48,
   "id": "f880b439",
   "metadata": {},
   "outputs": [
    {
     "data": {
      "text/html": [
       "<div>\n",
       "<style scoped>\n",
       "    .dataframe tbody tr th:only-of-type {\n",
       "        vertical-align: middle;\n",
       "    }\n",
       "\n",
       "    .dataframe tbody tr th {\n",
       "        vertical-align: top;\n",
       "    }\n",
       "\n",
       "    .dataframe thead th {\n",
       "        text-align: right;\n",
       "    }\n",
       "</style>\n",
       "<table border=\"1\" class=\"dataframe\">\n",
       "  <thead>\n",
       "    <tr style=\"text-align: right;\">\n",
       "      <th></th>\n",
       "      <th>country</th>\n",
       "      <th>avg_revenue</th>\n",
       "      <th>avg_size</th>\n",
       "    </tr>\n",
       "  </thead>\n",
       "  <tbody>\n",
       "    <tr>\n",
       "      <th>16</th>\n",
       "      <td>Netherlands</td>\n",
       "      <td>3,052.57</td>\n",
       "      <td>2,153.31</td>\n",
       "    </tr>\n",
       "    <tr>\n",
       "      <th>0</th>\n",
       "      <td>Australia</td>\n",
       "      <td>2,466.14</td>\n",
       "      <td>1,498.04</td>\n",
       "    </tr>\n",
       "    <tr>\n",
       "      <th>22</th>\n",
       "      <td>Singapore</td>\n",
       "      <td>2,280.10</td>\n",
       "      <td>1,308.50</td>\n",
       "    </tr>\n",
       "    <tr>\n",
       "      <th>12</th>\n",
       "      <td>Japan</td>\n",
       "      <td>1,969.28</td>\n",
       "      <td>1,369.26</td>\n",
       "    </tr>\n",
       "    <tr>\n",
       "      <th>13</th>\n",
       "      <td>Lebanon</td>\n",
       "      <td>1,693.88</td>\n",
       "      <td>386.00</td>\n",
       "    </tr>\n",
       "    <tr>\n",
       "      <th>8</th>\n",
       "      <td>Hong Kong</td>\n",
       "      <td>1,392.03</td>\n",
       "      <td>672.57</td>\n",
       "    </tr>\n",
       "    <tr>\n",
       "      <th>4</th>\n",
       "      <td>Brazil</td>\n",
       "      <td>1,143.60</td>\n",
       "      <td>356.00</td>\n",
       "    </tr>\n",
       "    <tr>\n",
       "      <th>24</th>\n",
       "      <td>Sweden</td>\n",
       "      <td>1,083.20</td>\n",
       "      <td>1,059.91</td>\n",
       "    </tr>\n",
       "    <tr>\n",
       "      <th>25</th>\n",
       "      <td>Switzerland</td>\n",
       "      <td>1,061.31</td>\n",
       "      <td>610.30</td>\n",
       "    </tr>\n",
       "    <tr>\n",
       "      <th>10</th>\n",
       "      <td>Israel</td>\n",
       "      <td>1,014.93</td>\n",
       "      <td>549.75</td>\n",
       "    </tr>\n",
       "  </tbody>\n",
       "</table>\n",
       "</div>"
      ],
      "text/plain": [
       "        country  avg_revenue  avg_size\n",
       "16  Netherlands     3,052.57  2,153.31\n",
       "0     Australia     2,466.14  1,498.04\n",
       "22    Singapore     2,280.10  1,308.50\n",
       "12        Japan     1,969.28  1,369.26\n",
       "13      Lebanon     1,693.88    386.00\n",
       "8     Hong Kong     1,392.03    672.57\n",
       "4        Brazil     1,143.60    356.00\n",
       "24       Sweden     1,083.20  1,059.91\n",
       "25  Switzerland     1,061.31    610.30\n",
       "10       Israel     1,014.93    549.75"
      ]
     },
     "execution_count": 48,
     "metadata": {},
     "output_type": "execute_result"
    }
   ],
   "source": [
    "# Посмотрим на среднй чек и размер корзины по странам\n",
    "bill = retail_data.groupby(['country', 'bill'], as_index=False) \\\n",
    "                                 .agg(revenue=('revenue', 'sum'),\n",
    "                                     size=('quantity', 'sum'))\n",
    "avg_bill = bill.groupby('country', as_index=False) \\\n",
    "               .agg(avg_revenue=('revenue', 'mean'), avg_size=('size', 'mean')) \\\n",
    "               .sort_values('avg_revenue', ascending=False)\n",
    "avg_bill.head(10)"
   ]
  },
  {
   "cell_type": "code",
   "execution_count": 49,
   "id": "01e0c0d4",
   "metadata": {},
   "outputs": [
    {
     "data": {
      "image/png": "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\n",
      "text/plain": [
       "<Figure size 1152x432 with 1 Axes>"
      ]
     },
     "metadata": {},
     "output_type": "display_data"
    }
   ],
   "source": [
    "# Визуализируем распределение\n",
    "avg_bill.plot(kind='bar', x='country')\n",
    "plt.legend(['Средняя сумма чека', 'Среднее количество товаров в чеке'], fontsize='15')\n",
    "plt.title('Распределение по странам\\n')\n",
    "plt.show()"
   ]
  },
  {
   "cell_type": "markdown",
   "id": "160a9982",
   "metadata": {},
   "source": [
    "Видим, что United Kingdom, которая является лидером по выручке, не входит в топ-15 стран по среднему чеку, United Kingdom приносит большой доход за счет большого числа пользователей.  \n",
    "В то же время Netherlands и Australia, которые являются лидерами по размеру среднего чека, но не входят в топ-10 по числу пользователей, также являются лидерами (входят в топ-5) по выручке, мало пользователей, но с очень большим чеком.  \n",
    "Также у Netherlands наблюдается очень большое значение среднего количества товаров в корзине, скорее всего, это оптовый покупатель.  \n",
    "Можно заметить, что третья страна по размеру среднего чека — Singapore, однако он не входит в топ-10 по выручке в отличие от Netherlands и Australia, причина в том, что в данной стране всего один пользователь с очень большой корзиной."
   ]
  },
  {
   "cell_type": "markdown",
   "id": "6b019ae4",
   "metadata": {},
   "source": [
    "**Таким образом, был проведен ABC-анализ, XYZ-анализ, ABC/XYZ-анализ, была посмотрена общая динамика продаж по месяцам и странам.**"
   ]
  }
 ],
 "metadata": {
  "kernelspec": {
   "display_name": "Python 3 (ipykernel)",
   "language": "python",
   "name": "python3"
  },
  "language_info": {
   "codemirror_mode": {
    "name": "ipython",
    "version": 3
   },
   "file_extension": ".py",
   "mimetype": "text/x-python",
   "name": "python",
   "nbconvert_exporter": "python",
   "pygments_lexer": "ipython3",
   "version": "3.9.12"
  }
 },
 "nbformat": 4,
 "nbformat_minor": 5
}
