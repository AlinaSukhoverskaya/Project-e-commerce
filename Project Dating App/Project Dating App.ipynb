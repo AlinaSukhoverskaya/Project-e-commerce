{
 "cells": [
  {
   "cell_type": "markdown",
   "metadata": {},
   "source": [
    "# 1. Подготовка к работе"
   ]
  },
  {
   "cell_type": "code",
   "execution_count": 1,
   "metadata": {},
   "outputs": [],
   "source": [
    "# Подгружаем библиотеки\n",
    "\n",
    "import pandas as pd\n",
    "import numpy as np\n",
    "import matplotlib.pyplot as plt\n",
    "import matplotlib.ticker as mticker\n",
    "import seaborn as sns\n",
    "\n",
    "from scipy import stats\n",
    "\n",
    "%matplotlib inline"
   ]
  },
  {
   "cell_type": "code",
   "execution_count": 2,
   "metadata": {},
   "outputs": [],
   "source": [
    "# Подготавливаем общие настройки для графиков\n",
    "\n",
    "sns.set(\n",
    "    rc={\n",
    "        \"figure.figsize\": (18, 8),\n",
    "        \"axes.titlesize\": 22,\n",
    "        \"axes.labelsize\": 18,\n",
    "        \"xtick.labelsize\": 16,\n",
    "        \"ytick.labelsize\": 16,\n",
    "        \"legend.fontsize\": 16,\n",
    "        'legend.handlelength': 3,\n",
    "        'legend.title_fontsize': 16\n",
    "    }\n",
    ")\n",
    "\n",
    "sns.set_style(\"whitegrid\")\n",
    "sns.set_palette(\"RdGy\", 4)"
   ]
  },
  {
   "cell_type": "markdown",
   "metadata": {},
   "source": [
    "# 2. Загрузка данных"
   ]
  },
  {
   "cell_type": "markdown",
   "metadata": {},
   "source": [
    "**dating_data.csv** - выгрузка логов взаимодействия пользователей друг с другом. Для каждой пары пользователей указано, из какой они группы АБ-теста и случился ли у них мэтч."
   ]
  },
  {
   "cell_type": "code",
   "execution_count": 3,
   "metadata": {},
   "outputs": [
    {
     "data": {
      "text/html": [
       "<div>\n",
       "<style scoped>\n",
       "    .dataframe tbody tr th:only-of-type {\n",
       "        vertical-align: middle;\n",
       "    }\n",
       "\n",
       "    .dataframe tbody tr th {\n",
       "        vertical-align: top;\n",
       "    }\n",
       "\n",
       "    .dataframe thead th {\n",
       "        text-align: right;\n",
       "    }\n",
       "</style>\n",
       "<table border=\"1\" class=\"dataframe\">\n",
       "  <thead>\n",
       "    <tr style=\"text-align: right;\">\n",
       "      <th></th>\n",
       "      <th>user_id_1</th>\n",
       "      <th>user_id_2</th>\n",
       "      <th>group</th>\n",
       "      <th>is_match</th>\n",
       "    </tr>\n",
       "  </thead>\n",
       "  <tbody>\n",
       "    <tr>\n",
       "      <th>0</th>\n",
       "      <td>79</td>\n",
       "      <td>91</td>\n",
       "      <td>1</td>\n",
       "      <td>1</td>\n",
       "    </tr>\n",
       "    <tr>\n",
       "      <th>1</th>\n",
       "      <td>716</td>\n",
       "      <td>353</td>\n",
       "      <td>1</td>\n",
       "      <td>1</td>\n",
       "    </tr>\n",
       "    <tr>\n",
       "      <th>2</th>\n",
       "      <td>423</td>\n",
       "      <td>677</td>\n",
       "      <td>0</td>\n",
       "      <td>0</td>\n",
       "    </tr>\n",
       "    <tr>\n",
       "      <th>3</th>\n",
       "      <td>658</td>\n",
       "      <td>165</td>\n",
       "      <td>1</td>\n",
       "      <td>1</td>\n",
       "    </tr>\n",
       "    <tr>\n",
       "      <th>4</th>\n",
       "      <td>969</td>\n",
       "      <td>155</td>\n",
       "      <td>0</td>\n",
       "      <td>1</td>\n",
       "    </tr>\n",
       "  </tbody>\n",
       "</table>\n",
       "</div>"
      ],
      "text/plain": [
       "   user_id_1  user_id_2  group  is_match\n",
       "0         79         91      1         1\n",
       "1        716        353      1         1\n",
       "2        423        677      0         0\n",
       "3        658        165      1         1\n",
       "4        969        155      0         1"
      ]
     },
     "execution_count": 3,
     "metadata": {},
     "output_type": "execute_result"
    }
   ],
   "source": [
    "# Считываем данные\n",
    "path_to_file = 'dating_data.csv'\n",
    "dating_df = pd.read_csv(path_to_file)\n",
    "dating_df.head()"
   ]
  },
  {
   "cell_type": "code",
   "execution_count": 4,
   "metadata": {},
   "outputs": [
    {
     "data": {
      "text/plain": [
       "(14514, 4)"
      ]
     },
     "execution_count": 4,
     "metadata": {},
     "output_type": "execute_result"
    }
   ],
   "source": [
    "# Посмотрим размер данных\n",
    "dating_df.shape"
   ]
  },
  {
   "cell_type": "code",
   "execution_count": 5,
   "metadata": {},
   "outputs": [
    {
     "data": {
      "text/plain": [
       "user_id_1    int64\n",
       "user_id_2    int64\n",
       "group        int64\n",
       "is_match     int64\n",
       "dtype: object"
      ]
     },
     "execution_count": 5,
     "metadata": {},
     "output_type": "execute_result"
    }
   ],
   "source": [
    "# Посмотрим тип переменных\n",
    "dating_df.dtypes"
   ]
  },
  {
   "cell_type": "code",
   "execution_count": 6,
   "metadata": {},
   "outputs": [
    {
     "name": "stdout",
     "output_type": "stream",
     "text": [
      "Количество пустых ячеек в датафрейме: 0\n",
      "Количество дубликатов: 0\n"
     ]
    }
   ],
   "source": [
    "# Проверим, что нет пропущенных значений и дубликатов\n",
    "print('Количество пустых ячеек в датафрейме:', dating_df.isna().sum().sum())\n",
    "print('Количество дубликатов:', dating_df.duplicated().sum())"
   ]
  },
  {
   "cell_type": "code",
   "execution_count": 7,
   "metadata": {},
   "outputs": [
    {
     "data": {
      "text/plain": [
       "user_id_1    1000\n",
       "user_id_2    1000\n",
       "group           2\n",
       "is_match        2\n",
       "dtype: int64"
      ]
     },
     "execution_count": 7,
     "metadata": {},
     "output_type": "execute_result"
    }
   ],
   "source": [
    "# Посмотрим количество уникальных значений\n",
    "dating_df.nunique()"
   ]
  },
  {
   "cell_type": "markdown",
   "metadata": {},
   "source": [
    "### Создадим таблицу пользователей"
   ]
  },
  {
   "cell_type": "code",
   "execution_count": 8,
   "metadata": {},
   "outputs": [
    {
     "data": {
      "text/html": [
       "<div>\n",
       "<style scoped>\n",
       "    .dataframe tbody tr th:only-of-type {\n",
       "        vertical-align: middle;\n",
       "    }\n",
       "\n",
       "    .dataframe tbody tr th {\n",
       "        vertical-align: top;\n",
       "    }\n",
       "\n",
       "    .dataframe thead th {\n",
       "        text-align: right;\n",
       "    }\n",
       "</style>\n",
       "<table border=\"1\" class=\"dataframe\">\n",
       "  <thead>\n",
       "    <tr style=\"text-align: right;\">\n",
       "      <th></th>\n",
       "      <th>user_id</th>\n",
       "      <th>group</th>\n",
       "      <th>is_match</th>\n",
       "    </tr>\n",
       "  </thead>\n",
       "  <tbody>\n",
       "    <tr>\n",
       "      <th>0</th>\n",
       "      <td>79</td>\n",
       "      <td>1</td>\n",
       "      <td>1</td>\n",
       "    </tr>\n",
       "    <tr>\n",
       "      <th>1</th>\n",
       "      <td>716</td>\n",
       "      <td>1</td>\n",
       "      <td>1</td>\n",
       "    </tr>\n",
       "    <tr>\n",
       "      <th>2</th>\n",
       "      <td>423</td>\n",
       "      <td>0</td>\n",
       "      <td>0</td>\n",
       "    </tr>\n",
       "    <tr>\n",
       "      <th>3</th>\n",
       "      <td>658</td>\n",
       "      <td>1</td>\n",
       "      <td>1</td>\n",
       "    </tr>\n",
       "    <tr>\n",
       "      <th>4</th>\n",
       "      <td>969</td>\n",
       "      <td>0</td>\n",
       "      <td>1</td>\n",
       "    </tr>\n",
       "  </tbody>\n",
       "</table>\n",
       "</div>"
      ],
      "text/plain": [
       "   user_id  group  is_match\n",
       "0       79      1         1\n",
       "1      716      1         1\n",
       "2      423      0         0\n",
       "3      658      1         1\n",
       "4      969      0         1"
      ]
     },
     "execution_count": 8,
     "metadata": {},
     "output_type": "execute_result"
    }
   ],
   "source": [
    "# Получим таблицу с действиями пользователей из обеих групп\n",
    "user_1_df = dating_df[['user_id_1', 'group', 'is_match']].rename(columns={'user_id_1': 'user_id'})\n",
    "user_2_df = dating_df[['user_id_2', 'group', 'is_match']].rename(columns={'user_id_2': 'user_id'})\n",
    "users_df = pd.concat([user_1_df, user_2_df])\n",
    "users_df.head()"
   ]
  },
  {
   "cell_type": "code",
   "execution_count": 9,
   "metadata": {},
   "outputs": [
    {
     "data": {
      "text/plain": [
       "(14514, 4)"
      ]
     },
     "execution_count": 9,
     "metadata": {},
     "output_type": "execute_result"
    }
   ],
   "source": [
    "# Посмотрим размер данных\n",
    "dating_df.shape"
   ]
  },
  {
   "cell_type": "markdown",
   "metadata": {},
   "source": [
    "# 3. Выбор метрик\n",
    "\n",
    "Для проверки работы нового алгоритма для поиска наиболее подходящих анкет был проведен АБ-тест. Все пользователи были разделены на две группы. Пользователи в группе с номером 0 пользовались приложением со старым алгоритмом. Все пользователи в группе 1 пользовались приложением с новым алгоритмом для поиска анкет.\n",
    "\n",
    "Наша задача – оценить, правда ли, что новый алгоритм улучшил качество сервиса. Для этого выберем метрики, которые отвечают за качество сервиса, и статистически сравним эти метрики в двух группах.\n",
    "\n",
    "Для нашего приложения важно, как часто пользователи им пользуются: просматривают анкеты, мэтчатся, как успешно проходит подбор анкет. \n",
    "\n",
    "Посмотрим следующие метрики (считаем, что период наблюдения был одинаков для обеих групп).\n",
    "\n",
    "___\n",
    "\n",
    "**Love Rate (Уровень привлекательности)** — количество лайков (мэтчей) в пересчете на размер аудитории (в нашем случае измеряется в парах пользователей).  \n",
    "\n",
    "$$ Love\\ Rate = {Количество\\ лайков  \\over{Количество\\ пользователей}} \\times 100\\% = {Количество\\ мэтчей  \\over{Количество\\ пар\\ пользователей}} \\times 100\\%\n",
    "$$ \n",
    "____\n",
    "\n",
    "\n",
    "**Match Frequency (Частота мэтчей)** — эта метрика показывает, как часто у пользователя происходит мэтч.\n",
    "\n",
    "$$ Частота\\ мэтчей = {Количество\\ мэтчей \\over{Количество\\ уникальных\\ пользователей}}\n",
    "$$ \n",
    "\n",
    "___\n",
    "\n",
    "**View Frequency (Частота просмотра анкет)** — эта метрика показывает, как много пользователь просматривает анкет.\n",
    "\n",
    "$$ View\\ Frequency = {Количество\\ просмотренных\\ анкет \\over{Количество\\ уникальных\\ пользователей}}\n",
    "$$ \n",
    "\n",
    "___\n",
    "\n",
    "**Like Dislike Rate (Отношение лайков к дизлайкам)** — полное количество лайков на количество дизлайков.\n",
    "\n",
    "$$ Like\\ Dislike\\ Rate= {Количество\\ лайков \\over{Количество\\ дизлайков}}\n",
    "$$ "
   ]
  },
  {
   "cell_type": "markdown",
   "metadata": {},
   "source": [
    "# 4. Статистическая проверка результатов АБ-теста"
   ]
  },
  {
   "cell_type": "code",
   "execution_count": 10,
   "metadata": {},
   "outputs": [
    {
     "data": {
      "text/html": [
       "<div>\n",
       "<style scoped>\n",
       "    .dataframe tbody tr th:only-of-type {\n",
       "        vertical-align: middle;\n",
       "    }\n",
       "\n",
       "    .dataframe tbody tr th {\n",
       "        vertical-align: top;\n",
       "    }\n",
       "\n",
       "    .dataframe thead th {\n",
       "        text-align: right;\n",
       "    }\n",
       "</style>\n",
       "<table border=\"1\" class=\"dataframe\">\n",
       "  <thead>\n",
       "    <tr style=\"text-align: right;\">\n",
       "      <th></th>\n",
       "      <th>group</th>\n",
       "      <th>users_count</th>\n",
       "      <th>matches_count</th>\n",
       "      <th>views_count</th>\n",
       "      <th>love_rate</th>\n",
       "      <th>match_frequency</th>\n",
       "      <th>view_frequency</th>\n",
       "      <th>like_dislike_rate</th>\n",
       "    </tr>\n",
       "  </thead>\n",
       "  <tbody>\n",
       "    <tr>\n",
       "      <th>0</th>\n",
       "      <td>0</td>\n",
       "      <td>501</td>\n",
       "      <td>1868</td>\n",
       "      <td>9584</td>\n",
       "      <td>19.5</td>\n",
       "      <td>3.728543</td>\n",
       "      <td>19.129741</td>\n",
       "      <td>0.242094</td>\n",
       "    </tr>\n",
       "    <tr>\n",
       "      <th>1</th>\n",
       "      <td>1</td>\n",
       "      <td>499</td>\n",
       "      <td>7818</td>\n",
       "      <td>19444</td>\n",
       "      <td>40.2</td>\n",
       "      <td>15.667335</td>\n",
       "      <td>38.965932</td>\n",
       "      <td>0.672458</td>\n",
       "    </tr>\n",
       "  </tbody>\n",
       "</table>\n",
       "</div>"
      ],
      "text/plain": [
       "   group  users_count  matches_count  views_count  love_rate  match_frequency  \\\n",
       "0      0          501           1868         9584       19.5         3.728543   \n",
       "1      1          499           7818        19444       40.2        15.667335   \n",
       "\n",
       "   view_frequency  like_dislike_rate  \n",
       "0       19.129741           0.242094  \n",
       "1       38.965932           0.672458  "
      ]
     },
     "execution_count": 10,
     "metadata": {},
     "output_type": "execute_result"
    }
   ],
   "source": [
    "# Найдем все нужные метрики, которые были перечислены выше\n",
    "\n",
    "df = users_df \\\n",
    "    .groupby(['group'], as_index=False) \\\n",
    "    .agg({'user_id': 'nunique', 'is_match': ['sum', 'count']})\n",
    "df.columns = ['group', 'users_count', 'matches_count', 'views_count']\n",
    "df['love_rate'] = round(df.matches_count / df.views_count * 100, 1)\n",
    "df['match_frequency'] = df.matches_count / df.users_count\n",
    "df['view_frequency'] = df.views_count / df.users_count\n",
    "df['like_dislike_rate'] = df.matches_count / (df.views_count - df.matches_count)\n",
    "df.head()"
   ]
  },
  {
   "cell_type": "code",
   "execution_count": 11,
   "metadata": {},
   "outputs": [
    {
     "data": {
      "text/html": [
       "<div>\n",
       "<style scoped>\n",
       "    .dataframe tbody tr th:only-of-type {\n",
       "        vertical-align: middle;\n",
       "    }\n",
       "\n",
       "    .dataframe tbody tr th {\n",
       "        vertical-align: top;\n",
       "    }\n",
       "\n",
       "    .dataframe thead th {\n",
       "        text-align: right;\n",
       "    }\n",
       "</style>\n",
       "<table border=\"1\" class=\"dataframe\">\n",
       "  <thead>\n",
       "    <tr style=\"text-align: right;\">\n",
       "      <th></th>\n",
       "      <th>users_count</th>\n",
       "      <th>matches_count</th>\n",
       "      <th>views_count</th>\n",
       "      <th>love_rate</th>\n",
       "      <th>match_frequency</th>\n",
       "      <th>view_frequency</th>\n",
       "      <th>like_dislike_rate</th>\n",
       "    </tr>\n",
       "  </thead>\n",
       "  <tbody>\n",
       "    <tr>\n",
       "      <th>1</th>\n",
       "      <td>-2.0</td>\n",
       "      <td>5950.0</td>\n",
       "      <td>9860.0</td>\n",
       "      <td>20.7</td>\n",
       "      <td>11.938792</td>\n",
       "      <td>19.836191</td>\n",
       "      <td>0.430364</td>\n",
       "    </tr>\n",
       "  </tbody>\n",
       "</table>\n",
       "</div>"
      ],
      "text/plain": [
       "   users_count  matches_count  views_count  love_rate  match_frequency  \\\n",
       "1         -2.0         5950.0       9860.0       20.7        11.938792   \n",
       "\n",
       "   view_frequency  like_dislike_rate  \n",
       "1       19.836191           0.430364  "
      ]
     },
     "execution_count": 11,
     "metadata": {},
     "output_type": "execute_result"
    }
   ],
   "source": [
    "# Посмотрим разницу величин в двух группах\n",
    "difference = df.diff(axis=0).drop('group', axis=1).drop(0, axis=0)\n",
    "difference"
   ]
  },
  {
   "cell_type": "markdown",
   "metadata": {},
   "source": [
    "Видим, что несмотря на то, что пользователей в тестовой группе меньше, все показатели выросли.  \n",
    "Однако нам предстоит узнать, статзначимы ли эти изменения или они обусловлены, например, дисперсией показателей.  \n",
    "\n",
    "### Выбор статистических тестов\n",
    "\n",
    "Теперь нам нужно определиться со статистическими тестами.\n",
    "\n",
    "**Love Rate:**  \n",
    "Мы имеем две категориальные переменные: группы - 0 и 1 (со старым алгоритмом и новым), мэтч - 0 и 1 (не было и был), поэтому для исследования будем использовать критерий хи-квадрат. Он подходит для анализа таблицы сопряженности любого размера, где значения ожидаемых и наблюдаемых частот в каждой ячейке больше 10. \n",
    "\n",
    "В остальных метриках уже фигурируют количественные переменные. Групп у нас всего 2, поэтому использовать дисперсионный анализ мы не будем. Посмотрим на требования к проведению тестов.  \n",
    "\n",
    "Требования к проведению <b><span style='color:#ec8f68'>**t-теста (t-критерий Стьюдента)**</span>:\n",
    "\n",
    "- Дисперсии внутри групп должны быть примерно одинаковы (требование гомогенности дисперсий).\n",
    "- Необходимо, чтобы выборочные средние имели нормальное распределение. При маленьких выборках это означает требование нормальности исходных значений. Выбросы могут оказать значительное влияние на результаты t-теста. На практике t-тест может быть использован для сравнения средних и при ненормальном распределении, особенно на больших выборках и, если в данных нет заметных выбросов. В нашем случае выборки большие, поэтому нужно посмотреть только выбросы.\n",
    "\n",
    "Однако в случае гетероскедастичности дисперсий может быть применен **<b><span style='color:#ec8f68'>t-критерий Уэлча</span>**, который является модификацией t-критерия Стьюдента и не требует равенства дисперсий. Требование о нормальном распределении сохраняется.\n",
    "\n",
    "\n",
    "**<b><span style='color:#ec8f68'>Непараметрический U-критерий Манна-Уитни</span>** не столь чувствителен к наличию выбросов по сравнению с t-тестом.\n",
    "Так же мы можем использовать **<b><span style='color:#ec8f68'>бутстрап</span>**. Строго говоря, нам ничего не мешает применить его для всех наших метрик, потому что ему не страшны ненормальность распределения и гетероскедастичность дисперсий. Однако на практике бутстрап может быть слишком ресурозатратным, поэтому при возможности применим более простой и быстрый метод."
   ]
  },
  {
   "cell_type": "code",
   "execution_count": 12,
   "metadata": {},
   "outputs": [
    {
     "data": {
      "text/html": [
       "<div>\n",
       "<style scoped>\n",
       "    .dataframe tbody tr th:only-of-type {\n",
       "        vertical-align: middle;\n",
       "    }\n",
       "\n",
       "    .dataframe tbody tr th {\n",
       "        vertical-align: top;\n",
       "    }\n",
       "\n",
       "    .dataframe thead th {\n",
       "        text-align: right;\n",
       "    }\n",
       "</style>\n",
       "<table border=\"1\" class=\"dataframe\">\n",
       "  <thead>\n",
       "    <tr style=\"text-align: right;\">\n",
       "      <th></th>\n",
       "      <th>user_id</th>\n",
       "      <th>group</th>\n",
       "      <th>matches_count</th>\n",
       "      <th>views_count</th>\n",
       "      <th>like_dislike_rate</th>\n",
       "    </tr>\n",
       "  </thead>\n",
       "  <tbody>\n",
       "    <tr>\n",
       "      <th>0</th>\n",
       "      <td>1</td>\n",
       "      <td>1</td>\n",
       "      <td>16</td>\n",
       "      <td>37</td>\n",
       "      <td>0.761905</td>\n",
       "    </tr>\n",
       "    <tr>\n",
       "      <th>1</th>\n",
       "      <td>2</td>\n",
       "      <td>1</td>\n",
       "      <td>16</td>\n",
       "      <td>39</td>\n",
       "      <td>0.695652</td>\n",
       "    </tr>\n",
       "    <tr>\n",
       "      <th>2</th>\n",
       "      <td>3</td>\n",
       "      <td>1</td>\n",
       "      <td>8</td>\n",
       "      <td>25</td>\n",
       "      <td>0.470588</td>\n",
       "    </tr>\n",
       "    <tr>\n",
       "      <th>3</th>\n",
       "      <td>4</td>\n",
       "      <td>0</td>\n",
       "      <td>3</td>\n",
       "      <td>17</td>\n",
       "      <td>0.214286</td>\n",
       "    </tr>\n",
       "    <tr>\n",
       "      <th>4</th>\n",
       "      <td>5</td>\n",
       "      <td>1</td>\n",
       "      <td>18</td>\n",
       "      <td>34</td>\n",
       "      <td>1.125000</td>\n",
       "    </tr>\n",
       "  </tbody>\n",
       "</table>\n",
       "</div>"
      ],
      "text/plain": [
       "   user_id  group  matches_count  views_count  like_dislike_rate\n",
       "0        1      1             16           37           0.761905\n",
       "1        2      1             16           39           0.695652\n",
       "2        3      1              8           25           0.470588\n",
       "3        4      0              3           17           0.214286\n",
       "4        5      1             18           34           1.125000"
      ]
     },
     "execution_count": 12,
     "metadata": {},
     "output_type": "execute_result"
    }
   ],
   "source": [
    "# Создадим таблицу по пользователям\n",
    "\n",
    "users = users_df \\\n",
    "    .groupby(['user_id', 'group'], as_index=False) \\\n",
    "    .agg({'is_match': ['sum', 'count']})\n",
    "users.columns = ['user_id', 'group', 'matches_count', 'views_count']\n",
    "users['like_dislike_rate'] = users.matches_count / (users.views_count - users.matches_count)\n",
    "users.head()"
   ]
  },
  {
   "cell_type": "code",
   "execution_count": 13,
   "metadata": {},
   "outputs": [],
   "source": [
    "# Разделим по группам\n",
    "group_0 = users.query('group == 0')\n",
    "group_1 = users.query('group == 1')"
   ]
  },
  {
   "cell_type": "markdown",
   "metadata": {},
   "source": [
    "Для начала проведем проверку равенства дисперсий по критерию Левина.  \n",
    "Гипотеза $H_0$: дисперсии равны  \n",
    "Гипотеза $H_1$: дисперсии различны"
   ]
  },
  {
   "cell_type": "code",
   "execution_count": 14,
   "metadata": {},
   "outputs": [
    {
     "name": "stdout",
     "output_type": "stream",
     "text": [
      "\n",
      "Проверка распределений на равенство дисперсий (требование гомогенности дисперсий) \n",
      "\n",
      "Распределение количества мэтчей по группам:\n",
      "p-value = 1.5179102391131175e-28\n",
      "\n",
      "Распределение количества просмотров по группам:\n",
      "p-value = 1.8829191577883398e-05\n",
      "\n",
      "Распределение количества лайков к количеству дизлайков по группам:\n",
      "p-value = 3.6424618730727393e-16\n"
     ]
    }
   ],
   "source": [
    "print(f'''\n",
    "Проверка распределений на равенство дисперсий (требование гомогенности дисперсий) \n",
    "\n",
    "Распределение количества мэтчей по группам:\n",
    "p-value = {stats.levene(group_0.matches_count, group_1.matches_count)[1]}\n",
    "\n",
    "Распределение количества просмотров по группам:\n",
    "p-value = {stats.levene(group_0.views_count, group_1.views_count)[1]}\n",
    "\n",
    "Распределение количества лайков к количеству дизлайков по группам:\n",
    "p-value = {stats.levene(group_0.like_dislike_rate, group_1.like_dislike_rate)[1]}''')"
   ]
  },
  {
   "cell_type": "markdown",
   "metadata": {},
   "source": [
    "Значение p-value у всех тестов меньше нашего уровня значимости 0.05. Таким образом, в этих случаях мы отвергаем нулевую гипотезу и заключаем, что среди групп **дисперсии различны**, поэтому будем использовать t-критерий Уэлча.  \n",
    "Так как выборки у нас достаточно большие t-тест должен дать приблизительно точный результат, несмотря на ненормальность распределения."
   ]
  },
  {
   "cell_type": "markdown",
   "metadata": {},
   "source": [
    "Проведем t-тесты.  \n",
    "Гипотеза $H_0$: средние равны  \n",
    "Гипотеза $H_1$: средние различны "
   ]
  },
  {
   "cell_type": "code",
   "execution_count": 15,
   "metadata": {},
   "outputs": [
    {
     "data": {
      "text/plain": [
       "Ttest_indResult(statistic=-61.60792790329727, pvalue=7.010294561635124e-295)"
      ]
     },
     "execution_count": 15,
     "metadata": {},
     "output_type": "execute_result"
    }
   ],
   "source": [
    "stats.ttest_ind(group_0.matches_count, group_1.matches_count, equal_var=False)"
   ]
  },
  {
   "cell_type": "code",
   "execution_count": 16,
   "metadata": {},
   "outputs": [
    {
     "data": {
      "text/plain": [
       "Ttest_indResult(statistic=-62.81020734004636, pvalue=0.0)"
      ]
     },
     "execution_count": 16,
     "metadata": {},
     "output_type": "execute_result"
    }
   ],
   "source": [
    "stats.ttest_ind(group_0.views_count, group_1.views_count, equal_var=False)"
   ]
  },
  {
   "cell_type": "code",
   "execution_count": 17,
   "metadata": {},
   "outputs": [
    {
     "data": {
      "text/plain": [
       "Ttest_indResult(statistic=-33.86520379366676, pvalue=1.4656305006407533e-156)"
      ]
     },
     "execution_count": 17,
     "metadata": {},
     "output_type": "execute_result"
    }
   ],
   "source": [
    "stats.ttest_ind(group_0.like_dislike_rate, group_1.like_dislike_rate, equal_var=False)"
   ]
  },
  {
   "cell_type": "markdown",
   "metadata": {},
   "source": [
    "Во всех случаях значение p-value очень мало (< 0.5), следовательно, мы отвергаем нулевую гипотезу и делаем вывод, что средние в группах статзначимо различаются.  \n",
    "**Вывод: t-критерий Уэлча показал, что все средние статзначимо изменились.**"
   ]
  },
  {
   "cell_type": "markdown",
   "metadata": {},
   "source": [
    "## Love Rate\n",
    "\n",
    "Как уже отмечалось, будем использовать критерий хи-квадрат."
   ]
  },
  {
   "cell_type": "code",
   "execution_count": 18,
   "metadata": {},
   "outputs": [
    {
     "data": {
      "text/html": [
       "<div>\n",
       "<style scoped>\n",
       "    .dataframe tbody tr th:only-of-type {\n",
       "        vertical-align: middle;\n",
       "    }\n",
       "\n",
       "    .dataframe tbody tr th {\n",
       "        vertical-align: top;\n",
       "    }\n",
       "\n",
       "    .dataframe thead th {\n",
       "        text-align: right;\n",
       "    }\n",
       "</style>\n",
       "<table border=\"1\" class=\"dataframe\">\n",
       "  <thead>\n",
       "    <tr style=\"text-align: right;\">\n",
       "      <th>is_match</th>\n",
       "      <th>0</th>\n",
       "      <th>1</th>\n",
       "    </tr>\n",
       "    <tr>\n",
       "      <th>group</th>\n",
       "      <th></th>\n",
       "      <th></th>\n",
       "    </tr>\n",
       "  </thead>\n",
       "  <tbody>\n",
       "    <tr>\n",
       "      <th>0</th>\n",
       "      <td>3858</td>\n",
       "      <td>934</td>\n",
       "    </tr>\n",
       "    <tr>\n",
       "      <th>1</th>\n",
       "      <td>5813</td>\n",
       "      <td>3909</td>\n",
       "    </tr>\n",
       "  </tbody>\n",
       "</table>\n",
       "</div>"
      ],
      "text/plain": [
       "is_match     0     1\n",
       "group               \n",
       "0         3858   934\n",
       "1         5813  3909"
      ]
     },
     "execution_count": 18,
     "metadata": {},
     "output_type": "execute_result"
    }
   ],
   "source": [
    "# Создадим таблицу сопряженности\n",
    "contingency_df = pd.crosstab(dating_df.group, dating_df.is_match)\n",
    "contingency_df"
   ]
  },
  {
   "cell_type": "code",
   "execution_count": 19,
   "metadata": {},
   "outputs": [
    {
     "data": {
      "text/html": [
       "<div>\n",
       "<style scoped>\n",
       "    .dataframe tbody tr th:only-of-type {\n",
       "        vertical-align: middle;\n",
       "    }\n",
       "\n",
       "    .dataframe tbody tr th {\n",
       "        vertical-align: top;\n",
       "    }\n",
       "\n",
       "    .dataframe thead th {\n",
       "        text-align: right;\n",
       "    }\n",
       "</style>\n",
       "<table border=\"1\" class=\"dataframe\">\n",
       "  <thead>\n",
       "    <tr style=\"text-align: right;\">\n",
       "      <th>is_match</th>\n",
       "      <th>0</th>\n",
       "      <th>1</th>\n",
       "    </tr>\n",
       "    <tr>\n",
       "      <th>group</th>\n",
       "      <th></th>\n",
       "      <th></th>\n",
       "    </tr>\n",
       "  </thead>\n",
       "  <tbody>\n",
       "    <tr>\n",
       "      <th>0</th>\n",
       "      <td>0.805092</td>\n",
       "      <td>0.194908</td>\n",
       "    </tr>\n",
       "    <tr>\n",
       "      <th>1</th>\n",
       "      <td>0.597922</td>\n",
       "      <td>0.402078</td>\n",
       "    </tr>\n",
       "  </tbody>\n",
       "</table>\n",
       "</div>"
      ],
      "text/plain": [
       "is_match         0         1\n",
       "group                       \n",
       "0         0.805092  0.194908\n",
       "1         0.597922  0.402078"
      ]
     },
     "execution_count": 19,
     "metadata": {},
     "output_type": "execute_result"
    }
   ],
   "source": [
    "# Создадим нормированную таблицу сопряженности, чтобы узнать долю пар, у которых был мэтч, в каждой группе\n",
    "norm_contingency_df = pd.crosstab(dating_df.group, dating_df.is_match, normalize='index')\n",
    "norm_contingency_df"
   ]
  },
  {
   "cell_type": "markdown",
   "metadata": {},
   "source": [
    "Видим, что доля пар, у которых был мэтч, (уровень привлекательности анкет) с введением нового алгоритма для поиска наиболее подходящих анкет увеличился более чем в 2 раза, однако пока что это еще ни о чем не говорит. \n",
    "\n",
    "Проанализируем таблицу сопряженности. Мы хотим проверить, зависит ли доля пар, у которых произошел мэтч, (уровень привлекательности анкет) от группы.  \n",
    "\n",
    "Гипотеза $H_{0}$: распределение не зависит от группы.  \n",
    "Гипотеза $H_{1}$: распределение зависит от группы."
   ]
  },
  {
   "cell_type": "code",
   "execution_count": 20,
   "metadata": {},
   "outputs": [
    {
     "name": "stdout",
     "output_type": "stream",
     "text": [
      "\n",
      "Хи-квадрат = 618.6889141576198\n",
      "p-value = 1.4418299163662586e-136\n",
      "Количество степеней свободы = 1\n",
      "Ожидаемые наблюдения:\n",
      "[[3193.01584677 1598.98415323]\n",
      " [6477.98415323 3244.01584677]]\n",
      "\n"
     ]
    }
   ],
   "source": [
    "# Критерий хи-квадрат\n",
    "statistic, pvalue, dof, expected_freq = stats.chi2_contingency(contingency_df)\n",
    "print(f'''\n",
    "Хи-квадрат = {statistic}\n",
    "p-value = {pvalue}\n",
    "Количество степеней свободы = {dof}\n",
    "Ожидаемые наблюдения:\n",
    "{expected_freq}\n",
    "''')"
   ]
  },
  {
   "cell_type": "markdown",
   "metadata": {},
   "source": [
    "Полученное значение не укладывается в 99-процентный доверительный интервал для данного распределения (значение p-value очень мало), следовательно, можно сделать вывод, что распределение пар, у которых был мэтч (уровень привлекательности анкет) по группам статзначимо различается.  \n",
    "Приведем полученное ранее распределение пар по группам."
   ]
  },
  {
   "cell_type": "code",
   "execution_count": 21,
   "metadata": {},
   "outputs": [
    {
     "data": {
      "image/png": "[encoded data removed]",
      "text/plain": [
       "<Figure size 1296x576 with 1 Axes>"
      ]
     },
     "metadata": {},
     "output_type": "display_data"
    }
   ],
   "source": [
    "# Строим диаграмму\n",
    "\n",
    "ax = norm_contingency_df.plot(kind=\"bar\", stacked=True, rot=0)\n",
    "ax.yaxis.set_major_locator(mticker.FixedLocator(ax.get_yticks()))\n",
    "ax.set_yticklabels(['{:.1%}'.format(x) for x in ax.get_yticks()])\n",
    "ax.set_xticklabels(['Контрольная', 'Тестовая'])\n",
    "ax.legend(['без мэтча', 'с мэтчем'], title='Доля пар', loc='upper center')\n",
    "for p in ax.patches:\n",
    "    width, height = p.get_width(), p.get_height()\n",
    "    x, y = p.get_xy() \n",
    "    ax.text(x+width/2, y+height/2, '{:.1%}'.format(height),\n",
    "            horizontalalignment='center', verticalalignment='center',fontsize=16)\n",
    "plt.xlabel('Группа')\n",
    "plt.ylabel('Доля')\n",
    "plt.title('Распределение пар по группам\\n')\n",
    "plt.show()"
   ]
  },
  {
   "cell_type": "markdown",
   "metadata": {},
   "source": [
    "Из таблицы, формулы и диаграммы выше следует:  \n",
    "Контрольная группа (со старым алгоритмом): Love Rate = 19.5%  \n",
    "Тестовая группа (с новым алгоритмом): Love Rate = 40.2%\n",
    "\n",
    "**Вывод: хи-критерий показал, что уровень привлекательности (Love Rate) анкет статзначимо увеличился с введением нового алгоритма для поиска наиболее подходящих анкет, из чего следует то, что стоит включить новую систему поиска анкет на всех пользователей.**"
   ]
  },
  {
   "cell_type": "markdown",
   "metadata": {},
   "source": [
    "# 5. Вывод\n",
    "\n",
    "Все статтесты показали статзначимые увеличения показателей: \n",
    "- Уровень привлекательности анкет\n",
    "- Частота мэтчей\n",
    "- Частота просмотра анкет\n",
    "- Отношение лайков к дизлайкам  \n",
    "\n",
    "**Вывод: новый алгоритм для поиска наиболее подходящих анкет принес пользу приложению и его пользователям.**"
   ]
  },
  {
   "cell_type": "code",
   "execution_count": null,
   "metadata": {},
   "outputs": [],
   "source": []
  }
 ],
 "metadata": {
  "kernelspec": {
   "display_name": "Python 3 (ipykernel)",
   "language": "python",
   "name": "python3"
  },
  "language_info": {
   "codemirror_mode": {
    "name": "ipython",
    "version": 3
   },
   "file_extension": ".py",
   "mimetype": "text/x-python",
   "name": "python",
   "nbconvert_exporter": "python",
   "pygments_lexer": "ipython3",
   "version": "3.9.12"
  }
 },
 "nbformat": 4,
 "nbformat_minor": 4
}
