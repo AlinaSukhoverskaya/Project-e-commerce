{
 "cells": [
  {
   "cell_type": "markdown",
   "id": "58c2c952",
   "metadata": {},
   "source": [
    "# 1. Подготовка к работе"
   ]
  },
  {
   "cell_type": "code",
   "execution_count": 1,
   "id": "52953158",
   "metadata": {},
   "outputs": [],
   "source": [
    "# Подгружаем библиотеки\n",
    "\n",
    "import pandas as pd\n",
    "import numpy as np\n",
    "import matplotlib.pyplot as plt\n",
    "import matplotlib.ticker as mticker\n",
    "import seaborn as sns\n",
    "\n",
    "import scipy\n",
    "from scipy import stats\n",
    "\n",
    "%matplotlib inline"
   ]
  },
  {
   "cell_type": "code",
   "execution_count": 2,
   "id": "547a99af",
   "metadata": {},
   "outputs": [],
   "source": [
    "# Подготавливаем общие настройки для графиков\n",
    "\n",
    "sns.set(\n",
    "    rc={\n",
    "        \"figure.figsize\": (18, 10),\n",
    "        \"axes.titlesize\": 20,\n",
    "        \"axes.labelsize\": 16,\n",
    "        \"xtick.labelsize\": 14,\n",
    "        \"ytick.labelsize\": 14,\n",
    "        \"legend.fontsize\": 14,\n",
    "        'legend.handlelength': 3,\n",
    "        'legend.title_fontsize': 16\n",
    "    }\n",
    ")\n",
    "\n",
    "sns.set_style(\"whitegrid\")\n",
    "sns.set_palette(\"RdGy\", 4)"
   ]
  },
  {
   "cell_type": "markdown",
   "id": "1a1d8672",
   "metadata": {},
   "source": [
    "# 2. Загрузка данных\n",
    "\n",
    "Имеется следующая информация:\n",
    "\n",
    "**ab_orders.csv** – подробная информация о составе заказа, для каждого заказа есть список id тех продуктов, которые были включены в заказ.  \n",
    "**ab_users_data.csv** – история заказов пользователей, в этой таблице есть информация о том, какие заказы создавали и отменяли пользователи.  \n",
    "**ab_products.csv** – подробная информация о продуктах, их название и стоимость."
   ]
  },
  {
   "cell_type": "code",
   "execution_count": 3,
   "id": "b0ea7364",
   "metadata": {},
   "outputs": [],
   "source": [
    "# Считываем данные\n",
    "\n",
    "path_to_ab_orders     = 'ab_orders.csv'\n",
    "path_to_ab_products   = 'ab_products.csv'\n",
    "path_to_ab_users_data = 'ab_users_data.csv'\n",
    "\n",
    "orders_data   = pd.read_csv(path_to_ab_orders)\n",
    "products_data = pd.read_csv(path_to_ab_products)\n",
    "users_data    = pd.read_csv(path_to_ab_users_data)"
   ]
  },
  {
   "cell_type": "markdown",
   "id": "be5b65d2",
   "metadata": {},
   "source": [
    "### Предварительное исследование данных таблицы orders_data"
   ]
  },
  {
   "cell_type": "code",
   "execution_count": 4,
   "id": "97ef3021",
   "metadata": {},
   "outputs": [
    {
     "data": {
      "text/html": [
       "<div>\n",
       "<style scoped>\n",
       "    .dataframe tbody tr th:only-of-type {\n",
       "        vertical-align: middle;\n",
       "    }\n",
       "\n",
       "    .dataframe tbody tr th {\n",
       "        vertical-align: top;\n",
       "    }\n",
       "\n",
       "    .dataframe thead th {\n",
       "        text-align: right;\n",
       "    }\n",
       "</style>\n",
       "<table border=\"1\" class=\"dataframe\">\n",
       "  <thead>\n",
       "    <tr style=\"text-align: right;\">\n",
       "      <th></th>\n",
       "      <th>order_id</th>\n",
       "      <th>creation_time</th>\n",
       "      <th>product_ids</th>\n",
       "    </tr>\n",
       "  </thead>\n",
       "  <tbody>\n",
       "    <tr>\n",
       "      <th>0</th>\n",
       "      <td>1255</td>\n",
       "      <td>2022-08-26 00:00:19.000000</td>\n",
       "      <td>{75, 22, 53, 84}</td>\n",
       "    </tr>\n",
       "    <tr>\n",
       "      <th>1</th>\n",
       "      <td>1256</td>\n",
       "      <td>2022-08-26 00:02:21.000000</td>\n",
       "      <td>{56, 76, 39}</td>\n",
       "    </tr>\n",
       "    <tr>\n",
       "      <th>2</th>\n",
       "      <td>1257</td>\n",
       "      <td>2022-08-26 00:02:27.000000</td>\n",
       "      <td>{76, 34, 41, 38}</td>\n",
       "    </tr>\n",
       "    <tr>\n",
       "      <th>3</th>\n",
       "      <td>1258</td>\n",
       "      <td>2022-08-26 00:02:56.000000</td>\n",
       "      <td>{74, 6}</td>\n",
       "    </tr>\n",
       "    <tr>\n",
       "      <th>4</th>\n",
       "      <td>1259</td>\n",
       "      <td>2022-08-26 00:03:37.000000</td>\n",
       "      <td>{20, 45, 67, 26}</td>\n",
       "    </tr>\n",
       "  </tbody>\n",
       "</table>\n",
       "</div>"
      ],
      "text/plain": [
       "   order_id               creation_time       product_ids\n",
       "0      1255  2022-08-26 00:00:19.000000  {75, 22, 53, 84}\n",
       "1      1256  2022-08-26 00:02:21.000000      {56, 76, 39}\n",
       "2      1257  2022-08-26 00:02:27.000000  {76, 34, 41, 38}\n",
       "3      1258  2022-08-26 00:02:56.000000           {74, 6}\n",
       "4      1259  2022-08-26 00:03:37.000000  {20, 45, 67, 26}"
      ]
     },
     "execution_count": 4,
     "metadata": {},
     "output_type": "execute_result"
    }
   ],
   "source": [
    "# Проверим первые 5 строк\n",
    "orders_data.head()"
   ]
  },
  {
   "cell_type": "code",
   "execution_count": 5,
   "id": "7ee2eb76",
   "metadata": {},
   "outputs": [
    {
     "data": {
      "text/plain": [
       "(4123, 3)"
      ]
     },
     "execution_count": 5,
     "metadata": {},
     "output_type": "execute_result"
    }
   ],
   "source": [
    "# Посмотрим размер данных\n",
    "orders_data.shape"
   ]
  },
  {
   "cell_type": "code",
   "execution_count": 6,
   "id": "64503dde",
   "metadata": {},
   "outputs": [
    {
     "data": {
      "text/plain": [
       "order_id         4123\n",
       "creation_time    4098\n",
       "product_ids      3877\n",
       "dtype: int64"
      ]
     },
     "execution_count": 6,
     "metadata": {},
     "output_type": "execute_result"
    }
   ],
   "source": [
    "# Посмотрим количество уникальных значений\n",
    "orders_data.nunique()"
   ]
  },
  {
   "cell_type": "code",
   "execution_count": 7,
   "id": "a6cec0e5",
   "metadata": {},
   "outputs": [
    {
     "data": {
      "text/plain": [
       "order_id          int64\n",
       "creation_time    object\n",
       "product_ids      object\n",
       "dtype: object"
      ]
     },
     "execution_count": 7,
     "metadata": {},
     "output_type": "execute_result"
    }
   ],
   "source": [
    "# Посмотрим тип переменных\n",
    "orders_data.dtypes"
   ]
  },
  {
   "cell_type": "code",
   "execution_count": 8,
   "id": "af391814",
   "metadata": {},
   "outputs": [],
   "source": [
    "# Приведем переменные к нужному формату\n",
    "orders_data.creation_time = pd.to_datetime(orders_data.creation_time)"
   ]
  },
  {
   "cell_type": "code",
   "execution_count": 9,
   "id": "b74a65d3",
   "metadata": {},
   "outputs": [
    {
     "data": {
      "text/plain": [
       "order_id                  int64\n",
       "creation_time    datetime64[ns]\n",
       "product_ids              object\n",
       "dtype: object"
      ]
     },
     "execution_count": 9,
     "metadata": {},
     "output_type": "execute_result"
    }
   ],
   "source": [
    "# Посмотрим тип переменных\n",
    "orders_data.dtypes"
   ]
  },
  {
   "cell_type": "code",
   "execution_count": 10,
   "id": "af0e77b1",
   "metadata": {},
   "outputs": [
    {
     "data": {
      "text/plain": [
       "order_id         0\n",
       "creation_time    0\n",
       "product_ids      0\n",
       "dtype: int64"
      ]
     },
     "execution_count": 10,
     "metadata": {},
     "output_type": "execute_result"
    }
   ],
   "source": [
    "# Проверим наличие пропущенных значений\n",
    "orders_data.isna().sum()"
   ]
  },
  {
   "cell_type": "code",
   "execution_count": 11,
   "id": "ee387aef",
   "metadata": {},
   "outputs": [
    {
     "data": {
      "text/plain": [
       "0"
      ]
     },
     "execution_count": 11,
     "metadata": {},
     "output_type": "execute_result"
    }
   ],
   "source": [
    "# Проверим наличие дубликатов\n",
    "orders_data.duplicated().sum()"
   ]
  },
  {
   "cell_type": "markdown",
   "id": "c8a5cee0",
   "metadata": {},
   "source": [
    "С данными все в порядке, все order_id уникальны, нет пропущенных значений, нет дубликатов, во всех заказах есть товары, все переменные имеют нужный тип."
   ]
  },
  {
   "cell_type": "markdown",
   "id": "81581ffd",
   "metadata": {},
   "source": [
    "### Предварительное исследование данных таблицы products_data"
   ]
  },
  {
   "cell_type": "code",
   "execution_count": 12,
   "id": "30fb76fe",
   "metadata": {},
   "outputs": [
    {
     "data": {
      "text/html": [
       "<div>\n",
       "<style scoped>\n",
       "    .dataframe tbody tr th:only-of-type {\n",
       "        vertical-align: middle;\n",
       "    }\n",
       "\n",
       "    .dataframe tbody tr th {\n",
       "        vertical-align: top;\n",
       "    }\n",
       "\n",
       "    .dataframe thead th {\n",
       "        text-align: right;\n",
       "    }\n",
       "</style>\n",
       "<table border=\"1\" class=\"dataframe\">\n",
       "  <thead>\n",
       "    <tr style=\"text-align: right;\">\n",
       "      <th></th>\n",
       "      <th>product_id</th>\n",
       "      <th>name</th>\n",
       "      <th>price</th>\n",
       "    </tr>\n",
       "  </thead>\n",
       "  <tbody>\n",
       "    <tr>\n",
       "      <th>0</th>\n",
       "      <td>1</td>\n",
       "      <td>сахар</td>\n",
       "      <td>150.0</td>\n",
       "    </tr>\n",
       "    <tr>\n",
       "      <th>1</th>\n",
       "      <td>2</td>\n",
       "      <td>чай зеленый в пакетиках</td>\n",
       "      <td>50.0</td>\n",
       "    </tr>\n",
       "    <tr>\n",
       "      <th>2</th>\n",
       "      <td>3</td>\n",
       "      <td>вода негазированная</td>\n",
       "      <td>80.4</td>\n",
       "    </tr>\n",
       "    <tr>\n",
       "      <th>3</th>\n",
       "      <td>4</td>\n",
       "      <td>леденцы</td>\n",
       "      <td>45.5</td>\n",
       "    </tr>\n",
       "    <tr>\n",
       "      <th>4</th>\n",
       "      <td>5</td>\n",
       "      <td>кофе 3 в 1</td>\n",
       "      <td>15.0</td>\n",
       "    </tr>\n",
       "  </tbody>\n",
       "</table>\n",
       "</div>"
      ],
      "text/plain": [
       "   product_id                     name  price\n",
       "0           1                    сахар  150.0\n",
       "1           2  чай зеленый в пакетиках   50.0\n",
       "2           3      вода негазированная   80.4\n",
       "3           4                  леденцы   45.5\n",
       "4           5               кофе 3 в 1   15.0"
      ]
     },
     "execution_count": 12,
     "metadata": {},
     "output_type": "execute_result"
    }
   ],
   "source": [
    "# Проверим первые 5 строк\n",
    "products_data.head()"
   ]
  },
  {
   "cell_type": "code",
   "execution_count": 13,
   "id": "28ba05e3",
   "metadata": {},
   "outputs": [
    {
     "data": {
      "text/plain": [
       "(87, 3)"
      ]
     },
     "execution_count": 13,
     "metadata": {},
     "output_type": "execute_result"
    }
   ],
   "source": [
    "# Посмотрим размер данных\n",
    "products_data.shape"
   ]
  },
  {
   "cell_type": "code",
   "execution_count": 14,
   "id": "e77888fb",
   "metadata": {},
   "outputs": [
    {
     "data": {
      "text/plain": [
       "product_id    87\n",
       "name          87\n",
       "price         63\n",
       "dtype: int64"
      ]
     },
     "execution_count": 14,
     "metadata": {},
     "output_type": "execute_result"
    }
   ],
   "source": [
    "# Посмотрим количество уникальных значений\n",
    "products_data.nunique()"
   ]
  },
  {
   "cell_type": "code",
   "execution_count": 15,
   "id": "1bc63c96",
   "metadata": {},
   "outputs": [
    {
     "data": {
      "text/plain": [
       "product_id      int64\n",
       "name           object\n",
       "price         float64\n",
       "dtype: object"
      ]
     },
     "execution_count": 15,
     "metadata": {},
     "output_type": "execute_result"
    }
   ],
   "source": [
    "# Посмотрим тип переменных\n",
    "products_data.dtypes"
   ]
  },
  {
   "cell_type": "code",
   "execution_count": 16,
   "id": "5a404147",
   "metadata": {},
   "outputs": [
    {
     "data": {
      "text/plain": [
       "product_id    0\n",
       "name          0\n",
       "price         0\n",
       "dtype: int64"
      ]
     },
     "execution_count": 16,
     "metadata": {},
     "output_type": "execute_result"
    }
   ],
   "source": [
    "# Проверим наличие пропущенных значений\n",
    "products_data.isna().sum()"
   ]
  },
  {
   "cell_type": "code",
   "execution_count": 17,
   "id": "34b8f901",
   "metadata": {},
   "outputs": [
    {
     "data": {
      "text/plain": [
       "0"
      ]
     },
     "execution_count": 17,
     "metadata": {},
     "output_type": "execute_result"
    }
   ],
   "source": [
    "# Проверим наличие дубликатов\n",
    "products_data.duplicated().sum()"
   ]
  },
  {
   "cell_type": "markdown",
   "id": "4948e53d",
   "metadata": {},
   "source": [
    "С данными все в порядке, все product_id уникальны, нет пропущенных значений, нет дубликатов, все переменные имеют нужный тип."
   ]
  },
  {
   "cell_type": "markdown",
   "id": "2b43e8f0",
   "metadata": {},
   "source": [
    "### Предварительное исследование данных таблицы users_data"
   ]
  },
  {
   "cell_type": "code",
   "execution_count": 18,
   "id": "f7faf95f",
   "metadata": {},
   "outputs": [
    {
     "data": {
      "text/html": [
       "<div>\n",
       "<style scoped>\n",
       "    .dataframe tbody tr th:only-of-type {\n",
       "        vertical-align: middle;\n",
       "    }\n",
       "\n",
       "    .dataframe tbody tr th {\n",
       "        vertical-align: top;\n",
       "    }\n",
       "\n",
       "    .dataframe thead th {\n",
       "        text-align: right;\n",
       "    }\n",
       "</style>\n",
       "<table border=\"1\" class=\"dataframe\">\n",
       "  <thead>\n",
       "    <tr style=\"text-align: right;\">\n",
       "      <th></th>\n",
       "      <th>user_id</th>\n",
       "      <th>order_id</th>\n",
       "      <th>action</th>\n",
       "      <th>time</th>\n",
       "      <th>date</th>\n",
       "      <th>group</th>\n",
       "    </tr>\n",
       "  </thead>\n",
       "  <tbody>\n",
       "    <tr>\n",
       "      <th>0</th>\n",
       "      <td>964</td>\n",
       "      <td>1255</td>\n",
       "      <td>create_order</td>\n",
       "      <td>2022-08-26 00:00:19.000000</td>\n",
       "      <td>2022-08-26</td>\n",
       "      <td>0</td>\n",
       "    </tr>\n",
       "    <tr>\n",
       "      <th>1</th>\n",
       "      <td>965</td>\n",
       "      <td>1256</td>\n",
       "      <td>create_order</td>\n",
       "      <td>2022-08-26 00:02:21.000000</td>\n",
       "      <td>2022-08-26</td>\n",
       "      <td>1</td>\n",
       "    </tr>\n",
       "    <tr>\n",
       "      <th>2</th>\n",
       "      <td>964</td>\n",
       "      <td>1257</td>\n",
       "      <td>create_order</td>\n",
       "      <td>2022-08-26 00:02:27.000000</td>\n",
       "      <td>2022-08-26</td>\n",
       "      <td>0</td>\n",
       "    </tr>\n",
       "    <tr>\n",
       "      <th>3</th>\n",
       "      <td>966</td>\n",
       "      <td>1258</td>\n",
       "      <td>create_order</td>\n",
       "      <td>2022-08-26 00:02:56.000000</td>\n",
       "      <td>2022-08-26</td>\n",
       "      <td>0</td>\n",
       "    </tr>\n",
       "    <tr>\n",
       "      <th>4</th>\n",
       "      <td>967</td>\n",
       "      <td>1259</td>\n",
       "      <td>create_order</td>\n",
       "      <td>2022-08-26 00:03:37.000000</td>\n",
       "      <td>2022-08-26</td>\n",
       "      <td>1</td>\n",
       "    </tr>\n",
       "  </tbody>\n",
       "</table>\n",
       "</div>"
      ],
      "text/plain": [
       "   user_id  order_id        action                        time        date  \\\n",
       "0      964      1255  create_order  2022-08-26 00:00:19.000000  2022-08-26   \n",
       "1      965      1256  create_order  2022-08-26 00:02:21.000000  2022-08-26   \n",
       "2      964      1257  create_order  2022-08-26 00:02:27.000000  2022-08-26   \n",
       "3      966      1258  create_order  2022-08-26 00:02:56.000000  2022-08-26   \n",
       "4      967      1259  create_order  2022-08-26 00:03:37.000000  2022-08-26   \n",
       "\n",
       "   group  \n",
       "0      0  \n",
       "1      1  \n",
       "2      0  \n",
       "3      0  \n",
       "4      1  "
      ]
     },
     "execution_count": 18,
     "metadata": {},
     "output_type": "execute_result"
    }
   ],
   "source": [
    "# Проверим первые 5 строк\n",
    "users_data.head()"
   ]
  },
  {
   "cell_type": "code",
   "execution_count": 19,
   "id": "98173c36",
   "metadata": {},
   "outputs": [
    {
     "data": {
      "text/plain": [
       "(4337, 6)"
      ]
     },
     "execution_count": 19,
     "metadata": {},
     "output_type": "execute_result"
    }
   ],
   "source": [
    "# Посмотрим размер данных\n",
    "users_data.shape"
   ]
  },
  {
   "cell_type": "code",
   "execution_count": 20,
   "id": "61b724f8",
   "metadata": {},
   "outputs": [
    {
     "data": {
      "text/plain": [
       "user_id     1017\n",
       "order_id    4123\n",
       "action         2\n",
       "time        4312\n",
       "date          14\n",
       "group          2\n",
       "dtype: int64"
      ]
     },
     "execution_count": 20,
     "metadata": {},
     "output_type": "execute_result"
    }
   ],
   "source": [
    "# Посмотрим количество уникальных значений\n",
    "users_data.nunique()"
   ]
  },
  {
   "cell_type": "code",
   "execution_count": 21,
   "id": "96379988",
   "metadata": {},
   "outputs": [
    {
     "data": {
      "text/plain": [
       "array(['create_order', 'cancel_order'], dtype=object)"
      ]
     },
     "execution_count": 21,
     "metadata": {},
     "output_type": "execute_result"
    }
   ],
   "source": [
    "# Посмотрим, какие действия пользователь мог совершать с заказом\n",
    "users_data.action.unique()"
   ]
  },
  {
   "cell_type": "code",
   "execution_count": 22,
   "id": "17b809bf",
   "metadata": {},
   "outputs": [
    {
     "data": {
      "text/plain": [
       "user_id      int64\n",
       "order_id     int64\n",
       "action      object\n",
       "time        object\n",
       "date        object\n",
       "group        int64\n",
       "dtype: object"
      ]
     },
     "execution_count": 22,
     "metadata": {},
     "output_type": "execute_result"
    }
   ],
   "source": [
    "# Посмотрим тип переменных\n",
    "users_data.dtypes"
   ]
  },
  {
   "cell_type": "code",
   "execution_count": 23,
   "id": "c4aeaf24",
   "metadata": {},
   "outputs": [],
   "source": [
    "# Приведем нужные столбцы к формату даты\n",
    "users_data[['time', 'date']] = (users_data[['time', 'date']]).apply(pd.to_datetime)"
   ]
  },
  {
   "cell_type": "code",
   "execution_count": 24,
   "id": "30940646",
   "metadata": {},
   "outputs": [
    {
     "data": {
      "text/plain": [
       "user_id              int64\n",
       "order_id             int64\n",
       "action              object\n",
       "time        datetime64[ns]\n",
       "date        datetime64[ns]\n",
       "group                int64\n",
       "dtype: object"
      ]
     },
     "execution_count": 24,
     "metadata": {},
     "output_type": "execute_result"
    }
   ],
   "source": [
    "# Посмотрим тип переменных\n",
    "users_data.dtypes"
   ]
  },
  {
   "cell_type": "code",
   "execution_count": 25,
   "id": "c5f5e858",
   "metadata": {},
   "outputs": [
    {
     "data": {
      "text/plain": [
       "user_id     0\n",
       "order_id    0\n",
       "action      0\n",
       "time        0\n",
       "date        0\n",
       "group       0\n",
       "dtype: int64"
      ]
     },
     "execution_count": 25,
     "metadata": {},
     "output_type": "execute_result"
    }
   ],
   "source": [
    "# Проверим наличие пропущенных значений\n",
    "users_data.isna().sum()"
   ]
  },
  {
   "cell_type": "code",
   "execution_count": 26,
   "id": "e3a76a3a",
   "metadata": {},
   "outputs": [
    {
     "data": {
      "text/plain": [
       "0"
      ]
     },
     "execution_count": 26,
     "metadata": {},
     "output_type": "execute_result"
    }
   ],
   "source": [
    "# Проверим наличие дубликатов\n",
    "users_data.duplicated().sum()"
   ]
  },
  {
   "cell_type": "code",
   "execution_count": 27,
   "id": "61287ca0",
   "metadata": {},
   "outputs": [
    {
     "name": "stdout",
     "output_type": "stream",
     "text": [
      "Количество пользователей в контрольной группе: 515\n",
      "Количество пользователей в тестовой группе: 502\n"
     ]
    }
   ],
   "source": [
    "# Посмотрим количество пользователей по группам\n",
    "print('Количество пользователей в контрольной группе:',\n",
    "      users_data.query('group == 0').user_id.nunique())\n",
    "print('Количество пользователей в тестовой группе:',\n",
    "      users_data.query('group == 1').user_id.nunique())"
   ]
  },
  {
   "cell_type": "markdown",
   "id": "4531f68f",
   "metadata": {},
   "source": [
    "С данными все в порядке, нет пропущенных значений, нет дубликатов, все переменные имеют нужный тип, все пользователи делали заказы."
   ]
  },
  {
   "cell_type": "markdown",
   "id": "a4c9bac5",
   "metadata": {},
   "source": [
    "### Создадим дополнительные таблицы\n",
    "\n",
    "**1. Создадим таблицу заказов по товарам.**"
   ]
  },
  {
   "cell_type": "code",
   "execution_count": 28,
   "id": "5af1a150",
   "metadata": {},
   "outputs": [
    {
     "data": {
      "text/html": [
       "<div>\n",
       "<style scoped>\n",
       "    .dataframe tbody tr th:only-of-type {\n",
       "        vertical-align: middle;\n",
       "    }\n",
       "\n",
       "    .dataframe tbody tr th {\n",
       "        vertical-align: top;\n",
       "    }\n",
       "\n",
       "    .dataframe thead th {\n",
       "        text-align: right;\n",
       "    }\n",
       "</style>\n",
       "<table border=\"1\" class=\"dataframe\">\n",
       "  <thead>\n",
       "    <tr style=\"text-align: right;\">\n",
       "      <th></th>\n",
       "      <th>order_id</th>\n",
       "      <th>creation_time</th>\n",
       "      <th>product_id</th>\n",
       "    </tr>\n",
       "  </thead>\n",
       "  <tbody>\n",
       "    <tr>\n",
       "      <th>0</th>\n",
       "      <td>1255</td>\n",
       "      <td>2022-08-26 00:00:19</td>\n",
       "      <td>75</td>\n",
       "    </tr>\n",
       "    <tr>\n",
       "      <th>0</th>\n",
       "      <td>1255</td>\n",
       "      <td>2022-08-26 00:00:19</td>\n",
       "      <td>22</td>\n",
       "    </tr>\n",
       "    <tr>\n",
       "      <th>0</th>\n",
       "      <td>1255</td>\n",
       "      <td>2022-08-26 00:00:19</td>\n",
       "      <td>53</td>\n",
       "    </tr>\n",
       "    <tr>\n",
       "      <th>0</th>\n",
       "      <td>1255</td>\n",
       "      <td>2022-08-26 00:00:19</td>\n",
       "      <td>84</td>\n",
       "    </tr>\n",
       "    <tr>\n",
       "      <th>1</th>\n",
       "      <td>1256</td>\n",
       "      <td>2022-08-26 00:02:21</td>\n",
       "      <td>56</td>\n",
       "    </tr>\n",
       "  </tbody>\n",
       "</table>\n",
       "</div>"
      ],
      "text/plain": [
       "   order_id       creation_time  product_id\n",
       "0      1255 2022-08-26 00:00:19          75\n",
       "0      1255 2022-08-26 00:00:19          22\n",
       "0      1255 2022-08-26 00:00:19          53\n",
       "0      1255 2022-08-26 00:00:19          84\n",
       "1      1256 2022-08-26 00:02:21          56"
      ]
     },
     "execution_count": 28,
     "metadata": {},
     "output_type": "execute_result"
    }
   ],
   "source": [
    "# Разделим набор товаров на отдельные товары\n",
    "\n",
    "product_orders_data = orders_data.rename(columns={'product_ids': 'product_id'})\n",
    "product_orders_data.product_id = product_orders_data.product_id.apply(lambda x: x.strip('{}').split(', '))\n",
    "product_orders_data = product_orders_data.explode('product_id')\n",
    "product_orders_data.product_id = product_orders_data.product_id.astype(int)\n",
    "product_orders_data.head()"
   ]
  },
  {
   "cell_type": "code",
   "execution_count": 29,
   "id": "b217e4b8",
   "metadata": {},
   "outputs": [
    {
     "data": {
      "text/plain": [
       "(13826, 3)"
      ]
     },
     "execution_count": 29,
     "metadata": {},
     "output_type": "execute_result"
    }
   ],
   "source": [
    "# Посмотрим размер данных\n",
    "product_orders_data.shape"
   ]
  },
  {
   "cell_type": "markdown",
   "id": "3a9dc28f",
   "metadata": {},
   "source": [
    "**2. Создадим полную таблицу заказов.**"
   ]
  },
  {
   "cell_type": "code",
   "execution_count": 30,
   "id": "f81ee389",
   "metadata": {},
   "outputs": [
    {
     "data": {
      "text/html": [
       "<div>\n",
       "<style scoped>\n",
       "    .dataframe tbody tr th:only-of-type {\n",
       "        vertical-align: middle;\n",
       "    }\n",
       "\n",
       "    .dataframe tbody tr th {\n",
       "        vertical-align: top;\n",
       "    }\n",
       "\n",
       "    .dataframe thead th {\n",
       "        text-align: right;\n",
       "    }\n",
       "</style>\n",
       "<table border=\"1\" class=\"dataframe\">\n",
       "  <thead>\n",
       "    <tr style=\"text-align: right;\">\n",
       "      <th></th>\n",
       "      <th>order_id</th>\n",
       "      <th>creation_time</th>\n",
       "      <th>product_id</th>\n",
       "      <th>user_id</th>\n",
       "      <th>action</th>\n",
       "      <th>time</th>\n",
       "      <th>date</th>\n",
       "      <th>group</th>\n",
       "      <th>name</th>\n",
       "      <th>price</th>\n",
       "    </tr>\n",
       "  </thead>\n",
       "  <tbody>\n",
       "    <tr>\n",
       "      <th>0</th>\n",
       "      <td>1255</td>\n",
       "      <td>2022-08-26 00:00:19</td>\n",
       "      <td>75</td>\n",
       "      <td>964</td>\n",
       "      <td>create_order</td>\n",
       "      <td>2022-08-26 00:00:19</td>\n",
       "      <td>2022-08-26</td>\n",
       "      <td>0</td>\n",
       "      <td>сок ананасовый</td>\n",
       "      <td>120.0</td>\n",
       "    </tr>\n",
       "    <tr>\n",
       "      <th>1</th>\n",
       "      <td>1287</td>\n",
       "      <td>2022-08-26 00:31:36</td>\n",
       "      <td>75</td>\n",
       "      <td>987</td>\n",
       "      <td>create_order</td>\n",
       "      <td>2022-08-26 00:31:36</td>\n",
       "      <td>2022-08-26</td>\n",
       "      <td>0</td>\n",
       "      <td>сок ананасовый</td>\n",
       "      <td>120.0</td>\n",
       "    </tr>\n",
       "    <tr>\n",
       "      <th>2</th>\n",
       "      <td>1403</td>\n",
       "      <td>2022-08-26 03:01:40</td>\n",
       "      <td>75</td>\n",
       "      <td>1073</td>\n",
       "      <td>create_order</td>\n",
       "      <td>2022-08-26 03:01:40</td>\n",
       "      <td>2022-08-26</td>\n",
       "      <td>1</td>\n",
       "      <td>сок ананасовый</td>\n",
       "      <td>120.0</td>\n",
       "    </tr>\n",
       "    <tr>\n",
       "      <th>3</th>\n",
       "      <td>1424</td>\n",
       "      <td>2022-08-26 04:01:22</td>\n",
       "      <td>75</td>\n",
       "      <td>1089</td>\n",
       "      <td>create_order</td>\n",
       "      <td>2022-08-26 04:01:22</td>\n",
       "      <td>2022-08-26</td>\n",
       "      <td>1</td>\n",
       "      <td>сок ананасовый</td>\n",
       "      <td>120.0</td>\n",
       "    </tr>\n",
       "    <tr>\n",
       "      <th>4</th>\n",
       "      <td>1495</td>\n",
       "      <td>2022-08-26 06:04:05</td>\n",
       "      <td>75</td>\n",
       "      <td>1139</td>\n",
       "      <td>create_order</td>\n",
       "      <td>2022-08-26 06:04:05</td>\n",
       "      <td>2022-08-26</td>\n",
       "      <td>1</td>\n",
       "      <td>сок ананасовый</td>\n",
       "      <td>120.0</td>\n",
       "    </tr>\n",
       "  </tbody>\n",
       "</table>\n",
       "</div>"
      ],
      "text/plain": [
       "   order_id       creation_time  product_id  user_id        action  \\\n",
       "0      1255 2022-08-26 00:00:19          75      964  create_order   \n",
       "1      1287 2022-08-26 00:31:36          75      987  create_order   \n",
       "2      1403 2022-08-26 03:01:40          75     1073  create_order   \n",
       "3      1424 2022-08-26 04:01:22          75     1089  create_order   \n",
       "4      1495 2022-08-26 06:04:05          75     1139  create_order   \n",
       "\n",
       "                 time       date  group            name  price  \n",
       "0 2022-08-26 00:00:19 2022-08-26      0  сок ананасовый  120.0  \n",
       "1 2022-08-26 00:31:36 2022-08-26      0  сок ананасовый  120.0  \n",
       "2 2022-08-26 03:01:40 2022-08-26      1  сок ананасовый  120.0  \n",
       "3 2022-08-26 04:01:22 2022-08-26      1  сок ананасовый  120.0  \n",
       "4 2022-08-26 06:04:05 2022-08-26      1  сок ананасовый  120.0  "
      ]
     },
     "execution_count": 30,
     "metadata": {},
     "output_type": "execute_result"
    }
   ],
   "source": [
    "# Создадим полную таблицу заказов\n",
    "\n",
    "full_data = product_orders_data \\\n",
    "    .merge(users_data, on='order_id') \\\n",
    "    .merge(products_data, on='product_id')\n",
    "full_data.head()"
   ]
  },
  {
   "cell_type": "code",
   "execution_count": 31,
   "id": "b2182cfa",
   "metadata": {},
   "outputs": [
    {
     "data": {
      "text/plain": [
       "(14569, 10)"
      ]
     },
     "execution_count": 31,
     "metadata": {},
     "output_type": "execute_result"
    }
   ],
   "source": [
    "# Посмотрим размер данных\n",
    "full_data.shape"
   ]
  },
  {
   "cell_type": "code",
   "execution_count": 32,
   "id": "778c6451",
   "metadata": {},
   "outputs": [
    {
     "data": {
      "text/plain": [
       "order_id         4123\n",
       "creation_time    4098\n",
       "product_id         87\n",
       "user_id          1017\n",
       "action              2\n",
       "time             4312\n",
       "date               14\n",
       "group               2\n",
       "name               87\n",
       "price              63\n",
       "dtype: int64"
      ]
     },
     "execution_count": 32,
     "metadata": {},
     "output_type": "execute_result"
    }
   ],
   "source": [
    "# Посмотрим количество уникальных значений\n",
    "full_data.nunique()"
   ]
  },
  {
   "cell_type": "markdown",
   "id": "7d2f1612",
   "metadata": {},
   "source": [
    "**3. Создадим таблицу по статусам заказов - отменен или нет, оставляем только актуальный статус заказа.**"
   ]
  },
  {
   "cell_type": "code",
   "execution_count": 33,
   "id": "82e165e5",
   "metadata": {},
   "outputs": [
    {
     "data": {
      "text/html": [
       "<div>\n",
       "<style scoped>\n",
       "    .dataframe tbody tr th:only-of-type {\n",
       "        vertical-align: middle;\n",
       "    }\n",
       "\n",
       "    .dataframe tbody tr th {\n",
       "        vertical-align: top;\n",
       "    }\n",
       "\n",
       "    .dataframe thead th {\n",
       "        text-align: right;\n",
       "    }\n",
       "</style>\n",
       "<table border=\"1\" class=\"dataframe\">\n",
       "  <thead>\n",
       "    <tr style=\"text-align: right;\">\n",
       "      <th></th>\n",
       "      <th>order_id</th>\n",
       "      <th>group</th>\n",
       "      <th>is_canceled</th>\n",
       "    </tr>\n",
       "  </thead>\n",
       "  <tbody>\n",
       "    <tr>\n",
       "      <th>0</th>\n",
       "      <td>1255</td>\n",
       "      <td>0</td>\n",
       "      <td>0</td>\n",
       "    </tr>\n",
       "    <tr>\n",
       "      <th>1</th>\n",
       "      <td>1256</td>\n",
       "      <td>1</td>\n",
       "      <td>0</td>\n",
       "    </tr>\n",
       "    <tr>\n",
       "      <th>2</th>\n",
       "      <td>1257</td>\n",
       "      <td>0</td>\n",
       "      <td>0</td>\n",
       "    </tr>\n",
       "    <tr>\n",
       "      <th>4</th>\n",
       "      <td>1258</td>\n",
       "      <td>0</td>\n",
       "      <td>1</td>\n",
       "    </tr>\n",
       "    <tr>\n",
       "      <th>5</th>\n",
       "      <td>1259</td>\n",
       "      <td>1</td>\n",
       "      <td>0</td>\n",
       "    </tr>\n",
       "  </tbody>\n",
       "</table>\n",
       "</div>"
      ],
      "text/plain": [
       "   order_id  group is_canceled\n",
       "0      1255      0           0\n",
       "1      1256      1           0\n",
       "2      1257      0           0\n",
       "4      1258      0           1\n",
       "5      1259      1           0"
      ]
     },
     "execution_count": 33,
     "metadata": {},
     "output_type": "execute_result"
    }
   ],
   "source": [
    "orders_users = orders_data.merge(users_data, on='order_id')\n",
    "\n",
    "cancel_order_id = orders_users.query(\"action == 'cancel_order'\").order_id\n",
    "clean_data = orders_users.query(\"action == 'create_order' and order_id in @cancel_order_id\")\n",
    "status_order = pd.concat([orders_users, clean_data]) \\\n",
    "    .drop_duplicates(keep=False) \\\n",
    "    .rename(columns={'action': 'is_canceled'})\n",
    "\n",
    "status_order.loc[(status_order.is_canceled == 'create_order'), 'is_canceled'] = 0\n",
    "status_order.loc[(status_order.is_canceled == 'cancel_order'), 'is_canceled'] = 1\n",
    "\n",
    "status_order = status_order[['order_id', 'group', 'is_canceled']]\n",
    "status_order.head()"
   ]
  },
  {
   "cell_type": "code",
   "execution_count": 34,
   "id": "ee086be1",
   "metadata": {},
   "outputs": [
    {
     "name": "stdout",
     "output_type": "stream",
     "text": [
      "Количество заказов в полученном датафрейме: 4123\n",
      "Количество уникальных заказов в первоначальном датафрейме: 4123\n"
     ]
    }
   ],
   "source": [
    "# Проверим корректность\n",
    "print('Количество заказов в полученном датафрейме:', status_order.shape[0])\n",
    "print('Количество уникальных заказов в первоначальном датафрейме:', orders_data.order_id.nunique())"
   ]
  },
  {
   "cell_type": "markdown",
   "id": "0d1ddb07",
   "metadata": {},
   "source": [
    "**4. Создадим полную таблицу без отмененных заказов**."
   ]
  },
  {
   "cell_type": "code",
   "execution_count": 35,
   "id": "7472584c",
   "metadata": {},
   "outputs": [
    {
     "data": {
      "text/html": [
       "<div>\n",
       "<style scoped>\n",
       "    .dataframe tbody tr th:only-of-type {\n",
       "        vertical-align: middle;\n",
       "    }\n",
       "\n",
       "    .dataframe tbody tr th {\n",
       "        vertical-align: top;\n",
       "    }\n",
       "\n",
       "    .dataframe thead th {\n",
       "        text-align: right;\n",
       "    }\n",
       "</style>\n",
       "<table border=\"1\" class=\"dataframe\">\n",
       "  <thead>\n",
       "    <tr style=\"text-align: right;\">\n",
       "      <th></th>\n",
       "      <th>order_id</th>\n",
       "      <th>creation_time</th>\n",
       "      <th>product_id</th>\n",
       "      <th>user_id</th>\n",
       "      <th>action</th>\n",
       "      <th>time</th>\n",
       "      <th>date</th>\n",
       "      <th>group</th>\n",
       "      <th>name</th>\n",
       "      <th>price</th>\n",
       "    </tr>\n",
       "  </thead>\n",
       "  <tbody>\n",
       "    <tr>\n",
       "      <th>0</th>\n",
       "      <td>1255</td>\n",
       "      <td>2022-08-26 00:00:19</td>\n",
       "      <td>75</td>\n",
       "      <td>964</td>\n",
       "      <td>create_order</td>\n",
       "      <td>2022-08-26 00:00:19</td>\n",
       "      <td>2022-08-26</td>\n",
       "      <td>0</td>\n",
       "      <td>сок ананасовый</td>\n",
       "      <td>120.0</td>\n",
       "    </tr>\n",
       "    <tr>\n",
       "      <th>1</th>\n",
       "      <td>1287</td>\n",
       "      <td>2022-08-26 00:31:36</td>\n",
       "      <td>75</td>\n",
       "      <td>987</td>\n",
       "      <td>create_order</td>\n",
       "      <td>2022-08-26 00:31:36</td>\n",
       "      <td>2022-08-26</td>\n",
       "      <td>0</td>\n",
       "      <td>сок ананасовый</td>\n",
       "      <td>120.0</td>\n",
       "    </tr>\n",
       "    <tr>\n",
       "      <th>2</th>\n",
       "      <td>1403</td>\n",
       "      <td>2022-08-26 03:01:40</td>\n",
       "      <td>75</td>\n",
       "      <td>1073</td>\n",
       "      <td>create_order</td>\n",
       "      <td>2022-08-26 03:01:40</td>\n",
       "      <td>2022-08-26</td>\n",
       "      <td>1</td>\n",
       "      <td>сок ананасовый</td>\n",
       "      <td>120.0</td>\n",
       "    </tr>\n",
       "    <tr>\n",
       "      <th>3</th>\n",
       "      <td>1424</td>\n",
       "      <td>2022-08-26 04:01:22</td>\n",
       "      <td>75</td>\n",
       "      <td>1089</td>\n",
       "      <td>create_order</td>\n",
       "      <td>2022-08-26 04:01:22</td>\n",
       "      <td>2022-08-26</td>\n",
       "      <td>1</td>\n",
       "      <td>сок ананасовый</td>\n",
       "      <td>120.0</td>\n",
       "    </tr>\n",
       "    <tr>\n",
       "      <th>4</th>\n",
       "      <td>1495</td>\n",
       "      <td>2022-08-26 06:04:05</td>\n",
       "      <td>75</td>\n",
       "      <td>1139</td>\n",
       "      <td>create_order</td>\n",
       "      <td>2022-08-26 06:04:05</td>\n",
       "      <td>2022-08-26</td>\n",
       "      <td>1</td>\n",
       "      <td>сок ананасовый</td>\n",
       "      <td>120.0</td>\n",
       "    </tr>\n",
       "  </tbody>\n",
       "</table>\n",
       "</div>"
      ],
      "text/plain": [
       "   order_id       creation_time  product_id  user_id        action  \\\n",
       "0      1255 2022-08-26 00:00:19          75      964  create_order   \n",
       "1      1287 2022-08-26 00:31:36          75      987  create_order   \n",
       "2      1403 2022-08-26 03:01:40          75     1073  create_order   \n",
       "3      1424 2022-08-26 04:01:22          75     1089  create_order   \n",
       "4      1495 2022-08-26 06:04:05          75     1139  create_order   \n",
       "\n",
       "                 time       date  group            name  price  \n",
       "0 2022-08-26 00:00:19 2022-08-26      0  сок ананасовый  120.0  \n",
       "1 2022-08-26 00:31:36 2022-08-26      0  сок ананасовый  120.0  \n",
       "2 2022-08-26 03:01:40 2022-08-26      1  сок ананасовый  120.0  \n",
       "3 2022-08-26 04:01:22 2022-08-26      1  сок ананасовый  120.0  \n",
       "4 2022-08-26 06:04:05 2022-08-26      1  сок ананасовый  120.0  "
      ]
     },
     "execution_count": 35,
     "metadata": {},
     "output_type": "execute_result"
    }
   ],
   "source": [
    "non_cancelled_orders = full_data.loc[:]\n",
    "clean_full_data = full_data.query(\"order_id in @cancel_order_id\")\n",
    "non_cancelled_orders.drop(clean_full_data.index, inplace=True)\n",
    "non_cancelled_orders.head()"
   ]
  },
  {
   "cell_type": "code",
   "execution_count": 36,
   "id": "11926a2a",
   "metadata": {},
   "outputs": [
    {
     "data": {
      "text/plain": [
       "(13083, 10)"
      ]
     },
     "execution_count": 36,
     "metadata": {},
     "output_type": "execute_result"
    }
   ],
   "source": [
    "# Посмотрим размер данных\n",
    "non_cancelled_orders.shape"
   ]
  },
  {
   "cell_type": "code",
   "execution_count": 37,
   "id": "89deeb56",
   "metadata": {},
   "outputs": [
    {
     "data": {
      "text/plain": [
       "order_id         3909\n",
       "creation_time    3886\n",
       "product_id         87\n",
       "user_id          1013\n",
       "action              1\n",
       "time             3886\n",
       "date               14\n",
       "group               2\n",
       "name               87\n",
       "price              63\n",
       "dtype: int64"
      ]
     },
     "execution_count": 37,
     "metadata": {},
     "output_type": "execute_result"
    }
   ],
   "source": [
    "# Посмотрим количество уникальных значений\n",
    "non_cancelled_orders.nunique()"
   ]
  },
  {
   "cell_type": "markdown",
   "id": "06639a08",
   "metadata": {},
   "source": [
    "Видим, что были пользователи, которые отменили все свои заказы."
   ]
  },
  {
   "cell_type": "markdown",
   "id": "fb6a6e29",
   "metadata": {},
   "source": [
    "**5. Разделим заказы по группам**"
   ]
  },
  {
   "cell_type": "code",
   "execution_count": 38,
   "id": "3a4696eb",
   "metadata": {},
   "outputs": [],
   "source": [
    "# Разделим заказы по группам\n",
    "group_0 = non_cancelled_orders.query('group == 0')\n",
    "group_1 = non_cancelled_orders.query('group == 1')"
   ]
  },
  {
   "cell_type": "markdown",
   "id": "ec3f6564",
   "metadata": {},
   "source": [
    "Соотношение величин по группам будет исследовано далее."
   ]
  },
  {
   "cell_type": "markdown",
   "id": "4b0bc0bc",
   "metadata": {},
   "source": [
    "# 3. Выбор метрик\n",
    "\n",
    "Чтобы проверить эффективность системы рекомендаций, был проведен АБ-тест. В группе 1 оказались пользователи с новой системой рекомендаций, в группе 0 пользователи со старой версией приложения, где нет рекомендации товаров.\n",
    "\n",
    "Наша задача – оценить, смогла ли новая система рекомендаций принести пользу бизнесу и пользователям приложения. Для этого выберем метрики, которые отвечают за качество сервиса и статистически сравним эти метрики в двух группах.\n",
    "\n",
    "Для нашего бизнеса важно получать больше доходов. Для пользователей важно удовлетворить свои потребности, то есть купить то, что им нужно.\n",
    "\n",
    "### Для всех заказов посмотрим следующую метрику: \n",
    "___\n",
    "**CancR (Cancellation Rate — доля отмененных заказов)** — эта метрика показывает долю отмененных заказов.\n",
    "\n",
    "$$\n",
    "Cancellation\\ Rate = {Количество\\ отмененных\\ заказов\\over{Количество\\ заказов}} \\times 100\\%\n",
    "$$\n",
    "\n",
    "___\n",
    "\n",
    " \n",
    "Так как отмененные заказы не принесут нашему бизнесу никакой прибыли, и пользователь ничего не получит, то дальнейшие метрики мы будем исследовать только для заказов, которые не были отменены, то есть для тех, которые потенциально могут принести нам прибыль и удовлетворить потребности пользователей. \n",
    "\n",
    "___\n",
    "___\n",
    "___\n",
    "\n",
    "### Для заказов, которые не были отменены, посмотрим следующие метрики: \n",
    "___\n",
    "\n",
    "**AOV (Average Order Value — средний чек)** — эта метрика показывает среднюю сумму заказа клиентов.\n",
    "\n",
    "$$\n",
    "Average\\ Order\\ Value = {Выручка\\over{Количество\\ заказов}} \n",
    "$$\n",
    "\n",
    "___\n",
    "\n",
    "**AOS (Average Order Size — средний размер чека)** — эта метрика показывает средний размер заказа клиентов.\n",
    "\n",
    "$$\n",
    "Average\\ Order\\ Size = {Количество\\ товаров\\over{Количество\\ заказов}} \n",
    "$$\n",
    "\n",
    "___\n",
    "\n",
    "**ARPU (Average Revenue per User — средний доход с пользователя)** — эта метрика показывает средний доход от одного активного пользователя.\n",
    "\n",
    "$$\n",
    "Average\\ Revenue\\ per\\ Paying\\ User = {Доход\\over{Количество\\ пользователей}}  \n",
    "$$\n",
    "\n",
    "___\n",
    "\n",
    "**PF (Purchase Frequency — частота покупок)** — эта метрика показывает, как часто клиент совершает повторную покупку.\n",
    "\n",
    "$$\n",
    "Purchase\\ Frequency = {Количество\\ заказов\\over{Количество\\ уникальных\\ клиентов}}\n",
    "$$\n",
    "\n",
    "___\n",
    "\n",
    "**RPR (Repeat Purchase Rate — коэффициент повторных покупок)** — показывает, сколько клиентов возвращается после первой покупки.\n",
    "\n",
    "$$\n",
    "Repeat\\ Purchase\\ Rate = {Количество\\ пользователей,\\ совершивших\\ повторную\\ покупку\\over{Количество\\ пользователей, совершивших\\ покупку}}\\times100\\%\n",
    "$$\n",
    "___\n",
    "\n",
    "Для этого нам нужно найти:\n",
    "\n",
    "**Total User (общее количество пользователей)** — эта метрика показывает общее количество пользователей.   \n",
    "**Total Revenue (общий доход)** — эта метрика показывает весь доход.  \n",
    "**Total Order (общее количество заказов)** — эта метрика показывает общее количество заказов.  \n",
    "**Total Product (общее количество товаров)** — эта метрика показывает общее количество купленных товаров.  \n",
    "**Repeat Purchase (повторная покупка)** — количество повторных покупок.  \n",
    "**Period (период наблюдения)** — количество дней проведения наблюдения.  "
   ]
  },
  {
   "cell_type": "markdown",
   "id": "3a9dacb6",
   "metadata": {},
   "source": [
    "# 4. Статистическая проверка результатов АБ-теста\n",
    "## Cancellation Rate\n",
    "\n",
    "Мы имеем две категориальные переменные: группы - 0 и 1 (контрольная и тестовая), статус заказа - 0 и 1 (не отменен и отменен), поэтому для исследования будем использовать критерий хи-квадрат. Он подходит для анализа таблицы сопряженности любого размера, где значения ожидаемых и наблюдаемых частот в каждой ячейке больше 10, проверим."
   ]
  },
  {
   "cell_type": "code",
   "execution_count": 39,
   "id": "bb0f6dcc",
   "metadata": {},
   "outputs": [
    {
     "data": {
      "text/html": [
       "<div>\n",
       "<style scoped>\n",
       "    .dataframe tbody tr th:only-of-type {\n",
       "        vertical-align: middle;\n",
       "    }\n",
       "\n",
       "    .dataframe tbody tr th {\n",
       "        vertical-align: top;\n",
       "    }\n",
       "\n",
       "    .dataframe thead th {\n",
       "        text-align: right;\n",
       "    }\n",
       "</style>\n",
       "<table border=\"1\" class=\"dataframe\">\n",
       "  <thead>\n",
       "    <tr style=\"text-align: right;\">\n",
       "      <th></th>\n",
       "      <th>order_id</th>\n",
       "      <th>group</th>\n",
       "      <th>is_canceled</th>\n",
       "    </tr>\n",
       "  </thead>\n",
       "  <tbody>\n",
       "    <tr>\n",
       "      <th>0</th>\n",
       "      <td>1255</td>\n",
       "      <td>0</td>\n",
       "      <td>0</td>\n",
       "    </tr>\n",
       "    <tr>\n",
       "      <th>1</th>\n",
       "      <td>1256</td>\n",
       "      <td>1</td>\n",
       "      <td>0</td>\n",
       "    </tr>\n",
       "    <tr>\n",
       "      <th>2</th>\n",
       "      <td>1257</td>\n",
       "      <td>0</td>\n",
       "      <td>0</td>\n",
       "    </tr>\n",
       "    <tr>\n",
       "      <th>4</th>\n",
       "      <td>1258</td>\n",
       "      <td>0</td>\n",
       "      <td>1</td>\n",
       "    </tr>\n",
       "    <tr>\n",
       "      <th>5</th>\n",
       "      <td>1259</td>\n",
       "      <td>1</td>\n",
       "      <td>0</td>\n",
       "    </tr>\n",
       "  </tbody>\n",
       "</table>\n",
       "</div>"
      ],
      "text/plain": [
       "   order_id  group is_canceled\n",
       "0      1255      0           0\n",
       "1      1256      1           0\n",
       "2      1257      0           0\n",
       "4      1258      0           1\n",
       "5      1259      1           0"
      ]
     },
     "execution_count": 39,
     "metadata": {},
     "output_type": "execute_result"
    }
   ],
   "source": [
    "# Ранее созданная таблица\n",
    "status_order.head()"
   ]
  },
  {
   "cell_type": "code",
   "execution_count": 40,
   "id": "aab5fd56",
   "metadata": {},
   "outputs": [
    {
     "data": {
      "text/html": [
       "<div>\n",
       "<style scoped>\n",
       "    .dataframe tbody tr th:only-of-type {\n",
       "        vertical-align: middle;\n",
       "    }\n",
       "\n",
       "    .dataframe tbody tr th {\n",
       "        vertical-align: top;\n",
       "    }\n",
       "\n",
       "    .dataframe thead th {\n",
       "        text-align: right;\n",
       "    }\n",
       "</style>\n",
       "<table border=\"1\" class=\"dataframe\">\n",
       "  <thead>\n",
       "    <tr style=\"text-align: right;\">\n",
       "      <th>is_canceled</th>\n",
       "      <th>0</th>\n",
       "      <th>1</th>\n",
       "    </tr>\n",
       "    <tr>\n",
       "      <th>group</th>\n",
       "      <th></th>\n",
       "      <th></th>\n",
       "    </tr>\n",
       "  </thead>\n",
       "  <tbody>\n",
       "    <tr>\n",
       "      <th>0</th>\n",
       "      <td>1527</td>\n",
       "      <td>82</td>\n",
       "    </tr>\n",
       "    <tr>\n",
       "      <th>1</th>\n",
       "      <td>2382</td>\n",
       "      <td>132</td>\n",
       "    </tr>\n",
       "  </tbody>\n",
       "</table>\n",
       "</div>"
      ],
      "text/plain": [
       "is_canceled     0    1\n",
       "group                 \n",
       "0            1527   82\n",
       "1            2382  132"
      ]
     },
     "execution_count": 40,
     "metadata": {},
     "output_type": "execute_result"
    }
   ],
   "source": [
    "# Создадим таблицу сопряженности\n",
    "contingency_canc = pd.crosstab(status_order.group, status_order.is_canceled)\n",
    "contingency_canc"
   ]
  },
  {
   "cell_type": "code",
   "execution_count": 41,
   "id": "4ec99fe1",
   "metadata": {},
   "outputs": [
    {
     "data": {
      "text/html": [
       "<div>\n",
       "<style scoped>\n",
       "    .dataframe tbody tr th:only-of-type {\n",
       "        vertical-align: middle;\n",
       "    }\n",
       "\n",
       "    .dataframe tbody tr th {\n",
       "        vertical-align: top;\n",
       "    }\n",
       "\n",
       "    .dataframe thead th {\n",
       "        text-align: right;\n",
       "    }\n",
       "</style>\n",
       "<table border=\"1\" class=\"dataframe\">\n",
       "  <thead>\n",
       "    <tr style=\"text-align: right;\">\n",
       "      <th>is_canceled</th>\n",
       "      <th>0</th>\n",
       "      <th>1</th>\n",
       "    </tr>\n",
       "    <tr>\n",
       "      <th>group</th>\n",
       "      <th></th>\n",
       "      <th></th>\n",
       "    </tr>\n",
       "  </thead>\n",
       "  <tbody>\n",
       "    <tr>\n",
       "      <th>0</th>\n",
       "      <td>0.949037</td>\n",
       "      <td>0.050963</td>\n",
       "    </tr>\n",
       "    <tr>\n",
       "      <th>1</th>\n",
       "      <td>0.947494</td>\n",
       "      <td>0.052506</td>\n",
       "    </tr>\n",
       "  </tbody>\n",
       "</table>\n",
       "</div>"
      ],
      "text/plain": [
       "is_canceled         0         1\n",
       "group                          \n",
       "0            0.949037  0.050963\n",
       "1            0.947494  0.052506"
      ]
     },
     "execution_count": 41,
     "metadata": {},
     "output_type": "execute_result"
    }
   ],
   "source": [
    "# Создадим нормированную таблицу сопряженности, чтобы узнать долю отмененных заказов\n",
    "norm_contingency_canc = pd.crosstab(status_order.group, status_order.is_canceled, normalize='index')\n",
    "norm_contingency_canc"
   ]
  },
  {
   "cell_type": "markdown",
   "id": "a9c826fb",
   "metadata": {},
   "source": [
    "Видим, что доля отмененных заказов с введением новой системы рекомендаций особо не изменилась, однако пока что это еще ни о чем не говорит. \n",
    "\n",
    "Проанализируем таблицу сопряженности. Мы хотим проверить, зависит ли доля отмененных заказов от группы.  \n",
    "\n",
    "$H_{0}$: распределение не зависит от группы  \n",
    "$H_{1}$: распределение зависит от группы"
   ]
  },
  {
   "cell_type": "code",
   "execution_count": 42,
   "id": "c9e53270",
   "metadata": {},
   "outputs": [
    {
     "name": "stdout",
     "output_type": "stream",
     "text": [
      "\n",
      "Хи-квадрат = 0.021274207290295187\n",
      "p-value = 0.8840344321879333\n",
      "Количество степеней свободы = 1\n",
      "Ожидаемые наблюдения:\n",
      "[[1525.48653893   83.51346107]\n",
      " [2383.51346107  130.48653893]]\n",
      "\n"
     ]
    }
   ],
   "source": [
    "# Критерий хи-квадрат\n",
    "\n",
    "statistic, pvalue, dof, expected_freq = stats.chi2_contingency(contingency_canc)\n",
    "print(f'''\n",
    "Хи-квадрат = {statistic}\n",
    "p-value = {pvalue}\n",
    "Количество степеней свободы = {dof}\n",
    "Ожидаемые наблюдения:\n",
    "{expected_freq}\n",
    "''')"
   ]
  },
  {
   "cell_type": "markdown",
   "id": "6b58bdbc",
   "metadata": {},
   "source": [
    "Видим, что нулевую гипотезу отклонить мы не можем, так как p-value больше уровня значимости 0.05.  \n",
    "**Вывод: критерий хи-квадрат показал, что статзначимых изменений нет и доля отмененных заказов (Cancellation Rate) не зависит от группы**."
   ]
  },
  {
   "cell_type": "code",
   "execution_count": 43,
   "id": "4677a0a5",
   "metadata": {},
   "outputs": [
    {
     "data": {
      "image/png": "[encoded data removed]",
      "text/plain": [
       "<Figure size 1296x720 with 1 Axes>"
      ]
     },
     "metadata": {},
     "output_type": "display_data"
    }
   ],
   "source": [
    "# Строим диаграмму\n",
    "\n",
    "ax = norm_contingency_canc.plot(kind=\"bar\", stacked=True, rot=0)\n",
    "ax.yaxis.set_major_locator(mticker.FixedLocator(ax.get_yticks()))\n",
    "ax.set_yticklabels(['{:.1%}'.format(x) for x in ax.get_yticks()])\n",
    "ax.set_xticklabels(['Контрольная', 'Тестовая'])\n",
    "ax.legend(['не отменен', 'отменен'],\n",
    "          title='Доля заказов со статусом', loc='upper center')\n",
    "for p in ax.patches:\n",
    "    width, height = p.get_width(), p.get_height()\n",
    "    x, y = p.get_xy()\n",
    "    ax.text(x+width/2, y+height/2, '{:.1%}'.format(height),\n",
    "            horizontalalignment='center', verticalalignment='center', fontsize=16)\n",
    "plt.xlabel('Группа')\n",
    "plt.ylabel('Доля')\n",
    "plt.title('Распределение заказов по группам\\n')\n",
    "plt.show()"
   ]
  },
  {
   "cell_type": "markdown",
   "id": "fc366bcd",
   "metadata": {},
   "source": [
    "Новая рекомендательная система не повлияла на отмену заказов, значит, заказы отменяют по другим причинам.  \n",
    "Проанализируем заказы, которые не были отменены."
   ]
  },
  {
   "cell_type": "markdown",
   "id": "5791d639",
   "metadata": {},
   "source": [
    "## Анализ заказов, которые не были отменены"
   ]
  },
  {
   "cell_type": "code",
   "execution_count": 44,
   "id": "eb0ff21b",
   "metadata": {},
   "outputs": [
    {
     "data": {
      "text/html": [
       "<div>\n",
       "<style scoped>\n",
       "    .dataframe tbody tr th:only-of-type {\n",
       "        vertical-align: middle;\n",
       "    }\n",
       "\n",
       "    .dataframe tbody tr th {\n",
       "        vertical-align: top;\n",
       "    }\n",
       "\n",
       "    .dataframe thead th {\n",
       "        text-align: right;\n",
       "    }\n",
       "</style>\n",
       "<table border=\"1\" class=\"dataframe\">\n",
       "  <thead>\n",
       "    <tr style=\"text-align: right;\">\n",
       "      <th></th>\n",
       "      <th>order_id</th>\n",
       "      <th>creation_time</th>\n",
       "      <th>product_id</th>\n",
       "      <th>user_id</th>\n",
       "      <th>action</th>\n",
       "      <th>time</th>\n",
       "      <th>date</th>\n",
       "      <th>group</th>\n",
       "      <th>name</th>\n",
       "      <th>price</th>\n",
       "    </tr>\n",
       "  </thead>\n",
       "  <tbody>\n",
       "    <tr>\n",
       "      <th>0</th>\n",
       "      <td>1255</td>\n",
       "      <td>2022-08-26 00:00:19</td>\n",
       "      <td>75</td>\n",
       "      <td>964</td>\n",
       "      <td>create_order</td>\n",
       "      <td>2022-08-26 00:00:19</td>\n",
       "      <td>2022-08-26</td>\n",
       "      <td>0</td>\n",
       "      <td>сок ананасовый</td>\n",
       "      <td>120.0</td>\n",
       "    </tr>\n",
       "    <tr>\n",
       "      <th>1</th>\n",
       "      <td>1287</td>\n",
       "      <td>2022-08-26 00:31:36</td>\n",
       "      <td>75</td>\n",
       "      <td>987</td>\n",
       "      <td>create_order</td>\n",
       "      <td>2022-08-26 00:31:36</td>\n",
       "      <td>2022-08-26</td>\n",
       "      <td>0</td>\n",
       "      <td>сок ананасовый</td>\n",
       "      <td>120.0</td>\n",
       "    </tr>\n",
       "    <tr>\n",
       "      <th>2</th>\n",
       "      <td>1403</td>\n",
       "      <td>2022-08-26 03:01:40</td>\n",
       "      <td>75</td>\n",
       "      <td>1073</td>\n",
       "      <td>create_order</td>\n",
       "      <td>2022-08-26 03:01:40</td>\n",
       "      <td>2022-08-26</td>\n",
       "      <td>1</td>\n",
       "      <td>сок ананасовый</td>\n",
       "      <td>120.0</td>\n",
       "    </tr>\n",
       "    <tr>\n",
       "      <th>3</th>\n",
       "      <td>1424</td>\n",
       "      <td>2022-08-26 04:01:22</td>\n",
       "      <td>75</td>\n",
       "      <td>1089</td>\n",
       "      <td>create_order</td>\n",
       "      <td>2022-08-26 04:01:22</td>\n",
       "      <td>2022-08-26</td>\n",
       "      <td>1</td>\n",
       "      <td>сок ананасовый</td>\n",
       "      <td>120.0</td>\n",
       "    </tr>\n",
       "    <tr>\n",
       "      <th>4</th>\n",
       "      <td>1495</td>\n",
       "      <td>2022-08-26 06:04:05</td>\n",
       "      <td>75</td>\n",
       "      <td>1139</td>\n",
       "      <td>create_order</td>\n",
       "      <td>2022-08-26 06:04:05</td>\n",
       "      <td>2022-08-26</td>\n",
       "      <td>1</td>\n",
       "      <td>сок ананасовый</td>\n",
       "      <td>120.0</td>\n",
       "    </tr>\n",
       "  </tbody>\n",
       "</table>\n",
       "</div>"
      ],
      "text/plain": [
       "   order_id       creation_time  product_id  user_id        action  \\\n",
       "0      1255 2022-08-26 00:00:19          75      964  create_order   \n",
       "1      1287 2022-08-26 00:31:36          75      987  create_order   \n",
       "2      1403 2022-08-26 03:01:40          75     1073  create_order   \n",
       "3      1424 2022-08-26 04:01:22          75     1089  create_order   \n",
       "4      1495 2022-08-26 06:04:05          75     1139  create_order   \n",
       "\n",
       "                 time       date  group            name  price  \n",
       "0 2022-08-26 00:00:19 2022-08-26      0  сок ананасовый  120.0  \n",
       "1 2022-08-26 00:31:36 2022-08-26      0  сок ананасовый  120.0  \n",
       "2 2022-08-26 03:01:40 2022-08-26      1  сок ананасовый  120.0  \n",
       "3 2022-08-26 04:01:22 2022-08-26      1  сок ананасовый  120.0  \n",
       "4 2022-08-26 06:04:05 2022-08-26      1  сок ананасовый  120.0  "
      ]
     },
     "execution_count": 44,
     "metadata": {},
     "output_type": "execute_result"
    }
   ],
   "source": [
    "# Ранее созданный датафрейм\n",
    "non_cancelled_orders.head()"
   ]
  },
  {
   "cell_type": "code",
   "execution_count": 45,
   "id": "f18a46ea",
   "metadata": {},
   "outputs": [
    {
     "data": {
      "text/html": [
       "<div>\n",
       "<style scoped>\n",
       "    .dataframe tbody tr th:only-of-type {\n",
       "        vertical-align: middle;\n",
       "    }\n",
       "\n",
       "    .dataframe tbody tr th {\n",
       "        vertical-align: top;\n",
       "    }\n",
       "\n",
       "    .dataframe thead th {\n",
       "        text-align: right;\n",
       "    }\n",
       "</style>\n",
       "<table border=\"1\" class=\"dataframe\">\n",
       "  <thead>\n",
       "    <tr style=\"text-align: right;\">\n",
       "      <th></th>\n",
       "      <th>group</th>\n",
       "      <th>total_user</th>\n",
       "      <th>total_revenue</th>\n",
       "      <th>total_order</th>\n",
       "      <th>total_product</th>\n",
       "      <th>period</th>\n",
       "      <th>repeat_purchase</th>\n",
       "      <th>aov</th>\n",
       "      <th>aos</th>\n",
       "      <th>arpu</th>\n",
       "      <th>pf</th>\n",
       "      <th>rpr</th>\n",
       "    </tr>\n",
       "  </thead>\n",
       "  <tbody>\n",
       "    <tr>\n",
       "      <th>0</th>\n",
       "      <td>0</td>\n",
       "      <td>512</td>\n",
       "      <td>583455.9</td>\n",
       "      <td>1527</td>\n",
       "      <td>5103</td>\n",
       "      <td>13 days</td>\n",
       "      <td>414</td>\n",
       "      <td>382.092927</td>\n",
       "      <td>3.341847</td>\n",
       "      <td>1139.562305</td>\n",
       "      <td>2.982422</td>\n",
       "      <td>80.9</td>\n",
       "    </tr>\n",
       "    <tr>\n",
       "      <th>1</th>\n",
       "      <td>1</td>\n",
       "      <td>501</td>\n",
       "      <td>878628.4</td>\n",
       "      <td>2382</td>\n",
       "      <td>7980</td>\n",
       "      <td>13 days</td>\n",
       "      <td>470</td>\n",
       "      <td>368.861629</td>\n",
       "      <td>3.350126</td>\n",
       "      <td>1753.749301</td>\n",
       "      <td>4.754491</td>\n",
       "      <td>93.8</td>\n",
       "    </tr>\n",
       "  </tbody>\n",
       "</table>\n",
       "</div>"
      ],
      "text/plain": [
       "   group  total_user  total_revenue  total_order  total_product  period  \\\n",
       "0      0         512       583455.9         1527           5103 13 days   \n",
       "1      1         501       878628.4         2382           7980 13 days   \n",
       "\n",
       "   repeat_purchase         aov       aos         arpu        pf   rpr  \n",
       "0              414  382.092927  3.341847  1139.562305  2.982422  80.9  \n",
       "1              470  368.861629  3.350126  1753.749301  4.754491  93.8  "
      ]
     },
     "execution_count": 45,
     "metadata": {},
     "output_type": "execute_result"
    }
   ],
   "source": [
    "# Найдем все нужные метрики, которые были перечислены выше\n",
    "df = non_cancelled_orders \\\n",
    "    .groupby('group', as_index=False) \\\n",
    "    .agg({'user_id': 'nunique', 'price': 'sum', 'order_id': 'nunique', 'product_id': 'count', 'date': np.ptp}) \\\n",
    "    .rename(columns={'user_id': 'total_user', 'price': 'total_revenue', 'order_id': 'total_order',\n",
    "                     'product_id': 'total_product', 'date': 'period'})\n",
    "\n",
    "repeat_purchase = non_cancelled_orders \\\n",
    "    .groupby(['user_id', 'group'], as_index=False) \\\n",
    "    .agg(purchase=('order_id', 'nunique')) \\\n",
    "    .query('purchase > 1') \\\n",
    "    .groupby('group', as_index=False) \\\n",
    "    .agg(repeat_purchase=('purchase', 'count'))\n",
    "\n",
    "df = df.merge(repeat_purchase, on='group')\n",
    "\n",
    "df['aov'] = df.total_revenue / df.total_order\n",
    "df['aos'] = df.total_product / df.total_order\n",
    "df['arpu'] = df.total_revenue / df.total_user\n",
    "df['pf'] = df.total_order / df.total_user\n",
    "df['rpr'] = round(df.repeat_purchase / df.total_user * 100, 1)\n",
    "df"
   ]
  },
  {
   "cell_type": "code",
   "execution_count": 46,
   "id": "de67fe12",
   "metadata": {},
   "outputs": [
    {
     "data": {
      "text/html": [
       "<div>\n",
       "<style scoped>\n",
       "    .dataframe tbody tr th:only-of-type {\n",
       "        vertical-align: middle;\n",
       "    }\n",
       "\n",
       "    .dataframe tbody tr th {\n",
       "        vertical-align: top;\n",
       "    }\n",
       "\n",
       "    .dataframe thead th {\n",
       "        text-align: right;\n",
       "    }\n",
       "</style>\n",
       "<table border=\"1\" class=\"dataframe\">\n",
       "  <thead>\n",
       "    <tr style=\"text-align: right;\">\n",
       "      <th></th>\n",
       "      <th>total_user</th>\n",
       "      <th>total_revenue</th>\n",
       "      <th>total_order</th>\n",
       "      <th>total_product</th>\n",
       "      <th>period</th>\n",
       "      <th>repeat_purchase</th>\n",
       "      <th>aov</th>\n",
       "      <th>aos</th>\n",
       "      <th>arpu</th>\n",
       "      <th>pf</th>\n",
       "      <th>rpr</th>\n",
       "    </tr>\n",
       "  </thead>\n",
       "  <tbody>\n",
       "    <tr>\n",
       "      <th>1</th>\n",
       "      <td>-11.0</td>\n",
       "      <td>295172.5</td>\n",
       "      <td>855.0</td>\n",
       "      <td>2877.0</td>\n",
       "      <td>0 days</td>\n",
       "      <td>56.0</td>\n",
       "      <td>-13.231298</td>\n",
       "      <td>0.008279</td>\n",
       "      <td>614.186997</td>\n",
       "      <td>1.772069</td>\n",
       "      <td>12.9</td>\n",
       "    </tr>\n",
       "  </tbody>\n",
       "</table>\n",
       "</div>"
      ],
      "text/plain": [
       "   total_user  total_revenue  total_order  total_product period  \\\n",
       "1       -11.0       295172.5        855.0         2877.0 0 days   \n",
       "\n",
       "   repeat_purchase        aov       aos        arpu        pf   rpr  \n",
       "1             56.0 -13.231298  0.008279  614.186997  1.772069  12.9  "
      ]
     },
     "execution_count": 46,
     "metadata": {},
     "output_type": "execute_result"
    }
   ],
   "source": [
    "# Посмотрим разницу величин в двух группах\n",
    "difference = df.diff(axis=0).drop('group', axis=1).drop(0, axis=0)\n",
    "difference"
   ]
  },
  {
   "cell_type": "markdown",
   "id": "21f756f4",
   "metadata": {},
   "source": [
    "Заметим, что периоды наблюдения равны.  \n",
    "Видим, что несмотря на то, что в тестовой группе меньше людей, как в общем, так и тех, кто не отменял заказ, выросли следующие показатели (смотрим в разрезе потенциальных покупок, так как статус заказа на данный момент - \"создан\", мы не знаем, что произойдет с ним дальше):\n",
    "- общий доход\n",
    "- количество заказов\n",
    "- количество купленных продуктов\n",
    "- количество повторных покупок\n",
    "\n",
    "Выросли и интересующие нас метрики, изменения которых мы хотим проверить:\n",
    "- AOS - среднее количество товаров на заказ\n",
    "- ARPU - средний доход с пользователя\n",
    "- PF - частота покупок\n",
    "- RPR - коэффициент повторных покупок\n",
    "\n",
    "Уменьшился только показатель AOV - средняя сумма заказа, люди совершают заказы на меньшую сумму, но в большем количестве.  \n",
    "Однако нам предстоит узнать, статзначимы ли эти изменения или они обусловлены, например, дисперсией показателей.\n",
    "\n",
    "### Выбор статистических тестов\n",
    "\n",
    "Теперь нам нужно определиться со статистическими тестами.\n",
    "\n",
    "**RPR:**  \n",
    "В RPR у нас фигурирует количество пользователей, совершивших повторную покупку, то есть пользователи делятся на \"совершил\"/\"не совершил\" - категориальная переменная, вторая категориальная переменная - группа (0 или 1). Из этого следует, что будем использовать ***критерий хи-квадрат (или критерий согласия Пирсона)***. Он подходит для анализа таблицы сопряженности любого размера, где значения ожидаемых и наблюдаемых частот в каждой ячейке больше 10.  \n",
    "\n",
    "В остальных метриках уже фигурируют количественные переменные. Групп у нас всего 2, поэтому использовать дисперсионный анализ мы не будем. Посмотрим на требования к проведению тестов.  \n",
    "\n",
    "Требования к проведению ***t-теста (t-критерий Стьюдента)***:\n",
    "\n",
    "- Дисперсии внутри групп должны быть примерно одинаковы (требование гомогенности дисперсий).\n",
    "- Необходимо, чтобы выборочные средние имели нормальное распределение. При маленьких выборках это означает требование нормальности исходных значений. Выбросы могут оказать значительное влияние на результаты t-теста. На практике t-тест может быть использован для сравнения средних и при **ненормальном распределении, особенно на больших выборках и, если в данных нет заметных выбросов**. В нашем случае выборки большие, поэтому нужно посмотреть только выбросы.\n",
    "\n",
    "Однако в случае гетероскедастичности дисперсий может быть применен ***t-критерий Уэлча***, который является модификацией t-критерия Стьюдента и не требует равенства дисперсий. Требование о нормальном распределении сохраняется.\n",
    "\n",
    "\n",
    "***Непараметрический U-критерий Манна-Уитни*** не столь чувствителен к наличию выбросов по сравнению с t-тестом, однако этот критерий плохо интерпретируется в отношении денег и бизнеса, поэтому если t-тест нам не подойдет, то будем использовать ***бутстрап***. Строго говоря, нам ничего не мешает применить его для всех наших метрик, потому что ему не страшны ненормальность распределения и гетероскедастичность дисперсий. Однако на практике бутстрап может быть слишком ресурозатратным, поэтому при возможности применим более простой и быстрый метод."
   ]
  },
  {
   "cell_type": "code",
   "execution_count": 47,
   "id": "4a83755d",
   "metadata": {},
   "outputs": [],
   "source": [
    "# Подготовим данные для проверки изменения метрик\n",
    "\n",
    "group_0_aos = group_0.groupby('order_id', as_index=False).agg(product_count=('product_id', 'count'))\n",
    "group_1_aos = group_1.groupby('order_id', as_index=False).agg(product_count=('product_id', 'count'))\n",
    "\n",
    "group_0_arpu = group_0.groupby('user_id', as_index=False).agg(revenue=('price', 'sum'))\n",
    "group_1_arpu = group_1.groupby('user_id', as_index=False).agg(revenue=('price', 'sum'))\n",
    "                                                              \n",
    "group_0_pf = group_0.groupby('user_id', as_index=False).agg(order_count=('order_id', 'nunique'))\n",
    "group_1_pf = group_1.groupby('user_id', as_index=False).agg(order_count=('order_id', 'nunique'))\n",
    "                                                              \n",
    "group_0_aov = group_0.groupby('order_id', as_index=False).agg(revenue=('price', 'sum'))\n",
    "group_1_aov = group_1.groupby('order_id', as_index=False).agg(revenue=('price', 'sum'))                                                              "
   ]
  },
  {
   "cell_type": "markdown",
   "id": "a2f588a7",
   "metadata": {},
   "source": [
    "Для начала проведем проверку равенства дисперсий по критерию Левина.  \n",
    "Гипотеза $H_0$: дисперсии равны  \n",
    "Гипотеза $H_1$: дисперсии различны"
   ]
  },
  {
   "cell_type": "code",
   "execution_count": 48,
   "id": "50313bd4",
   "metadata": {},
   "outputs": [
    {
     "name": "stdout",
     "output_type": "stream",
     "text": [
      "\n",
      "Проверка распределений на равенство дисперсий (требование гомогенности дисперсий) \n",
      "\n",
      "Распределение количества товаров по заказам:\n",
      "p-value = 0.18125424676983376\n",
      "\n",
      "Распределение дохода по пользователям:\n",
      "p-value = 1.896012459520485e-05\n",
      "\n",
      "Распределение количества заказов по пользователям:\n",
      "p-value = 3.654438888775981e-05\n",
      "\n",
      "Распределение дохода по заказам:\n",
      "p-value = 0.31453758452176295\n"
     ]
    }
   ],
   "source": [
    "print(f'''\n",
    "Проверка распределений на равенство дисперсий (требование гомогенности дисперсий) \n",
    "\n",
    "Распределение количества товаров по заказам:\n",
    "p-value = {stats.levene(group_0_aos.product_count, group_1_aos.product_count)[1]}\n",
    "\n",
    "Распределение дохода по пользователям:\n",
    "p-value = {stats.levene(group_0_arpu.revenue, group_1_arpu.revenue)[1]}\n",
    "\n",
    "Распределение количества заказов по пользователям:\n",
    "p-value = {stats.levene(group_0_pf.order_count, group_1_pf.order_count)[1]}\n",
    "\n",
    "Распределение дохода по заказам:\n",
    "p-value = {stats.levene(group_0_aov.revenue, group_1_aov.revenue)[1]}''')"
   ]
  },
  {
   "cell_type": "markdown",
   "id": "aeb08aa1",
   "metadata": {},
   "source": [
    "У первого и последнего тестов значение p-value больше уровня значимости 0.05, поэтому мы можем принять нулевую гипотезу и сказать, что в данных случаях имеет место **равенство дисперсий**. Однако стоит проверить распределения на наличие сильных выбросов, которые могут оказать влияние. Если сильных выбросов не будет, то будем использовать t-критерий Стьюдента, если будут, то бутстрап.  \n",
    "\n",
    "Значение p-value у двух остальных тестов меньше нашего уровня значимости 0.05. Таким образом, в этих случаях мы отвергаем нулевую гипотезу и заключаем, что среди групп **дисперсии различны**. Проверим распределения на наличие сильных выбросов и решим, что будем использовать t-критерий Уэлча или бутстрап."
   ]
  },
  {
   "cell_type": "code",
   "execution_count": 49,
   "id": "ec65059b",
   "metadata": {},
   "outputs": [
    {
     "data": {
      "image/png": "[encoded data removed]",
      "text/plain": [
       "<Figure size 2016x1800 with 16 Axes>"
      ]
     },
     "metadata": {},
     "output_type": "display_data"
    }
   ],
   "source": [
    "# Посмотрим на распределения и выбросы\n",
    "fig, axs = plt.subplots(4, 4, figsize=(28, 25))\n",
    "\n",
    "sns.boxplot(data=group_0_aos.product_count, orient='Vertical', ax=axs[0, 0]).set_title('Контрольная группа\\n')\n",
    "sns.boxplot(data=group_1_aos.product_count, orient='Vertical', ax=axs[0, 1]).set_title('Тестовая группа\\n')\n",
    "\n",
    "sns.histplot(group_0_aos.product_count, ax=axs[0, 2]) \\\n",
    "    .set(xlabel='Количество товаров', ylabel='Количество заказов', title='Контрольная группа\\n')\n",
    "sns.histplot(group_1_aos.product_count, ax=axs[0, 3]) \\\n",
    "    .set(xlabel='Количество товаров', ylabel='Количество заказов', title='Тестовая группа\\n')\n",
    "\n",
    "sns.boxplot(data=group_0_aov.revenue, orient='Vertical', ax=axs[1, 0])\n",
    "sns.boxplot(data=group_1_aov.revenue, orient='Vertical', ax=axs[1, 1])\n",
    "\n",
    "sns.histplot(group_0_aov.revenue, ax=axs[1, 2]).set(xlabel='Доход', ylabel='Количество заказов')\n",
    "sns.histplot(group_1_aov.revenue, ax=axs[1, 3]).set(xlabel='Доход', ylabel='Количество заказов')\n",
    "\n",
    "sns.boxplot(data=group_0_arpu.revenue, orient='Vertical', ax=axs[2, 0])\n",
    "sns.boxplot(data=group_1_arpu.revenue, orient='Vertical', ax=axs[2, 1])\n",
    "\n",
    "sns.histplot(group_0_arpu.revenue, ax=axs[2, 2]).set(xlabel='Доход', ylabel='Количество пользователей')\n",
    "sns.histplot(group_1_arpu.revenue, ax=axs[2, 3]).set(xlabel='Доход', ylabel='Количество пользователей')\n",
    "\n",
    "sns.boxplot(data=group_0_pf.order_count, orient='Vertical', ax=axs[3, 0])\n",
    "sns.boxplot(data=group_1_pf.order_count, orient='Vertical', ax=axs[3, 1])\n",
    "\n",
    "sns.histplot(group_0_pf.order_count, ax=axs[3, 2]).set(xlabel='Количество заказов', ylabel='Количество пользователей')\n",
    "sns.histplot(group_1_pf.order_count, ax=axs[3, 3]).set(xlabel='Количество заказов', ylabel='Количество пользователей')\n",
    "\n",
    "plt.show()"
   ]
  },
  {
   "cell_type": "markdown",
   "id": "6da54f01",
   "metadata": {},
   "source": [
    "В целом мы видим, что распределения не являются нормальными, однако выбросы в распределениях находятся с одной стороны от среднего, представляя собой \"длинный хвост распределения\" (даже существует такая бизнес-модель, связанная с продажами), боксплоты в целом очень похожи.  \n",
    "Из увиденного мы можем сделать вывод о том, что данные выбросы не окажут значительного влияния на t-тест.  \n",
    "Поэтому остановимся на ***t-критерии Стьюдента*** для групп, которые обладают гомогенностью дисперсий.  \n",
    "И на ***t-критерий Уэлча*** для групп, которые не облают.  \n",
    "Так как выборки у нас достаточно большие t-тест должен дать приблизительно точный результат, несмотря на ненормальность распределения."
   ]
  },
  {
   "cell_type": "markdown",
   "id": "73bb0295",
   "metadata": {},
   "source": [
    "## Average Order Size, Average Order Value, Average Revenue per User, Purchase Frequency\n",
    "\n",
    "Проведем t-тесты.  \n",
    "Гипотеза $H_0$: средние равны  \n",
    "Гипотеза $H_1$: средние различны \n",
    "\n",
    "Для групп с равными дисперсиями:"
   ]
  },
  {
   "cell_type": "code",
   "execution_count": 50,
   "id": "0b985077",
   "metadata": {},
   "outputs": [
    {
     "data": {
      "text/plain": [
       "Ttest_indResult(statistic=-0.19638057741712578, pvalue=0.84432251088501)"
      ]
     },
     "execution_count": 50,
     "metadata": {},
     "output_type": "execute_result"
    }
   ],
   "source": [
    "stats.ttest_ind(group_0_aos.product_count, group_1_aos.product_count)"
   ]
  },
  {
   "cell_type": "code",
   "execution_count": 51,
   "id": "a80c8457",
   "metadata": {},
   "outputs": [
    {
     "data": {
      "text/plain": [
       "Ttest_indResult(statistic=1.6334875192269402, pvalue=0.10244707728234669)"
      ]
     },
     "execution_count": 51,
     "metadata": {},
     "output_type": "execute_result"
    }
   ],
   "source": [
    "stats.ttest_ind(group_0_aov.revenue, group_1_aov.revenue)"
   ]
  },
  {
   "cell_type": "markdown",
   "id": "5bdc98ff",
   "metadata": {},
   "source": [
    "В обоих случаях p-value больше уровня значимости - 0.05, поэтому мы принимаем нулевую гипотезу и делаем вывод, что средние в группах не различаются.  \n",
    "**Вывод: t-критерий Стьюдента показал, что AOS, AOV статзначимо не изменились.**"
   ]
  },
  {
   "cell_type": "markdown",
   "id": "8622b22c",
   "metadata": {},
   "source": [
    "Для групп с неравными дисперсиями:"
   ]
  },
  {
   "cell_type": "code",
   "execution_count": 52,
   "id": "7e4d576d",
   "metadata": {},
   "outputs": [
    {
     "data": {
      "text/plain": [
       "Ttest_indResult(statistic=-11.208629753614105, pvalue=1.572166429481266e-27)"
      ]
     },
     "execution_count": 52,
     "metadata": {},
     "output_type": "execute_result"
    }
   ],
   "source": [
    "stats.ttest_ind(group_0_arpu.revenue, group_1_arpu.revenue, equal_var=False)"
   ]
  },
  {
   "cell_type": "code",
   "execution_count": 53,
   "id": "ac183656",
   "metadata": {},
   "outputs": [
    {
     "data": {
      "text/plain": [
       "Ttest_indResult(statistic=-13.974169980221783, pvalue=1.2374101233656574e-40)"
      ]
     },
     "execution_count": 53,
     "metadata": {},
     "output_type": "execute_result"
    }
   ],
   "source": [
    "stats.ttest_ind(group_0_pf.order_count, group_1_pf.order_count, equal_var=False)"
   ]
  },
  {
   "cell_type": "markdown",
   "id": "4dfcebd9",
   "metadata": {},
   "source": [
    "В обоих случаях значение p-value очень мало (< 0.5), следовательно, мы отвергаем нулевую гипотезу и делаем вывод, что средние в группах статзначимо различаются.  \n",
    "**Вывод: t-критерий Уэлча показал, что ARPU, PF статзначимо изменились.**"
   ]
  },
  {
   "cell_type": "markdown",
   "id": "8ddccc21",
   "metadata": {},
   "source": [
    "## Repeat Purchase Rate"
   ]
  },
  {
   "cell_type": "markdown",
   "id": "262ee8d6",
   "metadata": {},
   "source": [
    "Как уже отмечалось ранее, будем использовать ***Хи-критерий***."
   ]
  },
  {
   "cell_type": "code",
   "execution_count": 54,
   "id": "a25691a5",
   "metadata": {},
   "outputs": [
    {
     "data": {
      "text/html": [
       "<div>\n",
       "<style scoped>\n",
       "    .dataframe tbody tr th:only-of-type {\n",
       "        vertical-align: middle;\n",
       "    }\n",
       "\n",
       "    .dataframe tbody tr th {\n",
       "        vertical-align: top;\n",
       "    }\n",
       "\n",
       "    .dataframe thead th {\n",
       "        text-align: right;\n",
       "    }\n",
       "</style>\n",
       "<table border=\"1\" class=\"dataframe\">\n",
       "  <thead>\n",
       "    <tr style=\"text-align: right;\">\n",
       "      <th></th>\n",
       "      <th>user_id</th>\n",
       "      <th>group</th>\n",
       "      <th>order_count</th>\n",
       "      <th>is_repeat</th>\n",
       "    </tr>\n",
       "  </thead>\n",
       "  <tbody>\n",
       "    <tr>\n",
       "      <th>0</th>\n",
       "      <td>964</td>\n",
       "      <td>0</td>\n",
       "      <td>2</td>\n",
       "      <td>1</td>\n",
       "    </tr>\n",
       "    <tr>\n",
       "      <th>1</th>\n",
       "      <td>965</td>\n",
       "      <td>1</td>\n",
       "      <td>9</td>\n",
       "      <td>1</td>\n",
       "    </tr>\n",
       "    <tr>\n",
       "      <th>2</th>\n",
       "      <td>967</td>\n",
       "      <td>1</td>\n",
       "      <td>5</td>\n",
       "      <td>1</td>\n",
       "    </tr>\n",
       "    <tr>\n",
       "      <th>3</th>\n",
       "      <td>968</td>\n",
       "      <td>0</td>\n",
       "      <td>3</td>\n",
       "      <td>1</td>\n",
       "    </tr>\n",
       "    <tr>\n",
       "      <th>4</th>\n",
       "      <td>969</td>\n",
       "      <td>0</td>\n",
       "      <td>2</td>\n",
       "      <td>1</td>\n",
       "    </tr>\n",
       "  </tbody>\n",
       "</table>\n",
       "</div>"
      ],
      "text/plain": [
       "   user_id  group  order_count  is_repeat\n",
       "0      964      0            2          1\n",
       "1      965      1            9          1\n",
       "2      967      1            5          1\n",
       "3      968      0            3          1\n",
       "4      969      0            2          1"
      ]
     },
     "execution_count": 54,
     "metadata": {},
     "output_type": "execute_result"
    }
   ],
   "source": [
    "# Создадим таблицу с информацией по повторным покупкам\n",
    "\n",
    "rpr = non_cancelled_orders \\\n",
    "    .groupby(['user_id', 'group'], as_index=False) \\\n",
    "    .agg(order_count=('order_id', 'nunique'))\n",
    "rpr.loc[rpr.order_count > 1, 'is_repeat'] = 1\n",
    "rpr.loc[rpr.order_count == 1, 'is_repeat'] = 0\n",
    "rpr.is_repeat = rpr.is_repeat.astype(int)\n",
    "rpr.head()"
   ]
  },
  {
   "cell_type": "code",
   "execution_count": 55,
   "id": "760989ea",
   "metadata": {},
   "outputs": [
    {
     "data": {
      "text/html": [
       "<div>\n",
       "<style scoped>\n",
       "    .dataframe tbody tr th:only-of-type {\n",
       "        vertical-align: middle;\n",
       "    }\n",
       "\n",
       "    .dataframe tbody tr th {\n",
       "        vertical-align: top;\n",
       "    }\n",
       "\n",
       "    .dataframe thead th {\n",
       "        text-align: right;\n",
       "    }\n",
       "</style>\n",
       "<table border=\"1\" class=\"dataframe\">\n",
       "  <thead>\n",
       "    <tr style=\"text-align: right;\">\n",
       "      <th>is_repeat</th>\n",
       "      <th>0</th>\n",
       "      <th>1</th>\n",
       "    </tr>\n",
       "    <tr>\n",
       "      <th>group</th>\n",
       "      <th></th>\n",
       "      <th></th>\n",
       "    </tr>\n",
       "  </thead>\n",
       "  <tbody>\n",
       "    <tr>\n",
       "      <th>0</th>\n",
       "      <td>98</td>\n",
       "      <td>414</td>\n",
       "    </tr>\n",
       "    <tr>\n",
       "      <th>1</th>\n",
       "      <td>31</td>\n",
       "      <td>470</td>\n",
       "    </tr>\n",
       "  </tbody>\n",
       "</table>\n",
       "</div>"
      ],
      "text/plain": [
       "is_repeat   0    1\n",
       "group             \n",
       "0          98  414\n",
       "1          31  470"
      ]
     },
     "execution_count": 55,
     "metadata": {},
     "output_type": "execute_result"
    }
   ],
   "source": [
    "# Создадим таблицу сопряженности\n",
    "contingency_rpr = pd.crosstab(rpr.group, rpr.is_repeat)\n",
    "contingency_rpr.head()"
   ]
  },
  {
   "cell_type": "code",
   "execution_count": 56,
   "id": "301867d5",
   "metadata": {},
   "outputs": [
    {
     "data": {
      "text/html": [
       "<div>\n",
       "<style scoped>\n",
       "    .dataframe tbody tr th:only-of-type {\n",
       "        vertical-align: middle;\n",
       "    }\n",
       "\n",
       "    .dataframe tbody tr th {\n",
       "        vertical-align: top;\n",
       "    }\n",
       "\n",
       "    .dataframe thead th {\n",
       "        text-align: right;\n",
       "    }\n",
       "</style>\n",
       "<table border=\"1\" class=\"dataframe\">\n",
       "  <thead>\n",
       "    <tr style=\"text-align: right;\">\n",
       "      <th>is_repeat</th>\n",
       "      <th>0</th>\n",
       "      <th>1</th>\n",
       "    </tr>\n",
       "    <tr>\n",
       "      <th>group</th>\n",
       "      <th></th>\n",
       "      <th></th>\n",
       "    </tr>\n",
       "  </thead>\n",
       "  <tbody>\n",
       "    <tr>\n",
       "      <th>0</th>\n",
       "      <td>0.191406</td>\n",
       "      <td>0.808594</td>\n",
       "    </tr>\n",
       "    <tr>\n",
       "      <th>1</th>\n",
       "      <td>0.061876</td>\n",
       "      <td>0.938124</td>\n",
       "    </tr>\n",
       "  </tbody>\n",
       "</table>\n",
       "</div>"
      ],
      "text/plain": [
       "is_repeat         0         1\n",
       "group                        \n",
       "0          0.191406  0.808594\n",
       "1          0.061876  0.938124"
      ]
     },
     "execution_count": 56,
     "metadata": {},
     "output_type": "execute_result"
    }
   ],
   "source": [
    "# Создадим нормированную таблицу сопряженности, чтобы узнать долю повторных покупок\n",
    "norm_contingency_rpr = pd.crosstab(rpr.group, rpr.is_repeat, normalize='index')\n",
    "norm_contingency_rpr"
   ]
  },
  {
   "cell_type": "markdown",
   "id": "b04abd56",
   "metadata": {},
   "source": [
    "Видим, что доля пользователей, которые совершили повторную покупку, выросла с введением новой системы рекомендаций, однако пока что это еще ни о чем не говорит. \n",
    "\n",
    "Проанализируем таблицу сопряженности. Мы хотим проверить, зависит ли доля пользователей, которые совершили повторную покупку, от группы.  \n",
    "\n",
    "Гипотеза $H_{0}$: распределение не зависит от группы  \n",
    "Гипотеза $H_{1}$: распределение зависит от группы"
   ]
  },
  {
   "cell_type": "code",
   "execution_count": 57,
   "id": "a6f099e0",
   "metadata": {},
   "outputs": [
    {
     "name": "stdout",
     "output_type": "stream",
     "text": [
      "\n",
      "Хи-квадрат = 37.07431196681628\n",
      "p-value = 1.1371191328509152e-09\n",
      "Количество степеней свободы = 1\n",
      "Ожидаемые наблюдения:\n",
      "[[ 65.20039487 446.79960513]\n",
      " [ 63.79960513 437.20039487]]\n"
     ]
    }
   ],
   "source": [
    "# Критерий хи-квадрат\n",
    "\n",
    "statistic, pvalue, dof, expected_freq = stats.chi2_contingency(contingency_rpr)\n",
    "print(f'''\n",
    "Хи-квадрат = {statistic}\n",
    "p-value = {pvalue}\n",
    "Количество степеней свободы = {dof}\n",
    "Ожидаемые наблюдения:\n",
    "{expected_freq}''')"
   ]
  },
  {
   "cell_type": "markdown",
   "id": "1b3b7d83",
   "metadata": {},
   "source": [
    "Полученное значение не укладывается в 99-процентный доверительный интервал для данного распределения (значение p-value мало), следовательно, можно сделать вывод, что распределение пользователей, вернувшихся после первой покупки, по группам статзначимо различается.\n",
    "Приведем полученное ранее распределение пользователей по группам."
   ]
  },
  {
   "cell_type": "code",
   "execution_count": 58,
   "id": "1f6ba9e9",
   "metadata": {},
   "outputs": [
    {
     "data": {
      "image/png": "[encoded data removed]",
      "text/plain": [
       "<Figure size 1296x720 with 1 Axes>"
      ]
     },
     "metadata": {},
     "output_type": "display_data"
    }
   ],
   "source": [
    "# Строим диаграмму\n",
    "\n",
    "ax = norm_contingency_rpr.plot(kind=\"bar\", stacked=True, rot=0)\n",
    "ax.yaxis.set_major_locator(mticker.FixedLocator(ax.get_yticks()))\n",
    "ax.set_yticklabels(['{:.1%}'.format(x) for x in ax.get_yticks()])\n",
    "ax.set_xticklabels(['Контрольная', 'Тестовая'])\n",
    "ax.legend(['с одной покупкой', 'с повторными'],\n",
    "          title='Доля пользователей', loc='upper center')\n",
    "for p in ax.patches:\n",
    "    width, height = p.get_width(), p.get_height()\n",
    "    x, y = p.get_xy()\n",
    "    ax.text(x+width/2, y+height/2, '{:.1%}'.format(height),\n",
    "            horizontalalignment='center', verticalalignment='center', fontsize=16)\n",
    "plt.xlabel('Группа')\n",
    "plt.ylabel('Доля')\n",
    "plt.title('Распределение пользователей по группам\\n')\n",
    "plt.show()"
   ]
  },
  {
   "cell_type": "markdown",
   "id": "44345b7b",
   "metadata": {},
   "source": [
    "Из таблицы, формулы и диаграммы выше следует:   \n",
    "Контрольная группа (со старым приложением): Repeat Purchase Rate = 80.9%  \n",
    "Тестовая группа (с новой системой рекомендаций): Repeat Purchase Rate = 93.8%  \n",
    "**Вывод: критерий хи-квадрат показал, что Repeat Purchase Rate (коэффициент повторных покупок) статзначимо изменился. Он увеличился с введением рекомендательной системы.**"
   ]
  },
  {
   "cell_type": "markdown",
   "id": "654a4f1b",
   "metadata": {},
   "source": [
    "# 5. Выводы"
   ]
  },
  {
   "cell_type": "code",
   "execution_count": 59,
   "id": "74567842",
   "metadata": {},
   "outputs": [
    {
     "data": {
      "text/html": [
       "<div>\n",
       "<style scoped>\n",
       "    .dataframe tbody tr th:only-of-type {\n",
       "        vertical-align: middle;\n",
       "    }\n",
       "\n",
       "    .dataframe tbody tr th {\n",
       "        vertical-align: top;\n",
       "    }\n",
       "\n",
       "    .dataframe thead th {\n",
       "        text-align: right;\n",
       "    }\n",
       "</style>\n",
       "<table border=\"1\" class=\"dataframe\">\n",
       "  <thead>\n",
       "    <tr style=\"text-align: right;\">\n",
       "      <th></th>\n",
       "      <th>total_user</th>\n",
       "      <th>total_revenue</th>\n",
       "      <th>total_order</th>\n",
       "      <th>total_product</th>\n",
       "      <th>period</th>\n",
       "      <th>repeat_purchase</th>\n",
       "      <th>aov</th>\n",
       "      <th>aos</th>\n",
       "      <th>arpu</th>\n",
       "      <th>pf</th>\n",
       "      <th>rpr</th>\n",
       "    </tr>\n",
       "  </thead>\n",
       "  <tbody>\n",
       "    <tr>\n",
       "      <th>1</th>\n",
       "      <td>-11.0</td>\n",
       "      <td>295172.5</td>\n",
       "      <td>855.0</td>\n",
       "      <td>2877.0</td>\n",
       "      <td>0 days</td>\n",
       "      <td>56.0</td>\n",
       "      <td>-13.231298</td>\n",
       "      <td>0.008279</td>\n",
       "      <td>614.186997</td>\n",
       "      <td>1.772069</td>\n",
       "      <td>12.9</td>\n",
       "    </tr>\n",
       "  </tbody>\n",
       "</table>\n",
       "</div>"
      ],
      "text/plain": [
       "   total_user  total_revenue  total_order  total_product period  \\\n",
       "1       -11.0       295172.5        855.0         2877.0 0 days   \n",
       "\n",
       "   repeat_purchase        aov       aos        arpu        pf   rpr  \n",
       "1             56.0 -13.231298  0.008279  614.186997  1.772069  12.9  "
      ]
     },
     "execution_count": 59,
     "metadata": {},
     "output_type": "execute_result"
    }
   ],
   "source": [
    "# Ранее полученная таблица с разностью величин между группами\n",
    "difference"
   ]
  },
  {
   "cell_type": "markdown",
   "id": "c72e7a03",
   "metadata": {},
   "source": [
    "Мы провели статистические тесты для следующих метрик:\n",
    "    \n",
    "- Cancellation Rate — доля отмененных заказов\n",
    "- AOV - средняя сумма заказа\n",
    "- AOS - среднее размер заказа\n",
    "- ARPU - средний доход с пользователя\n",
    "- PF - частота покупок\n",
    "- RPR - коэффициент повторных покупок\n",
    "\n",
    "Выяснилось, что доля отмененных заказов (Cancellation Rate), средняя сумма заказа (AOV), средний размер (количество товаров) заказа (AOS) статзначимо не изменились.  \n",
    "Однако вместе с этим статзначимо (по статтестам) увеличились (по таблице) средний доход с пользователя (ARPU), частота покупок (PF), коэффициент повторных покупок (RPR). То есть пользователи стали чаще покупать (делать больше заказов), чаще совершать повторную покупку, приносить больше дохода бизнесу.  \n",
    "Таким образом, с введением рекомендательной системы бизнес стал приносить больше дохода, а пользователи стали лучше удовлетворять свои потребности, то есть покупать то, что им нужно.  \n",
    "**Вывод: новая система рекомендаций смогла принести пользу бизнесу и пользователям приложения.**"
   ]
  }
 ],
 "metadata": {
  "kernelspec": {
   "display_name": "Python 3 (ipykernel)",
   "language": "python",
   "name": "python3"
  },
  "language_info": {
   "codemirror_mode": {
    "name": "ipython",
    "version": 3
   },
   "file_extension": ".py",
   "mimetype": "text/x-python",
   "name": "python",
   "nbconvert_exporter": "python",
   "pygments_lexer": "ipython3",
   "version": "3.9.12"
  }
 },
 "nbformat": 4,
 "nbformat_minor": 5
}
